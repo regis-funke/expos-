{
 "cells": [
  {
   "cell_type": "code",
   "execution_count": 1,
   "metadata": {},
   "outputs": [],
   "source": [
    "import time\n",
    "import timeit\n",
    "import numpy as np\n",
    "import pandas as pd\n",
    "import mlxtend\n",
    "from mlxtend.preprocessing import TransactionEncoder\n",
    "from mlxtend.frequent_patterns import apriori\n",
    "from mlxtend.frequent_patterns import fpgrowth\n",
    "from mlxtend.frequent_patterns import association_rules\n",
    "import plotly_express as px"
   ]
  },
  {
   "cell_type": "markdown",
   "metadata": {},
   "source": [
    "# Portfolio-Exam\n",
    "# Part 1"
   ]
  },
  {
   "cell_type": "markdown",
   "metadata": {},
   "source": [
    "## Exercise 1.\n",
    "\n",
    "*Consider the following set of items: 𝑎, 𝑏, 𝑐, 𝑑, 𝑒, 𝑔, 𝑚 in some transaction database. Assume that APRIORI is running and has already computed the set 𝐿4 using alphabetical order on the items. The resulting set is:*\n",
    "\n",
    "L_4 = [\n",
    "[a, b, c, d], [a, b, c, e], [a, b, c, m], [a, b, d, e], [a, b, c, m], \n",
    "[a, c, e, m], [a, d, g, m], [b, c, d, e], [b, c, d, g], [b, c, d, m], \n",
    "[b, c, e, g], [b, c, e, m], [b, d, e, g], [c, d, e, g], [c, d, g, m]\n",
    "]"
   ]
  },
  {
   "cell_type": "markdown",
   "metadata": {},
   "source": [
    "### 1.1\n",
    "*Use the APRIORI candidate generation (and alphabetical order on the items) to create the set 𝐶5 of candidates for 5-element frequent itemsets. Explain your decisions to create or discard elements.*\n",
    "\n",
    "- Candidates are created by combining all itemsets that differ only in the last element\n",
    "- Itemsets not meeting this condition are discarded\n",
    "\n",
    "C_5 = [\n",
    "[a, b, c, d, e], [a, b, c, d, m], [a, b, c, e, m], [b, c, d, e, g], \n",
    "[b, c, d, e, m], [b, c, d, g, m], [b, c, e, g, m]]\n",
    "\n",
    "_______________\n",
    "### 1.2\n",
    "*For how many itemsets does the database have to be scanned to yield 𝐿5 from 𝐶5?*\n",
    "\n",
    "- 14 scans of L_4 yielded seven 5-element itemsets\n",
    "\n",
    "_______________\n",
    "_______________"
   ]
  },
  {
   "cell_type": "markdown",
   "metadata": {},
   "source": [
    "## Exercise 2.\n",
    "### 2.1"
   ]
  },
  {
   "cell_type": "code",
   "execution_count": 2,
   "metadata": {},
   "outputs": [],
   "source": [
    "# loading grocery dataset into variable foods\n",
    "foods = [['fish', 'apples', 'cider', 'dragon fruit', 'garlic', 'ice cream', 'mints', 'prunes'],\n",
    "           ['apples', 'bacon', 'cider', 'fish', 'lemons', 'mints', 'oatmeal'],\n",
    "           ['bacon', 'fish', 'ham', 'jam', 'oatmeal'],\n",
    "           ['bacon', 'cider', 'kiwis', 'spam', 'prunes'],\n",
    "           ['apples', 'fish', 'cider', 'eggs', 'lemons', 'prunes', 'mints', 'nachos']]"
   ]
  },
  {
   "cell_type": "code",
   "execution_count": 3,
   "metadata": {},
   "outputs": [],
   "source": [
    "# encoding foods and creating dataframe\n",
    "te = TransactionEncoder()\n",
    "foods_te_ary = te.fit_transform(foods)\n",
    "foods_df = pd.DataFrame(foods_te_ary, columns=te.columns_)"
   ]
  },
  {
   "cell_type": "markdown",
   "metadata": {},
   "source": [
    "### 2.2"
   ]
  },
  {
   "cell_type": "code",
   "execution_count": 4,
   "metadata": {},
   "outputs": [],
   "source": [
    "# loading data into variable lines\n",
    "# adapted from: https://stackoverflow.com/questions/28977415/splitting-a-list-of-numbers-from-txt-file-on-both-spaces-and-new-lines-python\n",
    "with open('T10I4D100K.dat') as file:\n",
    "    lines = [line.split() for line in file]\n",
    "lines = lines[0:10000]"
   ]
  },
  {
   "cell_type": "code",
   "execution_count": 5,
   "metadata": {},
   "outputs": [],
   "source": [
    "# encoding foods and creating dataframe\n",
    "lines_te_ary = te.fit_transform(lines)\n",
    "lines_df = pd.DataFrame(lines_te_ary, columns=te.columns_)"
   ]
  },
  {
   "cell_type": "markdown",
   "metadata": {},
   "source": [
    "### 2.3"
   ]
  },
  {
   "cell_type": "code",
   "execution_count": 6,
   "metadata": {},
   "outputs": [
    {
     "data": {
      "text/html": [
       "<div>\n",
       "<style scoped>\n",
       "    .dataframe tbody tr th:only-of-type {\n",
       "        vertical-align: middle;\n",
       "    }\n",
       "\n",
       "    .dataframe tbody tr th {\n",
       "        vertical-align: top;\n",
       "    }\n",
       "\n",
       "    .dataframe thead th {\n",
       "        text-align: right;\n",
       "    }\n",
       "</style>\n",
       "<table border=\"1\" class=\"dataframe\">\n",
       "  <thead>\n",
       "    <tr style=\"text-align: right;\">\n",
       "      <th></th>\n",
       "      <th>support</th>\n",
       "      <th>itemsets</th>\n",
       "      <th>length</th>\n",
       "    </tr>\n",
       "  </thead>\n",
       "  <tbody>\n",
       "    <tr>\n",
       "      <th>2</th>\n",
       "      <td>0.8</td>\n",
       "      <td>(cider)</td>\n",
       "      <td>1</td>\n",
       "    </tr>\n",
       "    <tr>\n",
       "      <th>3</th>\n",
       "      <td>0.8</td>\n",
       "      <td>(fish)</td>\n",
       "      <td>1</td>\n",
       "    </tr>\n",
       "    <tr>\n",
       "      <th>0</th>\n",
       "      <td>0.6</td>\n",
       "      <td>(apples)</td>\n",
       "      <td>1</td>\n",
       "    </tr>\n",
       "    <tr>\n",
       "      <th>10</th>\n",
       "      <td>0.6</td>\n",
       "      <td>(cider, mints)</td>\n",
       "      <td>2</td>\n",
       "    </tr>\n",
       "    <tr>\n",
       "      <th>16</th>\n",
       "      <td>0.6</td>\n",
       "      <td>(fish, cider, mints)</td>\n",
       "      <td>3</td>\n",
       "    </tr>\n",
       "  </tbody>\n",
       "</table>\n",
       "</div>"
      ],
      "text/plain": [
       "    support              itemsets  length\n",
       "2       0.8               (cider)       1\n",
       "3       0.8                (fish)       1\n",
       "0       0.6              (apples)       1\n",
       "10      0.6        (cider, mints)       2\n",
       "16      0.6  (fish, cider, mints)       3"
      ]
     },
     "execution_count": 6,
     "metadata": {},
     "output_type": "execute_result"
    }
   ],
   "source": [
    "# calculating frequent itemsets\n",
    "frequent_itemsets = apriori(foods_df, min_support=0.6, use_colnames=True)\n",
    "\n",
    "# adding column with length of each itemset\n",
    "frequent_itemsets['length'] = frequent_itemsets['itemsets'].apply(lambda x: len(x))\n",
    "\n",
    "# showing top 5 results, sorted by support descending\n",
    "frequent_itemsets.sort_values(by='support', ascending=False).head(5)"
   ]
  },
  {
   "cell_type": "code",
   "execution_count": 7,
   "metadata": {},
   "outputs": [
    {
     "data": {
      "text/html": [
       "<div>\n",
       "<style scoped>\n",
       "    .dataframe tbody tr th:only-of-type {\n",
       "        vertical-align: middle;\n",
       "    }\n",
       "\n",
       "    .dataframe tbody tr th {\n",
       "        vertical-align: top;\n",
       "    }\n",
       "\n",
       "    .dataframe thead th {\n",
       "        text-align: right;\n",
       "    }\n",
       "</style>\n",
       "<table border=\"1\" class=\"dataframe\">\n",
       "  <thead>\n",
       "    <tr style=\"text-align: right;\">\n",
       "      <th></th>\n",
       "      <th>support</th>\n",
       "      <th>itemsets</th>\n",
       "      <th>length</th>\n",
       "    </tr>\n",
       "  </thead>\n",
       "  <tbody>\n",
       "    <tr>\n",
       "      <th>2</th>\n",
       "      <td>0.0823</td>\n",
       "      <td>(368)</td>\n",
       "      <td>1</td>\n",
       "    </tr>\n",
       "    <tr>\n",
       "      <th>4</th>\n",
       "      <td>0.0703</td>\n",
       "      <td>(529)</td>\n",
       "      <td>1</td>\n",
       "    </tr>\n",
       "    <tr>\n",
       "      <th>8</th>\n",
       "      <td>0.0629</td>\n",
       "      <td>(829)</td>\n",
       "      <td>1</td>\n",
       "    </tr>\n",
       "    <tr>\n",
       "      <th>1</th>\n",
       "      <td>0.0613</td>\n",
       "      <td>(354)</td>\n",
       "      <td>1</td>\n",
       "    </tr>\n",
       "    <tr>\n",
       "      <th>7</th>\n",
       "      <td>0.0574</td>\n",
       "      <td>(766)</td>\n",
       "      <td>1</td>\n",
       "    </tr>\n",
       "  </tbody>\n",
       "</table>\n",
       "</div>"
      ],
      "text/plain": [
       "   support itemsets  length\n",
       "2   0.0823    (368)       1\n",
       "4   0.0703    (529)       1\n",
       "8   0.0629    (829)       1\n",
       "1   0.0613    (354)       1\n",
       "7   0.0574    (766)       1"
      ]
     },
     "execution_count": 7,
     "metadata": {},
     "output_type": "execute_result"
    }
   ],
   "source": [
    "# calculating frequent itemsets\n",
    "frequent_itemsets = apriori(lines_df, min_support=0.05, use_colnames=True)\n",
    "\n",
    "# adding column with length of each itemset\n",
    "frequent_itemsets['length'] = frequent_itemsets['itemsets'].apply(lambda x: len(x))\n",
    "\n",
    "# showing top 5 results, sorted by support descending\n",
    "frequent_itemsets.sort_values(by='support', ascending=False).head(5)"
   ]
  },
  {
   "cell_type": "markdown",
   "metadata": {},
   "source": [
    "The highest relative support that a non-empty itemset of the grocery dataset reaches: 0.8\n",
    "\n",
    "The highest relative support that a non-empty itemset of the T10I4D100K dataset reaches: 0.0823\n",
    "_______________\n",
    "_______________"
   ]
  },
  {
   "cell_type": "markdown",
   "metadata": {},
   "source": [
    "## Exercise 3.\n",
    "### 3.1"
   ]
  },
  {
   "cell_type": "code",
   "execution_count": 8,
   "metadata": {},
   "outputs": [
    {
     "name": "stdout",
     "output_type": "stream",
     "text": [
      "1.68 ms ± 120 µs per loop (mean ± std. dev. of 7 runs, 1,000 loops each)\n"
     ]
    }
   ],
   "source": [
    "# timing APRIORI on the grocery dataset, using support threshold of 0.4\n",
    "%timeit apriori(foods_df, min_support=0.4, use_colnames=True)"
   ]
  },
  {
   "cell_type": "code",
   "execution_count": 9,
   "metadata": {},
   "outputs": [
    {
     "data": {
      "text/plain": [
       "54"
      ]
     },
     "execution_count": 9,
     "metadata": {},
     "output_type": "execute_result"
    }
   ],
   "source": [
    "# storing APRIORI results in variable foods_fis\n",
    "foods_fis = apriori(foods_df, min_support=0.4, use_colnames=True)\n",
    "# counting length of results\n",
    "len(foods_fis)"
   ]
  },
  {
   "cell_type": "markdown",
   "metadata": {},
   "source": [
    "- to run APRIORI on the grocery dataset with a support threshhold of 0.4 took 1.68 milliseconds on average\n",
    "- using 0.4 as support threshhold yielded 54 frequent itemsets\n",
    "_______________"
   ]
  },
  {
   "cell_type": "markdown",
   "metadata": {},
   "source": [
    "### 3.2"
   ]
  },
  {
   "cell_type": "code",
   "execution_count": 10,
   "metadata": {},
   "outputs": [
    {
     "name": "stdout",
     "output_type": "stream",
     "text": [
      "16.1 s ± 43.8 ms per loop (mean ± std. dev. of 7 runs, 1 loop each)\n"
     ]
    }
   ],
   "source": [
    "# timing APRIORI on the T10I4D100K dataset, using support threshold of 0.004\n",
    "%timeit apriori(lines_df, min_support=0.004, use_colnames=True)"
   ]
  },
  {
   "cell_type": "code",
   "execution_count": 11,
   "metadata": {},
   "outputs": [
    {
     "data": {
      "text/plain": [
       "2185"
      ]
     },
     "execution_count": 11,
     "metadata": {},
     "output_type": "execute_result"
    }
   ],
   "source": [
    "# storing APRIORI results in variable lines_fis\n",
    "lines_fis = apriori(lines_df, min_support=0.004, use_colnames=True)\n",
    "# counting length of results\n",
    "len(lines_fis)"
   ]
  },
  {
   "cell_type": "markdown",
   "metadata": {},
   "source": [
    "- to run APRIORI on the T10I4D100K dataset with a support threshhold of 0.004 took 16.1 seconds on average\n",
    "- using 0.004 as support threshhold yielded 2185 frequent itemsets\n",
    "_______________"
   ]
  },
  {
   "cell_type": "markdown",
   "metadata": {},
   "source": [
    "### 3.3"
   ]
  },
  {
   "cell_type": "code",
   "execution_count": 12,
   "metadata": {},
   "outputs": [
    {
     "name": "stdout",
     "output_type": "stream",
     "text": [
      "1.71 ms ± 197 µs per loop (mean ± std. dev. of 10 runs, 10 loops each)\n"
     ]
    }
   ],
   "source": [
    "%%timeit -r 10 -n 10\n",
    "apriori(foods_df, min_support=0.4, use_colnames=True)\n",
    "# measuring time of 10 loops and 10 repeats"
   ]
  },
  {
   "cell_type": "markdown",
   "metadata": {},
   "source": [
    "- 10 measurements and 10 runs of APRIORI on the grocery dataset took 1.71 milliseconds on average with a standard deviation of 197 microseconds\n",
    "_______________"
   ]
  },
  {
   "cell_type": "code",
   "execution_count": 13,
   "metadata": {},
   "outputs": [
    {
     "name": "stdout",
     "output_type": "stream",
     "text": [
      "16.5 s ± 231 ms per loop (mean ± std. dev. of 10 runs, 1 loop each)\n"
     ]
    }
   ],
   "source": [
    "%%timeit -r 10 -n 1\n",
    "apriori(lines_df, min_support=0.004, use_colnames=True)\n",
    "# measuring time of 10 loops and 1 repeat"
   ]
  },
  {
   "cell_type": "markdown",
   "metadata": {},
   "source": [
    "- 10 measurements and 1 run of APRIORI on the T10I4D100K dataset took 16.5 milliseconds on average with a standard deviation of 231 microseconds\n",
    "_______________"
   ]
  },
  {
   "cell_type": "markdown",
   "metadata": {},
   "source": [
    "### 3.4\n",
    "*Discuss limitations of the above approaches (the methods for measuring time that have been applied in 3.1-3.3)!*\n",
    "\n",
    "Using the %timeit function we can only measure the runtime of a single-line statement, though multiple ones can be chained with using semicolons, while %%timeit allows to meassure the runtime of a cell but this only provides a very basic timing functionality.\n",
    "\n",
    "Computationally simple statements are executed so fast, that it is difficult to measure the runtime exactly. To get the most precise result, the statement is executed in a loop (N parameter), which is then repeated several times (R parameter).\n",
    "\n",
    "The result of the meassurements will also vary, if the machine is in use with other tasks or left alone during execution, this leads to different results on every execution.\n",
    "\n",
    "Magic line commands are intended as a solution for timing little bits of code quickly and easily but don't allow for more complex constructs because the measurements can't be stored for later use in tables or plots.\n",
    "\n",
    "_______________\n",
    "_______________"
   ]
  },
  {
   "cell_type": "markdown",
   "metadata": {},
   "source": [
    "## Exercise 4.\n",
    "### 4.1"
   ]
  },
  {
   "cell_type": "code",
   "execution_count": 14,
   "metadata": {},
   "outputs": [],
   "source": [
    "# grocery non-sparse data structure, APRIORI and 0.2, 0.4, 0.6, 0.8\n",
    "\n",
    "# creating list with threshholds to over loop\n",
    "threshholds = [0.2, 0.4, 0.6, 0.8]\n",
    "\n",
    "# creating lists with and without entries for results table\n",
    "types = ['non_sparse']*len(threshholds)\n",
    "dataset = ['grocery']*len(threshholds)\n",
    "algorithm = ['APRIORI']*len(threshholds)\n",
    "runtimes = []\n",
    "mem_size = []\n",
    "\n",
    "# setup configuration for the timer\n",
    "setup = '''\n",
    "from mlxtend.preprocessing import TransactionEncoder\n",
    "from mlxtend.frequent_patterns import apriori\n",
    "import pandas as pd\n",
    "te = TransactionEncoder()\n",
    "foods = [['fish', 'apples', 'cider', 'dragon fruit', 'garlic', 'ice cream', 'mints', 'prunes'],\n",
    "           ['apples', 'bacon', 'cider', 'fish', 'lemons', 'mints', 'oatmeal'],\n",
    "           ['bacon', 'fish', 'ham', 'jam', 'oatmeal'],\n",
    "           ['bacon', 'cider', 'kiwis', 'spam', 'prunes'],\n",
    "           ['apples', 'fish', 'cider', 'eggs', 'lemons', 'prunes', 'mints', 'nachos']]\n",
    "foods_te_ary = te.fit_transform(foods)\n",
    "foods_df = pd.DataFrame(foods_te_ary, columns=te.columns_)\n",
    "'''\n",
    "\n",
    "# looping through threshholds\n",
    "for threshhold in threshholds:\n",
    "   # measuring and appending execution times to list\n",
    "   runtimes.append(min(timeit.Timer(stmt=f'apriori(foods_df, min_support={threshhold})', setup=setup).repeat(10, 10)))\n",
    "   # measuring and appending memory usage to list\n",
    "   mem_size.append(sys.getsizeof(apriori(foods_df, min_support=threshhold)))\n",
    "\n",
    "# creating the results table \n",
    "grocery = pd.DataFrame({\n",
    "    'dataset': dataset,\n",
    "    'algorithm': algorithm,\n",
    "    'type': types,\n",
    "    'threshhold': threshholds,\n",
    "    'runtime': runtimes,\n",
    "    'mem_size': mem_size}\n",
    "    )"
   ]
  },
  {
   "cell_type": "code",
   "execution_count": 15,
   "metadata": {},
   "outputs": [],
   "source": [
    "# grocery sparse data structure, APRIORI and 0.2, 0.4, 0.6, 0.8\n",
    "\n",
    "# creating list with threshholds to over loop\n",
    "threshholds = [0.2, 0.4, 0.6, 0.8]\n",
    "\n",
    "# creating lists with and without entries for results table\n",
    "types = ['sparse']*len(threshholds)\n",
    "dataset = ['grocery']*len(threshholds)\n",
    "algorithm = ['APRIORI']*len(threshholds)\n",
    "runtimes = []\n",
    "mem_size = []\n",
    "\n",
    "# creating seperate sparse dataframe for meassuring memory requirements\n",
    "foods_s = te.fit_transform(foods, sparse=True)\n",
    "foods_df_s = pd.DataFrame.sparse.from_spmatrix(foods_s, columns=te.columns_)\n",
    "\n",
    "# setup configuration for the timer\n",
    "setup = '''\n",
    "from mlxtend.preprocessing import TransactionEncoder\n",
    "from mlxtend.frequent_patterns import apriori\n",
    "import pandas as pd\n",
    "te = TransactionEncoder()\n",
    "foods = [['fish', 'apples', 'cider', 'dragon fruit', 'garlic', 'ice cream', 'mints', 'prunes'],\n",
    "           ['apples', 'bacon', 'cider', 'fish', 'lemons', 'mints', 'oatmeal'],\n",
    "           ['bacon', 'fish', 'ham', 'jam', 'oatmeal'],\n",
    "           ['bacon', 'cider', 'kiwis', 'spam', 'prunes'],\n",
    "           ['apples', 'fish', 'cider', 'eggs', 'lemons', 'prunes', 'mints', 'nachos']]\n",
    "foods_s = te.fit_transform(foods, sparse=True)\n",
    "foods_df_s = pd.DataFrame.sparse.from_spmatrix(foods_s, columns=te.columns_)\n",
    "'''\n",
    "\n",
    "# looping through threshholds\n",
    "for threshhold in threshholds:\n",
    "   # measuring and appending execution times to list\n",
    "   runtimes.append(min(timeit.Timer(stmt=f'apriori(foods_df_s, min_support={threshhold})', setup=setup).repeat(10, 10)))\n",
    "   # measuring and appending memory usage to list\n",
    "   mem_size.append(sys.getsizeof(apriori(foods_df_s, min_support=threshhold)))\n",
    "\n",
    "# creating the results table \n",
    "grocery_s = pd.DataFrame({\n",
    "    'dataset': dataset,\n",
    "    'algorithm': algorithm,\n",
    "    'type': types,\n",
    "    'threshhold': threshholds,\n",
    "    'runtime': runtimes,\n",
    "    'mem_size': mem_size}\n",
    "    )"
   ]
  },
  {
   "cell_type": "code",
   "execution_count": 16,
   "metadata": {},
   "outputs": [],
   "source": [
    "# T10I4D100K non-sparse data structure, APRIORI and 0.002,0.004,0.008,0.016,0.032,0.064\n",
    "\n",
    "# creating list with threshholds to over loop\n",
    "threshholds = [0.002,0.004,0.008,0.016,0.032,0.064]\n",
    "\n",
    "# creating lists with and without entries for results table\n",
    "types = ['non_sparse']*len(threshholds)\n",
    "dataset = ['T10I4D100K']*len(threshholds)\n",
    "algorithm = ['APRIORI']*len(threshholds)\n",
    "runtimes = []\n",
    "mem_size = []\n",
    "\n",
    "# setup configuration for the timer\n",
    "setup = '''\n",
    "from mlxtend.preprocessing import TransactionEncoder\n",
    "from mlxtend.frequent_patterns import apriori\n",
    "import pandas as pd\n",
    "te = TransactionEncoder()\n",
    "with open('T10I4D100K.dat') as file:\n",
    "    lines = [line.split() for line in file] \n",
    "lines = lines[0:10000]\n",
    "lines_te_ary = te.fit_transform(lines)\n",
    "lines_df = pd.DataFrame(lines_te_ary, columns=te.columns_)\n",
    "'''\n",
    "\n",
    "# looping through threshholds\n",
    "for threshhold in threshholds:\n",
    "   # measuring and appending execution times to list\n",
    "   runtimes.append(min(timeit.Timer(stmt=f'apriori(lines_df, min_support={threshhold})', setup=setup).repeat(10, 1)))\n",
    "   # measuring and appending memory usage to list\n",
    "   mem_size.append(sys.getsizeof(apriori(lines_df, min_support=threshhold)))\n",
    "\n",
    "# creating the results table \n",
    "t10i4d100k = pd.DataFrame({\n",
    "    'dataset': dataset,\n",
    "    'algorithm': algorithm,\n",
    "    'type': types,\n",
    "    'threshhold': threshholds,\n",
    "    'runtime': runtimes,\n",
    "    'mem_size': mem_size}\n",
    "    )"
   ]
  },
  {
   "cell_type": "code",
   "execution_count": 17,
   "metadata": {},
   "outputs": [],
   "source": [
    "# T10I4D100K sparse data structure, APRIORI and 0.002,0.004,0.008,0.016,0.032,0.064\n",
    "\n",
    "# creating list with threshholds to over loop\n",
    "threshholds = [0.002,0.004,0.008,0.016,0.032,0.064]\n",
    "\n",
    "# creating lists with and without entries for results table\n",
    "types = ['sparse']*len(threshholds)\n",
    "dataset = ['T10I4D100K']*len(threshholds)\n",
    "algorithm = ['APRIORI']*len(threshholds)\n",
    "runtimes = []\n",
    "mem_size = []\n",
    "\n",
    "# creating seperate sparse dataframe for meassuring memory requirements\n",
    "lines_s = te.fit_transform(lines, sparse=True)\n",
    "lines_df_s = pd.DataFrame.sparse.from_spmatrix(lines_s, columns=te.columns_)\n",
    "\n",
    "# setup configuration for the timer\n",
    "setup = '''\n",
    "from mlxtend.preprocessing import TransactionEncoder\n",
    "from mlxtend.frequent_patterns import apriori\n",
    "import pandas as pd\n",
    "te = TransactionEncoder()\n",
    "with open('T10I4D100K.dat') as file:\n",
    "    lines = [line.split() for line in file]\n",
    "lines = lines[0:10000]\n",
    "lines_s = te.fit_transform(lines, sparse=True)\n",
    "lines_df_s = pd.DataFrame.sparse.from_spmatrix(lines_s, columns=te.columns_)\n",
    "'''\n",
    "\n",
    "# looping through threshholds\n",
    "for threshhold in threshholds:\n",
    "   # measuring and appending execution times to list\n",
    "   runtimes.append(min(timeit.Timer(stmt=f'apriori(lines_df_s, min_support={threshhold})', setup=setup).repeat(10, 1)))\n",
    "   # measuring and appending memory usage to list\n",
    "   mem_size.append(sys.getsizeof(apriori(lines_df_s, min_support=threshhold)))\n",
    "\n",
    "# creating the results table \n",
    "t10i4d100k_s = pd.DataFrame({\n",
    "    'dataset': dataset,\n",
    "    'algorithm': algorithm,\n",
    "    'type': types,\n",
    "    'threshhold': threshholds,\n",
    "    'runtime': runtimes,\n",
    "    'mem_size': mem_size}\n",
    "    )"
   ]
  },
  {
   "cell_type": "markdown",
   "metadata": {},
   "source": [
    "### 4.2"
   ]
  },
  {
   "cell_type": "code",
   "execution_count": 18,
   "metadata": {},
   "outputs": [],
   "source": [
    "# combining results for the grocery dataset\n",
    "foods_res = [grocery, grocery_s]\n",
    "foods_res = pd.concat(foods_res)\n",
    "\n",
    "# combining results for the T10I4D100K dataset\n",
    "t10i4d100k_res = [t10i4d100k, t10i4d100k_s]\n",
    "t10i4d100k_res = pd.concat(t10i4d100k_res)"
   ]
  },
  {
   "cell_type": "code",
   "execution_count": 19,
   "metadata": {},
   "outputs": [
    {
     "data": {
      "text/html": [
       "<div>\n",
       "<style scoped>\n",
       "    .dataframe tbody tr th:only-of-type {\n",
       "        vertical-align: middle;\n",
       "    }\n",
       "\n",
       "    .dataframe tbody tr th {\n",
       "        vertical-align: top;\n",
       "    }\n",
       "\n",
       "    .dataframe thead th {\n",
       "        text-align: right;\n",
       "    }\n",
       "</style>\n",
       "<table border=\"1\" class=\"dataframe\">\n",
       "  <thead>\n",
       "    <tr style=\"text-align: right;\">\n",
       "      <th></th>\n",
       "      <th>dataset</th>\n",
       "      <th>algorithm</th>\n",
       "      <th>type</th>\n",
       "      <th>threshhold</th>\n",
       "      <th>runtime</th>\n",
       "      <th>mem_size</th>\n",
       "    </tr>\n",
       "  </thead>\n",
       "  <tbody>\n",
       "    <tr>\n",
       "      <th>0</th>\n",
       "      <td>grocery</td>\n",
       "      <td>APRIORI</td>\n",
       "      <td>non_sparse</td>\n",
       "      <td>0.2</td>\n",
       "      <td>0.037317</td>\n",
       "      <td>245224</td>\n",
       "    </tr>\n",
       "    <tr>\n",
       "      <th>1</th>\n",
       "      <td>grocery</td>\n",
       "      <td>APRIORI</td>\n",
       "      <td>non_sparse</td>\n",
       "      <td>0.4</td>\n",
       "      <td>0.014228</td>\n",
       "      <td>12832</td>\n",
       "    </tr>\n",
       "    <tr>\n",
       "      <th>2</th>\n",
       "      <td>grocery</td>\n",
       "      <td>APRIORI</td>\n",
       "      <td>non_sparse</td>\n",
       "      <td>0.6</td>\n",
       "      <td>0.011231</td>\n",
       "      <td>4032</td>\n",
       "    </tr>\n",
       "    <tr>\n",
       "      <th>3</th>\n",
       "      <td>grocery</td>\n",
       "      <td>APRIORI</td>\n",
       "      <td>non_sparse</td>\n",
       "      <td>0.8</td>\n",
       "      <td>0.004636</td>\n",
       "      <td>576</td>\n",
       "    </tr>\n",
       "    <tr>\n",
       "      <th>0</th>\n",
       "      <td>grocery</td>\n",
       "      <td>APRIORI</td>\n",
       "      <td>sparse</td>\n",
       "      <td>0.2</td>\n",
       "      <td>0.053366</td>\n",
       "      <td>245224</td>\n",
       "    </tr>\n",
       "    <tr>\n",
       "      <th>1</th>\n",
       "      <td>grocery</td>\n",
       "      <td>APRIORI</td>\n",
       "      <td>sparse</td>\n",
       "      <td>0.4</td>\n",
       "      <td>0.025117</td>\n",
       "      <td>12832</td>\n",
       "    </tr>\n",
       "    <tr>\n",
       "      <th>2</th>\n",
       "      <td>grocery</td>\n",
       "      <td>APRIORI</td>\n",
       "      <td>sparse</td>\n",
       "      <td>0.6</td>\n",
       "      <td>0.017651</td>\n",
       "      <td>4032</td>\n",
       "    </tr>\n",
       "    <tr>\n",
       "      <th>3</th>\n",
       "      <td>grocery</td>\n",
       "      <td>APRIORI</td>\n",
       "      <td>sparse</td>\n",
       "      <td>0.8</td>\n",
       "      <td>0.007767</td>\n",
       "      <td>576</td>\n",
       "    </tr>\n",
       "  </tbody>\n",
       "</table>\n",
       "</div>"
      ],
      "text/plain": [
       "   dataset algorithm        type  threshhold   runtime  mem_size\n",
       "0  grocery   APRIORI  non_sparse         0.2  0.037317    245224\n",
       "1  grocery   APRIORI  non_sparse         0.4  0.014228     12832\n",
       "2  grocery   APRIORI  non_sparse         0.6  0.011231      4032\n",
       "3  grocery   APRIORI  non_sparse         0.8  0.004636       576\n",
       "0  grocery   APRIORI      sparse         0.2  0.053366    245224\n",
       "1  grocery   APRIORI      sparse         0.4  0.025117     12832\n",
       "2  grocery   APRIORI      sparse         0.6  0.017651      4032\n",
       "3  grocery   APRIORI      sparse         0.8  0.007767       576"
      ]
     },
     "execution_count": 19,
     "metadata": {},
     "output_type": "execute_result"
    }
   ],
   "source": [
    "# displaying results of different runs of grocery dataset\n",
    "foods_res"
   ]
  },
  {
   "cell_type": "code",
   "execution_count": 20,
   "metadata": {},
   "outputs": [
    {
     "data": {
      "text/plain": [
       "229"
      ]
     },
     "execution_count": 20,
     "metadata": {},
     "output_type": "execute_result"
    }
   ],
   "source": [
    "# size of non-sparse grocery dataset\n",
    "sys.getsizeof(foods_df)"
   ]
  },
  {
   "cell_type": "code",
   "execution_count": 21,
   "metadata": {},
   "outputs": [
    {
     "data": {
      "text/plain": [
       "309"
      ]
     },
     "execution_count": 21,
     "metadata": {},
     "output_type": "execute_result"
    }
   ],
   "source": [
    "# size of sparse grocery dataset\n",
    "sys.getsizeof(foods_df_s)"
   ]
  },
  {
   "cell_type": "code",
   "execution_count": 22,
   "metadata": {},
   "outputs": [
    {
     "data": {
      "text/html": [
       "<div>\n",
       "<style scoped>\n",
       "    .dataframe tbody tr th:only-of-type {\n",
       "        vertical-align: middle;\n",
       "    }\n",
       "\n",
       "    .dataframe tbody tr th {\n",
       "        vertical-align: top;\n",
       "    }\n",
       "\n",
       "    .dataframe thead th {\n",
       "        text-align: right;\n",
       "    }\n",
       "</style>\n",
       "<table border=\"1\" class=\"dataframe\">\n",
       "  <thead>\n",
       "    <tr style=\"text-align: right;\">\n",
       "      <th></th>\n",
       "      <th>dataset</th>\n",
       "      <th>algorithm</th>\n",
       "      <th>type</th>\n",
       "      <th>threshhold</th>\n",
       "      <th>runtime</th>\n",
       "      <th>mem_size</th>\n",
       "    </tr>\n",
       "  </thead>\n",
       "  <tbody>\n",
       "    <tr>\n",
       "      <th>0</th>\n",
       "      <td>T10I4D100K</td>\n",
       "      <td>APRIORI</td>\n",
       "      <td>non_sparse</td>\n",
       "      <td>0.002</td>\n",
       "      <td>143.666450</td>\n",
       "      <td>4123984</td>\n",
       "    </tr>\n",
       "    <tr>\n",
       "      <th>1</th>\n",
       "      <td>T10I4D100K</td>\n",
       "      <td>APRIORI</td>\n",
       "      <td>non_sparse</td>\n",
       "      <td>0.004</td>\n",
       "      <td>15.358248</td>\n",
       "      <td>508968</td>\n",
       "    </tr>\n",
       "    <tr>\n",
       "      <th>2</th>\n",
       "      <td>T10I4D100K</td>\n",
       "      <td>APRIORI</td>\n",
       "      <td>non_sparse</td>\n",
       "      <td>0.008</td>\n",
       "      <td>3.321504</td>\n",
       "      <td>108872</td>\n",
       "    </tr>\n",
       "    <tr>\n",
       "      <th>3</th>\n",
       "      <td>T10I4D100K</td>\n",
       "      <td>APRIORI</td>\n",
       "      <td>non_sparse</td>\n",
       "      <td>0.016</td>\n",
       "      <td>0.800877</td>\n",
       "      <td>46368</td>\n",
       "    </tr>\n",
       "    <tr>\n",
       "      <th>4</th>\n",
       "      <td>T10I4D100K</td>\n",
       "      <td>APRIORI</td>\n",
       "      <td>non_sparse</td>\n",
       "      <td>0.032</td>\n",
       "      <td>0.047374</td>\n",
       "      <td>10728</td>\n",
       "    </tr>\n",
       "    <tr>\n",
       "      <th>5</th>\n",
       "      <td>T10I4D100K</td>\n",
       "      <td>APRIORI</td>\n",
       "      <td>non_sparse</td>\n",
       "      <td>0.064</td>\n",
       "      <td>0.007844</td>\n",
       "      <td>576</td>\n",
       "    </tr>\n",
       "    <tr>\n",
       "      <th>0</th>\n",
       "      <td>T10I4D100K</td>\n",
       "      <td>APRIORI</td>\n",
       "      <td>sparse</td>\n",
       "      <td>0.002</td>\n",
       "      <td>175.409166</td>\n",
       "      <td>4123984</td>\n",
       "    </tr>\n",
       "    <tr>\n",
       "      <th>1</th>\n",
       "      <td>T10I4D100K</td>\n",
       "      <td>APRIORI</td>\n",
       "      <td>sparse</td>\n",
       "      <td>0.004</td>\n",
       "      <td>15.156119</td>\n",
       "      <td>508968</td>\n",
       "    </tr>\n",
       "    <tr>\n",
       "      <th>2</th>\n",
       "      <td>T10I4D100K</td>\n",
       "      <td>APRIORI</td>\n",
       "      <td>sparse</td>\n",
       "      <td>0.008</td>\n",
       "      <td>3.267764</td>\n",
       "      <td>108872</td>\n",
       "    </tr>\n",
       "    <tr>\n",
       "      <th>3</th>\n",
       "      <td>T10I4D100K</td>\n",
       "      <td>APRIORI</td>\n",
       "      <td>sparse</td>\n",
       "      <td>0.016</td>\n",
       "      <td>0.792920</td>\n",
       "      <td>46368</td>\n",
       "    </tr>\n",
       "    <tr>\n",
       "      <th>4</th>\n",
       "      <td>T10I4D100K</td>\n",
       "      <td>APRIORI</td>\n",
       "      <td>sparse</td>\n",
       "      <td>0.032</td>\n",
       "      <td>0.054012</td>\n",
       "      <td>10728</td>\n",
       "    </tr>\n",
       "    <tr>\n",
       "      <th>5</th>\n",
       "      <td>T10I4D100K</td>\n",
       "      <td>APRIORI</td>\n",
       "      <td>sparse</td>\n",
       "      <td>0.064</td>\n",
       "      <td>0.013985</td>\n",
       "      <td>576</td>\n",
       "    </tr>\n",
       "  </tbody>\n",
       "</table>\n",
       "</div>"
      ],
      "text/plain": [
       "      dataset algorithm        type  threshhold     runtime  mem_size\n",
       "0  T10I4D100K   APRIORI  non_sparse       0.002  143.666450   4123984\n",
       "1  T10I4D100K   APRIORI  non_sparse       0.004   15.358248    508968\n",
       "2  T10I4D100K   APRIORI  non_sparse       0.008    3.321504    108872\n",
       "3  T10I4D100K   APRIORI  non_sparse       0.016    0.800877     46368\n",
       "4  T10I4D100K   APRIORI  non_sparse       0.032    0.047374     10728\n",
       "5  T10I4D100K   APRIORI  non_sparse       0.064    0.007844       576\n",
       "0  T10I4D100K   APRIORI      sparse       0.002  175.409166   4123984\n",
       "1  T10I4D100K   APRIORI      sparse       0.004   15.156119    508968\n",
       "2  T10I4D100K   APRIORI      sparse       0.008    3.267764    108872\n",
       "3  T10I4D100K   APRIORI      sparse       0.016    0.792920     46368\n",
       "4  T10I4D100K   APRIORI      sparse       0.032    0.054012     10728\n",
       "5  T10I4D100K   APRIORI      sparse       0.064    0.013985       576"
      ]
     },
     "execution_count": 22,
     "metadata": {},
     "output_type": "execute_result"
    }
   ],
   "source": [
    "# displaying results of different runs of T10I4D100K dataset\n",
    "t10i4d100k_res"
   ]
  },
  {
   "cell_type": "code",
   "execution_count": 23,
   "metadata": {},
   "outputs": [
    {
     "data": {
      "text/plain": [
       "8660144"
      ]
     },
     "execution_count": 23,
     "metadata": {},
     "output_type": "execute_result"
    }
   ],
   "source": [
    "# size of non-sparse T10I4D100K dataset\n",
    "sys.getsizeof(lines_df)"
   ]
  },
  {
   "cell_type": "code",
   "execution_count": 24,
   "metadata": {},
   "outputs": [
    {
     "data": {
      "text/plain": [
       "502894"
      ]
     },
     "execution_count": 24,
     "metadata": {},
     "output_type": "execute_result"
    }
   ],
   "source": [
    "# size of sparse T10I4D100K dataset\n",
    "sys.getsizeof(lines_df_s)"
   ]
  },
  {
   "cell_type": "markdown",
   "metadata": {},
   "source": [
    "### 4.3\n",
    "*Interpret the results – state observations, limitations, advice regarding the use of sparse representations!*\n",
    "\n",
    "When running APRIORI, a lower threshhold results in a higher runtime.\n",
    "\n",
    "In case of the grocery dataset using the sparse data representation takes more time than the non-sparse data representation, while memory consumption stays the same.\n",
    "\n",
    "In case of the T10I4D100K dataset the runtime of the sparse data representation at the threshhold of 0.002 is almost 20% higher than the non-sparse data representation. However, at any threshhold larger than 0.002 the runtimes of the sparse and non-sparse data representations are practically the same. Again, the form of data representation has no impact on the memory of the execution.\n",
    "\n",
    "Transforming the smaller grocery dataset into a sparse data representation acutally increases memory consumption by around 30%, while transforming a large dataset like T10I4D100K into a sparse data representation reduces its memory consumption to around 95%.\n",
    "\n",
    "While the form of data representation has no impact on the memory requirements of the executions, the sparse data representations have higher runtimes. This suggests additional computations are required by APRIORI when working with sparse data. \n",
    "\n",
    "This becomes especially apparent at threshhold of 0.002 on the T10I4D100K dataset.\n",
    "_______________"
   ]
  },
  {
   "cell_type": "markdown",
   "metadata": {},
   "source": [
    "### 4.4\n",
    "*Explain, why only the minimum runtime is reported (in contrast to other options,like the average runtime).*\n",
    "\n",
    "Minimum runtime is reported because we want to know, what is the best achievable performance (fastest runtime) for a given code setup.\n",
    "\n",
    "Since the machine is running multiple processes in parallel at any given time, the availability of computing resources for the execution of the statement varies from moment to moment, which will affect runtimes and the results of the meassurements.\n",
    "\n",
    "The minimum meassurement tells us the lowest time that can be achieved given the most optimal system state.\n",
    "\n",
    "\n",
    "_______________\n",
    "_______________"
   ]
  },
  {
   "cell_type": "markdown",
   "metadata": {},
   "source": [
    "## Exercise 5.\n",
    "### 5.1"
   ]
  },
  {
   "cell_type": "code",
   "execution_count": 25,
   "metadata": {},
   "outputs": [],
   "source": [
    "# grocery non-sparse data structure, APRIORI and 0.2, 0.4, 0.6, 0.8\n",
    "\n",
    "# creating list with threshholds to over loop\n",
    "threshholds = [0.2, 0.4, 0.6, 0.8]\n",
    "\n",
    "# creating lists with and without entries for results table\n",
    "types = ['non_sparse']*len(threshholds)\n",
    "dataset = ['grocery']*len(threshholds)\n",
    "algorithm = ['APRIORI']*len(threshholds)\n",
    "runtimes = []\n",
    "mem_size = []\n",
    "\n",
    "# setup configuration for the timer\n",
    "setup = '''\n",
    "from mlxtend.preprocessing import TransactionEncoder\n",
    "from mlxtend.frequent_patterns import apriori\n",
    "import pandas as pd\n",
    "te = TransactionEncoder()\n",
    "foods = [['fish', 'apples', 'cider', 'dragon fruit', 'garlic', 'ice cream', 'mints', 'prunes'],\n",
    "           ['apples', 'bacon', 'cider', 'fish', 'lemons', 'mints', 'oatmeal'],\n",
    "           ['bacon', 'fish', 'ham', 'jam', 'oatmeal'],\n",
    "           ['bacon', 'cider', 'kiwis', 'spam', 'prunes'],\n",
    "           ['apples', 'fish', 'cider', 'eggs', 'lemons', 'prunes', 'mints', 'nachos']]\n",
    "foods_te_ary = te.fit_transform(foods)\n",
    "foods_df = pd.DataFrame(foods_te_ary, columns=te.columns_)\n",
    "'''\n",
    "\n",
    "# looping through threshholds\n",
    "for threshhold in threshholds:\n",
    "   # measuring and appending execution times to list\n",
    "   runtimes.append(min(timeit.Timer(stmt=f'apriori(foods_df, min_support={threshhold})', setup=setup).repeat(10, 10)))\n",
    "   # measuring and appending memory usage to list\n",
    "   mem_size.append(sys.getsizeof(apriori(foods_df, min_support=threshhold)))\n",
    "\n",
    "# creating the results table \n",
    "foods_apriori = pd.DataFrame({\n",
    "    'dataset': dataset,\n",
    "    'algorithm': algorithm,\n",
    "    'type': types,\n",
    "    'threshhold': threshholds,\n",
    "    'runtime': runtimes,\n",
    "    'mem_size': mem_size}\n",
    "    )"
   ]
  },
  {
   "cell_type": "code",
   "execution_count": 26,
   "metadata": {},
   "outputs": [],
   "source": [
    "# T10I4D100K non-sparse data structure, APRIORI and 0.002,0.004,0.008,0.016,0.032,0.064\n",
    "\n",
    "# creating list with threshholds to over loop\n",
    "threshholds = [0.002,0.004,0.008,0.016,0.032,0.064]\n",
    "\n",
    "# creating lists with and without entries for results table\n",
    "types = ['non_sparse']*len(threshholds)\n",
    "dataset = ['T10I4D100K']*len(threshholds)\n",
    "algorithm = ['APRIORI']*len(threshholds)\n",
    "runtimes = []\n",
    "mem_size = []\n",
    "\n",
    "# setup configuration for the timer\n",
    "setup = '''\n",
    "from mlxtend.preprocessing import TransactionEncoder\n",
    "from mlxtend.frequent_patterns import apriori\n",
    "import pandas as pd\n",
    "te = TransactionEncoder()\n",
    "with open('T10I4D100K.dat') as file:\n",
    "    lines = [line.split() for line in file]\n",
    "lines = lines[0:10000]\n",
    "lines_te_ary = te.fit_transform(lines)\n",
    "lines_df = pd.DataFrame(lines_te_ary, columns=te.columns_)\n",
    "'''\n",
    "\n",
    "# looping through threshholds\n",
    "for threshhold in threshholds:\n",
    "   # measuring and appending execution times to list\n",
    "   runtimes.append(min(timeit.Timer(stmt=f'apriori(lines_df, min_support={threshhold})', setup=setup).repeat(10, 1)))\n",
    "   # measuring and appending memory usage to list\n",
    "   mem_size.append(sys.getsizeof(apriori(lines_df, min_support=threshhold)))\n",
    "\n",
    "# creating the results table \n",
    "t10i4d100k_apriori = pd.DataFrame({\n",
    "    'dataset': dataset,\n",
    "    'algorithm': algorithm,\n",
    "    'type': types,\n",
    "    'threshhold': threshholds,\n",
    "    'runtime': runtimes,\n",
    "    'mem_size': mem_size}\n",
    "    )"
   ]
  },
  {
   "cell_type": "code",
   "execution_count": 27,
   "metadata": {},
   "outputs": [],
   "source": [
    "# grocery non-sparse data structure, FP-Growth and 0.2, 0.4, 0.6, 0.8 \n",
    "\n",
    "# creating list with threshholds to over loop\n",
    "threshholds = [0.2, 0.4, 0.6, 0.8]\n",
    "\n",
    "# creating lists with and without entries for results table\n",
    "types = ['non_sparse']*len(threshholds)\n",
    "dataset = ['grocery']*len(threshholds)\n",
    "algorithm = ['FP-Growth']*len(threshholds)\n",
    "runtimes = []\n",
    "mem_size = []\n",
    "\n",
    "# setup configuration for the timer\n",
    "setup = '''\n",
    "from mlxtend.preprocessing import TransactionEncoder\n",
    "from mlxtend.frequent_patterns import fpgrowth\n",
    "import pandas as pd\n",
    "te = TransactionEncoder()\n",
    "foods = [['fish', 'apples', 'cider', 'dragon fruit', 'garlic', 'ice cream', 'mints', 'prunes'],\n",
    "           ['apples', 'bacon', 'cider', 'fish', 'lemons', 'mints', 'oatmeal'],\n",
    "           ['bacon', 'fish', 'ham', 'jam', 'oatmeal'],\n",
    "           ['bacon', 'cider', 'kiwis', 'spam', 'prunes'],\n",
    "           ['apples', 'fish', 'cider', 'eggs', 'lemons', 'prunes', 'mints', 'nachos']]\n",
    "foods_te_ary = te.fit_transform(foods)\n",
    "foods_df = pd.DataFrame(foods_te_ary, columns=te.columns_)\n",
    "'''\n",
    "\n",
    "# looping through threshholds\n",
    "for threshhold in threshholds:\n",
    "   # measuring and appending execution times to list\n",
    "   runtimes.append(min(timeit.Timer(stmt=f'fpgrowth(foods_df, min_support={threshhold})', setup=setup).repeat(10, 10)))\n",
    "   # measuring and appending memory usage to list\n",
    "   mem_size.append(sys.getsizeof(fpgrowth(foods_df, min_support=threshhold)))\n",
    "\n",
    "# creating the results table \n",
    "foods_fpgrowth = pd.DataFrame({\n",
    "    'dataset': dataset,\n",
    "    'algorithm': algorithm,\n",
    "    'type': types,\n",
    "    'threshhold': threshholds,\n",
    "    'runtime': runtimes,\n",
    "    'mem_size': mem_size}\n",
    "    )"
   ]
  },
  {
   "cell_type": "code",
   "execution_count": 28,
   "metadata": {},
   "outputs": [],
   "source": [
    "# T10I4D100K non-sparse data structure, FPGrowth and 0.002,0.004,0.008,0.016,0.032,0.064\n",
    "\n",
    "# creating list with threshholds to over loop\n",
    "threshholds = [0.002,0.004,0.008,0.016,0.032,0.064]\n",
    "\n",
    "# creating lists with and without entries for results table\n",
    "types = ['non_sparse']*len(threshholds)\n",
    "dataset = ['T10I4D100K']*len(threshholds)\n",
    "algorithm = ['FP-Growth']*len(threshholds)\n",
    "runtimes = []\n",
    "mem_size = []\n",
    "\n",
    "# setup configuration for the timer\n",
    "setup = '''\n",
    "from mlxtend.preprocessing import TransactionEncoder\n",
    "from mlxtend.frequent_patterns import fpgrowth\n",
    "import pandas as pd\n",
    "te = TransactionEncoder()\n",
    "with open('T10I4D100K.dat') as file:\n",
    "    lines = [line.split() for line in file]\n",
    "lines = lines[0:10000]\n",
    "lines_te_ary = te.fit_transform(lines)\n",
    "lines_df = pd.DataFrame(lines_te_ary, columns=te.columns_)\n",
    "'''\n",
    "\n",
    "# looping through threshholds\n",
    "for threshhold in threshholds:\n",
    "   # measuring and appending execution times to list\n",
    "   runtimes.append(min(timeit.Timer(stmt=f'fpgrowth(lines_df, min_support={threshhold})', setup=setup).repeat(10, 1)))\n",
    "   # measuring and appending memory usage to list\n",
    "   mem_size.append(sys.getsizeof(fpgrowth(lines_df, min_support=threshhold)))\n",
    "\n",
    "# creating the results table \n",
    "t10i4d100k_fpgrowth = pd.DataFrame({\n",
    "    'dataset': dataset,\n",
    "    'algorithm': algorithm,\n",
    "    'type': types,\n",
    "    'threshhold': threshholds,\n",
    "    'runtime': runtimes,\n",
    "    'mem_size': mem_size}\n",
    "    )"
   ]
  },
  {
   "cell_type": "markdown",
   "metadata": {},
   "source": [
    "### 5.2"
   ]
  },
  {
   "cell_type": "code",
   "execution_count": 29,
   "metadata": {},
   "outputs": [],
   "source": [
    "# combining results of grocery dataset\n",
    "foods_res = [foods_apriori, foods_fpgrowth]\n",
    "foods_res = pd.concat(foods_res)\n",
    "\n",
    "# combining results of T10I4D100K dataset\n",
    "t10i4d100k_res = [t10i4d100k_apriori, t10i4d100k_fpgrowth]\n",
    "t10i4d100k_res = pd.concat(t10i4d100k_res)"
   ]
  },
  {
   "cell_type": "code",
   "execution_count": 30,
   "metadata": {},
   "outputs": [
    {
     "data": {
      "text/html": [
       "<div>\n",
       "<style scoped>\n",
       "    .dataframe tbody tr th:only-of-type {\n",
       "        vertical-align: middle;\n",
       "    }\n",
       "\n",
       "    .dataframe tbody tr th {\n",
       "        vertical-align: top;\n",
       "    }\n",
       "\n",
       "    .dataframe thead th {\n",
       "        text-align: right;\n",
       "    }\n",
       "</style>\n",
       "<table border=\"1\" class=\"dataframe\">\n",
       "  <thead>\n",
       "    <tr style=\"text-align: right;\">\n",
       "      <th></th>\n",
       "      <th>dataset</th>\n",
       "      <th>algorithm</th>\n",
       "      <th>type</th>\n",
       "      <th>threshhold</th>\n",
       "      <th>runtime</th>\n",
       "      <th>mem_size</th>\n",
       "    </tr>\n",
       "  </thead>\n",
       "  <tbody>\n",
       "    <tr>\n",
       "      <th>0</th>\n",
       "      <td>grocery</td>\n",
       "      <td>APRIORI</td>\n",
       "      <td>non_sparse</td>\n",
       "      <td>0.2</td>\n",
       "      <td>0.037286</td>\n",
       "      <td>245224</td>\n",
       "    </tr>\n",
       "    <tr>\n",
       "      <th>1</th>\n",
       "      <td>grocery</td>\n",
       "      <td>APRIORI</td>\n",
       "      <td>non_sparse</td>\n",
       "      <td>0.4</td>\n",
       "      <td>0.014199</td>\n",
       "      <td>12832</td>\n",
       "    </tr>\n",
       "    <tr>\n",
       "      <th>2</th>\n",
       "      <td>grocery</td>\n",
       "      <td>APRIORI</td>\n",
       "      <td>non_sparse</td>\n",
       "      <td>0.6</td>\n",
       "      <td>0.011173</td>\n",
       "      <td>4032</td>\n",
       "    </tr>\n",
       "    <tr>\n",
       "      <th>3</th>\n",
       "      <td>grocery</td>\n",
       "      <td>APRIORI</td>\n",
       "      <td>non_sparse</td>\n",
       "      <td>0.8</td>\n",
       "      <td>0.004597</td>\n",
       "      <td>576</td>\n",
       "    </tr>\n",
       "    <tr>\n",
       "      <th>0</th>\n",
       "      <td>grocery</td>\n",
       "      <td>FP-Growth</td>\n",
       "      <td>non_sparse</td>\n",
       "      <td>0.2</td>\n",
       "      <td>0.011177</td>\n",
       "      <td>245224</td>\n",
       "    </tr>\n",
       "    <tr>\n",
       "      <th>1</th>\n",
       "      <td>grocery</td>\n",
       "      <td>FP-Growth</td>\n",
       "      <td>non_sparse</td>\n",
       "      <td>0.4</td>\n",
       "      <td>0.003969</td>\n",
       "      <td>12832</td>\n",
       "    </tr>\n",
       "    <tr>\n",
       "      <th>2</th>\n",
       "      <td>grocery</td>\n",
       "      <td>FP-Growth</td>\n",
       "      <td>non_sparse</td>\n",
       "      <td>0.6</td>\n",
       "      <td>0.003317</td>\n",
       "      <td>4032</td>\n",
       "    </tr>\n",
       "    <tr>\n",
       "      <th>3</th>\n",
       "      <td>grocery</td>\n",
       "      <td>FP-Growth</td>\n",
       "      <td>non_sparse</td>\n",
       "      <td>0.8</td>\n",
       "      <td>0.002742</td>\n",
       "      <td>576</td>\n",
       "    </tr>\n",
       "  </tbody>\n",
       "</table>\n",
       "</div>"
      ],
      "text/plain": [
       "   dataset  algorithm        type  threshhold   runtime  mem_size\n",
       "0  grocery    APRIORI  non_sparse         0.2  0.037286    245224\n",
       "1  grocery    APRIORI  non_sparse         0.4  0.014199     12832\n",
       "2  grocery    APRIORI  non_sparse         0.6  0.011173      4032\n",
       "3  grocery    APRIORI  non_sparse         0.8  0.004597       576\n",
       "0  grocery  FP-Growth  non_sparse         0.2  0.011177    245224\n",
       "1  grocery  FP-Growth  non_sparse         0.4  0.003969     12832\n",
       "2  grocery  FP-Growth  non_sparse         0.6  0.003317      4032\n",
       "3  grocery  FP-Growth  non_sparse         0.8  0.002742       576"
      ]
     },
     "execution_count": 30,
     "metadata": {},
     "output_type": "execute_result"
    }
   ],
   "source": [
    "# displaying results of different runs of grocery dataset\n",
    "foods_res"
   ]
  },
  {
   "cell_type": "code",
   "execution_count": 31,
   "metadata": {},
   "outputs": [
    {
     "data": {
      "text/html": [
       "<div>\n",
       "<style scoped>\n",
       "    .dataframe tbody tr th:only-of-type {\n",
       "        vertical-align: middle;\n",
       "    }\n",
       "\n",
       "    .dataframe tbody tr th {\n",
       "        vertical-align: top;\n",
       "    }\n",
       "\n",
       "    .dataframe thead th {\n",
       "        text-align: right;\n",
       "    }\n",
       "</style>\n",
       "<table border=\"1\" class=\"dataframe\">\n",
       "  <thead>\n",
       "    <tr style=\"text-align: right;\">\n",
       "      <th></th>\n",
       "      <th>dataset</th>\n",
       "      <th>algorithm</th>\n",
       "      <th>type</th>\n",
       "      <th>threshhold</th>\n",
       "      <th>runtime</th>\n",
       "      <th>mem_size</th>\n",
       "    </tr>\n",
       "  </thead>\n",
       "  <tbody>\n",
       "    <tr>\n",
       "      <th>0</th>\n",
       "      <td>T10I4D100K</td>\n",
       "      <td>APRIORI</td>\n",
       "      <td>non_sparse</td>\n",
       "      <td>0.002</td>\n",
       "      <td>143.892698</td>\n",
       "      <td>4123984</td>\n",
       "    </tr>\n",
       "    <tr>\n",
       "      <th>1</th>\n",
       "      <td>T10I4D100K</td>\n",
       "      <td>APRIORI</td>\n",
       "      <td>non_sparse</td>\n",
       "      <td>0.004</td>\n",
       "      <td>14.847923</td>\n",
       "      <td>508968</td>\n",
       "    </tr>\n",
       "    <tr>\n",
       "      <th>2</th>\n",
       "      <td>T10I4D100K</td>\n",
       "      <td>APRIORI</td>\n",
       "      <td>non_sparse</td>\n",
       "      <td>0.008</td>\n",
       "      <td>3.270451</td>\n",
       "      <td>108872</td>\n",
       "    </tr>\n",
       "    <tr>\n",
       "      <th>3</th>\n",
       "      <td>T10I4D100K</td>\n",
       "      <td>APRIORI</td>\n",
       "      <td>non_sparse</td>\n",
       "      <td>0.016</td>\n",
       "      <td>0.780645</td>\n",
       "      <td>46368</td>\n",
       "    </tr>\n",
       "    <tr>\n",
       "      <th>4</th>\n",
       "      <td>T10I4D100K</td>\n",
       "      <td>APRIORI</td>\n",
       "      <td>non_sparse</td>\n",
       "      <td>0.032</td>\n",
       "      <td>0.047500</td>\n",
       "      <td>10728</td>\n",
       "    </tr>\n",
       "    <tr>\n",
       "      <th>5</th>\n",
       "      <td>T10I4D100K</td>\n",
       "      <td>APRIORI</td>\n",
       "      <td>non_sparse</td>\n",
       "      <td>0.064</td>\n",
       "      <td>0.007880</td>\n",
       "      <td>576</td>\n",
       "    </tr>\n",
       "    <tr>\n",
       "      <th>0</th>\n",
       "      <td>T10I4D100K</td>\n",
       "      <td>FP-Growth</td>\n",
       "      <td>non_sparse</td>\n",
       "      <td>0.002</td>\n",
       "      <td>0.362512</td>\n",
       "      <td>4123984</td>\n",
       "    </tr>\n",
       "    <tr>\n",
       "      <th>1</th>\n",
       "      <td>T10I4D100K</td>\n",
       "      <td>FP-Growth</td>\n",
       "      <td>non_sparse</td>\n",
       "      <td>0.004</td>\n",
       "      <td>0.272450</td>\n",
       "      <td>508968</td>\n",
       "    </tr>\n",
       "    <tr>\n",
       "      <th>2</th>\n",
       "      <td>T10I4D100K</td>\n",
       "      <td>FP-Growth</td>\n",
       "      <td>non_sparse</td>\n",
       "      <td>0.008</td>\n",
       "      <td>0.206002</td>\n",
       "      <td>108872</td>\n",
       "    </tr>\n",
       "    <tr>\n",
       "      <th>3</th>\n",
       "      <td>T10I4D100K</td>\n",
       "      <td>FP-Growth</td>\n",
       "      <td>non_sparse</td>\n",
       "      <td>0.016</td>\n",
       "      <td>0.122046</td>\n",
       "      <td>46368</td>\n",
       "    </tr>\n",
       "    <tr>\n",
       "      <th>4</th>\n",
       "      <td>T10I4D100K</td>\n",
       "      <td>FP-Growth</td>\n",
       "      <td>non_sparse</td>\n",
       "      <td>0.032</td>\n",
       "      <td>0.045056</td>\n",
       "      <td>10728</td>\n",
       "    </tr>\n",
       "    <tr>\n",
       "      <th>5</th>\n",
       "      <td>T10I4D100K</td>\n",
       "      <td>FP-Growth</td>\n",
       "      <td>non_sparse</td>\n",
       "      <td>0.064</td>\n",
       "      <td>0.027997</td>\n",
       "      <td>576</td>\n",
       "    </tr>\n",
       "  </tbody>\n",
       "</table>\n",
       "</div>"
      ],
      "text/plain": [
       "      dataset  algorithm        type  threshhold     runtime  mem_size\n",
       "0  T10I4D100K    APRIORI  non_sparse       0.002  143.892698   4123984\n",
       "1  T10I4D100K    APRIORI  non_sparse       0.004   14.847923    508968\n",
       "2  T10I4D100K    APRIORI  non_sparse       0.008    3.270451    108872\n",
       "3  T10I4D100K    APRIORI  non_sparse       0.016    0.780645     46368\n",
       "4  T10I4D100K    APRIORI  non_sparse       0.032    0.047500     10728\n",
       "5  T10I4D100K    APRIORI  non_sparse       0.064    0.007880       576\n",
       "0  T10I4D100K  FP-Growth  non_sparse       0.002    0.362512   4123984\n",
       "1  T10I4D100K  FP-Growth  non_sparse       0.004    0.272450    508968\n",
       "2  T10I4D100K  FP-Growth  non_sparse       0.008    0.206002    108872\n",
       "3  T10I4D100K  FP-Growth  non_sparse       0.016    0.122046     46368\n",
       "4  T10I4D100K  FP-Growth  non_sparse       0.032    0.045056     10728\n",
       "5  T10I4D100K  FP-Growth  non_sparse       0.064    0.027997       576"
      ]
     },
     "execution_count": 31,
     "metadata": {},
     "output_type": "execute_result"
    }
   ],
   "source": [
    "# displaying results of different runs of T10I4D100K dataset\n",
    "t10i4d100k_res"
   ]
  },
  {
   "cell_type": "markdown",
   "metadata": {},
   "source": [
    "### 5.3"
   ]
  },
  {
   "cell_type": "code",
   "execution_count": 32,
   "metadata": {},
   "outputs": [],
   "source": [
    "# combining results per dataset\n",
    "foods_res = [foods_apriori, foods_fpgrowth]\n",
    "foods_res = pd.concat(foods_res)\n",
    "\n",
    "t10i4d100k_res = [t10i4d100k_apriori, t10i4d100k_fpgrowth]\n",
    "t10i4d100k_res = pd.concat(t10i4d100k_res)"
   ]
  },
  {
   "cell_type": "code",
   "execution_count": 33,
   "metadata": {},
   "outputs": [],
   "source": [
    "# to stop plotly from printing DeprecationWarnings\n",
    "import warnings\n",
    "warnings.filterwarnings(\"ignore\", category=DeprecationWarning) "
   ]
  },
  {
   "cell_type": "code",
   "execution_count": 34,
   "metadata": {},
   "outputs": [
    {
     "data": {
      "application/vnd.plotly.v1+json": {
       "config": {
        "plotlyServerURL": "https://plot.ly"
       },
       "data": [
        {
         "hovertemplate": "Algorithm=APRIORI<br>Threshhold=%{x}<br>Runtime in Seconds=%{y}<extra></extra>",
         "legendgroup": "APRIORI",
         "line": {
          "color": "#636efa",
          "dash": "solid"
         },
         "marker": {
          "symbol": "circle"
         },
         "mode": "lines",
         "name": "APRIORI",
         "orientation": "v",
         "showlegend": true,
         "type": "scatter",
         "x": [
          0.2,
          0.4,
          0.6,
          0.8
         ],
         "xaxis": "x",
         "y": [
          0.03728583300016908,
          0.014199417000781978,
          0.011173499999131309,
          0.004597292000653397
         ],
         "yaxis": "y"
        },
        {
         "hovertemplate": "Algorithm=FP-Growth<br>Threshhold=%{x}<br>Runtime in Seconds=%{y}<extra></extra>",
         "legendgroup": "FP-Growth",
         "line": {
          "color": "#EF553B",
          "dash": "solid"
         },
         "marker": {
          "symbol": "circle"
         },
         "mode": "lines",
         "name": "FP-Growth",
         "orientation": "v",
         "showlegend": true,
         "type": "scatter",
         "x": [
          0.2,
          0.4,
          0.6,
          0.8
         ],
         "xaxis": "x",
         "y": [
          0.011177082999893173,
          0.003968541999711306,
          0.0033165830000143615,
          0.0027422910006862367
         ],
         "yaxis": "y"
        }
       ],
       "layout": {
        "legend": {
         "title": {
          "text": "Algorithm"
         },
         "tracegroupgap": 0
        },
        "template": {
         "data": {
          "bar": [
           {
            "error_x": {
             "color": "#2a3f5f"
            },
            "error_y": {
             "color": "#2a3f5f"
            },
            "marker": {
             "line": {
              "color": "#E5ECF6",
              "width": 0.5
             },
             "pattern": {
              "fillmode": "overlay",
              "size": 10,
              "solidity": 0.2
             }
            },
            "type": "bar"
           }
          ],
          "barpolar": [
           {
            "marker": {
             "line": {
              "color": "#E5ECF6",
              "width": 0.5
             },
             "pattern": {
              "fillmode": "overlay",
              "size": 10,
              "solidity": 0.2
             }
            },
            "type": "barpolar"
           }
          ],
          "carpet": [
           {
            "aaxis": {
             "endlinecolor": "#2a3f5f",
             "gridcolor": "white",
             "linecolor": "white",
             "minorgridcolor": "white",
             "startlinecolor": "#2a3f5f"
            },
            "baxis": {
             "endlinecolor": "#2a3f5f",
             "gridcolor": "white",
             "linecolor": "white",
             "minorgridcolor": "white",
             "startlinecolor": "#2a3f5f"
            },
            "type": "carpet"
           }
          ],
          "choropleth": [
           {
            "colorbar": {
             "outlinewidth": 0,
             "ticks": ""
            },
            "type": "choropleth"
           }
          ],
          "contour": [
           {
            "colorbar": {
             "outlinewidth": 0,
             "ticks": ""
            },
            "colorscale": [
             [
              0,
              "#0d0887"
             ],
             [
              0.1111111111111111,
              "#46039f"
             ],
             [
              0.2222222222222222,
              "#7201a8"
             ],
             [
              0.3333333333333333,
              "#9c179e"
             ],
             [
              0.4444444444444444,
              "#bd3786"
             ],
             [
              0.5555555555555556,
              "#d8576b"
             ],
             [
              0.6666666666666666,
              "#ed7953"
             ],
             [
              0.7777777777777778,
              "#fb9f3a"
             ],
             [
              0.8888888888888888,
              "#fdca26"
             ],
             [
              1,
              "#f0f921"
             ]
            ],
            "type": "contour"
           }
          ],
          "contourcarpet": [
           {
            "colorbar": {
             "outlinewidth": 0,
             "ticks": ""
            },
            "type": "contourcarpet"
           }
          ],
          "heatmap": [
           {
            "colorbar": {
             "outlinewidth": 0,
             "ticks": ""
            },
            "colorscale": [
             [
              0,
              "#0d0887"
             ],
             [
              0.1111111111111111,
              "#46039f"
             ],
             [
              0.2222222222222222,
              "#7201a8"
             ],
             [
              0.3333333333333333,
              "#9c179e"
             ],
             [
              0.4444444444444444,
              "#bd3786"
             ],
             [
              0.5555555555555556,
              "#d8576b"
             ],
             [
              0.6666666666666666,
              "#ed7953"
             ],
             [
              0.7777777777777778,
              "#fb9f3a"
             ],
             [
              0.8888888888888888,
              "#fdca26"
             ],
             [
              1,
              "#f0f921"
             ]
            ],
            "type": "heatmap"
           }
          ],
          "heatmapgl": [
           {
            "colorbar": {
             "outlinewidth": 0,
             "ticks": ""
            },
            "colorscale": [
             [
              0,
              "#0d0887"
             ],
             [
              0.1111111111111111,
              "#46039f"
             ],
             [
              0.2222222222222222,
              "#7201a8"
             ],
             [
              0.3333333333333333,
              "#9c179e"
             ],
             [
              0.4444444444444444,
              "#bd3786"
             ],
             [
              0.5555555555555556,
              "#d8576b"
             ],
             [
              0.6666666666666666,
              "#ed7953"
             ],
             [
              0.7777777777777778,
              "#fb9f3a"
             ],
             [
              0.8888888888888888,
              "#fdca26"
             ],
             [
              1,
              "#f0f921"
             ]
            ],
            "type": "heatmapgl"
           }
          ],
          "histogram": [
           {
            "marker": {
             "pattern": {
              "fillmode": "overlay",
              "size": 10,
              "solidity": 0.2
             }
            },
            "type": "histogram"
           }
          ],
          "histogram2d": [
           {
            "colorbar": {
             "outlinewidth": 0,
             "ticks": ""
            },
            "colorscale": [
             [
              0,
              "#0d0887"
             ],
             [
              0.1111111111111111,
              "#46039f"
             ],
             [
              0.2222222222222222,
              "#7201a8"
             ],
             [
              0.3333333333333333,
              "#9c179e"
             ],
             [
              0.4444444444444444,
              "#bd3786"
             ],
             [
              0.5555555555555556,
              "#d8576b"
             ],
             [
              0.6666666666666666,
              "#ed7953"
             ],
             [
              0.7777777777777778,
              "#fb9f3a"
             ],
             [
              0.8888888888888888,
              "#fdca26"
             ],
             [
              1,
              "#f0f921"
             ]
            ],
            "type": "histogram2d"
           }
          ],
          "histogram2dcontour": [
           {
            "colorbar": {
             "outlinewidth": 0,
             "ticks": ""
            },
            "colorscale": [
             [
              0,
              "#0d0887"
             ],
             [
              0.1111111111111111,
              "#46039f"
             ],
             [
              0.2222222222222222,
              "#7201a8"
             ],
             [
              0.3333333333333333,
              "#9c179e"
             ],
             [
              0.4444444444444444,
              "#bd3786"
             ],
             [
              0.5555555555555556,
              "#d8576b"
             ],
             [
              0.6666666666666666,
              "#ed7953"
             ],
             [
              0.7777777777777778,
              "#fb9f3a"
             ],
             [
              0.8888888888888888,
              "#fdca26"
             ],
             [
              1,
              "#f0f921"
             ]
            ],
            "type": "histogram2dcontour"
           }
          ],
          "mesh3d": [
           {
            "colorbar": {
             "outlinewidth": 0,
             "ticks": ""
            },
            "type": "mesh3d"
           }
          ],
          "parcoords": [
           {
            "line": {
             "colorbar": {
              "outlinewidth": 0,
              "ticks": ""
             }
            },
            "type": "parcoords"
           }
          ],
          "pie": [
           {
            "automargin": true,
            "type": "pie"
           }
          ],
          "scatter": [
           {
            "fillpattern": {
             "fillmode": "overlay",
             "size": 10,
             "solidity": 0.2
            },
            "type": "scatter"
           }
          ],
          "scatter3d": [
           {
            "line": {
             "colorbar": {
              "outlinewidth": 0,
              "ticks": ""
             }
            },
            "marker": {
             "colorbar": {
              "outlinewidth": 0,
              "ticks": ""
             }
            },
            "type": "scatter3d"
           }
          ],
          "scattercarpet": [
           {
            "marker": {
             "colorbar": {
              "outlinewidth": 0,
              "ticks": ""
             }
            },
            "type": "scattercarpet"
           }
          ],
          "scattergeo": [
           {
            "marker": {
             "colorbar": {
              "outlinewidth": 0,
              "ticks": ""
             }
            },
            "type": "scattergeo"
           }
          ],
          "scattergl": [
           {
            "marker": {
             "colorbar": {
              "outlinewidth": 0,
              "ticks": ""
             }
            },
            "type": "scattergl"
           }
          ],
          "scattermapbox": [
           {
            "marker": {
             "colorbar": {
              "outlinewidth": 0,
              "ticks": ""
             }
            },
            "type": "scattermapbox"
           }
          ],
          "scatterpolar": [
           {
            "marker": {
             "colorbar": {
              "outlinewidth": 0,
              "ticks": ""
             }
            },
            "type": "scatterpolar"
           }
          ],
          "scatterpolargl": [
           {
            "marker": {
             "colorbar": {
              "outlinewidth": 0,
              "ticks": ""
             }
            },
            "type": "scatterpolargl"
           }
          ],
          "scatterternary": [
           {
            "marker": {
             "colorbar": {
              "outlinewidth": 0,
              "ticks": ""
             }
            },
            "type": "scatterternary"
           }
          ],
          "surface": [
           {
            "colorbar": {
             "outlinewidth": 0,
             "ticks": ""
            },
            "colorscale": [
             [
              0,
              "#0d0887"
             ],
             [
              0.1111111111111111,
              "#46039f"
             ],
             [
              0.2222222222222222,
              "#7201a8"
             ],
             [
              0.3333333333333333,
              "#9c179e"
             ],
             [
              0.4444444444444444,
              "#bd3786"
             ],
             [
              0.5555555555555556,
              "#d8576b"
             ],
             [
              0.6666666666666666,
              "#ed7953"
             ],
             [
              0.7777777777777778,
              "#fb9f3a"
             ],
             [
              0.8888888888888888,
              "#fdca26"
             ],
             [
              1,
              "#f0f921"
             ]
            ],
            "type": "surface"
           }
          ],
          "table": [
           {
            "cells": {
             "fill": {
              "color": "#EBF0F8"
             },
             "line": {
              "color": "white"
             }
            },
            "header": {
             "fill": {
              "color": "#C8D4E3"
             },
             "line": {
              "color": "white"
             }
            },
            "type": "table"
           }
          ]
         },
         "layout": {
          "annotationdefaults": {
           "arrowcolor": "#2a3f5f",
           "arrowhead": 0,
           "arrowwidth": 1
          },
          "autotypenumbers": "strict",
          "coloraxis": {
           "colorbar": {
            "outlinewidth": 0,
            "ticks": ""
           }
          },
          "colorscale": {
           "diverging": [
            [
             0,
             "#8e0152"
            ],
            [
             0.1,
             "#c51b7d"
            ],
            [
             0.2,
             "#de77ae"
            ],
            [
             0.3,
             "#f1b6da"
            ],
            [
             0.4,
             "#fde0ef"
            ],
            [
             0.5,
             "#f7f7f7"
            ],
            [
             0.6,
             "#e6f5d0"
            ],
            [
             0.7,
             "#b8e186"
            ],
            [
             0.8,
             "#7fbc41"
            ],
            [
             0.9,
             "#4d9221"
            ],
            [
             1,
             "#276419"
            ]
           ],
           "sequential": [
            [
             0,
             "#0d0887"
            ],
            [
             0.1111111111111111,
             "#46039f"
            ],
            [
             0.2222222222222222,
             "#7201a8"
            ],
            [
             0.3333333333333333,
             "#9c179e"
            ],
            [
             0.4444444444444444,
             "#bd3786"
            ],
            [
             0.5555555555555556,
             "#d8576b"
            ],
            [
             0.6666666666666666,
             "#ed7953"
            ],
            [
             0.7777777777777778,
             "#fb9f3a"
            ],
            [
             0.8888888888888888,
             "#fdca26"
            ],
            [
             1,
             "#f0f921"
            ]
           ],
           "sequentialminus": [
            [
             0,
             "#0d0887"
            ],
            [
             0.1111111111111111,
             "#46039f"
            ],
            [
             0.2222222222222222,
             "#7201a8"
            ],
            [
             0.3333333333333333,
             "#9c179e"
            ],
            [
             0.4444444444444444,
             "#bd3786"
            ],
            [
             0.5555555555555556,
             "#d8576b"
            ],
            [
             0.6666666666666666,
             "#ed7953"
            ],
            [
             0.7777777777777778,
             "#fb9f3a"
            ],
            [
             0.8888888888888888,
             "#fdca26"
            ],
            [
             1,
             "#f0f921"
            ]
           ]
          },
          "colorway": [
           "#636efa",
           "#EF553B",
           "#00cc96",
           "#ab63fa",
           "#FFA15A",
           "#19d3f3",
           "#FF6692",
           "#B6E880",
           "#FF97FF",
           "#FECB52"
          ],
          "font": {
           "color": "#2a3f5f"
          },
          "geo": {
           "bgcolor": "white",
           "lakecolor": "white",
           "landcolor": "#E5ECF6",
           "showlakes": true,
           "showland": true,
           "subunitcolor": "white"
          },
          "hoverlabel": {
           "align": "left"
          },
          "hovermode": "closest",
          "mapbox": {
           "style": "light"
          },
          "paper_bgcolor": "white",
          "plot_bgcolor": "#E5ECF6",
          "polar": {
           "angularaxis": {
            "gridcolor": "white",
            "linecolor": "white",
            "ticks": ""
           },
           "bgcolor": "#E5ECF6",
           "radialaxis": {
            "gridcolor": "white",
            "linecolor": "white",
            "ticks": ""
           }
          },
          "scene": {
           "xaxis": {
            "backgroundcolor": "#E5ECF6",
            "gridcolor": "white",
            "gridwidth": 2,
            "linecolor": "white",
            "showbackground": true,
            "ticks": "",
            "zerolinecolor": "white"
           },
           "yaxis": {
            "backgroundcolor": "#E5ECF6",
            "gridcolor": "white",
            "gridwidth": 2,
            "linecolor": "white",
            "showbackground": true,
            "ticks": "",
            "zerolinecolor": "white"
           },
           "zaxis": {
            "backgroundcolor": "#E5ECF6",
            "gridcolor": "white",
            "gridwidth": 2,
            "linecolor": "white",
            "showbackground": true,
            "ticks": "",
            "zerolinecolor": "white"
           }
          },
          "shapedefaults": {
           "line": {
            "color": "#2a3f5f"
           }
          },
          "ternary": {
           "aaxis": {
            "gridcolor": "white",
            "linecolor": "white",
            "ticks": ""
           },
           "baxis": {
            "gridcolor": "white",
            "linecolor": "white",
            "ticks": ""
           },
           "bgcolor": "#E5ECF6",
           "caxis": {
            "gridcolor": "white",
            "linecolor": "white",
            "ticks": ""
           }
          },
          "title": {
           "x": 0.05
          },
          "xaxis": {
           "automargin": true,
           "gridcolor": "white",
           "linecolor": "white",
           "ticks": "",
           "title": {
            "standoff": 15
           },
           "zerolinecolor": "white",
           "zerolinewidth": 2
          },
          "yaxis": {
           "automargin": true,
           "gridcolor": "white",
           "linecolor": "white",
           "ticks": "",
           "title": {
            "standoff": 15
           },
           "zerolinecolor": "white",
           "zerolinewidth": 2
          }
         }
        },
        "title": {
         "text": "Grocery Dataset"
        },
        "width": 800,
        "xaxis": {
         "anchor": "y",
         "domain": [
          0,
          1
         ],
         "title": {
          "text": "Threshhold"
         }
        },
        "yaxis": {
         "anchor": "x",
         "domain": [
          0,
          1
         ],
         "title": {
          "text": "Runtime in Seconds"
         }
        }
       }
      }
     },
     "metadata": {},
     "output_type": "display_data"
    }
   ],
   "source": [
    "# plotting results of different runs of the grocery dataset\n",
    "px.line(foods_res, x='threshhold', y='runtime', color='algorithm', width=800, \n",
    "    title='Grocery Dataset',\n",
    "    labels={\n",
    "        'threshhold': 'Threshhold',\n",
    "        'runtime': 'Runtime in Seconds',\n",
    "        'algorithm': 'Algorithm'\n",
    "        })"
   ]
  },
  {
   "cell_type": "code",
   "execution_count": 35,
   "metadata": {},
   "outputs": [
    {
     "data": {
      "application/vnd.plotly.v1+json": {
       "config": {
        "plotlyServerURL": "https://plot.ly"
       },
       "data": [
        {
         "hovertemplate": "Algorithm=APRIORI<br>Threshhold=%{x}<br>Runtime in Seconds=%{y}<extra></extra>",
         "legendgroup": "APRIORI",
         "line": {
          "color": "#636efa",
          "dash": "solid"
         },
         "marker": {
          "symbol": "circle"
         },
         "mode": "lines",
         "name": "APRIORI",
         "orientation": "v",
         "showlegend": true,
         "type": "scatter",
         "x": [
          0.002,
          0.004,
          0.008,
          0.016,
          0.032,
          0.064
         ],
         "xaxis": "x",
         "y": [
          143.89269791599963,
          14.847922832999757,
          3.270451417000004,
          0.7806452499999068,
          0.04750004099969374,
          0.007879583000431012
         ],
         "yaxis": "y"
        },
        {
         "hovertemplate": "Algorithm=FP-Growth<br>Threshhold=%{x}<br>Runtime in Seconds=%{y}<extra></extra>",
         "legendgroup": "FP-Growth",
         "line": {
          "color": "#EF553B",
          "dash": "solid"
         },
         "marker": {
          "symbol": "circle"
         },
         "mode": "lines",
         "name": "FP-Growth",
         "orientation": "v",
         "showlegend": true,
         "type": "scatter",
         "x": [
          0.002,
          0.004,
          0.008,
          0.016,
          0.032,
          0.064
         ],
         "xaxis": "x",
         "y": [
          0.3625117080000564,
          0.27245029200003046,
          0.20600233400000434,
          0.12204554100026144,
          0.045055666999360255,
          0.027996667000479647
         ],
         "yaxis": "y"
        }
       ],
       "layout": {
        "legend": {
         "title": {
          "text": "Algorithm"
         },
         "tracegroupgap": 0
        },
        "template": {
         "data": {
          "bar": [
           {
            "error_x": {
             "color": "#2a3f5f"
            },
            "error_y": {
             "color": "#2a3f5f"
            },
            "marker": {
             "line": {
              "color": "#E5ECF6",
              "width": 0.5
             },
             "pattern": {
              "fillmode": "overlay",
              "size": 10,
              "solidity": 0.2
             }
            },
            "type": "bar"
           }
          ],
          "barpolar": [
           {
            "marker": {
             "line": {
              "color": "#E5ECF6",
              "width": 0.5
             },
             "pattern": {
              "fillmode": "overlay",
              "size": 10,
              "solidity": 0.2
             }
            },
            "type": "barpolar"
           }
          ],
          "carpet": [
           {
            "aaxis": {
             "endlinecolor": "#2a3f5f",
             "gridcolor": "white",
             "linecolor": "white",
             "minorgridcolor": "white",
             "startlinecolor": "#2a3f5f"
            },
            "baxis": {
             "endlinecolor": "#2a3f5f",
             "gridcolor": "white",
             "linecolor": "white",
             "minorgridcolor": "white",
             "startlinecolor": "#2a3f5f"
            },
            "type": "carpet"
           }
          ],
          "choropleth": [
           {
            "colorbar": {
             "outlinewidth": 0,
             "ticks": ""
            },
            "type": "choropleth"
           }
          ],
          "contour": [
           {
            "colorbar": {
             "outlinewidth": 0,
             "ticks": ""
            },
            "colorscale": [
             [
              0,
              "#0d0887"
             ],
             [
              0.1111111111111111,
              "#46039f"
             ],
             [
              0.2222222222222222,
              "#7201a8"
             ],
             [
              0.3333333333333333,
              "#9c179e"
             ],
             [
              0.4444444444444444,
              "#bd3786"
             ],
             [
              0.5555555555555556,
              "#d8576b"
             ],
             [
              0.6666666666666666,
              "#ed7953"
             ],
             [
              0.7777777777777778,
              "#fb9f3a"
             ],
             [
              0.8888888888888888,
              "#fdca26"
             ],
             [
              1,
              "#f0f921"
             ]
            ],
            "type": "contour"
           }
          ],
          "contourcarpet": [
           {
            "colorbar": {
             "outlinewidth": 0,
             "ticks": ""
            },
            "type": "contourcarpet"
           }
          ],
          "heatmap": [
           {
            "colorbar": {
             "outlinewidth": 0,
             "ticks": ""
            },
            "colorscale": [
             [
              0,
              "#0d0887"
             ],
             [
              0.1111111111111111,
              "#46039f"
             ],
             [
              0.2222222222222222,
              "#7201a8"
             ],
             [
              0.3333333333333333,
              "#9c179e"
             ],
             [
              0.4444444444444444,
              "#bd3786"
             ],
             [
              0.5555555555555556,
              "#d8576b"
             ],
             [
              0.6666666666666666,
              "#ed7953"
             ],
             [
              0.7777777777777778,
              "#fb9f3a"
             ],
             [
              0.8888888888888888,
              "#fdca26"
             ],
             [
              1,
              "#f0f921"
             ]
            ],
            "type": "heatmap"
           }
          ],
          "heatmapgl": [
           {
            "colorbar": {
             "outlinewidth": 0,
             "ticks": ""
            },
            "colorscale": [
             [
              0,
              "#0d0887"
             ],
             [
              0.1111111111111111,
              "#46039f"
             ],
             [
              0.2222222222222222,
              "#7201a8"
             ],
             [
              0.3333333333333333,
              "#9c179e"
             ],
             [
              0.4444444444444444,
              "#bd3786"
             ],
             [
              0.5555555555555556,
              "#d8576b"
             ],
             [
              0.6666666666666666,
              "#ed7953"
             ],
             [
              0.7777777777777778,
              "#fb9f3a"
             ],
             [
              0.8888888888888888,
              "#fdca26"
             ],
             [
              1,
              "#f0f921"
             ]
            ],
            "type": "heatmapgl"
           }
          ],
          "histogram": [
           {
            "marker": {
             "pattern": {
              "fillmode": "overlay",
              "size": 10,
              "solidity": 0.2
             }
            },
            "type": "histogram"
           }
          ],
          "histogram2d": [
           {
            "colorbar": {
             "outlinewidth": 0,
             "ticks": ""
            },
            "colorscale": [
             [
              0,
              "#0d0887"
             ],
             [
              0.1111111111111111,
              "#46039f"
             ],
             [
              0.2222222222222222,
              "#7201a8"
             ],
             [
              0.3333333333333333,
              "#9c179e"
             ],
             [
              0.4444444444444444,
              "#bd3786"
             ],
             [
              0.5555555555555556,
              "#d8576b"
             ],
             [
              0.6666666666666666,
              "#ed7953"
             ],
             [
              0.7777777777777778,
              "#fb9f3a"
             ],
             [
              0.8888888888888888,
              "#fdca26"
             ],
             [
              1,
              "#f0f921"
             ]
            ],
            "type": "histogram2d"
           }
          ],
          "histogram2dcontour": [
           {
            "colorbar": {
             "outlinewidth": 0,
             "ticks": ""
            },
            "colorscale": [
             [
              0,
              "#0d0887"
             ],
             [
              0.1111111111111111,
              "#46039f"
             ],
             [
              0.2222222222222222,
              "#7201a8"
             ],
             [
              0.3333333333333333,
              "#9c179e"
             ],
             [
              0.4444444444444444,
              "#bd3786"
             ],
             [
              0.5555555555555556,
              "#d8576b"
             ],
             [
              0.6666666666666666,
              "#ed7953"
             ],
             [
              0.7777777777777778,
              "#fb9f3a"
             ],
             [
              0.8888888888888888,
              "#fdca26"
             ],
             [
              1,
              "#f0f921"
             ]
            ],
            "type": "histogram2dcontour"
           }
          ],
          "mesh3d": [
           {
            "colorbar": {
             "outlinewidth": 0,
             "ticks": ""
            },
            "type": "mesh3d"
           }
          ],
          "parcoords": [
           {
            "line": {
             "colorbar": {
              "outlinewidth": 0,
              "ticks": ""
             }
            },
            "type": "parcoords"
           }
          ],
          "pie": [
           {
            "automargin": true,
            "type": "pie"
           }
          ],
          "scatter": [
           {
            "fillpattern": {
             "fillmode": "overlay",
             "size": 10,
             "solidity": 0.2
            },
            "type": "scatter"
           }
          ],
          "scatter3d": [
           {
            "line": {
             "colorbar": {
              "outlinewidth": 0,
              "ticks": ""
             }
            },
            "marker": {
             "colorbar": {
              "outlinewidth": 0,
              "ticks": ""
             }
            },
            "type": "scatter3d"
           }
          ],
          "scattercarpet": [
           {
            "marker": {
             "colorbar": {
              "outlinewidth": 0,
              "ticks": ""
             }
            },
            "type": "scattercarpet"
           }
          ],
          "scattergeo": [
           {
            "marker": {
             "colorbar": {
              "outlinewidth": 0,
              "ticks": ""
             }
            },
            "type": "scattergeo"
           }
          ],
          "scattergl": [
           {
            "marker": {
             "colorbar": {
              "outlinewidth": 0,
              "ticks": ""
             }
            },
            "type": "scattergl"
           }
          ],
          "scattermapbox": [
           {
            "marker": {
             "colorbar": {
              "outlinewidth": 0,
              "ticks": ""
             }
            },
            "type": "scattermapbox"
           }
          ],
          "scatterpolar": [
           {
            "marker": {
             "colorbar": {
              "outlinewidth": 0,
              "ticks": ""
             }
            },
            "type": "scatterpolar"
           }
          ],
          "scatterpolargl": [
           {
            "marker": {
             "colorbar": {
              "outlinewidth": 0,
              "ticks": ""
             }
            },
            "type": "scatterpolargl"
           }
          ],
          "scatterternary": [
           {
            "marker": {
             "colorbar": {
              "outlinewidth": 0,
              "ticks": ""
             }
            },
            "type": "scatterternary"
           }
          ],
          "surface": [
           {
            "colorbar": {
             "outlinewidth": 0,
             "ticks": ""
            },
            "colorscale": [
             [
              0,
              "#0d0887"
             ],
             [
              0.1111111111111111,
              "#46039f"
             ],
             [
              0.2222222222222222,
              "#7201a8"
             ],
             [
              0.3333333333333333,
              "#9c179e"
             ],
             [
              0.4444444444444444,
              "#bd3786"
             ],
             [
              0.5555555555555556,
              "#d8576b"
             ],
             [
              0.6666666666666666,
              "#ed7953"
             ],
             [
              0.7777777777777778,
              "#fb9f3a"
             ],
             [
              0.8888888888888888,
              "#fdca26"
             ],
             [
              1,
              "#f0f921"
             ]
            ],
            "type": "surface"
           }
          ],
          "table": [
           {
            "cells": {
             "fill": {
              "color": "#EBF0F8"
             },
             "line": {
              "color": "white"
             }
            },
            "header": {
             "fill": {
              "color": "#C8D4E3"
             },
             "line": {
              "color": "white"
             }
            },
            "type": "table"
           }
          ]
         },
         "layout": {
          "annotationdefaults": {
           "arrowcolor": "#2a3f5f",
           "arrowhead": 0,
           "arrowwidth": 1
          },
          "autotypenumbers": "strict",
          "coloraxis": {
           "colorbar": {
            "outlinewidth": 0,
            "ticks": ""
           }
          },
          "colorscale": {
           "diverging": [
            [
             0,
             "#8e0152"
            ],
            [
             0.1,
             "#c51b7d"
            ],
            [
             0.2,
             "#de77ae"
            ],
            [
             0.3,
             "#f1b6da"
            ],
            [
             0.4,
             "#fde0ef"
            ],
            [
             0.5,
             "#f7f7f7"
            ],
            [
             0.6,
             "#e6f5d0"
            ],
            [
             0.7,
             "#b8e186"
            ],
            [
             0.8,
             "#7fbc41"
            ],
            [
             0.9,
             "#4d9221"
            ],
            [
             1,
             "#276419"
            ]
           ],
           "sequential": [
            [
             0,
             "#0d0887"
            ],
            [
             0.1111111111111111,
             "#46039f"
            ],
            [
             0.2222222222222222,
             "#7201a8"
            ],
            [
             0.3333333333333333,
             "#9c179e"
            ],
            [
             0.4444444444444444,
             "#bd3786"
            ],
            [
             0.5555555555555556,
             "#d8576b"
            ],
            [
             0.6666666666666666,
             "#ed7953"
            ],
            [
             0.7777777777777778,
             "#fb9f3a"
            ],
            [
             0.8888888888888888,
             "#fdca26"
            ],
            [
             1,
             "#f0f921"
            ]
           ],
           "sequentialminus": [
            [
             0,
             "#0d0887"
            ],
            [
             0.1111111111111111,
             "#46039f"
            ],
            [
             0.2222222222222222,
             "#7201a8"
            ],
            [
             0.3333333333333333,
             "#9c179e"
            ],
            [
             0.4444444444444444,
             "#bd3786"
            ],
            [
             0.5555555555555556,
             "#d8576b"
            ],
            [
             0.6666666666666666,
             "#ed7953"
            ],
            [
             0.7777777777777778,
             "#fb9f3a"
            ],
            [
             0.8888888888888888,
             "#fdca26"
            ],
            [
             1,
             "#f0f921"
            ]
           ]
          },
          "colorway": [
           "#636efa",
           "#EF553B",
           "#00cc96",
           "#ab63fa",
           "#FFA15A",
           "#19d3f3",
           "#FF6692",
           "#B6E880",
           "#FF97FF",
           "#FECB52"
          ],
          "font": {
           "color": "#2a3f5f"
          },
          "geo": {
           "bgcolor": "white",
           "lakecolor": "white",
           "landcolor": "#E5ECF6",
           "showlakes": true,
           "showland": true,
           "subunitcolor": "white"
          },
          "hoverlabel": {
           "align": "left"
          },
          "hovermode": "closest",
          "mapbox": {
           "style": "light"
          },
          "paper_bgcolor": "white",
          "plot_bgcolor": "#E5ECF6",
          "polar": {
           "angularaxis": {
            "gridcolor": "white",
            "linecolor": "white",
            "ticks": ""
           },
           "bgcolor": "#E5ECF6",
           "radialaxis": {
            "gridcolor": "white",
            "linecolor": "white",
            "ticks": ""
           }
          },
          "scene": {
           "xaxis": {
            "backgroundcolor": "#E5ECF6",
            "gridcolor": "white",
            "gridwidth": 2,
            "linecolor": "white",
            "showbackground": true,
            "ticks": "",
            "zerolinecolor": "white"
           },
           "yaxis": {
            "backgroundcolor": "#E5ECF6",
            "gridcolor": "white",
            "gridwidth": 2,
            "linecolor": "white",
            "showbackground": true,
            "ticks": "",
            "zerolinecolor": "white"
           },
           "zaxis": {
            "backgroundcolor": "#E5ECF6",
            "gridcolor": "white",
            "gridwidth": 2,
            "linecolor": "white",
            "showbackground": true,
            "ticks": "",
            "zerolinecolor": "white"
           }
          },
          "shapedefaults": {
           "line": {
            "color": "#2a3f5f"
           }
          },
          "ternary": {
           "aaxis": {
            "gridcolor": "white",
            "linecolor": "white",
            "ticks": ""
           },
           "baxis": {
            "gridcolor": "white",
            "linecolor": "white",
            "ticks": ""
           },
           "bgcolor": "#E5ECF6",
           "caxis": {
            "gridcolor": "white",
            "linecolor": "white",
            "ticks": ""
           }
          },
          "title": {
           "x": 0.05
          },
          "xaxis": {
           "automargin": true,
           "gridcolor": "white",
           "linecolor": "white",
           "ticks": "",
           "title": {
            "standoff": 15
           },
           "zerolinecolor": "white",
           "zerolinewidth": 2
          },
          "yaxis": {
           "automargin": true,
           "gridcolor": "white",
           "linecolor": "white",
           "ticks": "",
           "title": {
            "standoff": 15
           },
           "zerolinecolor": "white",
           "zerolinewidth": 2
          }
         }
        },
        "title": {
         "text": "T10I4D100K Dataset"
        },
        "width": 800,
        "xaxis": {
         "anchor": "y",
         "domain": [
          0,
          1
         ],
         "title": {
          "text": "Threshhold"
         },
         "type": "log"
        },
        "yaxis": {
         "anchor": "x",
         "domain": [
          0,
          1
         ],
         "title": {
          "text": "Runtime in Seconds"
         },
         "type": "log"
        }
       }
      }
     },
     "metadata": {},
     "output_type": "display_data"
    }
   ],
   "source": [
    "# plotting results of different runs of the T10I4D100K dataset\n",
    "px.line(t10i4d100k_res, x='threshhold', y='runtime', color='algorithm', log_x=True, log_y=True, width=800, \n",
    "    title='T10I4D100K Dataset',\n",
    "    labels={\n",
    "        'threshhold': 'Threshhold',\n",
    "        'runtime': 'Runtime in Seconds',\n",
    "        'algorithm': 'Algorithm'\n",
    "        })"
   ]
  },
  {
   "cell_type": "markdown",
   "metadata": {},
   "source": [
    "### 5.4\n",
    "*Interpret the results – state observations, limitations, advice regarding the use of the two algorithms!*\n",
    "\n",
    "Examining execution speeds, we find the runtimes of FP-Growth are only fractions of those of APRIORI.\n",
    "\n",
    "The increase of runtime with the decrease of the threshhold affects APRIORI more than FP-Growth. \n",
    "\n",
    "There is however an exeption on the T10I4D100K dataset at the thresholds 0.032 where the runtimes are effectively the same and 0.064 where APRIORI outperforms FP-Growth. \n",
    "\n",
    "FP-Growth generally performs faster but APRIORI seems preferable when working with large datasets and high threshholds. This cross-over point will be scenario dependent.\n",
    "_______________\n",
    "_______________"
   ]
  }
 ],
 "metadata": {
  "kernelspec": {
   "display_name": "Python 3.9.15 ('deeplearning')",
   "language": "python",
   "name": "python3"
  },
  "language_info": {
   "codemirror_mode": {
    "name": "ipython",
    "version": 3
   },
   "file_extension": ".py",
   "mimetype": "text/x-python",
   "name": "python",
   "nbconvert_exporter": "python",
   "pygments_lexer": "ipython3",
   "version": "3.9.15"
  },
  "orig_nbformat": 4,
  "vscode": {
   "interpreter": {
    "hash": "0a5523d6eb52b76436ce8f76c6081f66698068f764d262b96ea770af7bb9882e"
   }
  }
 },
 "nbformat": 4,
 "nbformat_minor": 2
}
