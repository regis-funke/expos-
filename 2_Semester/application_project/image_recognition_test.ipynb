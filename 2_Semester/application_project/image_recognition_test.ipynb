{
 "cells": [
  {
   "cell_type": "code",
   "execution_count": 12,
   "metadata": {},
   "outputs": [
    {
     "name": "stdout",
     "output_type": "stream",
     "text": [
      "\n",
      "Zutaten: Paprikapulver;\n",
      "(Koriander; Kurkuma Senu\n",
      "Kreuzkümmel Chili Fenchel;\n",
      "Bockshornklee Kardamone\n",
      "Knoblauch schwarzer Pfer\n",
      "Nelke) Knoblauch, Koriande]\n",
      "weißer Pfeffer, Petersilie\n",
      "Curry\n"
     ]
    }
   ],
   "source": [
    "# importing function\n",
    "from image_recognition import doOCR\n",
    "\n",
    "# calling function and storing result\n",
    "text = doOCR('Ingredients/ingredients_de.7.4001.jpg')\n",
    "\n",
    "# printing result\n",
    "print(text)"
   ]
  },
  {
   "cell_type": "code",
   "execution_count": 13,
   "metadata": {},
   "outputs": [
    {
     "name": "stdout",
     "output_type": "stream",
     "text": [
      "\n",
      "Bio-Getränk aus Soja, ultrahocherhitzt.\n",
      "Zutaten: Wasser, 8,8 % geschälte Sojabohnen', Rohrohrzucker},\n",
      "Meersalz. 'aus kontrolliert ökologischem Anbau: Vor Gebrauch\n",
      "gut schütteln. Nach dem Öffnen gekühlt lagern und innerhalb\n",
      "von 3 bis 4 Tagen verbrauchen. Ungeöffnet mindestens haltbar bis:\n",
      "siehe Oberseite.\n"
     ]
    }
   ],
   "source": [
    "# calling function and storing result\n",
    "text = doOCR('Ingredients/ingredients_de.124.full1.jpg')\n",
    "\n",
    "# printing result\n",
    "print(text)"
   ]
  },
  {
   "cell_type": "code",
   "execution_count": 14,
   "metadata": {},
   "outputs": [
    {
     "name": "stdout",
     "output_type": "stream",
     "text": [
      "\n",
      "jodiertes Nitritpökel -\n",
      "Konservie -\n",
      "Gewürze.\n",
      "Uaten:\n",
      "585 Inhahnfeisch ,\n",
      "Lspeisesalz ,\n",
      "nnessiohi:'\n",
      "Kaliumjodat,\n",
      "Matriumnitrit) ,\n"
     ]
    }
   ],
   "source": [
    "# calling function and storing result\n",
    "text = doOCR('Ingredients/ingredients_de.9.full_(1).jpg')\n",
    "\n",
    "# printing result\n",
    "print(text)"
   ]
  },
  {
   "cell_type": "code",
   "execution_count": 16,
   "metadata": {},
   "outputs": [
    {
     "name": "stdout",
     "output_type": "stream",
     "text": [
      "\n",
      "Sauce zu Geflügel\n",
      "Zutaten: Maltodextrin; Weizenmehl , Jodsalz;\n",
      "Hefeertrakt, Stärke, Zucker; Hühnerfett, Aromen\n",
      "(mit ` Ei, Weizen) , Hühnerfleisch   Knoblauch;\n",
      "Basilikum ,\n",
      "Palmfett,   Verdickungsmittel\n",
      "Guar-\n",
      "kernmehi , Säuerungsmittel Citronensäure, Anti-\n",
      "o/idationsmittel Extrakt aus Rosmarin.\n",
      "Kann  Sellerie\n",
      "Milch , Senf und Soja ent-\n"
     ]
    }
   ],
   "source": [
    "# calling function and storing result\n",
    "text = doOCR('/Users/rfunke/Downloads/2.jpeg')\n",
    "\n",
    "# printing result\n",
    "print(text)"
   ]
  },
  {
   "cell_type": "code",
   "execution_count": null,
   "metadata": {},
   "outputs": [],
   "source": []
  }
 ],
 "metadata": {
  "kernelspec": {
   "display_name": "Python 3.9.15 ('ocr')",
   "language": "python",
   "name": "python3"
  },
  "language_info": {
   "codemirror_mode": {
    "name": "ipython",
    "version": 3
   },
   "file_extension": ".py",
   "mimetype": "text/x-python",
   "name": "python",
   "nbconvert_exporter": "python",
   "pygments_lexer": "ipython3",
   "version": "3.9.15"
  },
  "orig_nbformat": 4,
  "vscode": {
   "interpreter": {
    "hash": "5c2f48c656608fd26241b219abee3cd80bb0d151cfb96ba805714b9ca5c6872a"
   }
  }
 },
 "nbformat": 4,
 "nbformat_minor": 2
}
