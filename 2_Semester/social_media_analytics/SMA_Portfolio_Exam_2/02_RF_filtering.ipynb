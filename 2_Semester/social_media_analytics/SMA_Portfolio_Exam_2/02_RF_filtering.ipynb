{
 "cells": [
  {
   "cell_type": "code",
   "execution_count": 1,
   "metadata": {},
   "outputs": [
    {
     "name": "stderr",
     "output_type": "stream",
     "text": [
      "/Users/rfunke/miniforge3/envs/sma/lib/python3.9/site-packages/past/builtins/misc.py:45: DeprecationWarning: the imp module is deprecated in favour of importlib; see the module's documentation for alternative uses\n",
      "  from imp import reload\n"
     ]
    }
   ],
   "source": [
    "# imports\n",
    "import numpy as np\n",
    "import pandas as pd\n",
    "\n",
    "import matplotlib.pyplot as plt\n",
    "import plotly_express as px\n",
    "import datetime\n",
    "\n",
    "import re\n",
    "\n",
    "import nltk\n",
    "from nltk.tokenize import word_tokenize\n",
    "from nltk.tokenize import sent_tokenize\n",
    "\n",
    "from gensim.corpora.dictionary import Dictionary\n",
    "from gensim.models.ldamodel import LdaModel\n",
    "from gensim.models.coherencemodel import CoherenceModel\n",
    "\n",
    "import pyLDAvis.gensim_models\n",
    "\n",
    "import warnings"
   ]
  },
  {
   "cell_type": "code",
   "execution_count": 2,
   "metadata": {},
   "outputs": [],
   "source": [
    "# loading dataframe\n",
    "df = pd.read_pickle('./bundestag_PMs.pkl')"
   ]
  },
  {
   "attachments": {},
   "cell_type": "markdown",
   "metadata": {},
   "source": [
    "# SMA Portfolio Exam 2\n",
    "## Part 2 - Filtering"
   ]
  },
  {
   "attachments": {},
   "cell_type": "markdown",
   "metadata": {},
   "source": [
    "During the preliminary research we found that a lot of press releases by the german parliament are of a orginizational matters regarding public events like:\n",
    "- Öffentliche Sitzung\n",
    "- Öffentliche Anhörung\n",
    "- Öffentliches Fachgespräche\n",
    "- Öffentliche Zeugenvernehmung\n",
    "\n",
    "If we were to try to extract topic from the dataset as is, the high proportion of press releases regarding public events would dominate all other topics and make a granual topic modelling difficult.\n",
    "\n",
    "Eventhough we could filter these occurrences by searching the title column for suitable keywords, we are going to attempt to filter these out using the Latent-Dirichlet-Allocation.\n",
    "\n",
    "This would leave us with a remaining set of press releases that we will mine again in an attempt to extract a meaningful topic allocation."
   ]
  },
  {
   "cell_type": "code",
   "execution_count": 3,
   "metadata": {},
   "outputs": [
    {
     "data": {
      "application/vnd.plotly.v1+json": {
       "config": {
        "plotlyServerURL": "https://plot.ly"
       },
       "data": [
        {
         "hovertemplate": "Date=%{x}<br>Number of Articles=%{y}<extra></extra>",
         "legendgroup": "",
         "line": {
          "color": "#636efa",
          "dash": "solid"
         },
         "marker": {
          "symbol": "circle"
         },
         "mode": "lines",
         "name": "",
         "orientation": "v",
         "showlegend": false,
         "type": "scatter",
         "x": [
          "2021-01-01T00:00:00",
          "2021-01-04T00:00:00",
          "2021-01-06T00:00:00",
          "2021-01-07T00:00:00",
          "2021-01-08T00:00:00",
          "2021-01-11T00:00:00",
          "2021-01-12T00:00:00",
          "2021-01-13T00:00:00",
          "2021-01-14T00:00:00",
          "2021-01-15T00:00:00",
          "2021-01-18T00:00:00",
          "2021-01-19T00:00:00",
          "2021-01-20T00:00:00",
          "2021-01-21T00:00:00",
          "2021-01-22T00:00:00",
          "2021-01-25T00:00:00",
          "2021-01-29T00:00:00",
          "2021-02-02T00:00:00",
          "2021-02-08T00:00:00",
          "2021-02-09T00:00:00",
          "2021-02-10T00:00:00",
          "2021-02-11T00:00:00",
          "2021-02-12T00:00:00",
          "2021-02-16T00:00:00",
          "2021-02-17T00:00:00",
          "2021-02-18T00:00:00",
          "2021-02-19T00:00:00",
          "2021-02-22T00:00:00",
          "2021-02-24T00:00:00",
          "2021-02-25T00:00:00",
          "2021-02-26T00:00:00",
          "2021-03-01T00:00:00",
          "2021-03-02T00:00:00",
          "2021-03-03T00:00:00",
          "2021-03-04T00:00:00",
          "2021-03-05T00:00:00",
          "2021-03-09T00:00:00",
          "2021-03-10T00:00:00",
          "2021-03-16T00:00:00",
          "2021-03-17T00:00:00",
          "2021-03-18T00:00:00",
          "2021-03-19T00:00:00",
          "2021-03-22T00:00:00",
          "2021-03-23T00:00:00",
          "2021-03-24T00:00:00",
          "2021-03-25T00:00:00",
          "2021-03-26T00:00:00",
          "2021-04-08T00:00:00",
          "2021-04-09T00:00:00",
          "2021-04-12T00:00:00",
          "2021-04-13T00:00:00",
          "2021-04-14T00:00:00",
          "2021-04-15T00:00:00",
          "2021-04-16T00:00:00",
          "2021-04-19T00:00:00",
          "2021-04-20T00:00:00",
          "2021-04-21T00:00:00",
          "2021-04-22T00:00:00",
          "2021-04-23T00:00:00",
          "2021-04-26T00:00:00",
          "2021-04-27T00:00:00",
          "2021-04-28T00:00:00",
          "2021-04-29T00:00:00",
          "2021-04-30T00:00:00",
          "2021-05-03T00:00:00",
          "2021-05-04T00:00:00",
          "2021-05-05T00:00:00",
          "2021-05-07T00:00:00",
          "2021-05-10T00:00:00",
          "2021-05-11T00:00:00",
          "2021-05-12T00:00:00",
          "2021-05-14T00:00:00",
          "2021-05-17T00:00:00",
          "2021-05-18T00:00:00",
          "2021-05-20T00:00:00",
          "2021-05-21T00:00:00",
          "2021-05-26T00:00:00",
          "2021-05-27T00:00:00",
          "2021-05-30T00:00:00",
          "2021-05-31T00:00:00",
          "2021-06-02T00:00:00",
          "2021-06-03T00:00:00",
          "2021-06-04T00:00:00",
          "2021-06-07T00:00:00",
          "2021-06-09T00:00:00",
          "2021-06-10T00:00:00",
          "2021-06-11T00:00:00",
          "2021-06-14T00:00:00",
          "2021-06-15T00:00:00",
          "2021-06-16T00:00:00",
          "2021-06-17T00:00:00",
          "2021-06-18T00:00:00",
          "2021-06-21T00:00:00",
          "2021-06-22T00:00:00",
          "2021-06-23T00:00:00",
          "2021-06-24T00:00:00",
          "2021-06-25T00:00:00",
          "2021-06-28T00:00:00",
          "2021-06-29T00:00:00",
          "2021-07-02T00:00:00",
          "2021-07-05T00:00:00",
          "2021-07-09T00:00:00",
          "2021-07-13T00:00:00",
          "2021-07-15T00:00:00",
          "2021-07-22T00:00:00",
          "2021-07-26T00:00:00",
          "2021-08-06T00:00:00",
          "2021-08-11T00:00:00",
          "2021-08-13T00:00:00",
          "2021-08-23T00:00:00",
          "2021-08-27T00:00:00",
          "2021-08-30T00:00:00",
          "2021-09-01T00:00:00",
          "2021-09-06T00:00:00",
          "2021-09-10T00:00:00",
          "2021-09-16T00:00:00",
          "2021-09-21T00:00:00",
          "2021-09-28T00:00:00",
          "2021-10-04T00:00:00",
          "2021-10-06T00:00:00",
          "2021-10-12T00:00:00",
          "2021-10-14T00:00:00",
          "2021-10-15T00:00:00",
          "2021-10-19T00:00:00",
          "2021-10-22T00:00:00",
          "2021-10-29T00:00:00",
          "2021-11-05T00:00:00",
          "2021-11-10T00:00:00",
          "2021-11-12T00:00:00",
          "2021-11-15T00:00:00",
          "2021-11-22T00:00:00",
          "2021-11-23T00:00:00",
          "2021-11-26T00:00:00",
          "2021-11-29T00:00:00",
          "2021-12-02T00:00:00",
          "2021-12-07T00:00:00",
          "2021-12-13T00:00:00",
          "2021-12-17T00:00:00",
          "2021-12-30T00:00:00",
          "2022-01-05T00:00:00",
          "2022-01-10T00:00:00",
          "2022-01-11T00:00:00",
          "2022-01-17T00:00:00",
          "2022-01-20T00:00:00",
          "2022-01-21T00:00:00",
          "2022-01-25T00:00:00",
          "2022-01-26T00:00:00",
          "2022-01-27T00:00:00",
          "2022-01-28T00:00:00",
          "2022-02-03T00:00:00",
          "2022-02-04T00:00:00",
          "2022-02-09T00:00:00",
          "2022-02-10T00:00:00",
          "2022-02-11T00:00:00",
          "2022-02-15T00:00:00",
          "2022-02-17T00:00:00",
          "2022-02-18T00:00:00",
          "2022-02-22T00:00:00",
          "2022-02-24T00:00:00",
          "2022-02-28T00:00:00",
          "2022-03-04T00:00:00",
          "2022-03-09T00:00:00",
          "2022-03-10T00:00:00",
          "2022-03-11T00:00:00",
          "2022-03-14T00:00:00",
          "2022-03-15T00:00:00",
          "2022-03-16T00:00:00",
          "2022-03-18T00:00:00",
          "2022-03-21T00:00:00",
          "2022-03-22T00:00:00",
          "2022-03-24T00:00:00",
          "2022-03-25T00:00:00",
          "2022-03-28T00:00:00",
          "2022-03-29T00:00:00",
          "2022-03-30T00:00:00",
          "2022-03-31T00:00:00",
          "2022-04-01T00:00:00",
          "2022-04-04T00:00:00",
          "2022-04-06T00:00:00",
          "2022-04-08T00:00:00",
          "2022-04-14T00:00:00",
          "2022-04-19T00:00:00",
          "2022-04-20T00:00:00",
          "2022-04-21T00:00:00",
          "2022-04-22T00:00:00",
          "2022-04-25T00:00:00",
          "2022-04-26T00:00:00",
          "2022-04-29T00:00:00",
          "2022-05-03T00:00:00",
          "2022-05-04T00:00:00",
          "2022-05-05T00:00:00",
          "2022-05-06T00:00:00",
          "2022-05-08T00:00:00",
          "2022-05-09T00:00:00",
          "2022-05-10T00:00:00",
          "2022-05-11T00:00:00",
          "2022-05-12T00:00:00",
          "2022-05-13T00:00:00",
          "2022-05-16T00:00:00",
          "2022-05-17T00:00:00",
          "2022-05-18T00:00:00",
          "2022-05-19T00:00:00",
          "2022-05-20T00:00:00",
          "2022-05-23T00:00:00",
          "2022-05-24T00:00:00",
          "2022-05-25T00:00:00",
          "2022-05-27T00:00:00",
          "2022-05-30T00:00:00",
          "2022-05-31T00:00:00",
          "2022-06-01T00:00:00",
          "2022-06-02T00:00:00",
          "2022-06-03T00:00:00",
          "2022-06-09T00:00:00",
          "2022-06-10T00:00:00",
          "2022-06-13T00:00:00",
          "2022-06-15T00:00:00",
          "2022-06-16T00:00:00",
          "2022-06-17T00:00:00",
          "2022-06-20T00:00:00",
          "2022-06-21T00:00:00",
          "2022-06-22T00:00:00",
          "2022-06-23T00:00:00",
          "2022-06-24T00:00:00",
          "2022-06-27T00:00:00",
          "2022-06-28T00:00:00",
          "2022-06-29T00:00:00",
          "2022-06-30T00:00:00",
          "2022-07-01T00:00:00",
          "2022-07-04T00:00:00",
          "2022-07-05T00:00:00",
          "2022-07-06T00:00:00",
          "2022-07-07T00:00:00",
          "2022-07-08T00:00:00",
          "2022-07-11T00:00:00",
          "2022-07-15T00:00:00",
          "2022-07-22T00:00:00",
          "2022-07-27T00:00:00",
          "2022-08-05T00:00:00",
          "2022-08-11T00:00:00",
          "2022-08-19T00:00:00",
          "2022-08-24T00:00:00",
          "2022-08-25T00:00:00",
          "2022-08-26T00:00:00",
          "2022-08-29T00:00:00",
          "2022-08-30T00:00:00",
          "2022-08-31T00:00:00",
          "2022-09-01T00:00:00",
          "2022-09-02T00:00:00",
          "2022-09-05T00:00:00",
          "2022-09-06T00:00:00",
          "2022-09-08T00:00:00",
          "2022-09-09T00:00:00",
          "2022-09-10T00:00:00",
          "2022-09-12T00:00:00",
          "2022-09-13T00:00:00",
          "2022-09-14T00:00:00",
          "2022-09-15T00:00:00",
          "2022-09-16T00:00:00",
          "2022-09-19T00:00:00",
          "2022-09-20T00:00:00",
          "2022-09-21T00:00:00",
          "2022-09-22T00:00:00",
          "2022-09-23T00:00:00",
          "2022-09-26T00:00:00",
          "2022-09-28T00:00:00",
          "2022-09-29T00:00:00",
          "2022-09-30T00:00:00",
          "2022-10-03T00:00:00",
          "2022-10-05T00:00:00",
          "2022-10-06T00:00:00",
          "2022-10-07T00:00:00",
          "2022-10-10T00:00:00",
          "2022-10-11T00:00:00",
          "2022-10-12T00:00:00",
          "2022-10-13T00:00:00",
          "2022-10-14T00:00:00",
          "2022-10-17T00:00:00",
          "2022-10-18T00:00:00",
          "2022-10-19T00:00:00",
          "2022-10-20T00:00:00",
          "2022-10-21T00:00:00",
          "2022-10-23T00:00:00",
          "2022-10-24T00:00:00",
          "2022-10-25T00:00:00",
          "2022-10-26T00:00:00",
          "2022-10-27T00:00:00",
          "2022-10-31T00:00:00",
          "2022-11-01T00:00:00",
          "2022-11-03T00:00:00",
          "2022-11-04T00:00:00",
          "2022-11-07T00:00:00",
          "2022-11-08T00:00:00",
          "2022-11-10T00:00:00",
          "2022-11-11T00:00:00",
          "2022-11-13T00:00:00",
          "2022-11-14T00:00:00",
          "2022-11-15T00:00:00",
          "2022-11-17T00:00:00",
          "2022-11-18T00:00:00",
          "2022-11-21T00:00:00",
          "2022-11-22T00:00:00",
          "2022-11-23T00:00:00",
          "2022-11-24T00:00:00",
          "2022-11-25T00:00:00",
          "2022-11-28T00:00:00",
          "2022-11-30T00:00:00",
          "2022-12-01T00:00:00",
          "2022-12-02T00:00:00",
          "2022-12-06T00:00:00",
          "2022-12-07T00:00:00",
          "2022-12-08T00:00:00",
          "2022-12-09T00:00:00",
          "2022-12-12T00:00:00",
          "2022-12-13T00:00:00",
          "2022-12-16T00:00:00",
          "2022-12-20T00:00:00",
          "2022-12-31T00:00:00",
          "2023-01-02T00:00:00",
          "2023-01-06T00:00:00",
          "2023-01-09T00:00:00",
          "2023-01-11T00:00:00",
          "2023-01-12T00:00:00",
          "2023-01-13T00:00:00",
          "2023-01-16T00:00:00"
         ],
         "xaxis": "x",
         "y": [
          1,
          1,
          5,
          7,
          4,
          1,
          2,
          1,
          1,
          1,
          1,
          5,
          1,
          5,
          4,
          4,
          1,
          1,
          4,
          1,
          1,
          3,
          1,
          4,
          8,
          5,
          9,
          2,
          3,
          6,
          5,
          3,
          1,
          2,
          1,
          1,
          2,
          3,
          3,
          7,
          2,
          11,
          1,
          3,
          1,
          1,
          2,
          15,
          7,
          4,
          6,
          2,
          6,
          7,
          7,
          3,
          2,
          3,
          1,
          1,
          3,
          11,
          6,
          3,
          3,
          1,
          1,
          2,
          3,
          6,
          11,
          7,
          7,
          2,
          1,
          4,
          6,
          2,
          1,
          10,
          3,
          7,
          4,
          1,
          1,
          2,
          1,
          1,
          3,
          7,
          6,
          5,
          4,
          3,
          2,
          2,
          2,
          2,
          1,
          1,
          1,
          1,
          1,
          1,
          1,
          1,
          1,
          1,
          1,
          2,
          1,
          1,
          1,
          1,
          2,
          2,
          2,
          1,
          1,
          1,
          1,
          1,
          2,
          2,
          2,
          1,
          2,
          1,
          3,
          1,
          1,
          1,
          2,
          1,
          1,
          1,
          2,
          1,
          1,
          1,
          1,
          2,
          2,
          2,
          2,
          1,
          1,
          1,
          3,
          1,
          1,
          2,
          2,
          1,
          2,
          1,
          3,
          2,
          1,
          2,
          2,
          3,
          1,
          3,
          1,
          3,
          1,
          2,
          2,
          2,
          2,
          1,
          1,
          1,
          1,
          4,
          1,
          5,
          1,
          1,
          1,
          2,
          2,
          2,
          5,
          3,
          3,
          1,
          3,
          1,
          5,
          4,
          1,
          4,
          2,
          6,
          5,
          8,
          2,
          2,
          1,
          1,
          2,
          1,
          2,
          3,
          1,
          2,
          2,
          1,
          2,
          3,
          3,
          3,
          1,
          4,
          4,
          9,
          3,
          1,
          1,
          2,
          5,
          1,
          3,
          2,
          6,
          7,
          2,
          1,
          1,
          1,
          2,
          3,
          2,
          1,
          1,
          1,
          1,
          1,
          1,
          1,
          1,
          1,
          1,
          1,
          4,
          1,
          2,
          1,
          2,
          2,
          1,
          2,
          1,
          6,
          3,
          3,
          5,
          4,
          1,
          4,
          7,
          7,
          4,
          1,
          3,
          1,
          1,
          4,
          10,
          4,
          1,
          9,
          8,
          5,
          4,
          3,
          1,
          5,
          8,
          1,
          1,
          1,
          1,
          2,
          6,
          5,
          5,
          2,
          9,
          1,
          2,
          1,
          1,
          1,
          3,
          4,
          1,
          5,
          3,
          5,
          5,
          8,
          3,
          3,
          4,
          4,
          1,
          4,
          3,
          2,
          4,
          3,
          1,
          1,
          1,
          1,
          1,
          3,
          3,
          3,
          2,
          3
         ],
         "yaxis": "y"
        }
       ],
       "layout": {
        "annotations": [
         {
          "showarrow": false,
          "text": "Election Campaigning",
          "x": "2021-09-26",
          "xanchor": "right",
          "xref": "x",
          "y": 1,
          "yanchor": "top",
          "yref": "y domain"
         },
         {
          "showarrow": false,
          "text": "Coalition Negotiations",
          "x": "2021-10-01",
          "xanchor": "left",
          "xref": "x",
          "y": 1,
          "yanchor": "top",
          "yref": "y domain"
         },
         {
          "font": {
           "color": "red"
          },
          "showarrow": false,
          "text": "Invasion Ukraine",
          "x": 1645657200000,
          "xanchor": "left",
          "xref": "x",
          "y": 0,
          "yanchor": "bottom",
          "yref": "y domain"
         }
        ],
        "legend": {
         "tracegroupgap": 0
        },
        "shapes": [
         {
          "fillcolor": "green",
          "line": {
           "width": 0
          },
          "opacity": 0.25,
          "type": "rect",
          "x0": "2021-07-09",
          "x1": "2021-09-26",
          "xref": "x",
          "y0": 0,
          "y1": 1,
          "yref": "y domain"
         },
         {
          "fillcolor": "green",
          "line": {
           "width": 0
          },
          "opacity": 0.25,
          "type": "rect",
          "x0": "2021-10-01",
          "x1": "2021-12-06",
          "xref": "x",
          "y0": 0,
          "y1": 1,
          "yref": "y domain"
         },
         {
          "line": {
           "color": "red",
           "dash": "dot",
           "width": 2
          },
          "type": "line",
          "x0": 1645657200000,
          "x1": 1645657200000,
          "xref": "x",
          "y0": 0,
          "y1": 1,
          "yref": "y domain"
         }
        ],
        "template": {
         "data": {
          "bar": [
           {
            "error_x": {
             "color": "#2a3f5f"
            },
            "error_y": {
             "color": "#2a3f5f"
            },
            "marker": {
             "line": {
              "color": "#E5ECF6",
              "width": 0.5
             },
             "pattern": {
              "fillmode": "overlay",
              "size": 10,
              "solidity": 0.2
             }
            },
            "type": "bar"
           }
          ],
          "barpolar": [
           {
            "marker": {
             "line": {
              "color": "#E5ECF6",
              "width": 0.5
             },
             "pattern": {
              "fillmode": "overlay",
              "size": 10,
              "solidity": 0.2
             }
            },
            "type": "barpolar"
           }
          ],
          "carpet": [
           {
            "aaxis": {
             "endlinecolor": "#2a3f5f",
             "gridcolor": "white",
             "linecolor": "white",
             "minorgridcolor": "white",
             "startlinecolor": "#2a3f5f"
            },
            "baxis": {
             "endlinecolor": "#2a3f5f",
             "gridcolor": "white",
             "linecolor": "white",
             "minorgridcolor": "white",
             "startlinecolor": "#2a3f5f"
            },
            "type": "carpet"
           }
          ],
          "choropleth": [
           {
            "colorbar": {
             "outlinewidth": 0,
             "ticks": ""
            },
            "type": "choropleth"
           }
          ],
          "contour": [
           {
            "colorbar": {
             "outlinewidth": 0,
             "ticks": ""
            },
            "colorscale": [
             [
              0,
              "#0d0887"
             ],
             [
              0.1111111111111111,
              "#46039f"
             ],
             [
              0.2222222222222222,
              "#7201a8"
             ],
             [
              0.3333333333333333,
              "#9c179e"
             ],
             [
              0.4444444444444444,
              "#bd3786"
             ],
             [
              0.5555555555555556,
              "#d8576b"
             ],
             [
              0.6666666666666666,
              "#ed7953"
             ],
             [
              0.7777777777777778,
              "#fb9f3a"
             ],
             [
              0.8888888888888888,
              "#fdca26"
             ],
             [
              1,
              "#f0f921"
             ]
            ],
            "type": "contour"
           }
          ],
          "contourcarpet": [
           {
            "colorbar": {
             "outlinewidth": 0,
             "ticks": ""
            },
            "type": "contourcarpet"
           }
          ],
          "heatmap": [
           {
            "colorbar": {
             "outlinewidth": 0,
             "ticks": ""
            },
            "colorscale": [
             [
              0,
              "#0d0887"
             ],
             [
              0.1111111111111111,
              "#46039f"
             ],
             [
              0.2222222222222222,
              "#7201a8"
             ],
             [
              0.3333333333333333,
              "#9c179e"
             ],
             [
              0.4444444444444444,
              "#bd3786"
             ],
             [
              0.5555555555555556,
              "#d8576b"
             ],
             [
              0.6666666666666666,
              "#ed7953"
             ],
             [
              0.7777777777777778,
              "#fb9f3a"
             ],
             [
              0.8888888888888888,
              "#fdca26"
             ],
             [
              1,
              "#f0f921"
             ]
            ],
            "type": "heatmap"
           }
          ],
          "heatmapgl": [
           {
            "colorbar": {
             "outlinewidth": 0,
             "ticks": ""
            },
            "colorscale": [
             [
              0,
              "#0d0887"
             ],
             [
              0.1111111111111111,
              "#46039f"
             ],
             [
              0.2222222222222222,
              "#7201a8"
             ],
             [
              0.3333333333333333,
              "#9c179e"
             ],
             [
              0.4444444444444444,
              "#bd3786"
             ],
             [
              0.5555555555555556,
              "#d8576b"
             ],
             [
              0.6666666666666666,
              "#ed7953"
             ],
             [
              0.7777777777777778,
              "#fb9f3a"
             ],
             [
              0.8888888888888888,
              "#fdca26"
             ],
             [
              1,
              "#f0f921"
             ]
            ],
            "type": "heatmapgl"
           }
          ],
          "histogram": [
           {
            "marker": {
             "pattern": {
              "fillmode": "overlay",
              "size": 10,
              "solidity": 0.2
             }
            },
            "type": "histogram"
           }
          ],
          "histogram2d": [
           {
            "colorbar": {
             "outlinewidth": 0,
             "ticks": ""
            },
            "colorscale": [
             [
              0,
              "#0d0887"
             ],
             [
              0.1111111111111111,
              "#46039f"
             ],
             [
              0.2222222222222222,
              "#7201a8"
             ],
             [
              0.3333333333333333,
              "#9c179e"
             ],
             [
              0.4444444444444444,
              "#bd3786"
             ],
             [
              0.5555555555555556,
              "#d8576b"
             ],
             [
              0.6666666666666666,
              "#ed7953"
             ],
             [
              0.7777777777777778,
              "#fb9f3a"
             ],
             [
              0.8888888888888888,
              "#fdca26"
             ],
             [
              1,
              "#f0f921"
             ]
            ],
            "type": "histogram2d"
           }
          ],
          "histogram2dcontour": [
           {
            "colorbar": {
             "outlinewidth": 0,
             "ticks": ""
            },
            "colorscale": [
             [
              0,
              "#0d0887"
             ],
             [
              0.1111111111111111,
              "#46039f"
             ],
             [
              0.2222222222222222,
              "#7201a8"
             ],
             [
              0.3333333333333333,
              "#9c179e"
             ],
             [
              0.4444444444444444,
              "#bd3786"
             ],
             [
              0.5555555555555556,
              "#d8576b"
             ],
             [
              0.6666666666666666,
              "#ed7953"
             ],
             [
              0.7777777777777778,
              "#fb9f3a"
             ],
             [
              0.8888888888888888,
              "#fdca26"
             ],
             [
              1,
              "#f0f921"
             ]
            ],
            "type": "histogram2dcontour"
           }
          ],
          "mesh3d": [
           {
            "colorbar": {
             "outlinewidth": 0,
             "ticks": ""
            },
            "type": "mesh3d"
           }
          ],
          "parcoords": [
           {
            "line": {
             "colorbar": {
              "outlinewidth": 0,
              "ticks": ""
             }
            },
            "type": "parcoords"
           }
          ],
          "pie": [
           {
            "automargin": true,
            "type": "pie"
           }
          ],
          "scatter": [
           {
            "fillpattern": {
             "fillmode": "overlay",
             "size": 10,
             "solidity": 0.2
            },
            "type": "scatter"
           }
          ],
          "scatter3d": [
           {
            "line": {
             "colorbar": {
              "outlinewidth": 0,
              "ticks": ""
             }
            },
            "marker": {
             "colorbar": {
              "outlinewidth": 0,
              "ticks": ""
             }
            },
            "type": "scatter3d"
           }
          ],
          "scattercarpet": [
           {
            "marker": {
             "colorbar": {
              "outlinewidth": 0,
              "ticks": ""
             }
            },
            "type": "scattercarpet"
           }
          ],
          "scattergeo": [
           {
            "marker": {
             "colorbar": {
              "outlinewidth": 0,
              "ticks": ""
             }
            },
            "type": "scattergeo"
           }
          ],
          "scattergl": [
           {
            "marker": {
             "colorbar": {
              "outlinewidth": 0,
              "ticks": ""
             }
            },
            "type": "scattergl"
           }
          ],
          "scattermapbox": [
           {
            "marker": {
             "colorbar": {
              "outlinewidth": 0,
              "ticks": ""
             }
            },
            "type": "scattermapbox"
           }
          ],
          "scatterpolar": [
           {
            "marker": {
             "colorbar": {
              "outlinewidth": 0,
              "ticks": ""
             }
            },
            "type": "scatterpolar"
           }
          ],
          "scatterpolargl": [
           {
            "marker": {
             "colorbar": {
              "outlinewidth": 0,
              "ticks": ""
             }
            },
            "type": "scatterpolargl"
           }
          ],
          "scatterternary": [
           {
            "marker": {
             "colorbar": {
              "outlinewidth": 0,
              "ticks": ""
             }
            },
            "type": "scatterternary"
           }
          ],
          "surface": [
           {
            "colorbar": {
             "outlinewidth": 0,
             "ticks": ""
            },
            "colorscale": [
             [
              0,
              "#0d0887"
             ],
             [
              0.1111111111111111,
              "#46039f"
             ],
             [
              0.2222222222222222,
              "#7201a8"
             ],
             [
              0.3333333333333333,
              "#9c179e"
             ],
             [
              0.4444444444444444,
              "#bd3786"
             ],
             [
              0.5555555555555556,
              "#d8576b"
             ],
             [
              0.6666666666666666,
              "#ed7953"
             ],
             [
              0.7777777777777778,
              "#fb9f3a"
             ],
             [
              0.8888888888888888,
              "#fdca26"
             ],
             [
              1,
              "#f0f921"
             ]
            ],
            "type": "surface"
           }
          ],
          "table": [
           {
            "cells": {
             "fill": {
              "color": "#EBF0F8"
             },
             "line": {
              "color": "white"
             }
            },
            "header": {
             "fill": {
              "color": "#C8D4E3"
             },
             "line": {
              "color": "white"
             }
            },
            "type": "table"
           }
          ]
         },
         "layout": {
          "annotationdefaults": {
           "arrowcolor": "#2a3f5f",
           "arrowhead": 0,
           "arrowwidth": 1
          },
          "autotypenumbers": "strict",
          "coloraxis": {
           "colorbar": {
            "outlinewidth": 0,
            "ticks": ""
           }
          },
          "colorscale": {
           "diverging": [
            [
             0,
             "#8e0152"
            ],
            [
             0.1,
             "#c51b7d"
            ],
            [
             0.2,
             "#de77ae"
            ],
            [
             0.3,
             "#f1b6da"
            ],
            [
             0.4,
             "#fde0ef"
            ],
            [
             0.5,
             "#f7f7f7"
            ],
            [
             0.6,
             "#e6f5d0"
            ],
            [
             0.7,
             "#b8e186"
            ],
            [
             0.8,
             "#7fbc41"
            ],
            [
             0.9,
             "#4d9221"
            ],
            [
             1,
             "#276419"
            ]
           ],
           "sequential": [
            [
             0,
             "#0d0887"
            ],
            [
             0.1111111111111111,
             "#46039f"
            ],
            [
             0.2222222222222222,
             "#7201a8"
            ],
            [
             0.3333333333333333,
             "#9c179e"
            ],
            [
             0.4444444444444444,
             "#bd3786"
            ],
            [
             0.5555555555555556,
             "#d8576b"
            ],
            [
             0.6666666666666666,
             "#ed7953"
            ],
            [
             0.7777777777777778,
             "#fb9f3a"
            ],
            [
             0.8888888888888888,
             "#fdca26"
            ],
            [
             1,
             "#f0f921"
            ]
           ],
           "sequentialminus": [
            [
             0,
             "#0d0887"
            ],
            [
             0.1111111111111111,
             "#46039f"
            ],
            [
             0.2222222222222222,
             "#7201a8"
            ],
            [
             0.3333333333333333,
             "#9c179e"
            ],
            [
             0.4444444444444444,
             "#bd3786"
            ],
            [
             0.5555555555555556,
             "#d8576b"
            ],
            [
             0.6666666666666666,
             "#ed7953"
            ],
            [
             0.7777777777777778,
             "#fb9f3a"
            ],
            [
             0.8888888888888888,
             "#fdca26"
            ],
            [
             1,
             "#f0f921"
            ]
           ]
          },
          "colorway": [
           "#636efa",
           "#EF553B",
           "#00cc96",
           "#ab63fa",
           "#FFA15A",
           "#19d3f3",
           "#FF6692",
           "#B6E880",
           "#FF97FF",
           "#FECB52"
          ],
          "font": {
           "color": "#2a3f5f"
          },
          "geo": {
           "bgcolor": "white",
           "lakecolor": "white",
           "landcolor": "#E5ECF6",
           "showlakes": true,
           "showland": true,
           "subunitcolor": "white"
          },
          "hoverlabel": {
           "align": "left"
          },
          "hovermode": "closest",
          "mapbox": {
           "style": "light"
          },
          "paper_bgcolor": "white",
          "plot_bgcolor": "#E5ECF6",
          "polar": {
           "angularaxis": {
            "gridcolor": "white",
            "linecolor": "white",
            "ticks": ""
           },
           "bgcolor": "#E5ECF6",
           "radialaxis": {
            "gridcolor": "white",
            "linecolor": "white",
            "ticks": ""
           }
          },
          "scene": {
           "xaxis": {
            "backgroundcolor": "#E5ECF6",
            "gridcolor": "white",
            "gridwidth": 2,
            "linecolor": "white",
            "showbackground": true,
            "ticks": "",
            "zerolinecolor": "white"
           },
           "yaxis": {
            "backgroundcolor": "#E5ECF6",
            "gridcolor": "white",
            "gridwidth": 2,
            "linecolor": "white",
            "showbackground": true,
            "ticks": "",
            "zerolinecolor": "white"
           },
           "zaxis": {
            "backgroundcolor": "#E5ECF6",
            "gridcolor": "white",
            "gridwidth": 2,
            "linecolor": "white",
            "showbackground": true,
            "ticks": "",
            "zerolinecolor": "white"
           }
          },
          "shapedefaults": {
           "line": {
            "color": "#2a3f5f"
           }
          },
          "ternary": {
           "aaxis": {
            "gridcolor": "white",
            "linecolor": "white",
            "ticks": ""
           },
           "baxis": {
            "gridcolor": "white",
            "linecolor": "white",
            "ticks": ""
           },
           "bgcolor": "#E5ECF6",
           "caxis": {
            "gridcolor": "white",
            "linecolor": "white",
            "ticks": ""
           }
          },
          "title": {
           "x": 0.05
          },
          "xaxis": {
           "automargin": true,
           "gridcolor": "white",
           "linecolor": "white",
           "ticks": "",
           "title": {
            "standoff": 15
           },
           "zerolinecolor": "white",
           "zerolinewidth": 2
          },
          "yaxis": {
           "automargin": true,
           "gridcolor": "white",
           "linecolor": "white",
           "ticks": "",
           "title": {
            "standoff": 15
           },
           "zerolinecolor": "white",
           "zerolinewidth": 2
          }
         }
        },
        "title": {
         "text": "Number of press releases published per day"
        },
        "xaxis": {
         "anchor": "y",
         "domain": [
          0,
          1
         ],
         "title": {
          "text": "Date"
         }
        },
        "yaxis": {
         "anchor": "x",
         "domain": [
          0,
          1
         ],
         "title": {
          "text": "Number of Articles"
         }
        }
       }
      }
     },
     "metadata": {},
     "output_type": "display_data"
    }
   ],
   "source": [
    "# to prevent depreciation warnings\n",
    "with warnings.catch_warnings():\n",
    "    warnings.simplefilter('ignore', category=DeprecationWarning)\n",
    "    # plot a timeseries of the total number of articles per day\n",
    "    fig = px.line(\n",
    "        df,\n",
    "        x=df.groupby(df['date']).count().index,\n",
    "        y=df.groupby(df['date'])['title'].count(),\n",
    "        title='Number of press releases published per day',\n",
    "        labels={\n",
    "            'y': 'Number of Articles',\n",
    "            'x': 'Date'})\n",
    "\n",
    "    fig.add_vrect(x0=\"2021-07-09\", x1=\"2021-09-26\", \n",
    "            annotation_text=\"Election Campaigning\", annotation_position=\"top right\",\n",
    "            fillcolor=\"green\", opacity=0.25, line_width=0)\n",
    "\n",
    "    fig.add_vrect(x0=\"2021-10-01\", x1=\"2021-12-06\", \n",
    "            annotation_text=\"Coalition Negotiations\", annotation_position=\"top left\",\n",
    "            fillcolor=\"green\", opacity=0.25, line_width=0)\n",
    "\n",
    "    fig.add_vline(x=datetime.datetime(2022,2,24).timestamp() * 1000,\n",
    "            line_width=2, line_dash=\"dot\", line_color=\"red\",\n",
    "            annotation_position=\"bottom right\",\n",
    "            annotation_font_color=\"red\", \n",
    "            annotation_text=\"Invasion Ukraine\")\n",
    "    fig.show()"
   ]
  },
  {
   "attachments": {},
   "cell_type": "markdown",
   "metadata": {},
   "source": [
    "When plotting the number of press releases per day for the given period we find to periods when there we fewer releases:\n",
    "- July 2021 to March 2022\n",
    "- July 2022 to September 2022\n",
    "\n",
    "The dropping number of press releases going into July corresponds with the summer break, though it is curios to see difference in the number of releases between January 2021 and January 2022.\n",
    "\n",
    "April 4th of 2021 is an obvious outlier with 15 press releases that day."
   ]
  },
  {
   "cell_type": "code",
   "execution_count": 4,
   "metadata": {},
   "outputs": [
    {
     "data": {
      "text/html": [
       "<div>\n",
       "<style scoped>\n",
       "    .dataframe tbody tr th:only-of-type {\n",
       "        vertical-align: middle;\n",
       "    }\n",
       "\n",
       "    .dataframe tbody tr th {\n",
       "        vertical-align: top;\n",
       "    }\n",
       "\n",
       "    .dataframe thead th {\n",
       "        text-align: right;\n",
       "    }\n",
       "</style>\n",
       "<table border=\"1\" class=\"dataframe\">\n",
       "  <thead>\n",
       "    <tr style=\"text-align: right;\">\n",
       "      <th></th>\n",
       "      <th>title</th>\n",
       "    </tr>\n",
       "  </thead>\n",
       "  <tbody>\n",
       "    <tr>\n",
       "      <th>8</th>\n",
       "      <td>Öffentliche Sitzung des Familienausschusses zu...</td>\n",
       "    </tr>\n",
       "    <tr>\n",
       "      <th>91</th>\n",
       "      <td>Öffentliche Sitzung des Ausschusses für Verkeh...</td>\n",
       "    </tr>\n",
       "    <tr>\n",
       "      <th>262</th>\n",
       "      <td>Öffentliche Sitzung des Ausschusses für Recht ...</td>\n",
       "    </tr>\n",
       "    <tr>\n",
       "      <th>269</th>\n",
       "      <td>Öffentliche Sitzung des 3. Untersuchungsaussch...</td>\n",
       "    </tr>\n",
       "    <tr>\n",
       "      <th>327</th>\n",
       "      <td>Öffentliche Sitzung des Finanzausschusses zum ...</td>\n",
       "    </tr>\n",
       "    <tr>\n",
       "      <th>408</th>\n",
       "      <td>Öffentliche Sitzung des Ausschusses für Gesund...</td>\n",
       "    </tr>\n",
       "    <tr>\n",
       "      <th>442</th>\n",
       "      <td>Öffentliche Sitzung des Ausschusses für Arbeit...</td>\n",
       "    </tr>\n",
       "    <tr>\n",
       "      <th>459</th>\n",
       "      <td>Öffentliche Sitzung des Parlamentarischen Beir...</td>\n",
       "    </tr>\n",
       "    <tr>\n",
       "      <th>552</th>\n",
       "      <td>Öffentliche Sitzung des Innenausschusses zur A...</td>\n",
       "    </tr>\n",
       "    <tr>\n",
       "      <th>641</th>\n",
       "      <td>Öffentliche Sitzung des Umweltausschusses zur ...</td>\n",
       "    </tr>\n",
       "    <tr>\n",
       "      <th>711</th>\n",
       "      <td>Öffentliche Sitzung des Ausschusses für Wirtsc...</td>\n",
       "    </tr>\n",
       "    <tr>\n",
       "      <th>777</th>\n",
       "      <td>Öffentliche Sitzung des Innenausschusses zum B...</td>\n",
       "    </tr>\n",
       "    <tr>\n",
       "      <th>863</th>\n",
       "      <td>Öffentliche Sitzung des Finanzausschusses zum ...</td>\n",
       "    </tr>\n",
       "    <tr>\n",
       "      <th>871</th>\n",
       "      <td>Öffentliche Sitzung des Familienausschusses zu...</td>\n",
       "    </tr>\n",
       "    <tr>\n",
       "      <th>876</th>\n",
       "      <td>Öffentliche Sitzung der Kinderkommission zum T...</td>\n",
       "    </tr>\n",
       "  </tbody>\n",
       "</table>\n",
       "</div>"
      ],
      "text/plain": [
       "                                                 title\n",
       "8    Öffentliche Sitzung des Familienausschusses zu...\n",
       "91   Öffentliche Sitzung des Ausschusses für Verkeh...\n",
       "262  Öffentliche Sitzung des Ausschusses für Recht ...\n",
       "269  Öffentliche Sitzung des 3. Untersuchungsaussch...\n",
       "327  Öffentliche Sitzung des Finanzausschusses zum ...\n",
       "408  Öffentliche Sitzung des Ausschusses für Gesund...\n",
       "442  Öffentliche Sitzung des Ausschusses für Arbeit...\n",
       "459  Öffentliche Sitzung des Parlamentarischen Beir...\n",
       "552  Öffentliche Sitzung des Innenausschusses zur A...\n",
       "641  Öffentliche Sitzung des Umweltausschusses zur ...\n",
       "711  Öffentliche Sitzung des Ausschusses für Wirtsc...\n",
       "777  Öffentliche Sitzung des Innenausschusses zum B...\n",
       "863  Öffentliche Sitzung des Finanzausschusses zum ...\n",
       "871  Öffentliche Sitzung des Familienausschusses zu...\n",
       "876  Öffentliche Sitzung der Kinderkommission zum T..."
      ]
     },
     "execution_count": 4,
     "metadata": {},
     "output_type": "execute_result"
    }
   ],
   "source": [
    "# press releases on April 4th, 2021\n",
    "df[df.date == '2021-04-08'][['title']]"
   ]
  },
  {
   "attachments": {},
   "cell_type": "markdown",
   "metadata": {},
   "source": [
    "As we see above all the press releases on April 4th, 2021 are regarding public sessions. The high proportion of these in the dataset is why we are going to attempt to filter them out, before mining for further topics."
   ]
  },
  {
   "attachments": {},
   "cell_type": "markdown",
   "metadata": {},
   "source": [
    "# Text cleaning and tokenizing"
   ]
  },
  {
   "attachments": {},
   "cell_type": "markdown",
   "metadata": {},
   "source": [
    "Part of the text cleaning process is to use a collection of stop words, that prevent a specific word from being tokenized. There are list of stop words available for the german language that we can use in this application.\n",
    "\n",
    "When reading through the press release during the preliminary analysis, it became obvious that we will have to extend the list of stop word. This includes the abrevations of political parties, the names of months and dates as well as 'zeit' und 'ort'.\n",
    "\n",
    "During first trails of the LDA analysis it also became apparent that 'dr', 'deutschland', 'deutscher', 'deutschen', 'bundestag' and 'bundestages' will have to be filtered out."
   ]
  },
  {
   "cell_type": "code",
   "execution_count": 5,
   "metadata": {},
   "outputs": [],
   "source": [
    "# stops words sourced from https://countwordsfree.com/stopwords/german\n",
    "\n",
    "with open('stop_words_german.txt', 'r') as my_file:\n",
    "    # reading the file\n",
    "    data = my_file.read()\n",
    "\n",
    "# replacing end of line('/n') with ' ' and\n",
    "# splitting the text it further when ' ' is seen.\n",
    "more_german_stopwords = data.replace('\\n', ' ').split(' ')"
   ]
  },
  {
   "cell_type": "code",
   "execution_count": 6,
   "metadata": {},
   "outputs": [],
   "source": [
    "# additional lists of stop words\n",
    "months = [\n",
    "    'januar', 'februar', 'märz', 'april', 'mai', 'juni',\n",
    "    'juli', 'august', 'september', 'oktober', 'november', 'dezember']\n",
    "\n",
    "days = ['montag', 'dienstag', 'mittwoch', 'donnerstag', 'freitag', 'samstag', 'sonntag']\n",
    "\n",
    "parties = ['spd', 'fdp', 'grünen', 'cducsu', 'afd', 'linke']"
   ]
  },
  {
   "cell_type": "code",
   "execution_count": 7,
   "metadata": {},
   "outputs": [],
   "source": [
    "# loading german stop words from nltk library\n",
    "stop_words = nltk.corpus.stopwords.words('german')\n",
    "\n",
    "# extending stop words\n",
    "stop_words.extend(more_german_stopwords)\n",
    "stop_words.extend(months)\n",
    "stop_words.extend(days)\n",
    "stop_words.extend(parties)\n",
    "stop_words.extend(\n",
    "    ['-', 'dr', 'deutschland', 'deutscher', 'deutschen',\n",
    "    'bundestag', 'bundestages', 'zeit', 'ort'])\n",
    "\n",
    "# instantiating whitespace tokenizer\n",
    "wpt = nltk.WhitespaceTokenizer()\n",
    "\n",
    "# function to clean and tokenize texts\n",
    "def clean(doc):\n",
    "    # lower casing string\n",
    "    doc = doc.lower()\n",
    "\n",
    "    # removing in string containing 'www'\n",
    "    doc = re.sub(r'www\\S*', ' ', doc)\n",
    "    \n",
    "    # removing in string containing 'https'\n",
    "    doc = re.sub(r'https\\S*', ' ', doc)\n",
    "\n",
    "    # substituing missing and double whitespaces after periods\n",
    "    doc = re.sub(r'\\.(?! )', '. ', re.sub(r' +', ' ', doc))\n",
    "\n",
    "    # removing numbers\n",
    "    doc_nonum = re.sub(r'\\d+', ' ', doc)\n",
    "    \n",
    "    # replacing any character that is not a word character, whitespace or a hyphen\n",
    "    doc = re.sub(r'[^-\\w\\s]', '', doc_nonum)\n",
    "    \n",
    "    # tokenizing\n",
    "    tokens = wpt.tokenize(doc)\n",
    "    \n",
    "    # adding tokens to list if not in stop_words\n",
    "    cleaned_tokens = [token for token in tokens if token not in stop_words]\n",
    "    return cleaned_tokens"
   ]
  },
  {
   "cell_type": "code",
   "execution_count": 8,
   "metadata": {},
   "outputs": [],
   "source": [
    "# applying function to each row in text column\n",
    "df['cleaned'] = df.text.apply(clean)"
   ]
  },
  {
   "cell_type": "code",
   "execution_count": 9,
   "metadata": {},
   "outputs": [],
   "source": [
    "# storing dataframe\n",
    "df.to_pickle('./bundestag_PMs_tokenized.pkl')"
   ]
  },
  {
   "attachments": {},
   "cell_type": "markdown",
   "metadata": {},
   "source": [
    "## Create Bag of Words"
   ]
  },
  {
   "cell_type": "code",
   "execution_count": 10,
   "metadata": {},
   "outputs": [],
   "source": [
    "# loading dataframe\n",
    "df = pd.read_pickle('./bundestag_PMs_tokenized.pkl')"
   ]
  },
  {
   "attachments": {},
   "cell_type": "markdown",
   "metadata": {},
   "source": [
    "In the first iteration of the analysis we will create a dictionary from the list of tokens per press release. To get a broad understanding of the topic we are not going to filter the dictionary at first."
   ]
  },
  {
   "cell_type": "code",
   "execution_count": 11,
   "metadata": {},
   "outputs": [
    {
     "name": "stdout",
     "output_type": "stream",
     "text": [
      "Ten most common words:\n",
      "[('sitzung', 1132), ('finden', 607), ('informationen', 581), ('anhörung', 564), ('ausschusses', 541), ('parlament', 497), ('internetseite', 495), ('detaillierte', 480), ('sitzungssaal', 444), ('abgeordneten', 406)]\n",
      "\n",
      "Tokens in dictionary: 19371\n"
     ]
    }
   ],
   "source": [
    "# creating dictionary from tokens\n",
    "dictionary = Dictionary(df.cleaned)\n",
    "\n",
    "# printing ten most common tokens in dictionary\n",
    "print(f'Ten most common words:\\n{dictionary.most_common(10)}')\n",
    "\n",
    "# printing length of dictionary\n",
    "print(f'\\nTokens in dictionary: {len(dictionary)}')"
   ]
  },
  {
   "cell_type": "code",
   "execution_count": 12,
   "metadata": {},
   "outputs": [],
   "source": [
    "# creating corpus from dictionary\n",
    "corpus = [dictionary.doc2bow(text) for text in df.cleaned]"
   ]
  },
  {
   "attachments": {},
   "cell_type": "markdown",
   "metadata": {},
   "source": [
    "# Determining optimal number of topics"
   ]
  },
  {
   "cell_type": "code",
   "execution_count": 13,
   "metadata": {},
   "outputs": [],
   "source": [
    "# Choose number of topics to maximize topic coherence'\n",
    "\n",
    "topics = []\n",
    "coherence = []\n",
    "for i in range(2, 16):\n",
    "    # configuring LDA model\n",
    "    ldamodel = LdaModel(\n",
    "        corpus=corpus,\n",
    "        num_topics=i,\n",
    "        id2word=dictionary,\n",
    "        iterations=1000,\n",
    "        alpha='auto',\n",
    "        random_state=1,\n",
    "        passes=5)\n",
    "    \n",
    "    # calculating coherence score for each number of topics\n",
    "    u_mass = CoherenceModel(\n",
    "        model=ldamodel,\n",
    "        corpus=corpus,\n",
    "        dictionary=dictionary,\n",
    "        coherence='u_mass')\n",
    "        \n",
    "    topics.append(i)\n",
    "    coherence.append(u_mass.get_coherence())"
   ]
  },
  {
   "cell_type": "code",
   "execution_count": 14,
   "metadata": {},
   "outputs": [
    {
     "data": {
      "image/png": "[encoded data removed]",
      "text/plain": [
       "<Figure size 640x480 with 1 Axes>"
      ]
     },
     "metadata": {},
     "output_type": "display_data"
    }
   ],
   "source": [
    "# Create a figure and axes\n",
    "fig, ax = plt.subplots()\n",
    "\n",
    "# Axis labels\n",
    "plt.xlabel('Number of topics')\n",
    "plt.ylabel('Coherence score: u_mass')\n",
    "\n",
    "# Plot the data\n",
    "ax.plot(topics, coherence)\n",
    "\n",
    "# Turn on grid lines\n",
    "ax.grid(True)\n",
    "\n",
    "# Show the plot\n",
    "plt.show()"
   ]
  },
  {
   "attachments": {},
   "cell_type": "markdown",
   "metadata": {},
   "source": [
    "When running the LDA analysis on a corpus built from an unfiltered dictionary, the model with two topics scores the highest coherence score, which continues to drop further with each step.\n",
    "\n",
    "Since we want to filter out all press releases about pubilc events, we are going to see if can seperate the dataset into two topics. Where one topic contains all press releases about public events, while the second topic groups all other releases."
   ]
  },
  {
   "attachments": {},
   "cell_type": "markdown",
   "metadata": {},
   "source": [
    "## Run LDA Algorithm"
   ]
  },
  {
   "cell_type": "code",
   "execution_count": 15,
   "metadata": {},
   "outputs": [],
   "source": [
    "# settings number of topics\n",
    "num_topics=2\n",
    "\n",
    "# configuring LDA model\n",
    "lda = LdaModel(\n",
    "   corpus=corpus,\n",
    "   num_topics=num_topics,\n",
    "   id2word=dictionary,\n",
    "   iterations=5000,\n",
    "   alpha='asymmetric',\n",
    "   passes=25,\n",
    "   eval_every=1,\n",
    "   random_state=1)"
   ]
  },
  {
   "attachments": {},
   "cell_type": "markdown",
   "metadata": {},
   "source": [
    "## Interpretation"
   ]
  },
  {
   "cell_type": "code",
   "execution_count": 16,
   "metadata": {},
   "outputs": [
    {
     "data": {
      "text/html": [
       "<style type=\"text/css\">\n",
       "</style>\n",
       "<table id=\"T_0aa68\">\n",
       "  <caption>TOPIC 0</caption>\n",
       "  <thead>\n",
       "    <tr>\n",
       "      <th class=\"blank level0\" >&nbsp;</th>\n",
       "      <th id=\"T_0aa68_level0_col0\" class=\"col_heading level0 col0\" >Word</th>\n",
       "      <th id=\"T_0aa68_level0_col1\" class=\"col_heading level0 col1\" >Probability</th>\n",
       "    </tr>\n",
       "  </thead>\n",
       "  <tbody>\n",
       "    <tr>\n",
       "      <th id=\"T_0aa68_level0_row0\" class=\"row_heading level0 row0\" >0</th>\n",
       "      <td id=\"T_0aa68_row0_col0\" class=\"data row0 col0\" >sitzung</td>\n",
       "      <td id=\"T_0aa68_row0_col1\" class=\"data row0 col1\" >0.024617</td>\n",
       "    </tr>\n",
       "    <tr>\n",
       "      <th id=\"T_0aa68_level0_row1\" class=\"row_heading level0 row1\" >1</th>\n",
       "      <td id=\"T_0aa68_row1_col0\" class=\"data row1 col0\" >anhörung</td>\n",
       "      <td id=\"T_0aa68_row1_col1\" class=\"data row1 col1\" >0.012278</td>\n",
       "    </tr>\n",
       "    <tr>\n",
       "      <th id=\"T_0aa68_level0_row2\" class=\"row_heading level0 row2\" >2</th>\n",
       "      <td id=\"T_0aa68_row2_col0\" class=\"data row2 col0\" >informationen</td>\n",
       "      <td id=\"T_0aa68_row2_col1\" class=\"data row2 col1\" >0.012085</td>\n",
       "    </tr>\n",
       "    <tr>\n",
       "      <th id=\"T_0aa68_level0_row3\" class=\"row_heading level0 row3\" >3</th>\n",
       "      <td id=\"T_0aa68_row3_col0\" class=\"data row3 col0\" >finden</td>\n",
       "      <td id=\"T_0aa68_row3_col1\" class=\"data row3 col1\" >0.011830</td>\n",
       "    </tr>\n",
       "    <tr>\n",
       "      <th id=\"T_0aa68_level0_row4\" class=\"row_heading level0 row4\" >4</th>\n",
       "      <td id=\"T_0aa68_row4_col0\" class=\"data row4 col0\" >ausschusses</td>\n",
       "      <td id=\"T_0aa68_row4_col1\" class=\"data row4 col1\" >0.011141</td>\n",
       "    </tr>\n",
       "    <tr>\n",
       "      <th id=\"T_0aa68_level0_row5\" class=\"row_heading level0 row5\" >5</th>\n",
       "      <td id=\"T_0aa68_row5_col0\" class=\"data row5 col0\" >internetseite</td>\n",
       "      <td id=\"T_0aa68_row5_col1\" class=\"data row5 col1\" >0.010778</td>\n",
       "    </tr>\n",
       "    <tr>\n",
       "      <th id=\"T_0aa68_level0_row6\" class=\"row_heading level0 row6\" >6</th>\n",
       "      <td id=\"T_0aa68_row6_col0\" class=\"data row6 col0\" >detaillierte</td>\n",
       "      <td id=\"T_0aa68_row6_col1\" class=\"data row6 col1\" >0.010453</td>\n",
       "    </tr>\n",
       "    <tr>\n",
       "      <th id=\"T_0aa68_level0_row7\" class=\"row_heading level0 row7\" >7</th>\n",
       "      <td id=\"T_0aa68_row7_col0\" class=\"data row7 col0\" >sitzungssaal</td>\n",
       "      <td id=\"T_0aa68_row7_col1\" class=\"data row7 col1\" >0.009670</td>\n",
       "    </tr>\n",
       "    <tr>\n",
       "      <th id=\"T_0aa68_level0_row8\" class=\"row_heading level0 row8\" >8</th>\n",
       "      <td id=\"T_0aa68_row8_col0\" class=\"data row8 col0\" >paul-löbe-haus</td>\n",
       "      <td id=\"T_0aa68_row8_col1\" class=\"data row8 col1\" >0.008777</td>\n",
       "    </tr>\n",
       "    <tr>\n",
       "      <th id=\"T_0aa68_level0_row9\" class=\"row_heading level0 row9\" >9</th>\n",
       "      <td id=\"T_0aa68_row9_col0\" class=\"data row9 col0\" >öffentliche</td>\n",
       "      <td id=\"T_0aa68_row9_col1\" class=\"data row9 col1\" >0.008701</td>\n",
       "    </tr>\n",
       "    <tr>\n",
       "      <th id=\"T_0aa68_level0_row10\" class=\"row_heading level0 row10\" >10</th>\n",
       "      <td id=\"T_0aa68_row10_col0\" class=\"data row10 col0\" >übertragen</td>\n",
       "      <td id=\"T_0aa68_row10_col1\" class=\"data row10 col1\" >0.008106</td>\n",
       "    </tr>\n",
       "    <tr>\n",
       "      <th id=\"T_0aa68_level0_row11\" class=\"row_heading level0 row11\" >11</th>\n",
       "      <td id=\"T_0aa68_row11_col0\" class=\"data row11 col0\" >folgetag</td>\n",
       "      <td id=\"T_0aa68_row11_col1\" class=\"data row11 col1\" >0.008038</td>\n",
       "    </tr>\n",
       "    <tr>\n",
       "      <th id=\"T_0aa68_level0_row12\" class=\"row_heading level0 row12\" >12</th>\n",
       "      <td id=\"T_0aa68_row12_col0\" class=\"data row12 col0\" >internet</td>\n",
       "      <td id=\"T_0aa68_row12_col1\" class=\"data row12 col1\" >0.008007</td>\n",
       "    </tr>\n",
       "    <tr>\n",
       "      <th id=\"T_0aa68_level0_row13\" class=\"row_heading level0 row13\" >13</th>\n",
       "      <td id=\"T_0aa68_row13_col0\" class=\"data row13 col0\" >medienvertreter</td>\n",
       "      <td id=\"T_0aa68_row13_col1\" class=\"data row13 col1\" >0.007864</td>\n",
       "    </tr>\n",
       "    <tr>\n",
       "      <th id=\"T_0aa68_level0_row14\" class=\"row_heading level0 row14\" >14</th>\n",
       "      <td id=\"T_0aa68_row14_col0\" class=\"data row14 col0\" >benötigen</td>\n",
       "      <td id=\"T_0aa68_row14_col1\" class=\"data row14 col1\" >0.006759</td>\n",
       "    </tr>\n",
       "  </tbody>\n",
       "</table>\n"
      ],
      "text/plain": [
       "<pandas.io.formats.style.Styler at 0x1622ed400>"
      ]
     },
     "metadata": {},
     "output_type": "display_data"
    },
    {
     "data": {
      "text/html": [
       "<style type=\"text/css\">\n",
       "</style>\n",
       "<table id=\"T_eaaca\">\n",
       "  <caption>TOPIC 1</caption>\n",
       "  <thead>\n",
       "    <tr>\n",
       "      <th class=\"blank level0\" >&nbsp;</th>\n",
       "      <th id=\"T_eaaca_level0_col0\" class=\"col_heading level0 col0\" >Word</th>\n",
       "      <th id=\"T_eaaca_level0_col1\" class=\"col_heading level0 col1\" >Probability</th>\n",
       "    </tr>\n",
       "  </thead>\n",
       "  <tbody>\n",
       "    <tr>\n",
       "      <th id=\"T_eaaca_level0_row0\" class=\"row_heading level0 row0\" >0</th>\n",
       "      <td id=\"T_eaaca_row0_col0\" class=\"data row0 col0\" >parlament</td>\n",
       "      <td id=\"T_eaaca_row0_col1\" class=\"data row0 col1\" >0.008369</td>\n",
       "    </tr>\n",
       "    <tr>\n",
       "      <th id=\"T_eaaca_level0_row1\" class=\"row_heading level0 row1\" >1</th>\n",
       "      <td id=\"T_eaaca_row1_col0\" class=\"data row1 col0\" >ukraine</td>\n",
       "      <td id=\"T_eaaca_row1_col1\" class=\"data row1 col1\" >0.003656</td>\n",
       "    </tr>\n",
       "    <tr>\n",
       "      <th id=\"T_eaaca_level0_row2\" class=\"row_heading level0 row2\" >2</th>\n",
       "      <td id=\"T_eaaca_row2_col0\" class=\"data row2 col0\" >delegation</td>\n",
       "      <td id=\"T_eaaca_row2_col1\" class=\"data row2 col1\" >0.003004</td>\n",
       "    </tr>\n",
       "    <tr>\n",
       "      <th id=\"T_eaaca_level0_row3\" class=\"row_heading level0 row3\" >3</th>\n",
       "      <td id=\"T_eaaca_row3_col0\" class=\"data row3 col0\" >interview</td>\n",
       "      <td id=\"T_eaaca_row3_col1\" class=\"data row3 col1\" >0.002406</td>\n",
       "    </tr>\n",
       "    <tr>\n",
       "      <th id=\"T_eaaca_level0_row4\" class=\"row_heading level0 row4\" >4</th>\n",
       "      <td id=\"T_eaaca_row4_col0\" class=\"data row4 col0\" >eu</td>\n",
       "      <td id=\"T_eaaca_row4_col1\" class=\"data row4 col1\" >0.002061</td>\n",
       "    </tr>\n",
       "    <tr>\n",
       "      <th id=\"T_eaaca_level0_row5\" class=\"row_heading level0 row5\" >5</th>\n",
       "      <td id=\"T_eaaca_row5_col0\" class=\"data row5 col0\" >europäischen</td>\n",
       "      <td id=\"T_eaaca_row5_col1\" class=\"data row5 col1\" >0.002044</td>\n",
       "    </tr>\n",
       "    <tr>\n",
       "      <th id=\"T_eaaca_level0_row6\" class=\"row_heading level0 row6\" >6</th>\n",
       "      <td id=\"T_eaaca_row6_col0\" class=\"data row6 col0\" >abgeordneten</td>\n",
       "      <td id=\"T_eaaca_row6_col1\" class=\"data row6 col1\" >0.001967</td>\n",
       "    </tr>\n",
       "    <tr>\n",
       "      <th id=\"T_eaaca_level0_row7\" class=\"row_heading level0 row7\" >7</th>\n",
       "      <td id=\"T_eaaca_row7_col0\" class=\"data row7 col0\" >russland</td>\n",
       "      <td id=\"T_eaaca_row7_col1\" class=\"data row7 col1\" >0.001870</td>\n",
       "    </tr>\n",
       "    <tr>\n",
       "      <th id=\"T_eaaca_level0_row8\" class=\"row_heading level0 row8\" >8</th>\n",
       "      <td id=\"T_eaaca_row8_col0\" class=\"data row8 col0\" >europa</td>\n",
       "      <td id=\"T_eaaca_row8_col1\" class=\"data row8 col1\" >0.001756</td>\n",
       "    </tr>\n",
       "    <tr>\n",
       "      <th id=\"T_eaaca_level0_row9\" class=\"row_heading level0 row9\" >9</th>\n",
       "      <td id=\"T_eaaca_row9_col0\" class=\"data row9 col0\" >bundesregierung</td>\n",
       "      <td id=\"T_eaaca_row9_col1\" class=\"data row9 col1\" >0.001741</td>\n",
       "    </tr>\n",
       "    <tr>\n",
       "      <th id=\"T_eaaca_level0_row10\" class=\"row_heading level0 row10\" >10</th>\n",
       "      <td id=\"T_eaaca_row10_col0\" class=\"data row10 col0\" >frage</td>\n",
       "      <td id=\"T_eaaca_row10_col1\" class=\"data row10 col1\" >0.001731</td>\n",
       "    </tr>\n",
       "    <tr>\n",
       "      <th id=\"T_eaaca_level0_row11\" class=\"row_heading level0 row11\" >11</th>\n",
       "      <td id=\"T_eaaca_row11_col0\" class=\"data row11 col0\" >bas</td>\n",
       "      <td id=\"T_eaaca_row11_col1\" class=\"data row11 col1\" >0.001599</td>\n",
       "    </tr>\n",
       "    <tr>\n",
       "      <th id=\"T_eaaca_level0_row12\" class=\"row_heading level0 row12\" >12</th>\n",
       "      <td id=\"T_eaaca_row12_col0\" class=\"data row12 col0\" >bundestagspräsidentin</td>\n",
       "      <td id=\"T_eaaca_row12_col1\" class=\"data row12 col1\" >0.001588</td>\n",
       "    </tr>\n",
       "    <tr>\n",
       "      <th id=\"T_eaaca_level0_row13\" class=\"row_heading level0 row13\" >13</th>\n",
       "      <td id=\"T_eaaca_row13_col0\" class=\"data row13 col0\" >demokratie</td>\n",
       "      <td id=\"T_eaaca_row13_col1\" class=\"data row13 col1\" >0.001579</td>\n",
       "    </tr>\n",
       "    <tr>\n",
       "      <th id=\"T_eaaca_level0_row14\" class=\"row_heading level0 row14\" >14</th>\n",
       "      <td id=\"T_eaaca_row14_col0\" class=\"data row14 col0\" >land</td>\n",
       "      <td id=\"T_eaaca_row14_col1\" class=\"data row14 col1\" >0.001577</td>\n",
       "    </tr>\n",
       "  </tbody>\n",
       "</table>\n"
      ],
      "text/plain": [
       "<pandas.io.formats.style.Styler at 0x1612cc610>"
      ]
     },
     "metadata": {},
     "output_type": "display_data"
    }
   ],
   "source": [
    "# getting 15 most common words per topic\n",
    "topics_list = []\n",
    "for topic in np.arange(num_topics):\n",
    "    topics_list.append(lda.show_topic(topic, topn=15))\n",
    "\n",
    "# printing 15 most common words per topic\n",
    "for i in range(len(topics_list)):\n",
    "    probs = pd.DataFrame(topics_list[i], columns =['Word', 'Probability']) \n",
    "    probs = probs.sort_values('Probability', ascending=False)\n",
    "    probs = probs.style.set_caption(f'TOPIC {i}')\n",
    "    display(probs)"
   ]
  },
  {
   "cell_type": "code",
   "execution_count": 17,
   "metadata": {},
   "outputs": [],
   "source": [
    "# storing document topics\n",
    "document_topics = lda.get_document_topics(corpus,  minimum_probability=0)\n",
    "\n",
    "# sorting document topic by most likely topic per document\n",
    "sorted_doc_topics = [\n",
    "    sorted(doc, key=lambda x:x[1], reverse=True) for doc in document_topics]\n",
    "\n",
    "# creating column 'topic' for topic number\n",
    "df['topic'] = [doc[0][0] for doc in sorted_doc_topics]"
   ]
  },
  {
   "attachments": {},
   "cell_type": "markdown",
   "metadata": {},
   "source": [
    "## Evaluating attempt to filter press releases about public events\n",
    "\n",
    "Each press release was assigned with the number of the most likely topic.\n",
    "\n",
    "This allows us to compare the number of press releases that we assigned with topic 0 and the number press releases containing some spelling variation of 'öffentlich'."
   ]
  },
  {
   "cell_type": "code",
   "execution_count": 18,
   "metadata": {},
   "outputs": [
    {
     "data": {
      "text/plain": [
       "516"
      ]
     },
     "execution_count": 18,
     "metadata": {},
     "output_type": "execute_result"
    }
   ],
   "source": [
    "# filtering for 'öffentlich' or 'öffentlich'\n",
    "len(df[df['title'].str.contains('Öffentlich|öffentlich')])"
   ]
  },
  {
   "attachments": {},
   "cell_type": "markdown",
   "metadata": {},
   "source": [
    "There are 516 press releases containing some spelling variation of 'öffentlich' in the title."
   ]
  },
  {
   "cell_type": "code",
   "execution_count": 19,
   "metadata": {},
   "outputs": [
    {
     "data": {
      "application/vnd.plotly.v1+json": {
       "config": {
        "plotlyServerURL": "https://plot.ly"
       },
       "data": [
        {
         "domain": {
          "x": [
           0,
           1
          ],
          "y": [
           0,
           1
          ]
         },
         "hole": 0.236,
         "hovertemplate": "label=%{label}<br>value=%{value}<extra></extra>",
         "labels": [
          0,
          1
         ],
         "legendgroup": "",
         "name": "",
         "showlegend": false,
         "textinfo": "percent+label",
         "textposition": "inside",
         "type": "pie",
         "values": [
          668,
          221
         ]
        }
       ],
       "layout": {
        "height": 600,
        "legend": {
         "tracegroupgap": 0
        },
        "template": {
         "data": {
          "bar": [
           {
            "error_x": {
             "color": "#2a3f5f"
            },
            "error_y": {
             "color": "#2a3f5f"
            },
            "marker": {
             "line": {
              "color": "#E5ECF6",
              "width": 0.5
             },
             "pattern": {
              "fillmode": "overlay",
              "size": 10,
              "solidity": 0.2
             }
            },
            "type": "bar"
           }
          ],
          "barpolar": [
           {
            "marker": {
             "line": {
              "color": "#E5ECF6",
              "width": 0.5
             },
             "pattern": {
              "fillmode": "overlay",
              "size": 10,
              "solidity": 0.2
             }
            },
            "type": "barpolar"
           }
          ],
          "carpet": [
           {
            "aaxis": {
             "endlinecolor": "#2a3f5f",
             "gridcolor": "white",
             "linecolor": "white",
             "minorgridcolor": "white",
             "startlinecolor": "#2a3f5f"
            },
            "baxis": {
             "endlinecolor": "#2a3f5f",
             "gridcolor": "white",
             "linecolor": "white",
             "minorgridcolor": "white",
             "startlinecolor": "#2a3f5f"
            },
            "type": "carpet"
           }
          ],
          "choropleth": [
           {
            "colorbar": {
             "outlinewidth": 0,
             "ticks": ""
            },
            "type": "choropleth"
           }
          ],
          "contour": [
           {
            "colorbar": {
             "outlinewidth": 0,
             "ticks": ""
            },
            "colorscale": [
             [
              0,
              "#0d0887"
             ],
             [
              0.1111111111111111,
              "#46039f"
             ],
             [
              0.2222222222222222,
              "#7201a8"
             ],
             [
              0.3333333333333333,
              "#9c179e"
             ],
             [
              0.4444444444444444,
              "#bd3786"
             ],
             [
              0.5555555555555556,
              "#d8576b"
             ],
             [
              0.6666666666666666,
              "#ed7953"
             ],
             [
              0.7777777777777778,
              "#fb9f3a"
             ],
             [
              0.8888888888888888,
              "#fdca26"
             ],
             [
              1,
              "#f0f921"
             ]
            ],
            "type": "contour"
           }
          ],
          "contourcarpet": [
           {
            "colorbar": {
             "outlinewidth": 0,
             "ticks": ""
            },
            "type": "contourcarpet"
           }
          ],
          "heatmap": [
           {
            "colorbar": {
             "outlinewidth": 0,
             "ticks": ""
            },
            "colorscale": [
             [
              0,
              "#0d0887"
             ],
             [
              0.1111111111111111,
              "#46039f"
             ],
             [
              0.2222222222222222,
              "#7201a8"
             ],
             [
              0.3333333333333333,
              "#9c179e"
             ],
             [
              0.4444444444444444,
              "#bd3786"
             ],
             [
              0.5555555555555556,
              "#d8576b"
             ],
             [
              0.6666666666666666,
              "#ed7953"
             ],
             [
              0.7777777777777778,
              "#fb9f3a"
             ],
             [
              0.8888888888888888,
              "#fdca26"
             ],
             [
              1,
              "#f0f921"
             ]
            ],
            "type": "heatmap"
           }
          ],
          "heatmapgl": [
           {
            "colorbar": {
             "outlinewidth": 0,
             "ticks": ""
            },
            "colorscale": [
             [
              0,
              "#0d0887"
             ],
             [
              0.1111111111111111,
              "#46039f"
             ],
             [
              0.2222222222222222,
              "#7201a8"
             ],
             [
              0.3333333333333333,
              "#9c179e"
             ],
             [
              0.4444444444444444,
              "#bd3786"
             ],
             [
              0.5555555555555556,
              "#d8576b"
             ],
             [
              0.6666666666666666,
              "#ed7953"
             ],
             [
              0.7777777777777778,
              "#fb9f3a"
             ],
             [
              0.8888888888888888,
              "#fdca26"
             ],
             [
              1,
              "#f0f921"
             ]
            ],
            "type": "heatmapgl"
           }
          ],
          "histogram": [
           {
            "marker": {
             "pattern": {
              "fillmode": "overlay",
              "size": 10,
              "solidity": 0.2
             }
            },
            "type": "histogram"
           }
          ],
          "histogram2d": [
           {
            "colorbar": {
             "outlinewidth": 0,
             "ticks": ""
            },
            "colorscale": [
             [
              0,
              "#0d0887"
             ],
             [
              0.1111111111111111,
              "#46039f"
             ],
             [
              0.2222222222222222,
              "#7201a8"
             ],
             [
              0.3333333333333333,
              "#9c179e"
             ],
             [
              0.4444444444444444,
              "#bd3786"
             ],
             [
              0.5555555555555556,
              "#d8576b"
             ],
             [
              0.6666666666666666,
              "#ed7953"
             ],
             [
              0.7777777777777778,
              "#fb9f3a"
             ],
             [
              0.8888888888888888,
              "#fdca26"
             ],
             [
              1,
              "#f0f921"
             ]
            ],
            "type": "histogram2d"
           }
          ],
          "histogram2dcontour": [
           {
            "colorbar": {
             "outlinewidth": 0,
             "ticks": ""
            },
            "colorscale": [
             [
              0,
              "#0d0887"
             ],
             [
              0.1111111111111111,
              "#46039f"
             ],
             [
              0.2222222222222222,
              "#7201a8"
             ],
             [
              0.3333333333333333,
              "#9c179e"
             ],
             [
              0.4444444444444444,
              "#bd3786"
             ],
             [
              0.5555555555555556,
              "#d8576b"
             ],
             [
              0.6666666666666666,
              "#ed7953"
             ],
             [
              0.7777777777777778,
              "#fb9f3a"
             ],
             [
              0.8888888888888888,
              "#fdca26"
             ],
             [
              1,
              "#f0f921"
             ]
            ],
            "type": "histogram2dcontour"
           }
          ],
          "mesh3d": [
           {
            "colorbar": {
             "outlinewidth": 0,
             "ticks": ""
            },
            "type": "mesh3d"
           }
          ],
          "parcoords": [
           {
            "line": {
             "colorbar": {
              "outlinewidth": 0,
              "ticks": ""
             }
            },
            "type": "parcoords"
           }
          ],
          "pie": [
           {
            "automargin": true,
            "type": "pie"
           }
          ],
          "scatter": [
           {
            "fillpattern": {
             "fillmode": "overlay",
             "size": 10,
             "solidity": 0.2
            },
            "type": "scatter"
           }
          ],
          "scatter3d": [
           {
            "line": {
             "colorbar": {
              "outlinewidth": 0,
              "ticks": ""
             }
            },
            "marker": {
             "colorbar": {
              "outlinewidth": 0,
              "ticks": ""
             }
            },
            "type": "scatter3d"
           }
          ],
          "scattercarpet": [
           {
            "marker": {
             "colorbar": {
              "outlinewidth": 0,
              "ticks": ""
             }
            },
            "type": "scattercarpet"
           }
          ],
          "scattergeo": [
           {
            "marker": {
             "colorbar": {
              "outlinewidth": 0,
              "ticks": ""
             }
            },
            "type": "scattergeo"
           }
          ],
          "scattergl": [
           {
            "marker": {
             "colorbar": {
              "outlinewidth": 0,
              "ticks": ""
             }
            },
            "type": "scattergl"
           }
          ],
          "scattermapbox": [
           {
            "marker": {
             "colorbar": {
              "outlinewidth": 0,
              "ticks": ""
             }
            },
            "type": "scattermapbox"
           }
          ],
          "scatterpolar": [
           {
            "marker": {
             "colorbar": {
              "outlinewidth": 0,
              "ticks": ""
             }
            },
            "type": "scatterpolar"
           }
          ],
          "scatterpolargl": [
           {
            "marker": {
             "colorbar": {
              "outlinewidth": 0,
              "ticks": ""
             }
            },
            "type": "scatterpolargl"
           }
          ],
          "scatterternary": [
           {
            "marker": {
             "colorbar": {
              "outlinewidth": 0,
              "ticks": ""
             }
            },
            "type": "scatterternary"
           }
          ],
          "surface": [
           {
            "colorbar": {
             "outlinewidth": 0,
             "ticks": ""
            },
            "colorscale": [
             [
              0,
              "#0d0887"
             ],
             [
              0.1111111111111111,
              "#46039f"
             ],
             [
              0.2222222222222222,
              "#7201a8"
             ],
             [
              0.3333333333333333,
              "#9c179e"
             ],
             [
              0.4444444444444444,
              "#bd3786"
             ],
             [
              0.5555555555555556,
              "#d8576b"
             ],
             [
              0.6666666666666666,
              "#ed7953"
             ],
             [
              0.7777777777777778,
              "#fb9f3a"
             ],
             [
              0.8888888888888888,
              "#fdca26"
             ],
             [
              1,
              "#f0f921"
             ]
            ],
            "type": "surface"
           }
          ],
          "table": [
           {
            "cells": {
             "fill": {
              "color": "#EBF0F8"
             },
             "line": {
              "color": "white"
             }
            },
            "header": {
             "fill": {
              "color": "#C8D4E3"
             },
             "line": {
              "color": "white"
             }
            },
            "type": "table"
           }
          ]
         },
         "layout": {
          "annotationdefaults": {
           "arrowcolor": "#2a3f5f",
           "arrowhead": 0,
           "arrowwidth": 1
          },
          "autotypenumbers": "strict",
          "coloraxis": {
           "colorbar": {
            "outlinewidth": 0,
            "ticks": ""
           }
          },
          "colorscale": {
           "diverging": [
            [
             0,
             "#8e0152"
            ],
            [
             0.1,
             "#c51b7d"
            ],
            [
             0.2,
             "#de77ae"
            ],
            [
             0.3,
             "#f1b6da"
            ],
            [
             0.4,
             "#fde0ef"
            ],
            [
             0.5,
             "#f7f7f7"
            ],
            [
             0.6,
             "#e6f5d0"
            ],
            [
             0.7,
             "#b8e186"
            ],
            [
             0.8,
             "#7fbc41"
            ],
            [
             0.9,
             "#4d9221"
            ],
            [
             1,
             "#276419"
            ]
           ],
           "sequential": [
            [
             0,
             "#0d0887"
            ],
            [
             0.1111111111111111,
             "#46039f"
            ],
            [
             0.2222222222222222,
             "#7201a8"
            ],
            [
             0.3333333333333333,
             "#9c179e"
            ],
            [
             0.4444444444444444,
             "#bd3786"
            ],
            [
             0.5555555555555556,
             "#d8576b"
            ],
            [
             0.6666666666666666,
             "#ed7953"
            ],
            [
             0.7777777777777778,
             "#fb9f3a"
            ],
            [
             0.8888888888888888,
             "#fdca26"
            ],
            [
             1,
             "#f0f921"
            ]
           ],
           "sequentialminus": [
            [
             0,
             "#0d0887"
            ],
            [
             0.1111111111111111,
             "#46039f"
            ],
            [
             0.2222222222222222,
             "#7201a8"
            ],
            [
             0.3333333333333333,
             "#9c179e"
            ],
            [
             0.4444444444444444,
             "#bd3786"
            ],
            [
             0.5555555555555556,
             "#d8576b"
            ],
            [
             0.6666666666666666,
             "#ed7953"
            ],
            [
             0.7777777777777778,
             "#fb9f3a"
            ],
            [
             0.8888888888888888,
             "#fdca26"
            ],
            [
             1,
             "#f0f921"
            ]
           ]
          },
          "colorway": [
           "#636efa",
           "#EF553B",
           "#00cc96",
           "#ab63fa",
           "#FFA15A",
           "#19d3f3",
           "#FF6692",
           "#B6E880",
           "#FF97FF",
           "#FECB52"
          ],
          "font": {
           "color": "#2a3f5f"
          },
          "geo": {
           "bgcolor": "white",
           "lakecolor": "white",
           "landcolor": "#E5ECF6",
           "showlakes": true,
           "showland": true,
           "subunitcolor": "white"
          },
          "hoverlabel": {
           "align": "left"
          },
          "hovermode": "closest",
          "mapbox": {
           "style": "light"
          },
          "paper_bgcolor": "white",
          "plot_bgcolor": "#E5ECF6",
          "polar": {
           "angularaxis": {
            "gridcolor": "white",
            "linecolor": "white",
            "ticks": ""
           },
           "bgcolor": "#E5ECF6",
           "radialaxis": {
            "gridcolor": "white",
            "linecolor": "white",
            "ticks": ""
           }
          },
          "scene": {
           "xaxis": {
            "backgroundcolor": "#E5ECF6",
            "gridcolor": "white",
            "gridwidth": 2,
            "linecolor": "white",
            "showbackground": true,
            "ticks": "",
            "zerolinecolor": "white"
           },
           "yaxis": {
            "backgroundcolor": "#E5ECF6",
            "gridcolor": "white",
            "gridwidth": 2,
            "linecolor": "white",
            "showbackground": true,
            "ticks": "",
            "zerolinecolor": "white"
           },
           "zaxis": {
            "backgroundcolor": "#E5ECF6",
            "gridcolor": "white",
            "gridwidth": 2,
            "linecolor": "white",
            "showbackground": true,
            "ticks": "",
            "zerolinecolor": "white"
           }
          },
          "shapedefaults": {
           "line": {
            "color": "#2a3f5f"
           }
          },
          "ternary": {
           "aaxis": {
            "gridcolor": "white",
            "linecolor": "white",
            "ticks": ""
           },
           "baxis": {
            "gridcolor": "white",
            "linecolor": "white",
            "ticks": ""
           },
           "bgcolor": "#E5ECF6",
           "caxis": {
            "gridcolor": "white",
            "linecolor": "white",
            "ticks": ""
           }
          },
          "title": {
           "x": 0.05
          },
          "xaxis": {
           "automargin": true,
           "gridcolor": "white",
           "linecolor": "white",
           "ticks": "",
           "title": {
            "standoff": 15
           },
           "zerolinecolor": "white",
           "zerolinewidth": 2
          },
          "yaxis": {
           "automargin": true,
           "gridcolor": "white",
           "linecolor": "white",
           "ticks": "",
           "title": {
            "standoff": 15
           },
           "zerolinecolor": "white",
           "zerolinewidth": 2
          }
         }
        },
        "title": {
         "text": "Topic Distribution"
        }
       }
      }
     },
     "metadata": {},
     "output_type": "display_data"
    }
   ],
   "source": [
    "# counting number of press releases per topic\n",
    "\n",
    "# to prevent depreciation warnings\n",
    "with warnings.catch_warnings():\n",
    "    warnings.simplefilter('ignore')\n",
    "    fig = px.pie(df.topic.value_counts(), values=df.topic.value_counts().values,\n",
    "        names=df.topic.value_counts().index, hole=0.236,\n",
    "        height=600,\n",
    "        title='Topic Distribution')\n",
    "\n",
    "    fig.update_traces(textposition='inside', textinfo='percent+label', showlegend=False)\n",
    "    fig.show()"
   ]
  },
  {
   "cell_type": "code",
   "execution_count": 20,
   "metadata": {},
   "outputs": [
    {
     "data": {
      "text/plain": [
       "516"
      ]
     },
     "execution_count": 20,
     "metadata": {},
     "output_type": "execute_result"
    }
   ],
   "source": [
    "# counting examples which contain 'Öffentlich' or 'öffentlich' in the title\n",
    "len(df[df['title'].str.contains('Öffentlich|öffentlich')])"
   ]
  },
  {
   "attachments": {},
   "cell_type": "markdown",
   "metadata": {},
   "source": [
    "Of 889 press releases 628 we assigned to topic 0. While we find 516 results when filtering for the keywords 'Öffentlich' or 'öffentlich' which means we 'over filtered' by 112 press releases."
   ]
  },
  {
   "cell_type": "code",
   "execution_count": 21,
   "metadata": {},
   "outputs": [
    {
     "data": {
      "text/plain": [
       "155"
      ]
     },
     "execution_count": 21,
     "metadata": {},
     "output_type": "execute_result"
    }
   ],
   "source": [
    "# exploring 'over filtered' cases\n",
    "# dataframe for topic 0\n",
    "df_public = df[df.topic == 0]\n",
    "\n",
    "# filtering dataframe for examples without 'Öffentlich' or 'öffentlich' in the title\n",
    "df_temp = df_public[df_public['title'].str.contains('Öffentlich|öffentlich') == False]\n",
    "len(df_temp)"
   ]
  },
  {
   "attachments": {},
   "cell_type": "markdown",
   "metadata": {},
   "source": [
    "The approach of using LDA to filter out all press releases regarding public events, worked but only to some degree. When we filter topic 0 to not include 'Öffentlich' or 'öffentlich' in the title, we get 155 results. Those 155 press releases would belong to topic 1, we shall take a look at the titles of some samples to confirm."
   ]
  },
  {
   "cell_type": "code",
   "execution_count": 22,
   "metadata": {},
   "outputs": [
    {
     "data": {
      "text/html": [
       "<div>\n",
       "<style scoped>\n",
       "    .dataframe tbody tr th:only-of-type {\n",
       "        vertical-align: middle;\n",
       "    }\n",
       "\n",
       "    .dataframe tbody tr th {\n",
       "        vertical-align: top;\n",
       "    }\n",
       "\n",
       "    .dataframe thead th {\n",
       "        text-align: right;\n",
       "    }\n",
       "</style>\n",
       "<table border=\"1\" class=\"dataframe\">\n",
       "  <thead>\n",
       "    <tr style=\"text-align: right;\">\n",
       "      <th></th>\n",
       "      <th>title</th>\n",
       "    </tr>\n",
       "  </thead>\n",
       "  <tbody>\n",
       "    <tr>\n",
       "      <th>10</th>\n",
       "      <td>BILDTERMIN: Bundestagspräsidentin Bas empfängt den Präsidenten der Parlamentarischen Versammlung des Europarates</td>\n",
       "    </tr>\n",
       "    <tr>\n",
       "      <th>697</th>\n",
       "      <td>30. Jahrestagung der Ostseeparlamentarierkonferenz am 30. August 2021</td>\n",
       "    </tr>\n",
       "    <tr>\n",
       "      <th>744</th>\n",
       "      <td>Das Maskottchen der Kinderkommission des Deutschen Bundestages heißt Kiko!</td>\n",
       "    </tr>\n",
       "    <tr>\n",
       "      <th>215</th>\n",
       "      <td>„Bürgerräte – Instrument der Bürgerbeteiligung in der repräsentativen Demokratie“ – eine Diskussion beim „Forum W“ im Bundestag</td>\n",
       "    </tr>\n",
       "    <tr>\n",
       "      <th>857</th>\n",
       "      <td>BILDTERMIN: Bundestagspräsidentin Bas empfängt die Präsidentin des tschechischen Parlaments</td>\n",
       "    </tr>\n",
       "    <tr>\n",
       "      <th>48</th>\n",
       "      <td>Bundestagspräsident Schäuble beim virtuellen Auftakt der Ausstellung „Shared History“ über 1700 Jahre jüdisches Leben im deutschsprachigen Raum</td>\n",
       "    </tr>\n",
       "    <tr>\n",
       "      <th>378</th>\n",
       "      <td>31. Versammlung der Ostseeparlamentarierkonferenz in Stockholm im Zeichen des Krieges gegen die Ukraine</td>\n",
       "    </tr>\n",
       "    <tr>\n",
       "      <th>828</th>\n",
       "      <td>Bundestagsvizepräsidentin Claudia Roth besucht Gedenkveranstaltung zum 80. Jahrestag des Massakers von Kragujevac</td>\n",
       "    </tr>\n",
       "    <tr>\n",
       "      <th>415</th>\n",
       "      <td>Deutscher Bundestag gedenkt der Opfer des Nationalsozialismus</td>\n",
       "    </tr>\n",
       "    <tr>\n",
       "      <th>319</th>\n",
       "      <td>Pressekonferenz der Präsidentinnen des Bundestages und der Assemblée nationale / Deutsch-Französische Parlamentarische Versammlung befragt Baerbock und französische Staatssekretärin Boone</td>\n",
       "    </tr>\n",
       "    <tr>\n",
       "      <th>369</th>\n",
       "      <td>Anhörung der Bundeskanzlerin Merkel und des französischen Premierministers Castex bei der Deutsch-Französischen Parlamentarischen Versammlung – Achtung! Neue Uhrzeit!</td>\n",
       "    </tr>\n",
       "    <tr>\n",
       "      <th>820</th>\n",
       "      <td>Bundestagspräsidentin Bas würdigt den verstorbenen Papst Benedikt XVI.</td>\n",
       "    </tr>\n",
       "    <tr>\n",
       "      <th>127</th>\n",
       "      <td>Parlamentarische Versammlung des Europarates berät über Lage von Alexei Nawalny – Bundeskanzlerin Merkel Gastrednerin anlässlich des deutschen Europaratsvorsitzes</td>\n",
       "    </tr>\n",
       "    <tr>\n",
       "      <th>102</th>\n",
       "      <td>„Corona-Pandemie und Digitalisierung: Wie verändern sich Bundespolitik und Parlamentsarbeit?“ – Fraktionsvorstände diskutieren mit Jugendlichen</td>\n",
       "    </tr>\n",
       "    <tr>\n",
       "      <th>773</th>\n",
       "      <td>BILDTERMIN: „Ausbildung ist Investition in die Zukunft“ – Bundestagspräsidentin Bas übergibt Zeugnisse an Ausbildungsabsolventen in der Bundesverwaltung</td>\n",
       "    </tr>\n",
       "    <tr>\n",
       "      <th>149</th>\n",
       "      <td>BILDTERMIN: Bundestagspräsidentin Bas empfängt die Staatspräsidentin von Griechenland</td>\n",
       "    </tr>\n",
       "    <tr>\n",
       "      <th>407</th>\n",
       "      <td>Bundestag gedenkt der Opfer des Nationalsozialismus</td>\n",
       "    </tr>\n",
       "    <tr>\n",
       "      <th>806</th>\n",
       "      <td>BILDTERMIN: Bundestagspräsidentin Bas empfängt den Präsidenten des namibischen Parlaments</td>\n",
       "    </tr>\n",
       "    <tr>\n",
       "      <th>435</th>\n",
       "      <td>BILDTERMIN: Bundestagspräsidentin Bas empfängt designierte belarussische Trägerinnen des internationalen Karlspreises zu Aachen 2022</td>\n",
       "    </tr>\n",
       "    <tr>\n",
       "      <th>17</th>\n",
       "      <td>Liveübertragung der 17. Bundesversammlung auf www.bundestag.de</td>\n",
       "    </tr>\n",
       "    <tr>\n",
       "      <th>173</th>\n",
       "      <td>BILDTERMIN: Bundestagspräsident Wolfgang Schäuble empfängt den Außenminister von Slowenien</td>\n",
       "    </tr>\n",
       "    <tr>\n",
       "      <th>439</th>\n",
       "      <td>Energiesparen im Bundestag - Umsetzungsprozess läuft</td>\n",
       "    </tr>\n",
       "    <tr>\n",
       "      <th>38</th>\n",
       "      <td>BILDTERMIN: Friedensnobelpreisträgerin Nadia Murad im Bundestag</td>\n",
       "    </tr>\n",
       "    <tr>\n",
       "      <th>292</th>\n",
       "      <td>Parlamentarische Versammlung des Europarates debattiert Konsequenzen aus der Covid-19-Pandemie und befragt ungarischen Europaratsvorsitz</td>\n",
       "    </tr>\n",
       "    <tr>\n",
       "      <th>542</th>\n",
       "      <td>Parlamentarisches Kontrollgremium hat Mitglied des gerichtsähnlichen Kontrollorgans des Unabhängigen Kontrollrates gewählt</td>\n",
       "    </tr>\n",
       "  </tbody>\n",
       "</table>\n",
       "</div>"
      ],
      "text/plain": [
       "                                                                                                                                                                                           title\n",
       "10                                                                              BILDTERMIN: Bundestagspräsidentin Bas empfängt den Präsidenten der Parlamentarischen Versammlung des Europarates\n",
       "697                                                                                                                        30. Jahrestagung der Ostseeparlamentarierkonferenz am 30. August 2021\n",
       "744                                                                                                                   Das Maskottchen der Kinderkommission des Deutschen Bundestages heißt Kiko!\n",
       "215                                                              „Bürgerräte – Instrument der Bürgerbeteiligung in der repräsentativen Demokratie“ – eine Diskussion beim „Forum W“ im Bundestag\n",
       "857                                                                                                  BILDTERMIN: Bundestagspräsidentin Bas empfängt die Präsidentin des tschechischen Parlaments\n",
       "48                                               Bundestagspräsident Schäuble beim virtuellen Auftakt der Ausstellung „Shared History“ über 1700 Jahre jüdisches Leben im deutschsprachigen Raum\n",
       "378                                                                                      31. Versammlung der Ostseeparlamentarierkonferenz in Stockholm im Zeichen des Krieges gegen die Ukraine\n",
       "828                                                                            Bundestagsvizepräsidentin Claudia Roth besucht Gedenkveranstaltung zum 80. Jahrestag des Massakers von Kragujevac\n",
       "415                                                                                                                                Deutscher Bundestag gedenkt der Opfer des Nationalsozialismus\n",
       "319  Pressekonferenz der Präsidentinnen des Bundestages und der Assemblée nationale / Deutsch-Französische Parlamentarische Versammlung befragt Baerbock und französische Staatssekretärin Boone\n",
       "369                       Anhörung der Bundeskanzlerin Merkel und des französischen Premierministers Castex bei der Deutsch-Französischen Parlamentarischen Versammlung – Achtung! Neue Uhrzeit!\n",
       "820                                                                                                                       Bundestagspräsidentin Bas würdigt den verstorbenen Papst Benedikt XVI.\n",
       "127                           Parlamentarische Versammlung des Europarates berät über Lage von Alexei Nawalny – Bundeskanzlerin Merkel Gastrednerin anlässlich des deutschen Europaratsvorsitzes\n",
       "102                                              „Corona-Pandemie und Digitalisierung: Wie verändern sich Bundespolitik und Parlamentsarbeit?“ – Fraktionsvorstände diskutieren mit Jugendlichen\n",
       "773                                     BILDTERMIN: „Ausbildung ist Investition in die Zukunft“ – Bundestagspräsidentin Bas übergibt Zeugnisse an Ausbildungsabsolventen in der Bundesverwaltung\n",
       "149                                                                                                        BILDTERMIN: Bundestagspräsidentin Bas empfängt die Staatspräsidentin von Griechenland\n",
       "407                                                                                                                                          Bundestag gedenkt der Opfer des Nationalsozialismus\n",
       "806                                                                                                    BILDTERMIN: Bundestagspräsidentin Bas empfängt den Präsidenten des namibischen Parlaments\n",
       "435                                                         BILDTERMIN: Bundestagspräsidentin Bas empfängt designierte belarussische Trägerinnen des internationalen Karlspreises zu Aachen 2022\n",
       "17                                                                                                                                Liveübertragung der 17. Bundesversammlung auf www.bundestag.de\n",
       "173                                                                                                   BILDTERMIN: Bundestagspräsident Wolfgang Schäuble empfängt den Außenminister von Slowenien\n",
       "439                                                                                                                                         Energiesparen im Bundestag - Umsetzungsprozess läuft\n",
       "38                                                                                                                               BILDTERMIN: Friedensnobelpreisträgerin Nadia Murad im Bundestag\n",
       "292                                                     Parlamentarische Versammlung des Europarates debattiert Konsequenzen aus der Covid-19-Pandemie und befragt ungarischen Europaratsvorsitz\n",
       "542                                                                   Parlamentarisches Kontrollgremium hat Mitglied des gerichtsähnlichen Kontrollorgans des Unabhängigen Kontrollrates gewählt"
      ]
     },
     "execution_count": 22,
     "metadata": {},
     "output_type": "execute_result"
    }
   ],
   "source": [
    "# 25 sample headlines of topic 0\n",
    "# excluding titles containing 'Öffentlich' or 'öffentlich'\n",
    "display_length = pd.get_option('display.max_colwidth')\n",
    "pd.set_option('display.max_colwidth', None)\n",
    "df_temp[['title']].sample(25)"
   ]
  },
  {
   "cell_type": "code",
   "execution_count": 23,
   "metadata": {},
   "outputs": [],
   "source": [
    "# reverting settings from cell above\n",
    "pd.set_option('display.max_colwidth', display_length)"
   ]
  },
  {
   "attachments": {},
   "cell_type": "markdown",
   "metadata": {},
   "source": [
    "Beyond the already mentioned public events, 'BILDTERMIN' seems to have a high occurance as well. Though there are some press releases that might fit better in topic 1. Some of those are:\n",
    "- Parlamentarische Versammlung des Europarates berät über Lage von Alexei Nawalny\n",
    "- Deutsch-Französische Parlamentarische Versammlung mit Befragung \n",
    "- Konstituierung des Unterausschusses „Bürgerschaftliches Engagement“ in Anwesenheit von Bundesfamilienministerin Spiegel\n",
    "- Parlamentarische Versammlung des Europarates debattiert Konsequenzen aus der Covid-19-Pandemie und befragt ungarischen Europaratsvorsitz\n",
    "- Eine Delegation des Verteidigungsausschusses reiste vom 24. bis 27. Oktober 2022 nach Jordanien und in den Irak\n",
    "- Solidaritätsschreiben des Bundestages und des Bundesrates an das Schattenparlament Myanmars\n",
    "\n",
    "Within these 25 samples of 155 press releases we do find a range of titles regarding foreign and domestic politics that might provide interesting material for our attempts of topic modelling."
   ]
  },
  {
   "cell_type": "code",
   "execution_count": 24,
   "metadata": {},
   "outputs": [],
   "source": [
    "# forming dataframe excluding topic 0\n",
    "df = df[df.topic == 1]\n",
    "\n",
    "# resetting index of dataframe\n",
    "df = df.reset_index(drop=True)\n",
    "\n",
    "# dropping topic column\n",
    "df = df.drop(['topic'], axis=1)"
   ]
  },
  {
   "cell_type": "code",
   "execution_count": 25,
   "metadata": {},
   "outputs": [
    {
     "data": {
      "application/vnd.plotly.v1+json": {
       "config": {
        "plotlyServerURL": "https://plot.ly"
       },
       "data": [
        {
         "hovertemplate": "Date=%{x}<br>Number of Articles=%{y}<extra></extra>",
         "legendgroup": "",
         "line": {
          "color": "#636efa",
          "dash": "solid"
         },
         "marker": {
          "symbol": "circle"
         },
         "mode": "lines",
         "name": "",
         "orientation": "v",
         "showlegend": false,
         "type": "scatter",
         "x": [
          "2021-01-01T00:00:00",
          "2021-01-07T00:00:00",
          "2021-01-15T00:00:00",
          "2021-01-21T00:00:00",
          "2021-01-29T00:00:00",
          "2021-02-10T00:00:00",
          "2021-02-11T00:00:00",
          "2021-02-12T00:00:00",
          "2021-02-25T00:00:00",
          "2021-03-05T00:00:00",
          "2021-03-18T00:00:00",
          "2021-03-19T00:00:00",
          "2021-03-25T00:00:00",
          "2021-03-26T00:00:00",
          "2021-04-16T00:00:00",
          "2021-04-20T00:00:00",
          "2021-04-23T00:00:00",
          "2021-05-05T00:00:00",
          "2021-05-07T00:00:00",
          "2021-05-10T00:00:00",
          "2021-05-11T00:00:00",
          "2021-05-14T00:00:00",
          "2021-05-20T00:00:00",
          "2021-05-21T00:00:00",
          "2021-05-27T00:00:00",
          "2021-05-30T00:00:00",
          "2021-06-04T00:00:00",
          "2021-06-10T00:00:00",
          "2021-06-11T00:00:00",
          "2021-06-14T00:00:00",
          "2021-06-18T00:00:00",
          "2021-06-21T00:00:00",
          "2021-06-25T00:00:00",
          "2021-06-28T00:00:00",
          "2021-07-02T00:00:00",
          "2021-07-09T00:00:00",
          "2021-07-15T00:00:00",
          "2021-07-22T00:00:00",
          "2021-08-06T00:00:00",
          "2021-08-11T00:00:00",
          "2021-08-23T00:00:00",
          "2021-09-06T00:00:00",
          "2021-09-10T00:00:00",
          "2021-09-16T00:00:00",
          "2021-09-21T00:00:00",
          "2021-09-28T00:00:00",
          "2021-10-04T00:00:00",
          "2021-10-15T00:00:00",
          "2021-10-29T00:00:00",
          "2021-11-12T00:00:00",
          "2021-11-22T00:00:00",
          "2021-11-23T00:00:00",
          "2021-11-26T00:00:00",
          "2021-11-29T00:00:00",
          "2021-12-13T00:00:00",
          "2021-12-17T00:00:00",
          "2021-12-30T00:00:00",
          "2022-01-11T00:00:00",
          "2022-01-17T00:00:00",
          "2022-01-27T00:00:00",
          "2022-01-28T00:00:00",
          "2022-02-03T00:00:00",
          "2022-02-04T00:00:00",
          "2022-02-18T00:00:00",
          "2022-02-22T00:00:00",
          "2022-02-28T00:00:00",
          "2022-03-04T00:00:00",
          "2022-03-09T00:00:00",
          "2022-03-10T00:00:00",
          "2022-03-14T00:00:00",
          "2022-03-15T00:00:00",
          "2022-03-16T00:00:00",
          "2022-03-18T00:00:00",
          "2022-03-22T00:00:00",
          "2022-03-24T00:00:00",
          "2022-03-25T00:00:00",
          "2022-03-28T00:00:00",
          "2022-03-29T00:00:00",
          "2022-04-04T00:00:00",
          "2022-04-06T00:00:00",
          "2022-04-08T00:00:00",
          "2022-04-26T00:00:00",
          "2022-04-29T00:00:00",
          "2022-05-05T00:00:00",
          "2022-05-08T00:00:00",
          "2022-05-10T00:00:00",
          "2022-05-12T00:00:00",
          "2022-05-13T00:00:00",
          "2022-05-19T00:00:00",
          "2022-05-20T00:00:00",
          "2022-05-24T00:00:00",
          "2022-05-25T00:00:00",
          "2022-05-30T00:00:00",
          "2022-05-31T00:00:00",
          "2022-06-02T00:00:00",
          "2022-06-03T00:00:00",
          "2022-06-09T00:00:00",
          "2022-06-10T00:00:00",
          "2022-06-20T00:00:00",
          "2022-06-22T00:00:00",
          "2022-06-23T00:00:00",
          "2022-06-24T00:00:00",
          "2022-06-29T00:00:00",
          "2022-06-30T00:00:00",
          "2022-07-04T00:00:00",
          "2022-07-05T00:00:00",
          "2022-07-06T00:00:00",
          "2022-07-08T00:00:00",
          "2022-07-11T00:00:00",
          "2022-07-15T00:00:00",
          "2022-07-22T00:00:00",
          "2022-08-05T00:00:00",
          "2022-08-11T00:00:00",
          "2022-08-19T00:00:00",
          "2022-08-24T00:00:00",
          "2022-08-30T00:00:00",
          "2022-08-31T00:00:00",
          "2022-09-01T00:00:00",
          "2022-09-02T00:00:00",
          "2022-09-05T00:00:00",
          "2022-09-08T00:00:00",
          "2022-09-09T00:00:00",
          "2022-09-10T00:00:00",
          "2022-09-12T00:00:00",
          "2022-09-14T00:00:00",
          "2022-09-16T00:00:00",
          "2022-09-19T00:00:00",
          "2022-09-23T00:00:00",
          "2022-09-26T00:00:00",
          "2022-09-28T00:00:00",
          "2022-09-29T00:00:00",
          "2022-09-30T00:00:00",
          "2022-10-03T00:00:00",
          "2022-10-07T00:00:00",
          "2022-10-12T00:00:00",
          "2022-10-13T00:00:00",
          "2022-10-14T00:00:00",
          "2022-10-17T00:00:00",
          "2022-10-18T00:00:00",
          "2022-10-19T00:00:00",
          "2022-10-20T00:00:00",
          "2022-10-21T00:00:00",
          "2022-10-23T00:00:00",
          "2022-10-24T00:00:00",
          "2022-10-25T00:00:00",
          "2022-10-26T00:00:00",
          "2022-11-07T00:00:00",
          "2022-11-10T00:00:00",
          "2022-11-11T00:00:00",
          "2022-11-13T00:00:00",
          "2022-11-14T00:00:00",
          "2022-11-15T00:00:00",
          "2022-11-17T00:00:00",
          "2022-11-18T00:00:00",
          "2022-11-21T00:00:00",
          "2022-11-25T00:00:00",
          "2022-11-30T00:00:00",
          "2022-12-01T00:00:00",
          "2022-12-02T00:00:00",
          "2022-12-06T00:00:00",
          "2022-12-12T00:00:00",
          "2022-12-16T00:00:00",
          "2023-01-02T00:00:00",
          "2023-01-16T00:00:00"
         ],
         "xaxis": "x",
         "y": [
          1,
          1,
          1,
          1,
          1,
          1,
          2,
          1,
          1,
          1,
          2,
          1,
          1,
          2,
          1,
          1,
          1,
          1,
          1,
          1,
          1,
          1,
          1,
          3,
          1,
          1,
          1,
          1,
          1,
          1,
          1,
          1,
          1,
          1,
          1,
          1,
          1,
          1,
          1,
          1,
          2,
          1,
          2,
          2,
          2,
          1,
          1,
          2,
          1,
          1,
          1,
          1,
          1,
          1,
          1,
          1,
          1,
          1,
          2,
          1,
          1,
          1,
          1,
          3,
          2,
          2,
          2,
          1,
          1,
          1,
          2,
          1,
          1,
          2,
          1,
          1,
          1,
          1,
          2,
          1,
          1,
          2,
          1,
          1,
          1,
          1,
          1,
          1,
          1,
          1,
          1,
          1,
          1,
          1,
          2,
          3,
          3,
          2,
          1,
          1,
          1,
          3,
          1,
          2,
          1,
          1,
          1,
          2,
          2,
          2,
          1,
          1,
          1,
          1,
          1,
          1,
          1,
          3,
          1,
          1,
          2,
          2,
          1,
          2,
          1,
          2,
          1,
          1,
          1,
          3,
          1,
          3,
          1,
          1,
          1,
          1,
          1,
          3,
          2,
          1,
          4,
          6,
          1,
          1,
          1,
          1,
          1,
          1,
          1,
          1,
          1,
          1,
          3,
          1,
          1,
          1,
          1,
          2,
          2,
          1,
          1,
          1,
          1,
          1
         ],
         "yaxis": "y"
        }
       ],
       "layout": {
        "legend": {
         "tracegroupgap": 0
        },
        "template": {
         "data": {
          "bar": [
           {
            "error_x": {
             "color": "#2a3f5f"
            },
            "error_y": {
             "color": "#2a3f5f"
            },
            "marker": {
             "line": {
              "color": "#E5ECF6",
              "width": 0.5
             },
             "pattern": {
              "fillmode": "overlay",
              "size": 10,
              "solidity": 0.2
             }
            },
            "type": "bar"
           }
          ],
          "barpolar": [
           {
            "marker": {
             "line": {
              "color": "#E5ECF6",
              "width": 0.5
             },
             "pattern": {
              "fillmode": "overlay",
              "size": 10,
              "solidity": 0.2
             }
            },
            "type": "barpolar"
           }
          ],
          "carpet": [
           {
            "aaxis": {
             "endlinecolor": "#2a3f5f",
             "gridcolor": "white",
             "linecolor": "white",
             "minorgridcolor": "white",
             "startlinecolor": "#2a3f5f"
            },
            "baxis": {
             "endlinecolor": "#2a3f5f",
             "gridcolor": "white",
             "linecolor": "white",
             "minorgridcolor": "white",
             "startlinecolor": "#2a3f5f"
            },
            "type": "carpet"
           }
          ],
          "choropleth": [
           {
            "colorbar": {
             "outlinewidth": 0,
             "ticks": ""
            },
            "type": "choropleth"
           }
          ],
          "contour": [
           {
            "colorbar": {
             "outlinewidth": 0,
             "ticks": ""
            },
            "colorscale": [
             [
              0,
              "#0d0887"
             ],
             [
              0.1111111111111111,
              "#46039f"
             ],
             [
              0.2222222222222222,
              "#7201a8"
             ],
             [
              0.3333333333333333,
              "#9c179e"
             ],
             [
              0.4444444444444444,
              "#bd3786"
             ],
             [
              0.5555555555555556,
              "#d8576b"
             ],
             [
              0.6666666666666666,
              "#ed7953"
             ],
             [
              0.7777777777777778,
              "#fb9f3a"
             ],
             [
              0.8888888888888888,
              "#fdca26"
             ],
             [
              1,
              "#f0f921"
             ]
            ],
            "type": "contour"
           }
          ],
          "contourcarpet": [
           {
            "colorbar": {
             "outlinewidth": 0,
             "ticks": ""
            },
            "type": "contourcarpet"
           }
          ],
          "heatmap": [
           {
            "colorbar": {
             "outlinewidth": 0,
             "ticks": ""
            },
            "colorscale": [
             [
              0,
              "#0d0887"
             ],
             [
              0.1111111111111111,
              "#46039f"
             ],
             [
              0.2222222222222222,
              "#7201a8"
             ],
             [
              0.3333333333333333,
              "#9c179e"
             ],
             [
              0.4444444444444444,
              "#bd3786"
             ],
             [
              0.5555555555555556,
              "#d8576b"
             ],
             [
              0.6666666666666666,
              "#ed7953"
             ],
             [
              0.7777777777777778,
              "#fb9f3a"
             ],
             [
              0.8888888888888888,
              "#fdca26"
             ],
             [
              1,
              "#f0f921"
             ]
            ],
            "type": "heatmap"
           }
          ],
          "heatmapgl": [
           {
            "colorbar": {
             "outlinewidth": 0,
             "ticks": ""
            },
            "colorscale": [
             [
              0,
              "#0d0887"
             ],
             [
              0.1111111111111111,
              "#46039f"
             ],
             [
              0.2222222222222222,
              "#7201a8"
             ],
             [
              0.3333333333333333,
              "#9c179e"
             ],
             [
              0.4444444444444444,
              "#bd3786"
             ],
             [
              0.5555555555555556,
              "#d8576b"
             ],
             [
              0.6666666666666666,
              "#ed7953"
             ],
             [
              0.7777777777777778,
              "#fb9f3a"
             ],
             [
              0.8888888888888888,
              "#fdca26"
             ],
             [
              1,
              "#f0f921"
             ]
            ],
            "type": "heatmapgl"
           }
          ],
          "histogram": [
           {
            "marker": {
             "pattern": {
              "fillmode": "overlay",
              "size": 10,
              "solidity": 0.2
             }
            },
            "type": "histogram"
           }
          ],
          "histogram2d": [
           {
            "colorbar": {
             "outlinewidth": 0,
             "ticks": ""
            },
            "colorscale": [
             [
              0,
              "#0d0887"
             ],
             [
              0.1111111111111111,
              "#46039f"
             ],
             [
              0.2222222222222222,
              "#7201a8"
             ],
             [
              0.3333333333333333,
              "#9c179e"
             ],
             [
              0.4444444444444444,
              "#bd3786"
             ],
             [
              0.5555555555555556,
              "#d8576b"
             ],
             [
              0.6666666666666666,
              "#ed7953"
             ],
             [
              0.7777777777777778,
              "#fb9f3a"
             ],
             [
              0.8888888888888888,
              "#fdca26"
             ],
             [
              1,
              "#f0f921"
             ]
            ],
            "type": "histogram2d"
           }
          ],
          "histogram2dcontour": [
           {
            "colorbar": {
             "outlinewidth": 0,
             "ticks": ""
            },
            "colorscale": [
             [
              0,
              "#0d0887"
             ],
             [
              0.1111111111111111,
              "#46039f"
             ],
             [
              0.2222222222222222,
              "#7201a8"
             ],
             [
              0.3333333333333333,
              "#9c179e"
             ],
             [
              0.4444444444444444,
              "#bd3786"
             ],
             [
              0.5555555555555556,
              "#d8576b"
             ],
             [
              0.6666666666666666,
              "#ed7953"
             ],
             [
              0.7777777777777778,
              "#fb9f3a"
             ],
             [
              0.8888888888888888,
              "#fdca26"
             ],
             [
              1,
              "#f0f921"
             ]
            ],
            "type": "histogram2dcontour"
           }
          ],
          "mesh3d": [
           {
            "colorbar": {
             "outlinewidth": 0,
             "ticks": ""
            },
            "type": "mesh3d"
           }
          ],
          "parcoords": [
           {
            "line": {
             "colorbar": {
              "outlinewidth": 0,
              "ticks": ""
             }
            },
            "type": "parcoords"
           }
          ],
          "pie": [
           {
            "automargin": true,
            "type": "pie"
           }
          ],
          "scatter": [
           {
            "fillpattern": {
             "fillmode": "overlay",
             "size": 10,
             "solidity": 0.2
            },
            "type": "scatter"
           }
          ],
          "scatter3d": [
           {
            "line": {
             "colorbar": {
              "outlinewidth": 0,
              "ticks": ""
             }
            },
            "marker": {
             "colorbar": {
              "outlinewidth": 0,
              "ticks": ""
             }
            },
            "type": "scatter3d"
           }
          ],
          "scattercarpet": [
           {
            "marker": {
             "colorbar": {
              "outlinewidth": 0,
              "ticks": ""
             }
            },
            "type": "scattercarpet"
           }
          ],
          "scattergeo": [
           {
            "marker": {
             "colorbar": {
              "outlinewidth": 0,
              "ticks": ""
             }
            },
            "type": "scattergeo"
           }
          ],
          "scattergl": [
           {
            "marker": {
             "colorbar": {
              "outlinewidth": 0,
              "ticks": ""
             }
            },
            "type": "scattergl"
           }
          ],
          "scattermapbox": [
           {
            "marker": {
             "colorbar": {
              "outlinewidth": 0,
              "ticks": ""
             }
            },
            "type": "scattermapbox"
           }
          ],
          "scatterpolar": [
           {
            "marker": {
             "colorbar": {
              "outlinewidth": 0,
              "ticks": ""
             }
            },
            "type": "scatterpolar"
           }
          ],
          "scatterpolargl": [
           {
            "marker": {
             "colorbar": {
              "outlinewidth": 0,
              "ticks": ""
             }
            },
            "type": "scatterpolargl"
           }
          ],
          "scatterternary": [
           {
            "marker": {
             "colorbar": {
              "outlinewidth": 0,
              "ticks": ""
             }
            },
            "type": "scatterternary"
           }
          ],
          "surface": [
           {
            "colorbar": {
             "outlinewidth": 0,
             "ticks": ""
            },
            "colorscale": [
             [
              0,
              "#0d0887"
             ],
             [
              0.1111111111111111,
              "#46039f"
             ],
             [
              0.2222222222222222,
              "#7201a8"
             ],
             [
              0.3333333333333333,
              "#9c179e"
             ],
             [
              0.4444444444444444,
              "#bd3786"
             ],
             [
              0.5555555555555556,
              "#d8576b"
             ],
             [
              0.6666666666666666,
              "#ed7953"
             ],
             [
              0.7777777777777778,
              "#fb9f3a"
             ],
             [
              0.8888888888888888,
              "#fdca26"
             ],
             [
              1,
              "#f0f921"
             ]
            ],
            "type": "surface"
           }
          ],
          "table": [
           {
            "cells": {
             "fill": {
              "color": "#EBF0F8"
             },
             "line": {
              "color": "white"
             }
            },
            "header": {
             "fill": {
              "color": "#C8D4E3"
             },
             "line": {
              "color": "white"
             }
            },
            "type": "table"
           }
          ]
         },
         "layout": {
          "annotationdefaults": {
           "arrowcolor": "#2a3f5f",
           "arrowhead": 0,
           "arrowwidth": 1
          },
          "autotypenumbers": "strict",
          "coloraxis": {
           "colorbar": {
            "outlinewidth": 0,
            "ticks": ""
           }
          },
          "colorscale": {
           "diverging": [
            [
             0,
             "#8e0152"
            ],
            [
             0.1,
             "#c51b7d"
            ],
            [
             0.2,
             "#de77ae"
            ],
            [
             0.3,
             "#f1b6da"
            ],
            [
             0.4,
             "#fde0ef"
            ],
            [
             0.5,
             "#f7f7f7"
            ],
            [
             0.6,
             "#e6f5d0"
            ],
            [
             0.7,
             "#b8e186"
            ],
            [
             0.8,
             "#7fbc41"
            ],
            [
             0.9,
             "#4d9221"
            ],
            [
             1,
             "#276419"
            ]
           ],
           "sequential": [
            [
             0,
             "#0d0887"
            ],
            [
             0.1111111111111111,
             "#46039f"
            ],
            [
             0.2222222222222222,
             "#7201a8"
            ],
            [
             0.3333333333333333,
             "#9c179e"
            ],
            [
             0.4444444444444444,
             "#bd3786"
            ],
            [
             0.5555555555555556,
             "#d8576b"
            ],
            [
             0.6666666666666666,
             "#ed7953"
            ],
            [
             0.7777777777777778,
             "#fb9f3a"
            ],
            [
             0.8888888888888888,
             "#fdca26"
            ],
            [
             1,
             "#f0f921"
            ]
           ],
           "sequentialminus": [
            [
             0,
             "#0d0887"
            ],
            [
             0.1111111111111111,
             "#46039f"
            ],
            [
             0.2222222222222222,
             "#7201a8"
            ],
            [
             0.3333333333333333,
             "#9c179e"
            ],
            [
             0.4444444444444444,
             "#bd3786"
            ],
            [
             0.5555555555555556,
             "#d8576b"
            ],
            [
             0.6666666666666666,
             "#ed7953"
            ],
            [
             0.7777777777777778,
             "#fb9f3a"
            ],
            [
             0.8888888888888888,
             "#fdca26"
            ],
            [
             1,
             "#f0f921"
            ]
           ]
          },
          "colorway": [
           "#636efa",
           "#EF553B",
           "#00cc96",
           "#ab63fa",
           "#FFA15A",
           "#19d3f3",
           "#FF6692",
           "#B6E880",
           "#FF97FF",
           "#FECB52"
          ],
          "font": {
           "color": "#2a3f5f"
          },
          "geo": {
           "bgcolor": "white",
           "lakecolor": "white",
           "landcolor": "#E5ECF6",
           "showlakes": true,
           "showland": true,
           "subunitcolor": "white"
          },
          "hoverlabel": {
           "align": "left"
          },
          "hovermode": "closest",
          "mapbox": {
           "style": "light"
          },
          "paper_bgcolor": "white",
          "plot_bgcolor": "#E5ECF6",
          "polar": {
           "angularaxis": {
            "gridcolor": "white",
            "linecolor": "white",
            "ticks": ""
           },
           "bgcolor": "#E5ECF6",
           "radialaxis": {
            "gridcolor": "white",
            "linecolor": "white",
            "ticks": ""
           }
          },
          "scene": {
           "xaxis": {
            "backgroundcolor": "#E5ECF6",
            "gridcolor": "white",
            "gridwidth": 2,
            "linecolor": "white",
            "showbackground": true,
            "ticks": "",
            "zerolinecolor": "white"
           },
           "yaxis": {
            "backgroundcolor": "#E5ECF6",
            "gridcolor": "white",
            "gridwidth": 2,
            "linecolor": "white",
            "showbackground": true,
            "ticks": "",
            "zerolinecolor": "white"
           },
           "zaxis": {
            "backgroundcolor": "#E5ECF6",
            "gridcolor": "white",
            "gridwidth": 2,
            "linecolor": "white",
            "showbackground": true,
            "ticks": "",
            "zerolinecolor": "white"
           }
          },
          "shapedefaults": {
           "line": {
            "color": "#2a3f5f"
           }
          },
          "ternary": {
           "aaxis": {
            "gridcolor": "white",
            "linecolor": "white",
            "ticks": ""
           },
           "baxis": {
            "gridcolor": "white",
            "linecolor": "white",
            "ticks": ""
           },
           "bgcolor": "#E5ECF6",
           "caxis": {
            "gridcolor": "white",
            "linecolor": "white",
            "ticks": ""
           }
          },
          "title": {
           "x": 0.05
          },
          "xaxis": {
           "automargin": true,
           "gridcolor": "white",
           "linecolor": "white",
           "ticks": "",
           "title": {
            "standoff": 15
           },
           "zerolinecolor": "white",
           "zerolinewidth": 2
          },
          "yaxis": {
           "automargin": true,
           "gridcolor": "white",
           "linecolor": "white",
           "ticks": "",
           "title": {
            "standoff": 15
           },
           "zerolinecolor": "white",
           "zerolinewidth": 2
          }
         }
        },
        "title": {
         "text": "Number of press releases published per day"
        },
        "xaxis": {
         "anchor": "y",
         "domain": [
          0,
          1
         ],
         "title": {
          "text": "Date"
         }
        },
        "yaxis": {
         "anchor": "x",
         "domain": [
          0,
          1
         ],
         "title": {
          "text": "Number of Articles"
         }
        }
       }
      }
     },
     "metadata": {},
     "output_type": "display_data"
    }
   ],
   "source": [
    "# to prevent depreciation warnings\n",
    "with warnings.catch_warnings():\n",
    "    warnings.simplefilter('ignore')\n",
    "    # plot a timeseries of the total number of articles per day\n",
    "    px.line(df,\n",
    "        x=df.groupby(df['date']).count().index,\n",
    "        y=df.groupby(df['date'])['title'].count(),\n",
    "        title='Number of press releases published per day',\n",
    "        labels={\n",
    "            'y': 'Number of Articles',\n",
    "            'x': 'Date'}).show()"
   ]
  },
  {
   "attachments": {},
   "cell_type": "markdown",
   "metadata": {},
   "source": [
    "When plotting the number of press releases a day for topic 1, we get a more consistent pattern than above on the full dataset, except for the peak of October 21st in 2022."
   ]
  },
  {
   "cell_type": "code",
   "execution_count": 26,
   "metadata": {},
   "outputs": [
    {
     "data": {
      "text/html": [
       "<div>\n",
       "<style scoped>\n",
       "    .dataframe tbody tr th:only-of-type {\n",
       "        vertical-align: middle;\n",
       "    }\n",
       "\n",
       "    .dataframe tbody tr th {\n",
       "        vertical-align: top;\n",
       "    }\n",
       "\n",
       "    .dataframe thead th {\n",
       "        text-align: right;\n",
       "    }\n",
       "</style>\n",
       "<table border=\"1\" class=\"dataframe\">\n",
       "  <thead>\n",
       "    <tr style=\"text-align: right;\">\n",
       "      <th></th>\n",
       "      <th>title</th>\n",
       "    </tr>\n",
       "  </thead>\n",
       "  <tbody>\n",
       "    <tr>\n",
       "      <th>18</th>\n",
       "      <td>Ausschuss für Menschenrechte reist nach Taiwan...</td>\n",
       "    </tr>\n",
       "    <tr>\n",
       "      <th>37</th>\n",
       "      <td>Parlamentariergruppe der Arabischsprachigen St...</td>\n",
       "    </tr>\n",
       "    <tr>\n",
       "      <th>50</th>\n",
       "      <td>Umweltausschuss reist nach Indien</td>\n",
       "    </tr>\n",
       "    <tr>\n",
       "      <th>103</th>\n",
       "      <td>„Drei plus drei wäre die richtige Antwort“Der ...</td>\n",
       "    </tr>\n",
       "    <tr>\n",
       "      <th>108</th>\n",
       "      <td>Trilaterale Präsidiumssitzung in Augsburg fäll...</td>\n",
       "    </tr>\n",
       "    <tr>\n",
       "      <th>195</th>\n",
       "      <td>Haushaltsausschuss reist in die Republik Molda...</td>\n",
       "    </tr>\n",
       "  </tbody>\n",
       "</table>\n",
       "</div>"
      ],
      "text/plain": [
       "                                                 title\n",
       "18   Ausschuss für Menschenrechte reist nach Taiwan...\n",
       "37   Parlamentariergruppe der Arabischsprachigen St...\n",
       "50                   Umweltausschuss reist nach Indien\n",
       "103  „Drei plus drei wäre die richtige Antwort“Der ...\n",
       "108  Trilaterale Präsidiumssitzung in Augsburg fäll...\n",
       "195  Haushaltsausschuss reist in die Republik Molda..."
      ]
     },
     "execution_count": 26,
     "metadata": {},
     "output_type": "execute_result"
    }
   ],
   "source": [
    "# printing titles for press releases of October 21st, 2022\n",
    "df[df.date == '2022-10-21'][['title']]"
   ]
  },
  {
   "attachments": {},
   "cell_type": "markdown",
   "metadata": {},
   "source": [
    "Upon a closer look,the titles suggest October 21st of 2022 was actually a regular day."
   ]
  },
  {
   "attachments": {},
   "cell_type": "markdown",
   "metadata": {},
   "source": [
    "# Conclusion Filtering\n",
    "\n",
    "Eventhough the idea of filtering out public events using topic modelling didn't work quite perfectly, we are going to continue with the approach.\n",
    "\n",
    "In the next step we are going to attempt to extract meaningful topic from the remaining 261 press releases that weren't concerning public parliamental events."
   ]
  },
  {
   "cell_type": "code",
   "execution_count": 27,
   "metadata": {},
   "outputs": [],
   "source": [
    "# storing filtered dataframe\n",
    "df.to_pickle('./bundestag_PMs_filtered.pkl')"
   ]
  }
 ],
 "metadata": {
  "kernelspec": {
   "display_name": "sma",
   "language": "python",
   "name": "python3"
  },
  "language_info": {
   "codemirror_mode": {
    "name": "ipython",
    "version": 3
   },
   "file_extension": ".py",
   "mimetype": "text/x-python",
   "name": "python",
   "nbconvert_exporter": "python",
   "pygments_lexer": "ipython3",
   "version": "3.9.15"
  },
  "orig_nbformat": 4,
  "vscode": {
   "interpreter": {
    "hash": "14ae64f0487ee333503c569916f10532253a9f04b47c0d0052679d672b59b07f"
   }
  }
 },
 "nbformat": 4,
 "nbformat_minor": 2
}
