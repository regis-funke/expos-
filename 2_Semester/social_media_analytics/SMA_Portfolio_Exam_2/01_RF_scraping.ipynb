{
 "cells": [
  {
   "cell_type": "code",
   "execution_count": 1,
   "metadata": {},
   "outputs": [],
   "source": [
    "# imports\n",
    "import numpy as np\n",
    "import pandas as pd\n",
    "\n",
    "import requests\n",
    "\n",
    "from bs4 import BeautifulSoup"
   ]
  },
  {
   "attachments": {},
   "cell_type": "markdown",
   "metadata": {},
   "source": [
    "# SMA Portfolio Exam 2\n",
    "## Part 1 - Scraping"
   ]
  },
  {
   "attachments": {},
   "cell_type": "markdown",
   "metadata": {},
   "source": [
    "# Objective\n",
    "\n",
    "As a social media analyitics agency we have been tasked with researching the communications behaviour of the german parliament by a political thinktank. Due to the nature of the work our client prefers to remain anonymous. The work order is to research, which topics are generally represented and what is their importance and distribution over time.\n",
    "\n",
    "The first step will be to scrape all all accessible press release by the german parliament. These can accessed here: https://www.bundestag.de/presse/pressemitteilungen\n",
    "\n",
    "The available timeframe is from 01.01.2021 to 16.01.2023"
   ]
  },
  {
   "attachments": {},
   "cell_type": "markdown",
   "metadata": {},
   "source": [
    "# Scraping"
   ]
  },
  {
   "attachments": {},
   "cell_type": "markdown",
   "metadata": {},
   "source": [
    "Since it is not possible to directly scrape the press releases from 'https://www.bundestag.de/presse/pressemitteilungen', we have to recreate the 89 pagination links to the pages that acutally contain the press releases. Each pagination link is distinguished by the paramter 'offset' like follows:\n",
    "- https://www.bundestag.de/ajax/filterlist/de/presse/pressemitteilungen/454504-454504?limit=20&noFilterSet=true&offset=0\n",
    "- https://www.bundestag.de/ajax/filterlist/de/presse/pressemitteilungen/454504-454504?limit=20&noFilterSet=true&offset=10\n",
    "- ....\n",
    "- https://www.bundestag.de/ajax/filterlist/de/presse/pressemitteilungen/454504-454504?limit=20&noFilterSet=true&offset=890"
   ]
  },
  {
   "cell_type": "code",
   "execution_count": 2,
   "metadata": {},
   "outputs": [],
   "source": [
    "# list of links to pages of pressemitteilungen\n",
    "\n",
    "# the url without the number for the offset\n",
    "pm_page_stem = 'https://www.bundestag.de/ajax/filterlist/de/presse/pressemitteilungen/454504-454504?limit=20&noFilterSet=true&offset='\n",
    "\n",
    "# all required offsets\n",
    "off_sets = np.arange(0, 890, 10)\n",
    "\n",
    "# empty list to store links\n",
    "pm_page_links = []\n",
    "\n",
    "# loop to create a link for each value of offsets\n",
    "for step in off_sets:\n",
    "    \n",
    "    # appending each link to empty list\n",
    "    # by combining press release page stem with offsets\n",
    "    pm_page_links.append(pm_page_stem + str(step))"
   ]
  },
  {
   "cell_type": "code",
   "execution_count": 3,
   "metadata": {},
   "outputs": [
    {
     "data": {
      "text/plain": [
       "89"
      ]
     },
     "execution_count": 3,
     "metadata": {},
     "output_type": "execute_result"
    }
   ],
   "source": [
    "# printing number of pagination links\n",
    "len(pm_page_links)"
   ]
  },
  {
   "attachments": {},
   "cell_type": "markdown",
   "metadata": {},
   "source": [
    "Now we have a list containing all 89 pagination links. This allows us to open each of these links and grabbing the links to the actual press releases. These links are all contained in the css selector '.bt-link-intern'. "
   ]
  },
  {
   "cell_type": "code",
   "execution_count": 4,
   "metadata": {},
   "outputs": [],
   "source": [
    "# getting links to all pressemitteillungen\n",
    "\n",
    "# intializing empty set to store urls to press relases\n",
    "# some links occur more than once, the set prevents any double entries\n",
    "pm_urls = set()\n",
    "\n",
    "# url stem\n",
    "url_stem = 'https://www.bundestag.de'\n",
    "\n",
    "# loop to iterate over each link to a press release\n",
    "for page_link in pm_page_links:\n",
    "\n",
    "    # configuring BeautifulSoup\n",
    "    soup = BeautifulSoup(requests.get(page_link).text, 'html.parser')\n",
    "\n",
    "    # grabbing the links\n",
    "    links = soup.select('.bt-link-intern')\n",
    "\n",
    "    # appending each link to empty list\n",
    "    # by combining url stem with individual page link\n",
    "    for link in links:\n",
    "        pm_urls.add(url_stem + link.get('href'))"
   ]
  },
  {
   "cell_type": "code",
   "execution_count": 5,
   "metadata": {},
   "outputs": [
    {
     "name": "stdout",
     "output_type": "stream",
     "text": [
      "Number of press releases: 889\n"
     ]
    }
   ],
   "source": [
    "print(f'Number of press releases: {len(pm_urls)}')"
   ]
  },
  {
   "attachments": {},
   "cell_type": "markdown",
   "metadata": {},
   "source": [
    "These leaves with a set of all available direct links to press releases of the german parliament.\n",
    "\n",
    "In the next step we will scrape the desired content from each press release. Each page typically consits of:\n",
    "- date\n",
    "- title\n",
    "- several text paragraphs\n",
    "\n",
    "We are going to extract all of these for each press release and store that content in a dateframe."
   ]
  },
  {
   "cell_type": "code",
   "execution_count": 6,
   "metadata": {},
   "outputs": [],
   "source": [
    "# extracting content of press releases\n",
    "\n",
    "# empty list to store dicts containing content\n",
    "list_of_dicts = []\n",
    "for url in pm_urls:\n",
    "\n",
    "    # cooking soup\n",
    "    soup = BeautifulSoup(requests.get(url).text, 'html.parser')\n",
    "    \n",
    "    # pulling dates\n",
    "    date = soup.select('span.bt-date')[0].text\n",
    "\n",
    "    # pulling titles\n",
    "    title = soup.select('h3.bt-artikel__title')[0].text\n",
    "    \n",
    "    # designating paragraph paths\n",
    "    all_paragraphs = soup.select('.col-md-6 p')\n",
    "    \n",
    "    # selecting all paragraphs\n",
    "    paragraphs = all_paragraphs\n",
    "    \n",
    "    # iterating through each paragraph and joining them\n",
    "    article_text = ' '.join([paragraph.text for paragraph in paragraphs])\n",
    "    \n",
    "    # writing elements to dict\n",
    "    article_dict = {\n",
    "        'date': date,\n",
    "        'title': title,\n",
    "        'text': article_text,\n",
    "        'url': url}\n",
    "\n",
    "    # appending dict to list\n",
    "    list_of_dicts.append(article_dict)"
   ]
  },
  {
   "cell_type": "code",
   "execution_count": 7,
   "metadata": {},
   "outputs": [],
   "source": [
    "# forming dataframe from list of dicts\n",
    "df_raw = pd.DataFrame.from_dict(list_of_dicts)"
   ]
  },
  {
   "cell_type": "code",
   "execution_count": null,
   "metadata": {},
   "outputs": [
    {
     "data": {
      "text/plain": [
       "889"
      ]
     },
     "metadata": {},
     "output_type": "display_data"
    }
   ],
   "source": [
    "# printing length of dataframe\n",
    "len(df_raw)"
   ]
  },
  {
   "attachments": {},
   "cell_type": "markdown",
   "metadata": {},
   "source": [
    "The dataframe has 889 columns, which corresponds to the number of links. So we can assume to have scraped all available links."
   ]
  },
  {
   "cell_type": "code",
   "execution_count": 8,
   "metadata": {},
   "outputs": [
    {
     "data": {
      "text/html": [
       "<div>\n",
       "<style scoped>\n",
       "    .dataframe tbody tr th:only-of-type {\n",
       "        vertical-align: middle;\n",
       "    }\n",
       "\n",
       "    .dataframe tbody tr th {\n",
       "        vertical-align: top;\n",
       "    }\n",
       "\n",
       "    .dataframe thead th {\n",
       "        text-align: right;\n",
       "    }\n",
       "</style>\n",
       "<table border=\"1\" class=\"dataframe\">\n",
       "  <thead>\n",
       "    <tr style=\"text-align: right;\">\n",
       "      <th></th>\n",
       "      <th>date</th>\n",
       "      <th>title</th>\n",
       "      <th>text</th>\n",
       "      <th>url</th>\n",
       "    </tr>\n",
       "  </thead>\n",
       "  <tbody>\n",
       "    <tr>\n",
       "      <th>0</th>\n",
       "      <td>\\n               8. September 2022</td>\n",
       "      <td>Tagung der Vorsitzenden und stellvertretenden ...</td>\n",
       "      <td>\\nZeit:\\n    Montag, 12. September 2022,\\n    ...</td>\n",
       "      <td>https://www.bundestag.de/presse/pressemitteilu...</td>\n",
       "    </tr>\n",
       "    <tr>\n",
       "      <th>1</th>\n",
       "      <td>\\n               24. Juni 2022</td>\n",
       "      <td>Delegation des Ausschusses für Klimaschutz und...</td>\n",
       "      <td>Norwegen ist vom 27. bis zum 29. Juni 2022 das...</td>\n",
       "      <td>https://www.bundestag.de/presse/pressemitteilu...</td>\n",
       "    </tr>\n",
       "    <tr>\n",
       "      <th>2</th>\n",
       "      <td>\\n               11. Februar 2021</td>\n",
       "      <td>Kinderkommission zum Red Hand Day am 12. Febru...</td>\n",
       "      <td>Der Red Hand Day am 12. Februar ist in vielen ...</td>\n",
       "      <td>https://www.bundestag.de/presse/pressemitteilu...</td>\n",
       "    </tr>\n",
       "  </tbody>\n",
       "</table>\n",
       "</div>"
      ],
      "text/plain": [
       "                                 date  \\\n",
       "0  \\n               8. September 2022   \n",
       "1      \\n               24. Juni 2022   \n",
       "2   \\n               11. Februar 2021   \n",
       "\n",
       "                                               title  \\\n",
       "0  Tagung der Vorsitzenden und stellvertretenden ...   \n",
       "1  Delegation des Ausschusses für Klimaschutz und...   \n",
       "2  Kinderkommission zum Red Hand Day am 12. Febru...   \n",
       "\n",
       "                                                text  \\\n",
       "0  \\nZeit:\\n    Montag, 12. September 2022,\\n    ...   \n",
       "1  Norwegen ist vom 27. bis zum 29. Juni 2022 das...   \n",
       "2  Der Red Hand Day am 12. Februar ist in vielen ...   \n",
       "\n",
       "                                                 url  \n",
       "0  https://www.bundestag.de/presse/pressemitteilu...  \n",
       "1  https://www.bundestag.de/presse/pressemitteilu...  \n",
       "2  https://www.bundestag.de/presse/pressemitteilu...  "
      ]
     },
     "execution_count": 8,
     "metadata": {},
     "output_type": "execute_result"
    }
   ],
   "source": [
    "# displaying first three rows of dataframe\n",
    "df_raw.head(3)"
   ]
  },
  {
   "cell_type": "markdown",
   "metadata": {},
   "source": [
    "\n",
    "The date column does not have a machine readable format, so we are going to fix that next."
   ]
  },
  {
   "cell_type": "code",
   "execution_count": 10,
   "metadata": {},
   "outputs": [],
   "source": [
    "# date cleaning\n",
    "\n",
    "# stripping white spaces and line breaks\n",
    "df_raw['date'] = df_raw['date'].str.strip()\n",
    "\n",
    "# conerting date column\n",
    "import locale\n",
    "locale.setlocale(locale.LC_ALL, 'de_DE')\n",
    "df_raw['date'] = pd.to_datetime(df_raw['date'], format='%d. %B %Y')"
   ]
  },
  {
   "cell_type": "code",
   "execution_count": 11,
   "metadata": {},
   "outputs": [],
   "source": [
    "# reordering columns\n",
    "df = df_raw[['date', 'title', 'text', 'url']]"
   ]
  },
  {
   "cell_type": "code",
   "execution_count": 12,
   "metadata": {},
   "outputs": [
    {
     "data": {
      "text/html": [
       "<div>\n",
       "<style scoped>\n",
       "    .dataframe tbody tr th:only-of-type {\n",
       "        vertical-align: middle;\n",
       "    }\n",
       "\n",
       "    .dataframe tbody tr th {\n",
       "        vertical-align: top;\n",
       "    }\n",
       "\n",
       "    .dataframe thead th {\n",
       "        text-align: right;\n",
       "    }\n",
       "</style>\n",
       "<table border=\"1\" class=\"dataframe\">\n",
       "  <thead>\n",
       "    <tr style=\"text-align: right;\">\n",
       "      <th></th>\n",
       "      <th>date</th>\n",
       "      <th>title</th>\n",
       "      <th>text</th>\n",
       "      <th>url</th>\n",
       "    </tr>\n",
       "  </thead>\n",
       "  <tbody>\n",
       "    <tr>\n",
       "      <th>0</th>\n",
       "      <td>2022-09-08</td>\n",
       "      <td>Tagung der Vorsitzenden und stellvertretenden ...</td>\n",
       "      <td>\\nZeit:\\n    Montag, 12. September 2022,\\n    ...</td>\n",
       "      <td>https://www.bundestag.de/presse/pressemitteilu...</td>\n",
       "    </tr>\n",
       "    <tr>\n",
       "      <th>1</th>\n",
       "      <td>2022-06-24</td>\n",
       "      <td>Delegation des Ausschusses für Klimaschutz und...</td>\n",
       "      <td>Norwegen ist vom 27. bis zum 29. Juni 2022 das...</td>\n",
       "      <td>https://www.bundestag.de/presse/pressemitteilu...</td>\n",
       "    </tr>\n",
       "    <tr>\n",
       "      <th>2</th>\n",
       "      <td>2021-02-11</td>\n",
       "      <td>Kinderkommission zum Red Hand Day am 12. Febru...</td>\n",
       "      <td>Der Red Hand Day am 12. Februar ist in vielen ...</td>\n",
       "      <td>https://www.bundestag.de/presse/pressemitteilu...</td>\n",
       "    </tr>\n",
       "    <tr>\n",
       "      <th>3</th>\n",
       "      <td>2021-06-04</td>\n",
       "      <td>Öffentliche Sitzung des 3. Untersuchungsaussch...</td>\n",
       "      <td>\\nZeit:\\n    Dienstag, 8. Juni 2021,\\n      14...</td>\n",
       "      <td>https://www.bundestag.de/presse/pressemitteilu...</td>\n",
       "    </tr>\n",
       "    <tr>\n",
       "      <th>4</th>\n",
       "      <td>2022-11-08</td>\n",
       "      <td>Konstituierung des Gremiums „Sondervermögen Bu...</td>\n",
       "      <td>Der Haushaltsausschuss des Deutschen Bundestag...</td>\n",
       "      <td>https://www.bundestag.de/presse/pressemitteilu...</td>\n",
       "    </tr>\n",
       "    <tr>\n",
       "      <th>...</th>\n",
       "      <td>...</td>\n",
       "      <td>...</td>\n",
       "      <td>...</td>\n",
       "      <td>...</td>\n",
       "    </tr>\n",
       "    <tr>\n",
       "      <th>884</th>\n",
       "      <td>2021-11-26</td>\n",
       "      <td>Bundestagspräsidentin Bas entzündet das erste ...</td>\n",
       "      <td>\\nZeit:\\n    Sonntag, 28. November 2021,\\n    ...</td>\n",
       "      <td>https://www.bundestag.de/presse/pressemitteilu...</td>\n",
       "    </tr>\n",
       "    <tr>\n",
       "      <th>885</th>\n",
       "      <td>2022-09-30</td>\n",
       "      <td>Der Freundeskreis Berlin-Taipei besucht Taiwan</td>\n",
       "      <td>Vom 1. bis 7. Oktober 2022 reist eine Delegati...</td>\n",
       "      <td>https://www.bundestag.de/presse/pressemitteilu...</td>\n",
       "    </tr>\n",
       "    <tr>\n",
       "      <th>886</th>\n",
       "      <td>2021-05-14</td>\n",
       "      <td>Öffentliche Sitzung des Innenausschusses zum T...</td>\n",
       "      <td>\\nZeit:\\n    Montag, 17. Mai 2021,\\n      15.0...</td>\n",
       "      <td>https://www.bundestag.de/presse/pressemitteilu...</td>\n",
       "    </tr>\n",
       "    <tr>\n",
       "      <th>887</th>\n",
       "      <td>2021-03-17</td>\n",
       "      <td>Öffentliche Sitzung des Umweltausschusses zum ...</td>\n",
       "      <td>\\nZeit:\\n    Montag, 22. März 2021,\\n      14....</td>\n",
       "      <td>https://www.bundestag.de/presse/pressemitteilu...</td>\n",
       "    </tr>\n",
       "    <tr>\n",
       "      <th>888</th>\n",
       "      <td>2022-09-05</td>\n",
       "      <td>Ralph Tiesler, Präsident des Bundesamtes für B...</td>\n",
       "      <td>Vorabmeldung zu einem Interview in der nächste...</td>\n",
       "      <td>https://www.bundestag.de/presse/pressemitteilu...</td>\n",
       "    </tr>\n",
       "  </tbody>\n",
       "</table>\n",
       "<p>889 rows × 4 columns</p>\n",
       "</div>"
      ],
      "text/plain": [
       "          date                                              title  \\\n",
       "0   2022-09-08  Tagung der Vorsitzenden und stellvertretenden ...   \n",
       "1   2022-06-24  Delegation des Ausschusses für Klimaschutz und...   \n",
       "2   2021-02-11  Kinderkommission zum Red Hand Day am 12. Febru...   \n",
       "3   2021-06-04  Öffentliche Sitzung des 3. Untersuchungsaussch...   \n",
       "4   2022-11-08  Konstituierung des Gremiums „Sondervermögen Bu...   \n",
       "..         ...                                                ...   \n",
       "884 2021-11-26  Bundestagspräsidentin Bas entzündet das erste ...   \n",
       "885 2022-09-30     Der Freundeskreis Berlin-Taipei besucht Taiwan   \n",
       "886 2021-05-14  Öffentliche Sitzung des Innenausschusses zum T...   \n",
       "887 2021-03-17  Öffentliche Sitzung des Umweltausschusses zum ...   \n",
       "888 2022-09-05  Ralph Tiesler, Präsident des Bundesamtes für B...   \n",
       "\n",
       "                                                  text  \\\n",
       "0    \\nZeit:\\n    Montag, 12. September 2022,\\n    ...   \n",
       "1    Norwegen ist vom 27. bis zum 29. Juni 2022 das...   \n",
       "2    Der Red Hand Day am 12. Februar ist in vielen ...   \n",
       "3    \\nZeit:\\n    Dienstag, 8. Juni 2021,\\n      14...   \n",
       "4    Der Haushaltsausschuss des Deutschen Bundestag...   \n",
       "..                                                 ...   \n",
       "884  \\nZeit:\\n    Sonntag, 28. November 2021,\\n    ...   \n",
       "885  Vom 1. bis 7. Oktober 2022 reist eine Delegati...   \n",
       "886  \\nZeit:\\n    Montag, 17. Mai 2021,\\n      15.0...   \n",
       "887  \\nZeit:\\n    Montag, 22. März 2021,\\n      14....   \n",
       "888  Vorabmeldung zu einem Interview in der nächste...   \n",
       "\n",
       "                                                   url  \n",
       "0    https://www.bundestag.de/presse/pressemitteilu...  \n",
       "1    https://www.bundestag.de/presse/pressemitteilu...  \n",
       "2    https://www.bundestag.de/presse/pressemitteilu...  \n",
       "3    https://www.bundestag.de/presse/pressemitteilu...  \n",
       "4    https://www.bundestag.de/presse/pressemitteilu...  \n",
       "..                                                 ...  \n",
       "884  https://www.bundestag.de/presse/pressemitteilu...  \n",
       "885  https://www.bundestag.de/presse/pressemitteilu...  \n",
       "886  https://www.bundestag.de/presse/pressemitteilu...  \n",
       "887  https://www.bundestag.de/presse/pressemitteilu...  \n",
       "888  https://www.bundestag.de/presse/pressemitteilu...  \n",
       "\n",
       "[889 rows x 4 columns]"
      ]
     },
     "execution_count": 12,
     "metadata": {},
     "output_type": "execute_result"
    }
   ],
   "source": [
    "df"
   ]
  },
  {
   "cell_type": "code",
   "execution_count": 13,
   "metadata": {},
   "outputs": [],
   "source": [
    "# storing dataframe for futher processing\n",
    "df.to_pickle('./bundestag_PMs.pkl')"
   ]
  },
  {
   "attachments": {},
   "cell_type": "markdown",
   "metadata": {},
   "source": [
    "The experiment will be continued in 02_RF_filtering.ipynb"
   ]
  }
 ],
 "metadata": {
  "kernelspec": {
   "display_name": "sma",
   "language": "python",
   "name": "python3"
  },
  "language_info": {
   "codemirror_mode": {
    "name": "ipython",
    "version": 3
   },
   "file_extension": ".py",
   "mimetype": "text/x-python",
   "name": "python",
   "nbconvert_exporter": "python",
   "pygments_lexer": "ipython3",
   "version": "3.9.15 | packaged by conda-forge | (main, Nov 22 2022, 08:48:25) \n[Clang 14.0.6 ]"
  },
  "orig_nbformat": 4,
  "vscode": {
   "interpreter": {
    "hash": "14ae64f0487ee333503c569916f10532253a9f04b47c0d0052679d672b59b07f"
   }
  }
 },
 "nbformat": 4,
 "nbformat_minor": 2
}
