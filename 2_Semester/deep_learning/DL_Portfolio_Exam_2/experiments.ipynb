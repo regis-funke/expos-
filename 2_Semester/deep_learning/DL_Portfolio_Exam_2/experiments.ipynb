{
 "cells": [
  {
   "attachments": {},
   "cell_type": "markdown",
   "metadata": {},
   "source": [
    "# Deep Learning Exam Part II"
   ]
  },
  {
   "cell_type": "code",
   "execution_count": 1,
   "metadata": {},
   "outputs": [],
   "source": [
    "# importing libraries, modules and packages\n",
    "import time\n",
    "import copy\n",
    "from io import BytesIO\n",
    "\n",
    "from urllib.request import urlopen\n",
    "from zipfile import ZipFile\n",
    "\n",
    "import numpy as np\n",
    "import pandas as pd\n",
    "\n",
    "import plotly_express as px\n",
    "\n",
    "from sklearn.preprocessing import MinMaxScaler\n",
    "from sklearn.model_selection import train_test_split\n",
    "from sklearn.metrics import balanced_accuracy_score\n",
    "\n",
    "import torch\n",
    "import torch.nn as nn\n",
    "from torch.utils.tensorboard import SummaryWriter\n",
    "torch.set_default_dtype(torch.float)\n",
    "\n",
    "from ray import tune\n",
    "\n",
    "from sklearn.preprocessing import StandardScaler\n",
    "from sklearn.svm import SVC\n",
    "from sklearn.model_selection import GridSearchCV\n",
    "from sklearn.model_selection import RepeatedStratifiedKFold\n",
    "from sklearn.pipeline import Pipeline"
   ]
  },
  {
   "attachments": {},
   "cell_type": "markdown",
   "metadata": {},
   "source": [
    "# Customer and Task\n",
    "\n",
    "This a contiuation of a job we performed for a bank which provided us with annonymised data of 1000 customers.\n",
    "\n",
    "Our last objective was to investigate whether it's possible to create a statistical model to predict, which customers will pay back their credit in full and which will default on their credit obligation using machine learning approaches. There able to predict a credit default with balanced accuracy of 67.4%.\n",
    "\n",
    "Based on this we were hired and funded again to continue this investigation using a neural network approach in order to more accurately predict defaulting customers."
   ]
  },
  {
   "cell_type": "code",
   "execution_count": 2,
   "metadata": {},
   "outputs": [],
   "source": [
    "# saving current time\n",
    "start_time = time.time()"
   ]
  },
  {
   "attachments": {},
   "cell_type": "markdown",
   "metadata": {},
   "source": [
    "# Ingesting Data"
   ]
  },
  {
   "cell_type": "code",
   "execution_count": 3,
   "metadata": {},
   "outputs": [],
   "source": [
    "# downloading the zip file\n",
    "resp = urlopen('https://archive.ics.uci.edu/ml/machine-learning-databases/00522/SouthGermanCredit.zip')\n",
    "\n",
    "# opening file and storing contents\n",
    "zipfile = ZipFile(BytesIO(resp.read()))\n",
    "\n",
    "# turning data into a table and storing as 'credit_data'\n",
    "credit_data = pd.read_csv(zipfile.open('SouthGermanCredit.asc'), delimiter=' ')"
   ]
  },
  {
   "cell_type": "markdown",
   "metadata": {},
   "source": [
    "## Inspecting data"
   ]
  },
  {
   "cell_type": "code",
   "execution_count": 4,
   "metadata": {},
   "outputs": [
    {
     "data": {
      "text/html": [
       "<div>\n",
       "<style scoped>\n",
       "    .dataframe tbody tr th:only-of-type {\n",
       "        vertical-align: middle;\n",
       "    }\n",
       "\n",
       "    .dataframe tbody tr th {\n",
       "        vertical-align: top;\n",
       "    }\n",
       "\n",
       "    .dataframe thead th {\n",
       "        text-align: right;\n",
       "    }\n",
       "</style>\n",
       "<table border=\"1\" class=\"dataframe\">\n",
       "  <thead>\n",
       "    <tr style=\"text-align: right;\">\n",
       "      <th></th>\n",
       "      <th>laufkont</th>\n",
       "      <th>laufzeit</th>\n",
       "      <th>moral</th>\n",
       "      <th>verw</th>\n",
       "      <th>hoehe</th>\n",
       "      <th>sparkont</th>\n",
       "      <th>beszeit</th>\n",
       "      <th>rate</th>\n",
       "      <th>famges</th>\n",
       "      <th>buerge</th>\n",
       "      <th>...</th>\n",
       "      <th>verm</th>\n",
       "      <th>alter</th>\n",
       "      <th>weitkred</th>\n",
       "      <th>wohn</th>\n",
       "      <th>bishkred</th>\n",
       "      <th>beruf</th>\n",
       "      <th>pers</th>\n",
       "      <th>telef</th>\n",
       "      <th>gastarb</th>\n",
       "      <th>kredit</th>\n",
       "    </tr>\n",
       "  </thead>\n",
       "  <tbody>\n",
       "    <tr>\n",
       "      <th>0</th>\n",
       "      <td>1</td>\n",
       "      <td>18</td>\n",
       "      <td>4</td>\n",
       "      <td>2</td>\n",
       "      <td>1049</td>\n",
       "      <td>1</td>\n",
       "      <td>2</td>\n",
       "      <td>4</td>\n",
       "      <td>2</td>\n",
       "      <td>1</td>\n",
       "      <td>...</td>\n",
       "      <td>2</td>\n",
       "      <td>21</td>\n",
       "      <td>3</td>\n",
       "      <td>1</td>\n",
       "      <td>1</td>\n",
       "      <td>3</td>\n",
       "      <td>2</td>\n",
       "      <td>1</td>\n",
       "      <td>2</td>\n",
       "      <td>1</td>\n",
       "    </tr>\n",
       "    <tr>\n",
       "      <th>1</th>\n",
       "      <td>1</td>\n",
       "      <td>9</td>\n",
       "      <td>4</td>\n",
       "      <td>0</td>\n",
       "      <td>2799</td>\n",
       "      <td>1</td>\n",
       "      <td>3</td>\n",
       "      <td>2</td>\n",
       "      <td>3</td>\n",
       "      <td>1</td>\n",
       "      <td>...</td>\n",
       "      <td>1</td>\n",
       "      <td>36</td>\n",
       "      <td>3</td>\n",
       "      <td>1</td>\n",
       "      <td>2</td>\n",
       "      <td>3</td>\n",
       "      <td>1</td>\n",
       "      <td>1</td>\n",
       "      <td>2</td>\n",
       "      <td>1</td>\n",
       "    </tr>\n",
       "    <tr>\n",
       "      <th>2</th>\n",
       "      <td>2</td>\n",
       "      <td>12</td>\n",
       "      <td>2</td>\n",
       "      <td>9</td>\n",
       "      <td>841</td>\n",
       "      <td>2</td>\n",
       "      <td>4</td>\n",
       "      <td>2</td>\n",
       "      <td>2</td>\n",
       "      <td>1</td>\n",
       "      <td>...</td>\n",
       "      <td>1</td>\n",
       "      <td>23</td>\n",
       "      <td>3</td>\n",
       "      <td>1</td>\n",
       "      <td>1</td>\n",
       "      <td>2</td>\n",
       "      <td>2</td>\n",
       "      <td>1</td>\n",
       "      <td>2</td>\n",
       "      <td>1</td>\n",
       "    </tr>\n",
       "  </tbody>\n",
       "</table>\n",
       "<p>3 rows × 21 columns</p>\n",
       "</div>"
      ],
      "text/plain": [
       "   laufkont  laufzeit  moral  verw  hoehe  sparkont  beszeit  rate  famges  \\\n",
       "0         1        18      4     2   1049         1        2     4       2   \n",
       "1         1         9      4     0   2799         1        3     2       3   \n",
       "2         2        12      2     9    841         2        4     2       2   \n",
       "\n",
       "   buerge  ...  verm  alter  weitkred  wohn  bishkred  beruf  pers  telef  \\\n",
       "0       1  ...     2     21         3     1         1      3     2      1   \n",
       "1       1  ...     1     36         3     1         2      3     1      1   \n",
       "2       1  ...     1     23         3     1         1      2     2      1   \n",
       "\n",
       "   gastarb  kredit  \n",
       "0        2       1  \n",
       "1        2       1  \n",
       "2        2       1  \n",
       "\n",
       "[3 rows x 21 columns]"
      ]
     },
     "execution_count": 4,
     "metadata": {},
     "output_type": "execute_result"
    }
   ],
   "source": [
    "# inspecting the first three rows\n",
    "credit_data.head(3)"
   ]
  },
  {
   "cell_type": "code",
   "execution_count": 5,
   "metadata": {},
   "outputs": [
    {
     "data": {
      "text/html": [
       "<div>\n",
       "<style scoped>\n",
       "    .dataframe tbody tr th:only-of-type {\n",
       "        vertical-align: middle;\n",
       "    }\n",
       "\n",
       "    .dataframe tbody tr th {\n",
       "        vertical-align: top;\n",
       "    }\n",
       "\n",
       "    .dataframe thead th {\n",
       "        text-align: right;\n",
       "    }\n",
       "</style>\n",
       "<table border=\"1\" class=\"dataframe\">\n",
       "  <thead>\n",
       "    <tr style=\"text-align: right;\">\n",
       "      <th></th>\n",
       "      <th>laufkont</th>\n",
       "      <th>laufzeit</th>\n",
       "      <th>moral</th>\n",
       "      <th>verw</th>\n",
       "      <th>hoehe</th>\n",
       "      <th>sparkont</th>\n",
       "      <th>beszeit</th>\n",
       "      <th>rate</th>\n",
       "      <th>famges</th>\n",
       "      <th>buerge</th>\n",
       "      <th>...</th>\n",
       "      <th>verm</th>\n",
       "      <th>alter</th>\n",
       "      <th>weitkred</th>\n",
       "      <th>wohn</th>\n",
       "      <th>bishkred</th>\n",
       "      <th>beruf</th>\n",
       "      <th>pers</th>\n",
       "      <th>telef</th>\n",
       "      <th>gastarb</th>\n",
       "      <th>kredit</th>\n",
       "    </tr>\n",
       "  </thead>\n",
       "  <tbody>\n",
       "    <tr>\n",
       "      <th>997</th>\n",
       "      <td>4</td>\n",
       "      <td>21</td>\n",
       "      <td>4</td>\n",
       "      <td>0</td>\n",
       "      <td>12680</td>\n",
       "      <td>5</td>\n",
       "      <td>5</td>\n",
       "      <td>4</td>\n",
       "      <td>3</td>\n",
       "      <td>1</td>\n",
       "      <td>...</td>\n",
       "      <td>4</td>\n",
       "      <td>30</td>\n",
       "      <td>3</td>\n",
       "      <td>3</td>\n",
       "      <td>1</td>\n",
       "      <td>4</td>\n",
       "      <td>2</td>\n",
       "      <td>2</td>\n",
       "      <td>2</td>\n",
       "      <td>0</td>\n",
       "    </tr>\n",
       "    <tr>\n",
       "      <th>998</th>\n",
       "      <td>2</td>\n",
       "      <td>12</td>\n",
       "      <td>2</td>\n",
       "      <td>3</td>\n",
       "      <td>6468</td>\n",
       "      <td>5</td>\n",
       "      <td>1</td>\n",
       "      <td>2</td>\n",
       "      <td>3</td>\n",
       "      <td>1</td>\n",
       "      <td>...</td>\n",
       "      <td>4</td>\n",
       "      <td>52</td>\n",
       "      <td>3</td>\n",
       "      <td>2</td>\n",
       "      <td>1</td>\n",
       "      <td>4</td>\n",
       "      <td>2</td>\n",
       "      <td>2</td>\n",
       "      <td>2</td>\n",
       "      <td>0</td>\n",
       "    </tr>\n",
       "    <tr>\n",
       "      <th>999</th>\n",
       "      <td>1</td>\n",
       "      <td>30</td>\n",
       "      <td>2</td>\n",
       "      <td>2</td>\n",
       "      <td>6350</td>\n",
       "      <td>5</td>\n",
       "      <td>5</td>\n",
       "      <td>4</td>\n",
       "      <td>3</td>\n",
       "      <td>1</td>\n",
       "      <td>...</td>\n",
       "      <td>2</td>\n",
       "      <td>31</td>\n",
       "      <td>3</td>\n",
       "      <td>2</td>\n",
       "      <td>1</td>\n",
       "      <td>3</td>\n",
       "      <td>2</td>\n",
       "      <td>1</td>\n",
       "      <td>2</td>\n",
       "      <td>0</td>\n",
       "    </tr>\n",
       "  </tbody>\n",
       "</table>\n",
       "<p>3 rows × 21 columns</p>\n",
       "</div>"
      ],
      "text/plain": [
       "     laufkont  laufzeit  moral  verw  hoehe  sparkont  beszeit  rate  famges  \\\n",
       "997         4        21      4     0  12680         5        5     4       3   \n",
       "998         2        12      2     3   6468         5        1     2       3   \n",
       "999         1        30      2     2   6350         5        5     4       3   \n",
       "\n",
       "     buerge  ...  verm  alter  weitkred  wohn  bishkred  beruf  pers  telef  \\\n",
       "997       1  ...     4     30         3     3         1      4     2      2   \n",
       "998       1  ...     4     52         3     2         1      4     2      2   \n",
       "999       1  ...     2     31         3     2         1      3     2      1   \n",
       "\n",
       "     gastarb  kredit  \n",
       "997        2       0  \n",
       "998        2       0  \n",
       "999        2       0  \n",
       "\n",
       "[3 rows x 21 columns]"
      ]
     },
     "execution_count": 5,
     "metadata": {},
     "output_type": "execute_result"
    }
   ],
   "source": [
    "# inspecting the last three rows\n",
    "credit_data.tail(3)"
   ]
  },
  {
   "attachments": {},
   "cell_type": "markdown",
   "metadata": {},
   "source": [
    "The following elements up to 'Data Preparation for Machine Learning' are quoted from our previous work for this customer. These include:\n",
    "- Describe Dateframe\n",
    "- Variable Description\n",
    "- Explorative Data Analysis"
   ]
  },
  {
   "cell_type": "markdown",
   "metadata": {},
   "source": [
    "## Describe Dataframe"
   ]
  },
  {
   "cell_type": "markdown",
   "metadata": {},
   "source": [
    "The dataframe has 21 features one of which is the target class. There are 17 categorical and 3 numerical attributes.\n",
    "The categorical attributes already being encoded into ordinal spares us from having to do this during the data preparation. So there no need to incorporate the encodation into the preprocessing pipeline, though it does require manipulation for decent visualisation."
   ]
  },
  {
   "cell_type": "code",
   "execution_count": 6,
   "metadata": {},
   "outputs": [
    {
     "data": {
      "text/html": [
       "<div>\n",
       "<style scoped>\n",
       "    .dataframe tbody tr th:only-of-type {\n",
       "        vertical-align: middle;\n",
       "    }\n",
       "\n",
       "    .dataframe tbody tr th {\n",
       "        vertical-align: top;\n",
       "    }\n",
       "\n",
       "    .dataframe thead th {\n",
       "        text-align: right;\n",
       "    }\n",
       "</style>\n",
       "<table border=\"1\" class=\"dataframe\">\n",
       "  <thead>\n",
       "    <tr style=\"text-align: right;\">\n",
       "      <th></th>\n",
       "      <th>count</th>\n",
       "      <th>mean</th>\n",
       "      <th>std</th>\n",
       "      <th>min</th>\n",
       "      <th>25%</th>\n",
       "      <th>50%</th>\n",
       "      <th>75%</th>\n",
       "      <th>max</th>\n",
       "    </tr>\n",
       "  </thead>\n",
       "  <tbody>\n",
       "    <tr>\n",
       "      <th>laufkont</th>\n",
       "      <td>1000.0</td>\n",
       "      <td>2.577</td>\n",
       "      <td>1.257638</td>\n",
       "      <td>1.0</td>\n",
       "      <td>1.0</td>\n",
       "      <td>2.0</td>\n",
       "      <td>4.00</td>\n",
       "      <td>4.0</td>\n",
       "    </tr>\n",
       "    <tr>\n",
       "      <th>laufzeit</th>\n",
       "      <td>1000.0</td>\n",
       "      <td>20.903</td>\n",
       "      <td>12.058814</td>\n",
       "      <td>4.0</td>\n",
       "      <td>12.0</td>\n",
       "      <td>18.0</td>\n",
       "      <td>24.00</td>\n",
       "      <td>72.0</td>\n",
       "    </tr>\n",
       "    <tr>\n",
       "      <th>moral</th>\n",
       "      <td>1000.0</td>\n",
       "      <td>2.545</td>\n",
       "      <td>1.083120</td>\n",
       "      <td>0.0</td>\n",
       "      <td>2.0</td>\n",
       "      <td>2.0</td>\n",
       "      <td>4.00</td>\n",
       "      <td>4.0</td>\n",
       "    </tr>\n",
       "    <tr>\n",
       "      <th>verw</th>\n",
       "      <td>1000.0</td>\n",
       "      <td>2.828</td>\n",
       "      <td>2.744439</td>\n",
       "      <td>0.0</td>\n",
       "      <td>1.0</td>\n",
       "      <td>2.0</td>\n",
       "      <td>3.00</td>\n",
       "      <td>10.0</td>\n",
       "    </tr>\n",
       "    <tr>\n",
       "      <th>hoehe</th>\n",
       "      <td>1000.0</td>\n",
       "      <td>3271.248</td>\n",
       "      <td>2822.751760</td>\n",
       "      <td>250.0</td>\n",
       "      <td>1365.5</td>\n",
       "      <td>2319.5</td>\n",
       "      <td>3972.25</td>\n",
       "      <td>18424.0</td>\n",
       "    </tr>\n",
       "    <tr>\n",
       "      <th>sparkont</th>\n",
       "      <td>1000.0</td>\n",
       "      <td>2.105</td>\n",
       "      <td>1.580023</td>\n",
       "      <td>1.0</td>\n",
       "      <td>1.0</td>\n",
       "      <td>1.0</td>\n",
       "      <td>3.00</td>\n",
       "      <td>5.0</td>\n",
       "    </tr>\n",
       "    <tr>\n",
       "      <th>beszeit</th>\n",
       "      <td>1000.0</td>\n",
       "      <td>3.384</td>\n",
       "      <td>1.208306</td>\n",
       "      <td>1.0</td>\n",
       "      <td>3.0</td>\n",
       "      <td>3.0</td>\n",
       "      <td>5.00</td>\n",
       "      <td>5.0</td>\n",
       "    </tr>\n",
       "    <tr>\n",
       "      <th>rate</th>\n",
       "      <td>1000.0</td>\n",
       "      <td>2.973</td>\n",
       "      <td>1.118715</td>\n",
       "      <td>1.0</td>\n",
       "      <td>2.0</td>\n",
       "      <td>3.0</td>\n",
       "      <td>4.00</td>\n",
       "      <td>4.0</td>\n",
       "    </tr>\n",
       "    <tr>\n",
       "      <th>famges</th>\n",
       "      <td>1000.0</td>\n",
       "      <td>2.682</td>\n",
       "      <td>0.708080</td>\n",
       "      <td>1.0</td>\n",
       "      <td>2.0</td>\n",
       "      <td>3.0</td>\n",
       "      <td>3.00</td>\n",
       "      <td>4.0</td>\n",
       "    </tr>\n",
       "    <tr>\n",
       "      <th>buerge</th>\n",
       "      <td>1000.0</td>\n",
       "      <td>1.145</td>\n",
       "      <td>0.477706</td>\n",
       "      <td>1.0</td>\n",
       "      <td>1.0</td>\n",
       "      <td>1.0</td>\n",
       "      <td>1.00</td>\n",
       "      <td>3.0</td>\n",
       "    </tr>\n",
       "    <tr>\n",
       "      <th>wohnzeit</th>\n",
       "      <td>1000.0</td>\n",
       "      <td>2.845</td>\n",
       "      <td>1.103718</td>\n",
       "      <td>1.0</td>\n",
       "      <td>2.0</td>\n",
       "      <td>3.0</td>\n",
       "      <td>4.00</td>\n",
       "      <td>4.0</td>\n",
       "    </tr>\n",
       "    <tr>\n",
       "      <th>verm</th>\n",
       "      <td>1000.0</td>\n",
       "      <td>2.358</td>\n",
       "      <td>1.050209</td>\n",
       "      <td>1.0</td>\n",
       "      <td>1.0</td>\n",
       "      <td>2.0</td>\n",
       "      <td>3.00</td>\n",
       "      <td>4.0</td>\n",
       "    </tr>\n",
       "    <tr>\n",
       "      <th>alter</th>\n",
       "      <td>1000.0</td>\n",
       "      <td>35.542</td>\n",
       "      <td>11.352670</td>\n",
       "      <td>19.0</td>\n",
       "      <td>27.0</td>\n",
       "      <td>33.0</td>\n",
       "      <td>42.00</td>\n",
       "      <td>75.0</td>\n",
       "    </tr>\n",
       "    <tr>\n",
       "      <th>weitkred</th>\n",
       "      <td>1000.0</td>\n",
       "      <td>2.675</td>\n",
       "      <td>0.705601</td>\n",
       "      <td>1.0</td>\n",
       "      <td>3.0</td>\n",
       "      <td>3.0</td>\n",
       "      <td>3.00</td>\n",
       "      <td>3.0</td>\n",
       "    </tr>\n",
       "    <tr>\n",
       "      <th>wohn</th>\n",
       "      <td>1000.0</td>\n",
       "      <td>1.928</td>\n",
       "      <td>0.530186</td>\n",
       "      <td>1.0</td>\n",
       "      <td>2.0</td>\n",
       "      <td>2.0</td>\n",
       "      <td>2.00</td>\n",
       "      <td>3.0</td>\n",
       "    </tr>\n",
       "    <tr>\n",
       "      <th>bishkred</th>\n",
       "      <td>1000.0</td>\n",
       "      <td>1.407</td>\n",
       "      <td>0.577654</td>\n",
       "      <td>1.0</td>\n",
       "      <td>1.0</td>\n",
       "      <td>1.0</td>\n",
       "      <td>2.00</td>\n",
       "      <td>4.0</td>\n",
       "    </tr>\n",
       "    <tr>\n",
       "      <th>beruf</th>\n",
       "      <td>1000.0</td>\n",
       "      <td>2.904</td>\n",
       "      <td>0.653614</td>\n",
       "      <td>1.0</td>\n",
       "      <td>3.0</td>\n",
       "      <td>3.0</td>\n",
       "      <td>3.00</td>\n",
       "      <td>4.0</td>\n",
       "    </tr>\n",
       "    <tr>\n",
       "      <th>pers</th>\n",
       "      <td>1000.0</td>\n",
       "      <td>1.845</td>\n",
       "      <td>0.362086</td>\n",
       "      <td>1.0</td>\n",
       "      <td>2.0</td>\n",
       "      <td>2.0</td>\n",
       "      <td>2.00</td>\n",
       "      <td>2.0</td>\n",
       "    </tr>\n",
       "    <tr>\n",
       "      <th>telef</th>\n",
       "      <td>1000.0</td>\n",
       "      <td>1.404</td>\n",
       "      <td>0.490943</td>\n",
       "      <td>1.0</td>\n",
       "      <td>1.0</td>\n",
       "      <td>1.0</td>\n",
       "      <td>2.00</td>\n",
       "      <td>2.0</td>\n",
       "    </tr>\n",
       "    <tr>\n",
       "      <th>gastarb</th>\n",
       "      <td>1000.0</td>\n",
       "      <td>1.963</td>\n",
       "      <td>0.188856</td>\n",
       "      <td>1.0</td>\n",
       "      <td>2.0</td>\n",
       "      <td>2.0</td>\n",
       "      <td>2.00</td>\n",
       "      <td>2.0</td>\n",
       "    </tr>\n",
       "    <tr>\n",
       "      <th>kredit</th>\n",
       "      <td>1000.0</td>\n",
       "      <td>0.700</td>\n",
       "      <td>0.458487</td>\n",
       "      <td>0.0</td>\n",
       "      <td>0.0</td>\n",
       "      <td>1.0</td>\n",
       "      <td>1.00</td>\n",
       "      <td>1.0</td>\n",
       "    </tr>\n",
       "  </tbody>\n",
       "</table>\n",
       "</div>"
      ],
      "text/plain": [
       "           count      mean          std    min     25%     50%      75%  \\\n",
       "laufkont  1000.0     2.577     1.257638    1.0     1.0     2.0     4.00   \n",
       "laufzeit  1000.0    20.903    12.058814    4.0    12.0    18.0    24.00   \n",
       "moral     1000.0     2.545     1.083120    0.0     2.0     2.0     4.00   \n",
       "verw      1000.0     2.828     2.744439    0.0     1.0     2.0     3.00   \n",
       "hoehe     1000.0  3271.248  2822.751760  250.0  1365.5  2319.5  3972.25   \n",
       "sparkont  1000.0     2.105     1.580023    1.0     1.0     1.0     3.00   \n",
       "beszeit   1000.0     3.384     1.208306    1.0     3.0     3.0     5.00   \n",
       "rate      1000.0     2.973     1.118715    1.0     2.0     3.0     4.00   \n",
       "famges    1000.0     2.682     0.708080    1.0     2.0     3.0     3.00   \n",
       "buerge    1000.0     1.145     0.477706    1.0     1.0     1.0     1.00   \n",
       "wohnzeit  1000.0     2.845     1.103718    1.0     2.0     3.0     4.00   \n",
       "verm      1000.0     2.358     1.050209    1.0     1.0     2.0     3.00   \n",
       "alter     1000.0    35.542    11.352670   19.0    27.0    33.0    42.00   \n",
       "weitkred  1000.0     2.675     0.705601    1.0     3.0     3.0     3.00   \n",
       "wohn      1000.0     1.928     0.530186    1.0     2.0     2.0     2.00   \n",
       "bishkred  1000.0     1.407     0.577654    1.0     1.0     1.0     2.00   \n",
       "beruf     1000.0     2.904     0.653614    1.0     3.0     3.0     3.00   \n",
       "pers      1000.0     1.845     0.362086    1.0     2.0     2.0     2.00   \n",
       "telef     1000.0     1.404     0.490943    1.0     1.0     1.0     2.00   \n",
       "gastarb   1000.0     1.963     0.188856    1.0     2.0     2.0     2.00   \n",
       "kredit    1000.0     0.700     0.458487    0.0     0.0     1.0     1.00   \n",
       "\n",
       "              max  \n",
       "laufkont      4.0  \n",
       "laufzeit     72.0  \n",
       "moral         4.0  \n",
       "verw         10.0  \n",
       "hoehe     18424.0  \n",
       "sparkont      5.0  \n",
       "beszeit       5.0  \n",
       "rate          4.0  \n",
       "famges        4.0  \n",
       "buerge        3.0  \n",
       "wohnzeit      4.0  \n",
       "verm          4.0  \n",
       "alter        75.0  \n",
       "weitkred      3.0  \n",
       "wohn          3.0  \n",
       "bishkred      4.0  \n",
       "beruf         4.0  \n",
       "pers          2.0  \n",
       "telef         2.0  \n",
       "gastarb       2.0  \n",
       "kredit        1.0  "
      ]
     },
     "execution_count": 6,
     "metadata": {},
     "output_type": "execute_result"
    }
   ],
   "source": [
    "credit_data.describe().T"
   ]
  },
  {
   "cell_type": "markdown",
   "metadata": {},
   "source": [
    "## Variable Description"
   ]
  },
  {
   "cell_type": "markdown",
   "metadata": {},
   "source": [
    "A description of each feature. Categorical features have a list of possible values with their respective definition:\n",
    "\n",
    "**laufkont** : status of the debtor's checking account with the bank (categorical)\n",
    "\n",
    "1 : no checking account                             \n",
    "2 : ... < 0 DM                                      \n",
    "3 : 0<= ... < 200 DM                                \n",
    "4 : ... >= 200 DM / salary for at least 1 year      \n",
    "\n",
    "**laufzeit** : credit duration in months (quantitative)\n",
    "\n",
    "\n",
    "**moral** : history of compliance with previous or concurrent credit contracts (categorical)\n",
    "\n",
    "0 : delay in paying off in the past                 \n",
    "1 : critical account/other credits elsewhere        \n",
    "2 : no credits taken/all credits paid back duly     \n",
    "3 : existing credits paid back duly till now        \n",
    "4 : all credits at this bank paid back duly         \n",
    "\n",
    "**verw** : purpose for which the credit is needed (categorical)\n",
    "\n",
    "0 : others                                          \n",
    "1 : car (new)                                       \n",
    "2 : car (used)                                      \n",
    "3 : furniture/equipment                             \n",
    "4 : radio/television                                \n",
    "5 : domestic appliances                             \n",
    "6 : repairs                                         \n",
    "7 : education                                       \n",
    "8 : vacation                                        \n",
    "9 : retraining                                         \n",
    "10 : business                                          \n",
    "\n",
    "**hoehe** : credit amount in DM (quantitative; result of monotonic transformation; actual data and type of transformation unknown)\n",
    "\n",
    "\n",
    "**sparkont** : debtor's savings (categorical)\n",
    "                                                            \n",
    "1 : unknown/no savings account                                \n",
    "2 : ... <  100 DM             \n",
    "3 : 100 <= ... <  500 DM      \n",
    "4 : 500 <= ... < 1000 DM      \n",
    "5 : ... >= 1000 DM            \n",
    "\n",
    "**beszeit** : duration of debtor's employment with current employer (ordinal; discretized quantitative)                               \n",
    "                    \n",
    "1 : unemployed      \n",
    "2 : < 1 yr          \n",
    "3 : 1 <= ... < 4 yrs                                \n",
    "4 : 4 <= ... < 7 yrs                                \n",
    "5 : >= 7 yrs        \n",
    "\n",
    "**rate** : credit installments as a percentage of debtor's disposable income (ordinal; discretized quantitative)                               \n",
    "                \n",
    "1 : >= 35         \n",
    "2 : 25 <= ... < 35                                \n",
    "3 : 20 <= ... < 25                                \n",
    "4 : < 20          \n",
    "\n",
    "**famges** : combined information on sex and marital status; categorical; sex cannot be recovered from the variable, because male singles and female non - singles are coded with the same code(2); female widows cannot be easily classified,because the code table does not list them in any of the female categories                                \n",
    "                                        \n",
    "1 : male : divorced/separated           \n",
    "2 : female : non-single or male : single                                \n",
    "3 : male : married/widowed              \n",
    "4 : female : single                     \n",
    "\n",
    "**buerge** : is there another debtor or a guarantor for the credit? (categorical)                                \n",
    "                \n",
    "1 : none        \n",
    "2 : co-applicant                                \n",
    "3 : guarantor   \n",
    "\n",
    "**wohnzeit** : length of time (in years) the debtor lives in the present residence (ordinal; discretized quantitative)\n",
    "                    \n",
    "1 : < 1 yr          \n",
    "2 : 1 <= ... < 4 yrs                                \n",
    "3 : 4 <= ... < 7 yrs                                \n",
    "4 : >= 7 yrs        \n",
    "\n",
    "**verm** : the debtor's most valuable property, i.e. the highest possible code is used. Code 2 is used, if codes 3 or 4 are not applicable and there is a car or any other relevant property that does not fall under variable sparkont. (ordinal)\n",
    "                                            \n",
    "1 : unknown / no property                    \n",
    "2 : car or other                             \n",
    "3 : building soc. savings agr./life insurance                                \n",
    "4 : real estate                              \n",
    "\n",
    "**alter** : age in years (quantitative)                                \n",
    "    \n",
    "\n",
    "**weitkred** : installment plans from providers other than the credit-giving bank (categorical)                                \n",
    "        \n",
    "1 : bank  \n",
    "2 : stores                                \n",
    "3 : none  \n",
    "\n",
    "**wohn** : type of housing the debtor lives in (categorical)\n",
    "            \n",
    "1 : for free                                \n",
    "2 : rent    \n",
    "3 : own     \n",
    "\n",
    "**bishkred** : number of credits including the current one the debtor has (or had) at this bank (ordinal, discretized quantitative)\n",
    "        \n",
    "1 : 1   \n",
    "2 : 2-3 \n",
    "3 : 4-5 \n",
    "4 : >= 6                                \n",
    "\n",
    "**beruf** : quality of debtor's job (ordinal)                                \n",
    "                                            \n",
    "1 : unemployed/unskilled - non-resident       \n",
    "2 : unskilled - resident                      \n",
    "3 : skilled employee/official                 \n",
    "4 : manager/self-empl./highly qualif. employee                                \n",
    "\n",
    "**pers** : number of persons who financially depend on the debtor (i.e., are entitled to maintenance) (binary, discretized quantitative)                                \n",
    "            \n",
    "1 : 3 or more                                \n",
    "2 : 0 to 2   \n",
    "                                \n",
    "**telef** : is there a telephone landline registered on the debtor's name?                               \n",
    "                            \n",
    "1 : no                       \n",
    "2 : yes (under customer name)                                \n",
    "\n",
    "**gastarb** : is the debtor a foreign worker? (binary)                                \n",
    "    \n",
    "1 : yes                                \n",
    "2 : no                                 \n",
    "\n",
    "**kredit** : has the credit contract been complied with 'good' or not 'bad'? (binary)                                \n",
    "        \n",
    "0 : bad                                 \n",
    "1 : good                                "
   ]
  },
  {
   "attachments": {},
   "cell_type": "markdown",
   "metadata": {},
   "source": [
    "## Explorative Data Analysis\n",
    "### Data Preparation for Visualisation"
   ]
  },
  {
   "cell_type": "markdown",
   "metadata": {},
   "source": [
    "Before we dive into the data exploration, we prepare a dataframe that has meaningful column names."
   ]
  },
  {
   "cell_type": "code",
   "execution_count": 7,
   "metadata": {},
   "outputs": [],
   "source": [
    "# creating a copy of the dataframe to be used for visualisation\n",
    "df_viz = credit_data.copy()\n",
    "\n",
    "# renaming columns for better visualisation\n",
    "df_viz = df_viz.rename(columns={\n",
    "    'laufkont': 'Account Status',\n",
    "    'laufzeit': 'Contract Duration',\n",
    "    'moral': 'Credit History',\n",
    "    'verw': 'Purpose',   \n",
    "    'hoehe': 'Credit Amount',   \n",
    "    'sparkont': 'Savings',   \n",
    "    'beszeit': 'Employement Duration',   \n",
    "    'rate': 'Installment Rate',   \n",
    "    'bishkred': 'Other Installment Plans',\n",
    "    'kredit': 'Credit Compliance',\n",
    "    'alter': 'Age'})\n",
    "\n",
    "# turning ordinal values into strings of 'Good' and 'Bad'\n",
    "df_viz[['Credit Compliance']] = df_viz[['Credit Compliance']].replace({0: 'Bad', 1: 'Good'})\n",
    "\n",
    "# turning ordinal values into strings of 'Good' and 'Bad'\n",
    "df_viz[['Account Status']] = df_viz[['Account Status']].replace({1: 'no checking account', 2: '... < 0 DM', 3: '0<= ... < 200 DM', 4: '... >= 200 DM / salary for at least 1 year'})\n",
    "\n",
    "# turning column values into strings\n",
    "df_viz[['Account Status', 'Credit History', 'Purpose',\n",
    "        'Savings', 'Employement Duration', 'Installment Rate',\n",
    "        'Other Installment Plans', 'Credit Compliance']] = df_viz[['Account Status', 'Credit History', 'Purpose', 'Savings', 'Employement Duration',\n",
    "        'Installment Rate', 'Other Installment Plans', 'Credit Compliance']].astype(str)"
   ]
  },
  {
   "cell_type": "code",
   "execution_count": 8,
   "metadata": {},
   "outputs": [
    {
     "data": {
      "application/vnd.plotly.v1+json": {
       "config": {
        "plotlyServerURL": "https://plot.ly"
       },
       "data": [
        {
         "coloraxis": "coloraxis",
         "hovertemplate": "x: %{x}<br>y: %{y}<br>color: %{z}<extra></extra>",
         "name": "0",
         "texttemplate": "%{z}",
         "type": "heatmap",
         "x": [
          "laufkont",
          "laufzeit",
          "moral",
          "verw",
          "hoehe",
          "sparkont",
          "beszeit",
          "rate",
          "famges",
          "buerge",
          "wohnzeit",
          "verm",
          "alter",
          "weitkred",
          "wohn",
          "bishkred",
          "beruf",
          "pers",
          "telef",
          "gastarb",
          "kredit"
         ],
         "xaxis": "x",
         "y": [
          "laufkont",
          "laufzeit",
          "moral",
          "verw",
          "hoehe",
          "sparkont",
          "beszeit",
          "rate",
          "famges",
          "buerge",
          "wohnzeit",
          "verm",
          "alter",
          "weitkred",
          "wohn",
          "bishkred",
          "beruf",
          "pers",
          "telef",
          "gastarb",
          "kredit"
         ],
         "yaxis": "y",
         "z": [
          [
           null,
           -0.07201308770244375,
           0.19219068812042087,
           0.028782569353812588,
           -0.04269512725873008,
           0.2228668599676809,
           0.10633875189396147,
           -0.005279855678412996,
           0.04326127980828995,
           -0.1277365630695892,
           -0.04223368905585925,
           -0.03226012609845379,
           0.05863074003029444,
           0.06827387000435735,
           0.023335309319206205,
           0.07600513741040371,
           0.04066306079819135,
           0.01414542650320863,
           0.06629583402471576,
           0.035186992976547135,
           0.35084748282677763
          ],
          [
           null,
           null,
           -0.07718646618289066,
           0.14749187118904764,
           0.6249884614497531,
           0.047660923801915965,
           0.05738102740071133,
           0.0747488162911705,
           0.014789331960984078,
           -0.02448994956487405,
           0.03406720161114845,
           0.303971245231938,
           -0.03754986288964746,
           -0.06288378717747616,
           0.1531255559215878,
           -0.011283597446142756,
           0.21090973492313725,
           0.02383447539762171,
           0.16471820703747375,
           0.13467996340159383,
           -0.2149266654418911
          ],
          [
           null,
           null,
           null,
           -0.09033589409404626,
           -0.05991485208309932,
           0.039057880741494695,
           0.13822521577981678,
           0.044374587335720715,
           0.04217088089428851,
           -0.04067552981161433,
           0.06319796870670821,
           -0.05377675977016325,
           0.14633746869860448,
           0.1599570650116168,
           0.06142791879643278,
           0.4370657696747097,
           0.010350178565933062,
           -0.011549553798547389,
           0.05237018878047726,
           -0.028554047719421136,
           0.22878473305454372
          ],
          [
           null,
           null,
           null,
           null,
           0.06848005350874392,
           -0.018684468701641695,
           0.016013005331939147,
           0.048368947492088615,
           0.00015659290223214207,
           -0.017606753809253407,
           -0.03822134454035441,
           0.010966353350929386,
           -0.000892385574551074,
           -0.10023039315338945,
           0.013494696739142753,
           0.05493535552221398,
           0.008084775660517735,
           0.032576874359388996,
           0.07837054137792136,
           0.11324366893579682,
           -0.01797887002023742
          ],
          [
           null,
           null,
           null,
           null,
           null,
           0.06463216792401691,
           -0.008376108621372398,
           -0.2713222809207463,
           -0.016094337876458736,
           -0.027830917122478763,
           0.028916676293886907,
           0.3116020931575987,
           0.03227267748277469,
           -0.06939200991671853,
           0.1330236342813045,
           0.020785276658764586,
           0.2853930733515633,
           -0.017143581806500354,
           0.27700018102100155,
           0.030661601394277285,
           -0.15474014555281337
          ],
          [
           null,
           null,
           null,
           null,
           null,
           null,
           0.12094951392597303,
           0.021992529475330175,
           0.01734868852919532,
           -0.10506851346781747,
           0.09142410921889145,
           0.018948001463723593,
           0.08343351216039324,
           0.001907967226361648,
           0.006643819412786818,
           -0.021644133387960684,
           0.011708919539965645,
           -0.027513789018413275,
           0.08720840171184877,
           -0.01044955984497209,
           0.17894273593792254
          ],
          [
           null,
           null,
           null,
           null,
           null,
           null,
           null,
           0.1261613067523498,
           0.11127828794546711,
           -0.00811600812916414,
           0.24508074505937827,
           0.0871874679078764,
           0.25911615270127414,
           -0.007279305492259085,
           0.1150774594833237,
           0.12579065113854768,
           0.10122486956775205,
           -0.09719200401397807,
           0.06051808066745359,
           0.022845317724217176,
           0.1160020363742323
          ],
          [
           null,
           null,
           null,
           null,
           null,
           null,
           null,
           null,
           0.11930790161863021,
           -0.011397638845270291,
           0.04930237081388672,
           0.053391413237185124,
           0.057270750337863,
           0.007893966895154614,
           0.091228577387135,
           0.02166874257132842,
           0.09775539295607408,
           0.07120694300823356,
           0.014412879951279694,
           0.09476230704236098,
           -0.07240393725133026
          ],
          [
           null,
           null,
           null,
           null,
           null,
           null,
           null,
           null,
           null,
           0.05063388910367497,
           -0.02726903201590301,
           -0.006940476986313173,
           0.005149827147388921,
           -0.026746944612491306,
           0.09893380117506705,
           0.06467187289170329,
           -0.011956356570008994,
           -0.12216484500751042,
           0.027274874798552784,
           -0.07310340452212367,
           0.08818430053669811
          ],
          [
           null,
           null,
           null,
           null,
           null,
           null,
           null,
           null,
           null,
           null,
           -0.025677505636656307,
           -0.1554501384678654,
           -0.029825662945378015,
           -0.03823504885489199,
           -0.06544941902785259,
           -0.02544680032621774,
           -0.05796298584943406,
           -0.020399583738966602,
           -0.07503457830142155,
           -0.14019019133170657,
           0.02513676760077959
          ],
          [
           null,
           null,
           null,
           null,
           null,
           null,
           null,
           null,
           null,
           null,
           null,
           0.1472311158157307,
           0.2656264782604138,
           0.022654074334663016,
           0.009989898928079624,
           0.08962523262254292,
           0.01265464438205318,
           -0.04264342597522532,
           0.09535936697416605,
           0.0396906328819551,
           -0.0029671587541559934
          ],
          [
           null,
           null,
           null,
           null,
           null,
           null,
           null,
           null,
           null,
           null,
           null,
           null,
           0.0745514537964101,
           -0.10759332406625734,
           0.34296858000040553,
           -0.007765019715951593,
           0.27614936489532166,
           -0.011871999219640337,
           0.19680158260952665,
           0.13246179623781296,
           -0.14261197337252668
          ],
          [
           null,
           null,
           null,
           null,
           null,
           null,
           null,
           null,
           null,
           null,
           null,
           null,
           null,
           -0.030471934122975282,
           0.3033464108646621,
           0.15071765128712128,
           0.015383030942477616,
           -0.1185891829024571,
           0.14350584721451526,
           -0.013981187227592257,
           0.09127194878302244
          ],
          [
           null,
           null,
           null,
           null,
           null,
           null,
           null,
           null,
           null,
           null,
           null,
           null,
           null,
           null,
           -0.09739765106273077,
           -0.05580987305566737,
           0.006077318403133528,
           0.07689064177166292,
           -0.025139895269110896,
           -0.00769959503384029,
           0.10984409867605363
          ],
          [
           null,
           null,
           null,
           null,
           null,
           null,
           null,
           null,
           null,
           null,
           null,
           null,
           null,
           null,
           null,
           0.05001993827151473,
           0.1042432216661001,
           -0.11554858408220321,
           0.10032658946169887,
           0.08333602394145492,
           0.018118911539652647
          ],
          [
           null,
           null,
           null,
           null,
           null,
           null,
           null,
           null,
           null,
           null,
           null,
           null,
           null,
           null,
           null,
           null,
           -0.026321268937594833,
           -0.1096667004159342,
           0.06555321277948377,
           0.018892588264646754,
           0.04573248933920561
          ],
          [
           null,
           null,
           null,
           null,
           null,
           null,
           null,
           null,
           null,
           null,
           null,
           null,
           null,
           null,
           null,
           null,
           null,
           0.09355927641473151,
           0.3830221593449532,
           0.09283495909939103,
           -0.03273500138098548
          ],
          [
           null,
           null,
           null,
           null,
           null,
           null,
           null,
           null,
           null,
           null,
           null,
           null,
           null,
           null,
           null,
           null,
           null,
           null,
           0.01475343933834731,
           0.0770708531234513,
           -0.003014853083344228
          ],
          [
           null,
           null,
           null,
           null,
           null,
           null,
           null,
           null,
           null,
           null,
           null,
           null,
           null,
           null,
           null,
           null,
           null,
           null,
           null,
           0.07501221535008672,
           0.03646619017996536
          ],
          [
           null,
           null,
           null,
           null,
           null,
           null,
           null,
           null,
           null,
           null,
           null,
           null,
           null,
           null,
           null,
           null,
           null,
           null,
           null,
           null,
           -0.08207949878149272
          ],
          [
           null,
           null,
           null,
           null,
           null,
           null,
           null,
           null,
           null,
           null,
           null,
           null,
           null,
           null,
           null,
           null,
           null,
           null,
           null,
           null,
           null
          ]
         ]
        }
       ],
       "layout": {
        "coloraxis": {
         "colorscale": [
          [
           0,
           "#0d0887"
          ],
          [
           0.1111111111111111,
           "#46039f"
          ],
          [
           0.2222222222222222,
           "#7201a8"
          ],
          [
           0.3333333333333333,
           "#9c179e"
          ],
          [
           0.4444444444444444,
           "#bd3786"
          ],
          [
           0.5555555555555556,
           "#d8576b"
          ],
          [
           0.6666666666666666,
           "#ed7953"
          ],
          [
           0.7777777777777778,
           "#fb9f3a"
          ],
          [
           0.8888888888888888,
           "#fdca26"
          ],
          [
           1,
           "#f0f921"
          ]
         ]
        },
        "height": 900,
        "template": {
         "data": {
          "bar": [
           {
            "error_x": {
             "color": "#2a3f5f"
            },
            "error_y": {
             "color": "#2a3f5f"
            },
            "marker": {
             "line": {
              "color": "#E5ECF6",
              "width": 0.5
             },
             "pattern": {
              "fillmode": "overlay",
              "size": 10,
              "solidity": 0.2
             }
            },
            "type": "bar"
           }
          ],
          "barpolar": [
           {
            "marker": {
             "line": {
              "color": "#E5ECF6",
              "width": 0.5
             },
             "pattern": {
              "fillmode": "overlay",
              "size": 10,
              "solidity": 0.2
             }
            },
            "type": "barpolar"
           }
          ],
          "carpet": [
           {
            "aaxis": {
             "endlinecolor": "#2a3f5f",
             "gridcolor": "white",
             "linecolor": "white",
             "minorgridcolor": "white",
             "startlinecolor": "#2a3f5f"
            },
            "baxis": {
             "endlinecolor": "#2a3f5f",
             "gridcolor": "white",
             "linecolor": "white",
             "minorgridcolor": "white",
             "startlinecolor": "#2a3f5f"
            },
            "type": "carpet"
           }
          ],
          "choropleth": [
           {
            "colorbar": {
             "outlinewidth": 0,
             "ticks": ""
            },
            "type": "choropleth"
           }
          ],
          "contour": [
           {
            "colorbar": {
             "outlinewidth": 0,
             "ticks": ""
            },
            "colorscale": [
             [
              0,
              "#0d0887"
             ],
             [
              0.1111111111111111,
              "#46039f"
             ],
             [
              0.2222222222222222,
              "#7201a8"
             ],
             [
              0.3333333333333333,
              "#9c179e"
             ],
             [
              0.4444444444444444,
              "#bd3786"
             ],
             [
              0.5555555555555556,
              "#d8576b"
             ],
             [
              0.6666666666666666,
              "#ed7953"
             ],
             [
              0.7777777777777778,
              "#fb9f3a"
             ],
             [
              0.8888888888888888,
              "#fdca26"
             ],
             [
              1,
              "#f0f921"
             ]
            ],
            "type": "contour"
           }
          ],
          "contourcarpet": [
           {
            "colorbar": {
             "outlinewidth": 0,
             "ticks": ""
            },
            "type": "contourcarpet"
           }
          ],
          "heatmap": [
           {
            "colorbar": {
             "outlinewidth": 0,
             "ticks": ""
            },
            "colorscale": [
             [
              0,
              "#0d0887"
             ],
             [
              0.1111111111111111,
              "#46039f"
             ],
             [
              0.2222222222222222,
              "#7201a8"
             ],
             [
              0.3333333333333333,
              "#9c179e"
             ],
             [
              0.4444444444444444,
              "#bd3786"
             ],
             [
              0.5555555555555556,
              "#d8576b"
             ],
             [
              0.6666666666666666,
              "#ed7953"
             ],
             [
              0.7777777777777778,
              "#fb9f3a"
             ],
             [
              0.8888888888888888,
              "#fdca26"
             ],
             [
              1,
              "#f0f921"
             ]
            ],
            "type": "heatmap"
           }
          ],
          "heatmapgl": [
           {
            "colorbar": {
             "outlinewidth": 0,
             "ticks": ""
            },
            "colorscale": [
             [
              0,
              "#0d0887"
             ],
             [
              0.1111111111111111,
              "#46039f"
             ],
             [
              0.2222222222222222,
              "#7201a8"
             ],
             [
              0.3333333333333333,
              "#9c179e"
             ],
             [
              0.4444444444444444,
              "#bd3786"
             ],
             [
              0.5555555555555556,
              "#d8576b"
             ],
             [
              0.6666666666666666,
              "#ed7953"
             ],
             [
              0.7777777777777778,
              "#fb9f3a"
             ],
             [
              0.8888888888888888,
              "#fdca26"
             ],
             [
              1,
              "#f0f921"
             ]
            ],
            "type": "heatmapgl"
           }
          ],
          "histogram": [
           {
            "marker": {
             "pattern": {
              "fillmode": "overlay",
              "size": 10,
              "solidity": 0.2
             }
            },
            "type": "histogram"
           }
          ],
          "histogram2d": [
           {
            "colorbar": {
             "outlinewidth": 0,
             "ticks": ""
            },
            "colorscale": [
             [
              0,
              "#0d0887"
             ],
             [
              0.1111111111111111,
              "#46039f"
             ],
             [
              0.2222222222222222,
              "#7201a8"
             ],
             [
              0.3333333333333333,
              "#9c179e"
             ],
             [
              0.4444444444444444,
              "#bd3786"
             ],
             [
              0.5555555555555556,
              "#d8576b"
             ],
             [
              0.6666666666666666,
              "#ed7953"
             ],
             [
              0.7777777777777778,
              "#fb9f3a"
             ],
             [
              0.8888888888888888,
              "#fdca26"
             ],
             [
              1,
              "#f0f921"
             ]
            ],
            "type": "histogram2d"
           }
          ],
          "histogram2dcontour": [
           {
            "colorbar": {
             "outlinewidth": 0,
             "ticks": ""
            },
            "colorscale": [
             [
              0,
              "#0d0887"
             ],
             [
              0.1111111111111111,
              "#46039f"
             ],
             [
              0.2222222222222222,
              "#7201a8"
             ],
             [
              0.3333333333333333,
              "#9c179e"
             ],
             [
              0.4444444444444444,
              "#bd3786"
             ],
             [
              0.5555555555555556,
              "#d8576b"
             ],
             [
              0.6666666666666666,
              "#ed7953"
             ],
             [
              0.7777777777777778,
              "#fb9f3a"
             ],
             [
              0.8888888888888888,
              "#fdca26"
             ],
             [
              1,
              "#f0f921"
             ]
            ],
            "type": "histogram2dcontour"
           }
          ],
          "mesh3d": [
           {
            "colorbar": {
             "outlinewidth": 0,
             "ticks": ""
            },
            "type": "mesh3d"
           }
          ],
          "parcoords": [
           {
            "line": {
             "colorbar": {
              "outlinewidth": 0,
              "ticks": ""
             }
            },
            "type": "parcoords"
           }
          ],
          "pie": [
           {
            "automargin": true,
            "type": "pie"
           }
          ],
          "scatter": [
           {
            "fillpattern": {
             "fillmode": "overlay",
             "size": 10,
             "solidity": 0.2
            },
            "type": "scatter"
           }
          ],
          "scatter3d": [
           {
            "line": {
             "colorbar": {
              "outlinewidth": 0,
              "ticks": ""
             }
            },
            "marker": {
             "colorbar": {
              "outlinewidth": 0,
              "ticks": ""
             }
            },
            "type": "scatter3d"
           }
          ],
          "scattercarpet": [
           {
            "marker": {
             "colorbar": {
              "outlinewidth": 0,
              "ticks": ""
             }
            },
            "type": "scattercarpet"
           }
          ],
          "scattergeo": [
           {
            "marker": {
             "colorbar": {
              "outlinewidth": 0,
              "ticks": ""
             }
            },
            "type": "scattergeo"
           }
          ],
          "scattergl": [
           {
            "marker": {
             "colorbar": {
              "outlinewidth": 0,
              "ticks": ""
             }
            },
            "type": "scattergl"
           }
          ],
          "scattermapbox": [
           {
            "marker": {
             "colorbar": {
              "outlinewidth": 0,
              "ticks": ""
             }
            },
            "type": "scattermapbox"
           }
          ],
          "scatterpolar": [
           {
            "marker": {
             "colorbar": {
              "outlinewidth": 0,
              "ticks": ""
             }
            },
            "type": "scatterpolar"
           }
          ],
          "scatterpolargl": [
           {
            "marker": {
             "colorbar": {
              "outlinewidth": 0,
              "ticks": ""
             }
            },
            "type": "scatterpolargl"
           }
          ],
          "scatterternary": [
           {
            "marker": {
             "colorbar": {
              "outlinewidth": 0,
              "ticks": ""
             }
            },
            "type": "scatterternary"
           }
          ],
          "surface": [
           {
            "colorbar": {
             "outlinewidth": 0,
             "ticks": ""
            },
            "colorscale": [
             [
              0,
              "#0d0887"
             ],
             [
              0.1111111111111111,
              "#46039f"
             ],
             [
              0.2222222222222222,
              "#7201a8"
             ],
             [
              0.3333333333333333,
              "#9c179e"
             ],
             [
              0.4444444444444444,
              "#bd3786"
             ],
             [
              0.5555555555555556,
              "#d8576b"
             ],
             [
              0.6666666666666666,
              "#ed7953"
             ],
             [
              0.7777777777777778,
              "#fb9f3a"
             ],
             [
              0.8888888888888888,
              "#fdca26"
             ],
             [
              1,
              "#f0f921"
             ]
            ],
            "type": "surface"
           }
          ],
          "table": [
           {
            "cells": {
             "fill": {
              "color": "#EBF0F8"
             },
             "line": {
              "color": "white"
             }
            },
            "header": {
             "fill": {
              "color": "#C8D4E3"
             },
             "line": {
              "color": "white"
             }
            },
            "type": "table"
           }
          ]
         },
         "layout": {
          "annotationdefaults": {
           "arrowcolor": "#2a3f5f",
           "arrowhead": 0,
           "arrowwidth": 1
          },
          "autotypenumbers": "strict",
          "coloraxis": {
           "colorbar": {
            "outlinewidth": 0,
            "ticks": ""
           }
          },
          "colorscale": {
           "diverging": [
            [
             0,
             "#8e0152"
            ],
            [
             0.1,
             "#c51b7d"
            ],
            [
             0.2,
             "#de77ae"
            ],
            [
             0.3,
             "#f1b6da"
            ],
            [
             0.4,
             "#fde0ef"
            ],
            [
             0.5,
             "#f7f7f7"
            ],
            [
             0.6,
             "#e6f5d0"
            ],
            [
             0.7,
             "#b8e186"
            ],
            [
             0.8,
             "#7fbc41"
            ],
            [
             0.9,
             "#4d9221"
            ],
            [
             1,
             "#276419"
            ]
           ],
           "sequential": [
            [
             0,
             "#0d0887"
            ],
            [
             0.1111111111111111,
             "#46039f"
            ],
            [
             0.2222222222222222,
             "#7201a8"
            ],
            [
             0.3333333333333333,
             "#9c179e"
            ],
            [
             0.4444444444444444,
             "#bd3786"
            ],
            [
             0.5555555555555556,
             "#d8576b"
            ],
            [
             0.6666666666666666,
             "#ed7953"
            ],
            [
             0.7777777777777778,
             "#fb9f3a"
            ],
            [
             0.8888888888888888,
             "#fdca26"
            ],
            [
             1,
             "#f0f921"
            ]
           ],
           "sequentialminus": [
            [
             0,
             "#0d0887"
            ],
            [
             0.1111111111111111,
             "#46039f"
            ],
            [
             0.2222222222222222,
             "#7201a8"
            ],
            [
             0.3333333333333333,
             "#9c179e"
            ],
            [
             0.4444444444444444,
             "#bd3786"
            ],
            [
             0.5555555555555556,
             "#d8576b"
            ],
            [
             0.6666666666666666,
             "#ed7953"
            ],
            [
             0.7777777777777778,
             "#fb9f3a"
            ],
            [
             0.8888888888888888,
             "#fdca26"
            ],
            [
             1,
             "#f0f921"
            ]
           ]
          },
          "colorway": [
           "#636efa",
           "#EF553B",
           "#00cc96",
           "#ab63fa",
           "#FFA15A",
           "#19d3f3",
           "#FF6692",
           "#B6E880",
           "#FF97FF",
           "#FECB52"
          ],
          "font": {
           "color": "#2a3f5f"
          },
          "geo": {
           "bgcolor": "white",
           "lakecolor": "white",
           "landcolor": "#E5ECF6",
           "showlakes": true,
           "showland": true,
           "subunitcolor": "white"
          },
          "hoverlabel": {
           "align": "left"
          },
          "hovermode": "closest",
          "mapbox": {
           "style": "light"
          },
          "paper_bgcolor": "white",
          "plot_bgcolor": "#E5ECF6",
          "polar": {
           "angularaxis": {
            "gridcolor": "white",
            "linecolor": "white",
            "ticks": ""
           },
           "bgcolor": "#E5ECF6",
           "radialaxis": {
            "gridcolor": "white",
            "linecolor": "white",
            "ticks": ""
           }
          },
          "scene": {
           "xaxis": {
            "backgroundcolor": "#E5ECF6",
            "gridcolor": "white",
            "gridwidth": 2,
            "linecolor": "white",
            "showbackground": true,
            "ticks": "",
            "zerolinecolor": "white"
           },
           "yaxis": {
            "backgroundcolor": "#E5ECF6",
            "gridcolor": "white",
            "gridwidth": 2,
            "linecolor": "white",
            "showbackground": true,
            "ticks": "",
            "zerolinecolor": "white"
           },
           "zaxis": {
            "backgroundcolor": "#E5ECF6",
            "gridcolor": "white",
            "gridwidth": 2,
            "linecolor": "white",
            "showbackground": true,
            "ticks": "",
            "zerolinecolor": "white"
           }
          },
          "shapedefaults": {
           "line": {
            "color": "#2a3f5f"
           }
          },
          "ternary": {
           "aaxis": {
            "gridcolor": "white",
            "linecolor": "white",
            "ticks": ""
           },
           "baxis": {
            "gridcolor": "white",
            "linecolor": "white",
            "ticks": ""
           },
           "bgcolor": "#E5ECF6",
           "caxis": {
            "gridcolor": "white",
            "linecolor": "white",
            "ticks": ""
           }
          },
          "title": {
           "x": 0.05
          },
          "xaxis": {
           "automargin": true,
           "gridcolor": "white",
           "linecolor": "white",
           "ticks": "",
           "title": {
            "standoff": 15
           },
           "zerolinecolor": "white",
           "zerolinewidth": 2
          },
          "yaxis": {
           "automargin": true,
           "gridcolor": "white",
           "linecolor": "white",
           "ticks": "",
           "title": {
            "standoff": 15
           },
           "zerolinecolor": "white",
           "zerolinewidth": 2
          }
         }
        },
        "title": {
         "text": "Correlation Matrix"
        },
        "width": 900,
        "xaxis": {
         "anchor": "y",
         "constrain": "domain",
         "domain": [
          0,
          1
         ],
         "scaleanchor": "y"
        },
        "yaxis": {
         "anchor": "x",
         "autorange": "reversed",
         "constrain": "domain",
         "domain": [
          0,
          1
         ]
        }
       }
      }
     },
     "metadata": {},
     "output_type": "display_data"
    }
   ],
   "source": [
    "# calculating correlations\n",
    "corr = credit_data.corr()\n",
    "corr = corr.mask(np.tril(np.ones(corr.shape, dtype=np.bool_)))\n",
    "\n",
    "# plotting correlation matrix\n",
    "px.imshow(corr, width=900, height=900, title='Correlation Matrix', text_auto=True)"
   ]
  },
  {
   "cell_type": "markdown",
   "metadata": {},
   "source": [
    "The matrix shows the variables correlate within a range from -0.2 to 0.62.\n",
    "\n",
    "The highest correlated features are credit amount 'hoehe' and credit duration 'laufzeit': 0.62\n",
    "- the correlation isn't surprising, since higher credit amounts need to be payed back over a longer time to keep monthly payments down\n",
    "\n",
    "The features credit compliance 'kredit' and credit duration 'laufzeit' have a correlation of: -0.2\n",
    "- this means increasing credit duration there is a slight increase the chance of credit default\n",
    "\n",
    "The highest correlated feature with credit compliance is the account status 'laufkont': 0.35\n",
    "- how much is in a customers account and whether he has an income does have a slight impact on the chance of a credit default\n",
    "\n"
   ]
  },
  {
   "cell_type": "markdown",
   "metadata": {},
   "source": [
    "### Explorative Data Analysis of Numerical Variables"
   ]
  },
  {
   "cell_type": "code",
   "execution_count": 9,
   "metadata": {},
   "outputs": [
    {
     "data": {
      "application/vnd.plotly.v1+json": {
       "config": {
        "plotlyServerURL": "https://plot.ly"
       },
       "data": [
        {
         "alignmentgroup": "True",
         "hovertemplate": "Credit Compliance=%{x}<br>Contract Duration=%{y}<extra></extra>",
         "legendgroup": "",
         "marker": {
          "color": "#636efa"
         },
         "name": "",
         "notched": false,
         "offsetgroup": "",
         "orientation": "v",
         "showlegend": false,
         "type": "box",
         "x": [
          "Good",
          "Good",
          "Good",
          "Good",
          "Good",
          "Good",
          "Good",
          "Good",
          "Good",
          "Good",
          "Good",
          "Good",
          "Good",
          "Good",
          "Good",
          "Good",
          "Good",
          "Good",
          "Good",
          "Good",
          "Good",
          "Good",
          "Bad",
          "Good",
          "Good",
          "Good",
          "Good",
          "Good",
          "Good",
          "Good",
          "Good",
          "Good",
          "Good",
          "Good",
          "Good",
          "Good",
          "Good",
          "Good",
          "Good",
          "Good",
          "Good",
          "Good",
          "Good",
          "Good",
          "Good",
          "Bad",
          "Good",
          "Bad",
          "Good",
          "Good",
          "Good",
          "Good",
          "Good",
          "Good",
          "Good",
          "Good",
          "Good",
          "Good",
          "Good",
          "Good",
          "Good",
          "Good",
          "Good",
          "Good",
          "Good",
          "Good",
          "Good",
          "Good",
          "Good",
          "Good",
          "Good",
          "Good",
          "Good",
          "Good",
          "Good",
          "Good",
          "Good",
          "Good",
          "Good",
          "Good",
          "Good",
          "Good",
          "Good",
          "Good",
          "Good",
          "Good",
          "Good",
          "Good",
          "Good",
          "Good",
          "Good",
          "Good",
          "Good",
          "Good",
          "Good",
          "Good",
          "Good",
          "Bad",
          "Good",
          "Good",
          "Good",
          "Good",
          "Good",
          "Good",
          "Good",
          "Good",
          "Good",
          "Good",
          "Good",
          "Good",
          "Bad",
          "Good",
          "Good",
          "Good",
          "Good",
          "Good",
          "Good",
          "Good",
          "Good",
          "Good",
          "Good",
          "Good",
          "Good",
          "Good",
          "Good",
          "Good",
          "Good",
          "Good",
          "Good",
          "Good",
          "Good",
          "Good",
          "Good",
          "Good",
          "Good",
          "Good",
          "Good",
          "Good",
          "Good",
          "Good",
          "Good",
          "Good",
          "Good",
          "Good",
          "Good",
          "Good",
          "Good",
          "Good",
          "Good",
          "Good",
          "Good",
          "Good",
          "Good",
          "Good",
          "Good",
          "Good",
          "Good",
          "Good",
          "Bad",
          "Good",
          "Good",
          "Good",
          "Good",
          "Good",
          "Good",
          "Good",
          "Good",
          "Good",
          "Good",
          "Good",
          "Good",
          "Bad",
          "Good",
          "Good",
          "Good",
          "Good",
          "Good",
          "Good",
          "Good",
          "Good",
          "Good",
          "Good",
          "Good",
          "Good",
          "Good",
          "Good",
          "Good",
          "Good",
          "Good",
          "Good",
          "Good",
          "Good",
          "Good",
          "Good",
          "Good",
          "Good",
          "Good",
          "Good",
          "Good",
          "Good",
          "Good",
          "Good",
          "Good",
          "Good",
          "Good",
          "Good",
          "Good",
          "Good",
          "Good",
          "Good",
          "Good",
          "Good",
          "Good",
          "Good",
          "Good",
          "Good",
          "Good",
          "Good",
          "Good",
          "Good",
          "Good",
          "Good",
          "Good",
          "Good",
          "Good",
          "Good",
          "Good",
          "Good",
          "Good",
          "Good",
          "Good",
          "Good",
          "Good",
          "Good",
          "Bad",
          "Good",
          "Good",
          "Good",
          "Good",
          "Good",
          "Good",
          "Good",
          "Good",
          "Good",
          "Good",
          "Good",
          "Good",
          "Good",
          "Good",
          "Good",
          "Good",
          "Good",
          "Good",
          "Good",
          "Good",
          "Good",
          "Good",
          "Good",
          "Good",
          "Good",
          "Good",
          "Good",
          "Good",
          "Good",
          "Good",
          "Good",
          "Good",
          "Good",
          "Good",
          "Good",
          "Good",
          "Good",
          "Good",
          "Good",
          "Good",
          "Good",
          "Good",
          "Good",
          "Good",
          "Good",
          "Good",
          "Good",
          "Good",
          "Good",
          "Good",
          "Good",
          "Good",
          "Good",
          "Good",
          "Good",
          "Good",
          "Good",
          "Good",
          "Good",
          "Good",
          "Good",
          "Good",
          "Good",
          "Good",
          "Good",
          "Good",
          "Good",
          "Good",
          "Good",
          "Bad",
          "Good",
          "Good",
          "Good",
          "Good",
          "Good",
          "Good",
          "Good",
          "Good",
          "Good",
          "Good",
          "Good",
          "Good",
          "Good",
          "Good",
          "Good",
          "Good",
          "Good",
          "Good",
          "Good",
          "Good",
          "Good",
          "Good",
          "Good",
          "Good",
          "Good",
          "Good",
          "Good",
          "Good",
          "Good",
          "Good",
          "Good",
          "Good",
          "Good",
          "Good",
          "Good",
          "Good",
          "Good",
          "Good",
          "Good",
          "Good",
          "Good",
          "Good",
          "Good",
          "Good",
          "Good",
          "Good",
          "Good",
          "Good",
          "Bad",
          "Good",
          "Good",
          "Good",
          "Good",
          "Good",
          "Good",
          "Good",
          "Good",
          "Good",
          "Good",
          "Good",
          "Good",
          "Good",
          "Good",
          "Good",
          "Good",
          "Good",
          "Good",
          "Good",
          "Good",
          "Good",
          "Good",
          "Bad",
          "Good",
          "Good",
          "Good",
          "Good",
          "Good",
          "Good",
          "Good",
          "Good",
          "Good",
          "Bad",
          "Good",
          "Good",
          "Good",
          "Good",
          "Good",
          "Good",
          "Good",
          "Good",
          "Good",
          "Good",
          "Good",
          "Good",
          "Good",
          "Good",
          "Good",
          "Good",
          "Good",
          "Good",
          "Good",
          "Good",
          "Good",
          "Good",
          "Good",
          "Good",
          "Good",
          "Good",
          "Good",
          "Good",
          "Good",
          "Good",
          "Good",
          "Good",
          "Good",
          "Good",
          "Good",
          "Good",
          "Good",
          "Good",
          "Good",
          "Good",
          "Bad",
          "Good",
          "Good",
          "Good",
          "Bad",
          "Good",
          "Good",
          "Good",
          "Good",
          "Good",
          "Good",
          "Good",
          "Good",
          "Good",
          "Good",
          "Good",
          "Good",
          "Good",
          "Good",
          "Good",
          "Good",
          "Good",
          "Good",
          "Bad",
          "Good",
          "Good",
          "Good",
          "Good",
          "Good",
          "Good",
          "Good",
          "Good",
          "Good",
          "Good",
          "Good",
          "Good",
          "Bad",
          "Good",
          "Good",
          "Good",
          "Good",
          "Good",
          "Good",
          "Good",
          "Good",
          "Good",
          "Good",
          "Good",
          "Good",
          "Good",
          "Good",
          "Good",
          "Good",
          "Good",
          "Good",
          "Good",
          "Good",
          "Good",
          "Good",
          "Good",
          "Good",
          "Good",
          "Good",
          "Good",
          "Good",
          "Good",
          "Good",
          "Good",
          "Good",
          "Good",
          "Good",
          "Good",
          "Good",
          "Good",
          "Good",
          "Good",
          "Good",
          "Good",
          "Good",
          "Good",
          "Good",
          "Good",
          "Good",
          "Good",
          "Good",
          "Good",
          "Good",
          "Good",
          "Good",
          "Good",
          "Bad",
          "Bad",
          "Bad",
          "Bad",
          "Bad",
          "Good",
          "Good",
          "Good",
          "Good",
          "Good",
          "Good",
          "Good",
          "Good",
          "Good",
          "Good",
          "Good",
          "Good",
          "Good",
          "Good",
          "Good",
          "Good",
          "Good",
          "Good",
          "Bad",
          "Good",
          "Bad",
          "Good",
          "Good",
          "Good",
          "Good",
          "Good",
          "Good",
          "Good",
          "Good",
          "Good",
          "Good",
          "Good",
          "Good",
          "Good",
          "Good",
          "Good",
          "Good",
          "Good",
          "Good",
          "Good",
          "Bad",
          "Good",
          "Good",
          "Good",
          "Good",
          "Good",
          "Good",
          "Good",
          "Good",
          "Good",
          "Good",
          "Good",
          "Good",
          "Good",
          "Bad",
          "Bad",
          "Bad",
          "Bad",
          "Bad",
          "Bad",
          "Bad",
          "Bad",
          "Bad",
          "Good",
          "Good",
          "Good",
          "Good",
          "Good",
          "Good",
          "Good",
          "Bad",
          "Bad",
          "Good",
          "Good",
          "Good",
          "Good",
          "Good",
          "Bad",
          "Bad",
          "Good",
          "Good",
          "Good",
          "Bad",
          "Good",
          "Good",
          "Good",
          "Good",
          "Good",
          "Bad",
          "Good",
          "Good",
          "Good",
          "Good",
          "Good",
          "Good",
          "Good",
          "Bad",
          "Good",
          "Good",
          "Good",
          "Good",
          "Good",
          "Good",
          "Good",
          "Good",
          "Good",
          "Good",
          "Good",
          "Good",
          "Good",
          "Good",
          "Good",
          "Good",
          "Good",
          "Bad",
          "Good",
          "Good",
          "Good",
          "Good",
          "Good",
          "Good",
          "Bad",
          "Good",
          "Good",
          "Good",
          "Good",
          "Good",
          "Good",
          "Good",
          "Good",
          "Good",
          "Good",
          "Good",
          "Good",
          "Bad",
          "Good",
          "Good",
          "Good",
          "Good",
          "Good",
          "Good",
          "Good",
          "Good",
          "Good",
          "Good",
          "Good",
          "Good",
          "Good",
          "Good",
          "Good",
          "Good",
          "Good",
          "Good",
          "Good",
          "Good",
          "Good",
          "Good",
          "Good",
          "Good",
          "Good",
          "Good",
          "Good",
          "Good",
          "Good",
          "Good",
          "Good",
          "Good",
          "Bad",
          "Good",
          "Good",
          "Good",
          "Good",
          "Good",
          "Good",
          "Good",
          "Good",
          "Good",
          "Good",
          "Bad",
          "Good",
          "Good",
          "Good",
          "Good",
          "Good",
          "Good",
          "Good",
          "Bad",
          "Good",
          "Good",
          "Good",
          "Good",
          "Good",
          "Good",
          "Good",
          "Good",
          "Bad",
          "Bad",
          "Bad",
          "Bad",
          "Good",
          "Good",
          "Good",
          "Good",
          "Good",
          "Good",
          "Good",
          "Good",
          "Good",
          "Good",
          "Good",
          "Good",
          "Good",
          "Good",
          "Good",
          "Good",
          "Good",
          "Good",
          "Good",
          "Good",
          "Good",
          "Bad",
          "Good",
          "Good",
          "Good",
          "Good",
          "Good",
          "Good",
          "Good",
          "Good",
          "Bad",
          "Bad",
          "Bad",
          "Bad",
          "Bad",
          "Bad",
          "Bad",
          "Bad",
          "Bad",
          "Bad",
          "Bad",
          "Bad",
          "Bad",
          "Bad",
          "Bad",
          "Bad",
          "Bad",
          "Bad",
          "Bad",
          "Bad",
          "Bad",
          "Bad",
          "Bad",
          "Bad",
          "Bad",
          "Bad",
          "Bad",
          "Bad",
          "Bad",
          "Bad",
          "Bad",
          "Bad",
          "Bad",
          "Bad",
          "Bad",
          "Bad",
          "Bad",
          "Bad",
          "Bad",
          "Bad",
          "Bad",
          "Bad",
          "Bad",
          "Bad",
          "Bad",
          "Bad",
          "Bad",
          "Bad",
          "Bad",
          "Bad",
          "Bad",
          "Bad",
          "Bad",
          "Bad",
          "Bad",
          "Bad",
          "Bad",
          "Bad",
          "Bad",
          "Bad",
          "Bad",
          "Bad",
          "Bad",
          "Bad",
          "Bad",
          "Bad",
          "Bad",
          "Bad",
          "Bad",
          "Bad",
          "Bad",
          "Bad",
          "Bad",
          "Bad",
          "Bad",
          "Bad",
          "Bad",
          "Bad",
          "Bad",
          "Bad",
          "Bad",
          "Bad",
          "Bad",
          "Bad",
          "Bad",
          "Bad",
          "Bad",
          "Bad",
          "Bad",
          "Bad",
          "Bad",
          "Bad",
          "Bad",
          "Bad",
          "Bad",
          "Bad",
          "Bad",
          "Bad",
          "Bad",
          "Bad",
          "Bad",
          "Bad",
          "Bad",
          "Bad",
          "Bad",
          "Bad",
          "Bad",
          "Bad",
          "Bad",
          "Bad",
          "Bad",
          "Bad",
          "Bad",
          "Bad",
          "Bad",
          "Bad",
          "Bad",
          "Bad",
          "Bad",
          "Bad",
          "Bad",
          "Bad",
          "Bad",
          "Bad",
          "Bad",
          "Bad",
          "Bad",
          "Bad",
          "Bad",
          "Bad",
          "Bad",
          "Bad",
          "Bad",
          "Bad",
          "Bad",
          "Bad",
          "Bad",
          "Bad",
          "Bad",
          "Bad",
          "Bad",
          "Bad",
          "Bad",
          "Bad",
          "Bad",
          "Bad",
          "Bad",
          "Bad",
          "Bad",
          "Bad",
          "Bad",
          "Bad",
          "Bad",
          "Bad",
          "Bad",
          "Bad",
          "Bad",
          "Bad",
          "Bad",
          "Bad",
          "Bad",
          "Bad",
          "Bad",
          "Bad",
          "Bad",
          "Bad",
          "Bad",
          "Bad",
          "Bad",
          "Bad",
          "Bad",
          "Bad",
          "Bad",
          "Bad",
          "Bad",
          "Bad",
          "Bad",
          "Bad",
          "Bad",
          "Bad",
          "Bad",
          "Bad",
          "Bad",
          "Bad",
          "Bad",
          "Bad",
          "Bad",
          "Bad",
          "Bad",
          "Bad",
          "Bad",
          "Bad",
          "Bad",
          "Bad",
          "Bad",
          "Bad",
          "Bad",
          "Bad",
          "Bad",
          "Bad",
          "Bad",
          "Bad",
          "Bad",
          "Bad",
          "Bad",
          "Bad",
          "Bad",
          "Bad",
          "Bad",
          "Bad",
          "Bad",
          "Bad",
          "Bad",
          "Bad",
          "Bad",
          "Bad",
          "Bad",
          "Bad",
          "Bad",
          "Bad",
          "Bad",
          "Bad",
          "Bad",
          "Bad",
          "Bad",
          "Bad",
          "Bad",
          "Bad",
          "Bad",
          "Bad",
          "Bad",
          "Bad",
          "Bad",
          "Bad",
          "Bad",
          "Bad",
          "Bad",
          "Bad",
          "Bad",
          "Bad",
          "Bad",
          "Bad",
          "Bad",
          "Bad",
          "Bad",
          "Bad",
          "Bad",
          "Bad",
          "Bad"
         ],
         "x0": " ",
         "xaxis": "x",
         "y": [
          18,
          9,
          12,
          12,
          12,
          10,
          8,
          6,
          18,
          24,
          11,
          30,
          6,
          48,
          18,
          6,
          11,
          18,
          36,
          11,
          6,
          12,
          36,
          12,
          6,
          11,
          12,
          9,
          15,
          42,
          30,
          36,
          36,
          24,
          15,
          6,
          12,
          12,
          18,
          24,
          12,
          24,
          18,
          24,
          18,
          18,
          24,
          18,
          24,
          24,
          12,
          36,
          9,
          12,
          24,
          12,
          12,
          15,
          21,
          36,
          12,
          24,
          48,
          36,
          12,
          6,
          12,
          24,
          12,
          24,
          21,
          30,
          36,
          24,
          12,
          9,
          21,
          24,
          21,
          15,
          24,
          36,
          18,
          15,
          15,
          12,
          24,
          36,
          6,
          24,
          12,
          30,
          30,
          9,
          18,
          27,
          12,
          36,
          9,
          42,
          24,
          15,
          24,
          36,
          24,
          24,
          12,
          18,
          24,
          12,
          15,
          6,
          12,
          12,
          21,
          18,
          9,
          24,
          9,
          24,
          36,
          36,
          6,
          15,
          15,
          24,
          15,
          6,
          18,
          24,
          24,
          18,
          6,
          18,
          10,
          6,
          12,
          24,
          6,
          24,
          36,
          9,
          24,
          9,
          36,
          21,
          24,
          12,
          12,
          24,
          12,
          12,
          48,
          24,
          12,
          24,
          12,
          30,
          48,
          12,
          12,
          24,
          24,
          15,
          15,
          9,
          30,
          24,
          15,
          6,
          36,
          12,
          12,
          24,
          12,
          24,
          24,
          12,
          18,
          48,
          9,
          18,
          30,
          30,
          9,
          36,
          12,
          24,
          36,
          21,
          24,
          36,
          48,
          24,
          12,
          33,
          6,
          18,
          12,
          48,
          30,
          28,
          18,
          24,
          21,
          18,
          12,
          15,
          48,
          9,
          4,
          24,
          24,
          6,
          9,
          10,
          10,
          6,
          47,
          10,
          18,
          30,
          24,
          27,
          18,
          24,
          18,
          14,
          21,
          48,
          24,
          6,
          39,
          30,
          12,
          24,
          21,
          24,
          4,
          39,
          15,
          60,
          18,
          18,
          6,
          24,
          18,
          24,
          15,
          21,
          18,
          18,
          12,
          36,
          36,
          15,
          15,
          10,
          10,
          5,
          15,
          11,
          10,
          9,
          12,
          22,
          9,
          36,
          12,
          15,
          6,
          36,
          6,
          24,
          24,
          12,
          15,
          21,
          24,
          9,
          6,
          12,
          12,
          21,
          21,
          6,
          6,
          9,
          9,
          15,
          12,
          15,
          6,
          6,
          15,
          36,
          9,
          6,
          12,
          18,
          12,
          24,
          24,
          9,
          9,
          24,
          6,
          6,
          21,
          54,
          12,
          48,
          6,
          24,
          6,
          15,
          24,
          12,
          15,
          6,
          10,
          12,
          11,
          10,
          10,
          24,
          10,
          6,
          18,
          18,
          24,
          18,
          6,
          22,
          24,
          24,
          9,
          10,
          10,
          12,
          30,
          24,
          18,
          9,
          12,
          10,
          10,
          10,
          12,
          12,
          10,
          24,
          48,
          12,
          6,
          36,
          24,
          10,
          18,
          15,
          12,
          12,
          6,
          9,
          12,
          12,
          24,
          12,
          15,
          24,
          24,
          24,
          24,
          6,
          21,
          27,
          12,
          27,
          15,
          30,
          18,
          21,
          60,
          9,
          42,
          9,
          9,
          24,
          10,
          24,
          15,
          12,
          6,
          15,
          24,
          9,
          24,
          12,
          12,
          12,
          27,
          12,
          6,
          24,
          18,
          48,
          15,
          9,
          18,
          42,
          13,
          24,
          12,
          24,
          12,
          28,
          11,
          24,
          18,
          15,
          12,
          11,
          16,
          12,
          15,
          12,
          39,
          9,
          12,
          9,
          30,
          12,
          15,
          18,
          12,
          7,
          15,
          6,
          27,
          18,
          21,
          27,
          39,
          15,
          12,
          12,
          6,
          12,
          36,
          9,
          12,
          20,
          10,
          24,
          14,
          60,
          20,
          18,
          24,
          12,
          20,
          18,
          15,
          28,
          12,
          12,
          12,
          15,
          36,
          12,
          18,
          24,
          36,
          15,
          36,
          24,
          18,
          24,
          12,
          18,
          27,
          18,
          24,
          12,
          12,
          12,
          18,
          18,
          12,
          12,
          18,
          12,
          18,
          24,
          12,
          24,
          6,
          24,
          12,
          12,
          24,
          24,
          6,
          24,
          24,
          6,
          12,
          24,
          24,
          6,
          6,
          6,
          24,
          30,
          15,
          24,
          24,
          36,
          24,
          36,
          36,
          36,
          6,
          18,
          12,
          36,
          12,
          12,
          18,
          18,
          4,
          24,
          12,
          18,
          18,
          24,
          4,
          4,
          7,
          18,
          9,
          48,
          12,
          18,
          4,
          8,
          30,
          10,
          12,
          12,
          12,
          12,
          12,
          10,
          11,
          33,
          48,
          12,
          24,
          14,
          20,
          18,
          60,
          24,
          30,
          24,
          36,
          6,
          12,
          48,
          12,
          36,
          26,
          30,
          36,
          48,
          36,
          12,
          33,
          42,
          24,
          24,
          24,
          12,
          12,
          24,
          18,
          36,
          18,
          12,
          12,
          8,
          36,
          24,
          30,
          36,
          12,
          21,
          30,
          36,
          36,
          24,
          6,
          12,
          36,
          15,
          6,
          6,
          48,
          24,
          12,
          12,
          12,
          15,
          24,
          12,
          30,
          18,
          30,
          12,
          24,
          24,
          12,
          12,
          24,
          6,
          12,
          18,
          6,
          12,
          15,
          42,
          24,
          36,
          36,
          24,
          12,
          13,
          20,
          24,
          36,
          42,
          24,
          48,
          24,
          36,
          24,
          48,
          30,
          18,
          24,
          6,
          12,
          24,
          48,
          18,
          24,
          6,
          7,
          6,
          8,
          12,
          12,
          6,
          8,
          12,
          7,
          13,
          18,
          7,
          13,
          18,
          18,
          8,
          12,
          6,
          9,
          18,
          15,
          6,
          10,
          12,
          20,
          15,
          12,
          24,
          10,
          36,
          18,
          24,
          60,
          12,
          6,
          15,
          12,
          60,
          12,
          24,
          45,
          24,
          36,
          36,
          18,
          30,
          6,
          15,
          24,
          30,
          48,
          48,
          24,
          42,
          36,
          9,
          6,
          36,
          48,
          24,
          18,
          72,
          48,
          15,
          21,
          36,
          24,
          18,
          21,
          12,
          36,
          60,
          42,
          60,
          15,
          15,
          36,
          6,
          9,
          18,
          15,
          20,
          12,
          12,
          24,
          30,
          30,
          6,
          24,
          24,
          9,
          24,
          36,
          9,
          9,
          24,
          6,
          15,
          24,
          12,
          30,
          36,
          48,
          18,
          21,
          60,
          24,
          9,
          39,
          18,
          9,
          15,
          24,
          9,
          18,
          36,
          36,
          36,
          18,
          6,
          18,
          15,
          30,
          24,
          36,
          6,
          12,
          24,
          6,
          15,
          24,
          24,
          15,
          15,
          24,
          12,
          30,
          36,
          18,
          21,
          24,
          24,
          24,
          24,
          24,
          18,
          12,
          24,
          18,
          60,
          24,
          6,
          48,
          60,
          18,
          18,
          9,
          18,
          10,
          12,
          8,
          9,
          48,
          36,
          24,
          21,
          24,
          6,
          48,
          12,
          12,
          48,
          36,
          36,
          36,
          36,
          6,
          24,
          18,
          24,
          18,
          12,
          36,
          18,
          12,
          24,
          24,
          27,
          30,
          60,
          36,
          36,
          45,
          12,
          24,
          24,
          18,
          48,
          24,
          36,
          42,
          12,
          48,
          48,
          12,
          18,
          40,
          15,
          12,
          36,
          12,
          24,
          48,
          36,
          18,
          36,
          24,
          30,
          30,
          48,
          9,
          24,
          18,
          9,
          48,
          15,
          15,
          48,
          24,
          36,
          24,
          36,
          60,
          36,
          12,
          18,
          24,
          18,
          21,
          27,
          27,
          10,
          24,
          12,
          36,
          18,
          18,
          18,
          18,
          30,
          24,
          48,
          24,
          12,
          42,
          36,
          24,
          18,
          12,
          12,
          48,
          48,
          24,
          12,
          24,
          27,
          21,
          18,
          24,
          12,
          48,
          48,
          18,
          12,
          12,
          12,
          16,
          20,
          9,
          18,
          24,
          36,
          48,
          12,
          12,
          36,
          12,
          15,
          10,
          30,
          18,
          12,
          45,
          12,
          21,
          48,
          12,
          18,
          21,
          30,
          30,
          24,
          18,
          12,
          54,
          24,
          15,
          48,
          24,
          18,
          45,
          21,
          48,
          27,
          18,
          45,
          6,
          30,
          48,
          6,
          12,
          12,
          24,
          18,
          48,
          18,
          48,
          12,
          14,
          12,
          18,
          24,
          18,
          24,
          18,
          18,
          12,
          24,
          24,
          21,
          12,
          30
         ],
         "y0": " ",
         "yaxis": "y"
        }
       ],
       "layout": {
        "boxmode": "group",
        "legend": {
         "tracegroupgap": 0
        },
        "template": {
         "data": {
          "bar": [
           {
            "error_x": {
             "color": "#2a3f5f"
            },
            "error_y": {
             "color": "#2a3f5f"
            },
            "marker": {
             "line": {
              "color": "#E5ECF6",
              "width": 0.5
             },
             "pattern": {
              "fillmode": "overlay",
              "size": 10,
              "solidity": 0.2
             }
            },
            "type": "bar"
           }
          ],
          "barpolar": [
           {
            "marker": {
             "line": {
              "color": "#E5ECF6",
              "width": 0.5
             },
             "pattern": {
              "fillmode": "overlay",
              "size": 10,
              "solidity": 0.2
             }
            },
            "type": "barpolar"
           }
          ],
          "carpet": [
           {
            "aaxis": {
             "endlinecolor": "#2a3f5f",
             "gridcolor": "white",
             "linecolor": "white",
             "minorgridcolor": "white",
             "startlinecolor": "#2a3f5f"
            },
            "baxis": {
             "endlinecolor": "#2a3f5f",
             "gridcolor": "white",
             "linecolor": "white",
             "minorgridcolor": "white",
             "startlinecolor": "#2a3f5f"
            },
            "type": "carpet"
           }
          ],
          "choropleth": [
           {
            "colorbar": {
             "outlinewidth": 0,
             "ticks": ""
            },
            "type": "choropleth"
           }
          ],
          "contour": [
           {
            "colorbar": {
             "outlinewidth": 0,
             "ticks": ""
            },
            "colorscale": [
             [
              0,
              "#0d0887"
             ],
             [
              0.1111111111111111,
              "#46039f"
             ],
             [
              0.2222222222222222,
              "#7201a8"
             ],
             [
              0.3333333333333333,
              "#9c179e"
             ],
             [
              0.4444444444444444,
              "#bd3786"
             ],
             [
              0.5555555555555556,
              "#d8576b"
             ],
             [
              0.6666666666666666,
              "#ed7953"
             ],
             [
              0.7777777777777778,
              "#fb9f3a"
             ],
             [
              0.8888888888888888,
              "#fdca26"
             ],
             [
              1,
              "#f0f921"
             ]
            ],
            "type": "contour"
           }
          ],
          "contourcarpet": [
           {
            "colorbar": {
             "outlinewidth": 0,
             "ticks": ""
            },
            "type": "contourcarpet"
           }
          ],
          "heatmap": [
           {
            "colorbar": {
             "outlinewidth": 0,
             "ticks": ""
            },
            "colorscale": [
             [
              0,
              "#0d0887"
             ],
             [
              0.1111111111111111,
              "#46039f"
             ],
             [
              0.2222222222222222,
              "#7201a8"
             ],
             [
              0.3333333333333333,
              "#9c179e"
             ],
             [
              0.4444444444444444,
              "#bd3786"
             ],
             [
              0.5555555555555556,
              "#d8576b"
             ],
             [
              0.6666666666666666,
              "#ed7953"
             ],
             [
              0.7777777777777778,
              "#fb9f3a"
             ],
             [
              0.8888888888888888,
              "#fdca26"
             ],
             [
              1,
              "#f0f921"
             ]
            ],
            "type": "heatmap"
           }
          ],
          "heatmapgl": [
           {
            "colorbar": {
             "outlinewidth": 0,
             "ticks": ""
            },
            "colorscale": [
             [
              0,
              "#0d0887"
             ],
             [
              0.1111111111111111,
              "#46039f"
             ],
             [
              0.2222222222222222,
              "#7201a8"
             ],
             [
              0.3333333333333333,
              "#9c179e"
             ],
             [
              0.4444444444444444,
              "#bd3786"
             ],
             [
              0.5555555555555556,
              "#d8576b"
             ],
             [
              0.6666666666666666,
              "#ed7953"
             ],
             [
              0.7777777777777778,
              "#fb9f3a"
             ],
             [
              0.8888888888888888,
              "#fdca26"
             ],
             [
              1,
              "#f0f921"
             ]
            ],
            "type": "heatmapgl"
           }
          ],
          "histogram": [
           {
            "marker": {
             "pattern": {
              "fillmode": "overlay",
              "size": 10,
              "solidity": 0.2
             }
            },
            "type": "histogram"
           }
          ],
          "histogram2d": [
           {
            "colorbar": {
             "outlinewidth": 0,
             "ticks": ""
            },
            "colorscale": [
             [
              0,
              "#0d0887"
             ],
             [
              0.1111111111111111,
              "#46039f"
             ],
             [
              0.2222222222222222,
              "#7201a8"
             ],
             [
              0.3333333333333333,
              "#9c179e"
             ],
             [
              0.4444444444444444,
              "#bd3786"
             ],
             [
              0.5555555555555556,
              "#d8576b"
             ],
             [
              0.6666666666666666,
              "#ed7953"
             ],
             [
              0.7777777777777778,
              "#fb9f3a"
             ],
             [
              0.8888888888888888,
              "#fdca26"
             ],
             [
              1,
              "#f0f921"
             ]
            ],
            "type": "histogram2d"
           }
          ],
          "histogram2dcontour": [
           {
            "colorbar": {
             "outlinewidth": 0,
             "ticks": ""
            },
            "colorscale": [
             [
              0,
              "#0d0887"
             ],
             [
              0.1111111111111111,
              "#46039f"
             ],
             [
              0.2222222222222222,
              "#7201a8"
             ],
             [
              0.3333333333333333,
              "#9c179e"
             ],
             [
              0.4444444444444444,
              "#bd3786"
             ],
             [
              0.5555555555555556,
              "#d8576b"
             ],
             [
              0.6666666666666666,
              "#ed7953"
             ],
             [
              0.7777777777777778,
              "#fb9f3a"
             ],
             [
              0.8888888888888888,
              "#fdca26"
             ],
             [
              1,
              "#f0f921"
             ]
            ],
            "type": "histogram2dcontour"
           }
          ],
          "mesh3d": [
           {
            "colorbar": {
             "outlinewidth": 0,
             "ticks": ""
            },
            "type": "mesh3d"
           }
          ],
          "parcoords": [
           {
            "line": {
             "colorbar": {
              "outlinewidth": 0,
              "ticks": ""
             }
            },
            "type": "parcoords"
           }
          ],
          "pie": [
           {
            "automargin": true,
            "type": "pie"
           }
          ],
          "scatter": [
           {
            "fillpattern": {
             "fillmode": "overlay",
             "size": 10,
             "solidity": 0.2
            },
            "type": "scatter"
           }
          ],
          "scatter3d": [
           {
            "line": {
             "colorbar": {
              "outlinewidth": 0,
              "ticks": ""
             }
            },
            "marker": {
             "colorbar": {
              "outlinewidth": 0,
              "ticks": ""
             }
            },
            "type": "scatter3d"
           }
          ],
          "scattercarpet": [
           {
            "marker": {
             "colorbar": {
              "outlinewidth": 0,
              "ticks": ""
             }
            },
            "type": "scattercarpet"
           }
          ],
          "scattergeo": [
           {
            "marker": {
             "colorbar": {
              "outlinewidth": 0,
              "ticks": ""
             }
            },
            "type": "scattergeo"
           }
          ],
          "scattergl": [
           {
            "marker": {
             "colorbar": {
              "outlinewidth": 0,
              "ticks": ""
             }
            },
            "type": "scattergl"
           }
          ],
          "scattermapbox": [
           {
            "marker": {
             "colorbar": {
              "outlinewidth": 0,
              "ticks": ""
             }
            },
            "type": "scattermapbox"
           }
          ],
          "scatterpolar": [
           {
            "marker": {
             "colorbar": {
              "outlinewidth": 0,
              "ticks": ""
             }
            },
            "type": "scatterpolar"
           }
          ],
          "scatterpolargl": [
           {
            "marker": {
             "colorbar": {
              "outlinewidth": 0,
              "ticks": ""
             }
            },
            "type": "scatterpolargl"
           }
          ],
          "scatterternary": [
           {
            "marker": {
             "colorbar": {
              "outlinewidth": 0,
              "ticks": ""
             }
            },
            "type": "scatterternary"
           }
          ],
          "surface": [
           {
            "colorbar": {
             "outlinewidth": 0,
             "ticks": ""
            },
            "colorscale": [
             [
              0,
              "#0d0887"
             ],
             [
              0.1111111111111111,
              "#46039f"
             ],
             [
              0.2222222222222222,
              "#7201a8"
             ],
             [
              0.3333333333333333,
              "#9c179e"
             ],
             [
              0.4444444444444444,
              "#bd3786"
             ],
             [
              0.5555555555555556,
              "#d8576b"
             ],
             [
              0.6666666666666666,
              "#ed7953"
             ],
             [
              0.7777777777777778,
              "#fb9f3a"
             ],
             [
              0.8888888888888888,
              "#fdca26"
             ],
             [
              1,
              "#f0f921"
             ]
            ],
            "type": "surface"
           }
          ],
          "table": [
           {
            "cells": {
             "fill": {
              "color": "#EBF0F8"
             },
             "line": {
              "color": "white"
             }
            },
            "header": {
             "fill": {
              "color": "#C8D4E3"
             },
             "line": {
              "color": "white"
             }
            },
            "type": "table"
           }
          ]
         },
         "layout": {
          "annotationdefaults": {
           "arrowcolor": "#2a3f5f",
           "arrowhead": 0,
           "arrowwidth": 1
          },
          "autotypenumbers": "strict",
          "coloraxis": {
           "colorbar": {
            "outlinewidth": 0,
            "ticks": ""
           }
          },
          "colorscale": {
           "diverging": [
            [
             0,
             "#8e0152"
            ],
            [
             0.1,
             "#c51b7d"
            ],
            [
             0.2,
             "#de77ae"
            ],
            [
             0.3,
             "#f1b6da"
            ],
            [
             0.4,
             "#fde0ef"
            ],
            [
             0.5,
             "#f7f7f7"
            ],
            [
             0.6,
             "#e6f5d0"
            ],
            [
             0.7,
             "#b8e186"
            ],
            [
             0.8,
             "#7fbc41"
            ],
            [
             0.9,
             "#4d9221"
            ],
            [
             1,
             "#276419"
            ]
           ],
           "sequential": [
            [
             0,
             "#0d0887"
            ],
            [
             0.1111111111111111,
             "#46039f"
            ],
            [
             0.2222222222222222,
             "#7201a8"
            ],
            [
             0.3333333333333333,
             "#9c179e"
            ],
            [
             0.4444444444444444,
             "#bd3786"
            ],
            [
             0.5555555555555556,
             "#d8576b"
            ],
            [
             0.6666666666666666,
             "#ed7953"
            ],
            [
             0.7777777777777778,
             "#fb9f3a"
            ],
            [
             0.8888888888888888,
             "#fdca26"
            ],
            [
             1,
             "#f0f921"
            ]
           ],
           "sequentialminus": [
            [
             0,
             "#0d0887"
            ],
            [
             0.1111111111111111,
             "#46039f"
            ],
            [
             0.2222222222222222,
             "#7201a8"
            ],
            [
             0.3333333333333333,
             "#9c179e"
            ],
            [
             0.4444444444444444,
             "#bd3786"
            ],
            [
             0.5555555555555556,
             "#d8576b"
            ],
            [
             0.6666666666666666,
             "#ed7953"
            ],
            [
             0.7777777777777778,
             "#fb9f3a"
            ],
            [
             0.8888888888888888,
             "#fdca26"
            ],
            [
             1,
             "#f0f921"
            ]
           ]
          },
          "colorway": [
           "#636efa",
           "#EF553B",
           "#00cc96",
           "#ab63fa",
           "#FFA15A",
           "#19d3f3",
           "#FF6692",
           "#B6E880",
           "#FF97FF",
           "#FECB52"
          ],
          "font": {
           "color": "#2a3f5f"
          },
          "geo": {
           "bgcolor": "white",
           "lakecolor": "white",
           "landcolor": "#E5ECF6",
           "showlakes": true,
           "showland": true,
           "subunitcolor": "white"
          },
          "hoverlabel": {
           "align": "left"
          },
          "hovermode": "closest",
          "mapbox": {
           "style": "light"
          },
          "paper_bgcolor": "white",
          "plot_bgcolor": "#E5ECF6",
          "polar": {
           "angularaxis": {
            "gridcolor": "white",
            "linecolor": "white",
            "ticks": ""
           },
           "bgcolor": "#E5ECF6",
           "radialaxis": {
            "gridcolor": "white",
            "linecolor": "white",
            "ticks": ""
           }
          },
          "scene": {
           "xaxis": {
            "backgroundcolor": "#E5ECF6",
            "gridcolor": "white",
            "gridwidth": 2,
            "linecolor": "white",
            "showbackground": true,
            "ticks": "",
            "zerolinecolor": "white"
           },
           "yaxis": {
            "backgroundcolor": "#E5ECF6",
            "gridcolor": "white",
            "gridwidth": 2,
            "linecolor": "white",
            "showbackground": true,
            "ticks": "",
            "zerolinecolor": "white"
           },
           "zaxis": {
            "backgroundcolor": "#E5ECF6",
            "gridcolor": "white",
            "gridwidth": 2,
            "linecolor": "white",
            "showbackground": true,
            "ticks": "",
            "zerolinecolor": "white"
           }
          },
          "shapedefaults": {
           "line": {
            "color": "#2a3f5f"
           }
          },
          "ternary": {
           "aaxis": {
            "gridcolor": "white",
            "linecolor": "white",
            "ticks": ""
           },
           "baxis": {
            "gridcolor": "white",
            "linecolor": "white",
            "ticks": ""
           },
           "bgcolor": "#E5ECF6",
           "caxis": {
            "gridcolor": "white",
            "linecolor": "white",
            "ticks": ""
           }
          },
          "title": {
           "x": 0.05
          },
          "xaxis": {
           "automargin": true,
           "gridcolor": "white",
           "linecolor": "white",
           "ticks": "",
           "title": {
            "standoff": 15
           },
           "zerolinecolor": "white",
           "zerolinewidth": 2
          },
          "yaxis": {
           "automargin": true,
           "gridcolor": "white",
           "linecolor": "white",
           "ticks": "",
           "title": {
            "standoff": 15
           },
           "zerolinecolor": "white",
           "zerolinewidth": 2
          }
         }
        },
        "title": {
         "text": "Distribution of Credit Compliance vs. Contract Duration"
        },
        "xaxis": {
         "anchor": "y",
         "domain": [
          0,
          1
         ],
         "title": {
          "text": "Credit Compliance"
         }
        },
        "yaxis": {
         "anchor": "x",
         "domain": [
          0,
          1
         ],
         "title": {
          "text": "Contract Duration"
         }
        }
       }
      }
     },
     "metadata": {},
     "output_type": "display_data"
    }
   ],
   "source": [
    "px.box(df_viz, x='Credit Compliance', y='Contract Duration', title='Distribution of Credit Compliance vs. Contract Duration')"
   ]
  },
  {
   "cell_type": "markdown",
   "metadata": {},
   "source": [
    "The contract duration of bad credits is higher on average than that of good credits"
   ]
  },
  {
   "cell_type": "markdown",
   "metadata": {},
   "source": [
    "Comparing the distribution of both classes of credit completation against duration of the credit contract we find:\n",
    "- the average duration of credit contracts that weren't completed is 6 months longer than those that were completed\n",
    "- the interquartile range of the completed contracts is 12 months while those that weren't completed is 24 months\n",
    "- the 3rd quartile of good credits is 24 months and 36 months for bad credits\n",
    "- it appears that customers with longer contracts have a higher chance of defaulting on their credit"
   ]
  },
  {
   "cell_type": "code",
   "execution_count": 10,
   "metadata": {},
   "outputs": [
    {
     "data": {
      "application/vnd.plotly.v1+json": {
       "config": {
        "plotlyServerURL": "https://plot.ly"
       },
       "data": [
        {
         "alignmentgroup": "True",
         "hovertemplate": "Credit Compliance=Good<br>Account Status=%{x}<br>Instances=%{y}<extra></extra>",
         "legendgroup": "Good",
         "marker": {
          "color": "#636efa",
          "pattern": {
           "shape": ""
          }
         },
         "name": "Good",
         "offsetgroup": "Good",
         "orientation": "v",
         "showlegend": true,
         "textposition": "auto",
         "type": "bar",
         "x": [
          "no checking account",
          "no checking account",
          "... < 0 DM",
          "no checking account",
          "no checking account",
          "no checking account",
          "no checking account",
          "no checking account",
          "... >= 200 DM / salary for at least 1 year",
          "... < 0 DM",
          "no checking account",
          "no checking account",
          "no checking account",
          "... < 0 DM",
          "no checking account",
          "no checking account",
          "no checking account",
          "... < 0 DM",
          "... < 0 DM",
          "... >= 200 DM / salary for at least 1 year",
          "no checking account",
          "... < 0 DM",
          "... < 0 DM",
          "no checking account",
          "... < 0 DM",
          "no checking account",
          "... < 0 DM",
          "... >= 200 DM / salary for at least 1 year",
          "0<= ... < 200 DM",
          "0<= ... < 200 DM",
          "... >= 200 DM / salary for at least 1 year",
          "... >= 200 DM / salary for at least 1 year",
          "... >= 200 DM / salary for at least 1 year",
          "no checking account",
          "no checking account",
          "... >= 200 DM / salary for at least 1 year",
          "... >= 200 DM / salary for at least 1 year",
          "... >= 200 DM / salary for at least 1 year",
          "... >= 200 DM / salary for at least 1 year",
          "... >= 200 DM / salary for at least 1 year",
          "no checking account",
          "... >= 200 DM / salary for at least 1 year",
          "... < 0 DM",
          "... < 0 DM",
          "... >= 200 DM / salary for at least 1 year",
          "... >= 200 DM / salary for at least 1 year",
          "no checking account",
          "... >= 200 DM / salary for at least 1 year",
          "0<= ... < 200 DM",
          "... >= 200 DM / salary for at least 1 year",
          "... >= 200 DM / salary for at least 1 year",
          "... >= 200 DM / salary for at least 1 year",
          "no checking account",
          "... >= 200 DM / salary for at least 1 year",
          "no checking account",
          "... >= 200 DM / salary for at least 1 year",
          "... >= 200 DM / salary for at least 1 year",
          "... >= 200 DM / salary for at least 1 year",
          "... >= 200 DM / salary for at least 1 year",
          "... >= 200 DM / salary for at least 1 year",
          "... >= 200 DM / salary for at least 1 year",
          "no checking account",
          "... >= 200 DM / salary for at least 1 year",
          "... >= 200 DM / salary for at least 1 year",
          "... >= 200 DM / salary for at least 1 year",
          "... < 0 DM",
          "... >= 200 DM / salary for at least 1 year",
          "... < 0 DM",
          "... >= 200 DM / salary for at least 1 year",
          "... >= 200 DM / salary for at least 1 year",
          "... >= 200 DM / salary for at least 1 year",
          "0<= ... < 200 DM",
          "... < 0 DM",
          "... >= 200 DM / salary for at least 1 year",
          "... >= 200 DM / salary for at least 1 year",
          "no checking account",
          "... >= 200 DM / salary for at least 1 year",
          "... >= 200 DM / salary for at least 1 year",
          "... >= 200 DM / salary for at least 1 year",
          "... < 0 DM",
          "0<= ... < 200 DM",
          "... >= 200 DM / salary for at least 1 year",
          "no checking account",
          "... >= 200 DM / salary for at least 1 year",
          "... >= 200 DM / salary for at least 1 year",
          "no checking account",
          "... < 0 DM",
          "... < 0 DM",
          "... < 0 DM",
          "... < 0 DM",
          "no checking account",
          "... < 0 DM",
          "... >= 200 DM / salary for at least 1 year",
          "... < 0 DM",
          "no checking account",
          "... < 0 DM",
          "... >= 200 DM / salary for at least 1 year",
          "no checking account",
          "... < 0 DM",
          "... < 0 DM",
          "... >= 200 DM / salary for at least 1 year",
          "... >= 200 DM / salary for at least 1 year",
          "... >= 200 DM / salary for at least 1 year",
          "... >= 200 DM / salary for at least 1 year",
          "... >= 200 DM / salary for at least 1 year",
          "... >= 200 DM / salary for at least 1 year",
          "no checking account",
          "... < 0 DM",
          "... >= 200 DM / salary for at least 1 year",
          "... < 0 DM",
          "... < 0 DM",
          "... < 0 DM",
          "... >= 200 DM / salary for at least 1 year",
          "... >= 200 DM / salary for at least 1 year",
          "... >= 200 DM / salary for at least 1 year",
          "... < 0 DM",
          "... >= 200 DM / salary for at least 1 year",
          "... < 0 DM",
          "... >= 200 DM / salary for at least 1 year",
          "... >= 200 DM / salary for at least 1 year",
          "... >= 200 DM / salary for at least 1 year",
          "... >= 200 DM / salary for at least 1 year",
          "... >= 200 DM / salary for at least 1 year",
          "... >= 200 DM / salary for at least 1 year",
          "... >= 200 DM / salary for at least 1 year",
          "0<= ... < 200 DM",
          "... >= 200 DM / salary for at least 1 year",
          "0<= ... < 200 DM",
          "... >= 200 DM / salary for at least 1 year",
          "... >= 200 DM / salary for at least 1 year",
          "... >= 200 DM / salary for at least 1 year",
          "... < 0 DM",
          "no checking account",
          "... < 0 DM",
          "0<= ... < 200 DM",
          "... >= 200 DM / salary for at least 1 year",
          "... >= 200 DM / salary for at least 1 year",
          "... < 0 DM",
          "... >= 200 DM / salary for at least 1 year",
          "... >= 200 DM / salary for at least 1 year",
          "... >= 200 DM / salary for at least 1 year",
          "no checking account",
          "no checking account",
          "... >= 200 DM / salary for at least 1 year",
          "... < 0 DM",
          "0<= ... < 200 DM",
          "... >= 200 DM / salary for at least 1 year",
          "... >= 200 DM / salary for at least 1 year",
          "... < 0 DM",
          "... < 0 DM",
          "... >= 200 DM / salary for at least 1 year",
          "no checking account",
          "... >= 200 DM / salary for at least 1 year",
          "... < 0 DM",
          "... >= 200 DM / salary for at least 1 year",
          "0<= ... < 200 DM",
          "... >= 200 DM / salary for at least 1 year",
          "... >= 200 DM / salary for at least 1 year",
          "0<= ... < 200 DM",
          "... >= 200 DM / salary for at least 1 year",
          "... >= 200 DM / salary for at least 1 year",
          "... >= 200 DM / salary for at least 1 year",
          "... >= 200 DM / salary for at least 1 year",
          "... >= 200 DM / salary for at least 1 year",
          "0<= ... < 200 DM",
          "0<= ... < 200 DM",
          "... >= 200 DM / salary for at least 1 year",
          "... >= 200 DM / salary for at least 1 year",
          "... >= 200 DM / salary for at least 1 year",
          "... >= 200 DM / salary for at least 1 year",
          "... < 0 DM",
          "... >= 200 DM / salary for at least 1 year",
          "... >= 200 DM / salary for at least 1 year",
          "... >= 200 DM / salary for at least 1 year",
          "... >= 200 DM / salary for at least 1 year",
          "no checking account",
          "... >= 200 DM / salary for at least 1 year",
          "... >= 200 DM / salary for at least 1 year",
          "... >= 200 DM / salary for at least 1 year",
          "... >= 200 DM / salary for at least 1 year",
          "... >= 200 DM / salary for at least 1 year",
          "... < 0 DM",
          "0<= ... < 200 DM",
          "... >= 200 DM / salary for at least 1 year",
          "... < 0 DM",
          "... < 0 DM",
          "... >= 200 DM / salary for at least 1 year",
          "... >= 200 DM / salary for at least 1 year",
          "... >= 200 DM / salary for at least 1 year",
          "... >= 200 DM / salary for at least 1 year",
          "... >= 200 DM / salary for at least 1 year",
          "... >= 200 DM / salary for at least 1 year",
          "... >= 200 DM / salary for at least 1 year",
          "... >= 200 DM / salary for at least 1 year",
          "... >= 200 DM / salary for at least 1 year",
          "0<= ... < 200 DM",
          "no checking account",
          "no checking account",
          "... < 0 DM",
          "no checking account",
          "... < 0 DM",
          "... < 0 DM",
          "... >= 200 DM / salary for at least 1 year",
          "0<= ... < 200 DM",
          "no checking account",
          "no checking account",
          "0<= ... < 200 DM",
          "... < 0 DM",
          "0<= ... < 200 DM",
          "... >= 200 DM / salary for at least 1 year",
          "0<= ... < 200 DM",
          "no checking account",
          "... >= 200 DM / salary for at least 1 year",
          "no checking account",
          "0<= ... < 200 DM",
          "... >= 200 DM / salary for at least 1 year",
          "... >= 200 DM / salary for at least 1 year",
          "no checking account",
          "... >= 200 DM / salary for at least 1 year",
          "no checking account",
          "... >= 200 DM / salary for at least 1 year",
          "... >= 200 DM / salary for at least 1 year",
          "... < 0 DM",
          "... >= 200 DM / salary for at least 1 year",
          "... >= 200 DM / salary for at least 1 year",
          "... >= 200 DM / salary for at least 1 year",
          "no checking account",
          "no checking account",
          "... >= 200 DM / salary for at least 1 year",
          "no checking account",
          "... >= 200 DM / salary for at least 1 year",
          "... >= 200 DM / salary for at least 1 year",
          "... >= 200 DM / salary for at least 1 year",
          "... >= 200 DM / salary for at least 1 year",
          "... >= 200 DM / salary for at least 1 year",
          "... >= 200 DM / salary for at least 1 year",
          "... >= 200 DM / salary for at least 1 year",
          "... >= 200 DM / salary for at least 1 year",
          "... >= 200 DM / salary for at least 1 year",
          "... >= 200 DM / salary for at least 1 year",
          "... < 0 DM",
          "... >= 200 DM / salary for at least 1 year",
          "... < 0 DM",
          "... < 0 DM",
          "... >= 200 DM / salary for at least 1 year",
          "... >= 200 DM / salary for at least 1 year",
          "... >= 200 DM / salary for at least 1 year",
          "0<= ... < 200 DM",
          "no checking account",
          "... >= 200 DM / salary for at least 1 year",
          "no checking account",
          "... >= 200 DM / salary for at least 1 year",
          "... >= 200 DM / salary for at least 1 year",
          "... >= 200 DM / salary for at least 1 year",
          "0<= ... < 200 DM",
          "... >= 200 DM / salary for at least 1 year",
          "... >= 200 DM / salary for at least 1 year",
          "... >= 200 DM / salary for at least 1 year",
          "... < 0 DM",
          "... >= 200 DM / salary for at least 1 year",
          "... >= 200 DM / salary for at least 1 year",
          "... >= 200 DM / salary for at least 1 year",
          "... >= 200 DM / salary for at least 1 year",
          "... >= 200 DM / salary for at least 1 year",
          "... >= 200 DM / salary for at least 1 year",
          "... >= 200 DM / salary for at least 1 year",
          "... >= 200 DM / salary for at least 1 year",
          "... >= 200 DM / salary for at least 1 year",
          "... >= 200 DM / salary for at least 1 year",
          "... < 0 DM",
          "no checking account",
          "0<= ... < 200 DM",
          "0<= ... < 200 DM",
          "0<= ... < 200 DM",
          "... >= 200 DM / salary for at least 1 year",
          "... < 0 DM",
          "no checking account",
          "... >= 200 DM / salary for at least 1 year",
          "no checking account",
          "... >= 200 DM / salary for at least 1 year",
          "... >= 200 DM / salary for at least 1 year",
          "... >= 200 DM / salary for at least 1 year",
          "... >= 200 DM / salary for at least 1 year",
          "... >= 200 DM / salary for at least 1 year",
          "... >= 200 DM / salary for at least 1 year",
          "... < 0 DM",
          "... >= 200 DM / salary for at least 1 year",
          "... >= 200 DM / salary for at least 1 year",
          "... >= 200 DM / salary for at least 1 year",
          "... >= 200 DM / salary for at least 1 year",
          "... < 0 DM",
          "... >= 200 DM / salary for at least 1 year",
          "no checking account",
          "0<= ... < 200 DM",
          "0<= ... < 200 DM",
          "... >= 200 DM / salary for at least 1 year",
          "... >= 200 DM / salary for at least 1 year",
          "no checking account",
          "... >= 200 DM / salary for at least 1 year",
          "no checking account",
          "... >= 200 DM / salary for at least 1 year",
          "... >= 200 DM / salary for at least 1 year",
          "... >= 200 DM / salary for at least 1 year",
          "... >= 200 DM / salary for at least 1 year",
          "... < 0 DM",
          "no checking account",
          "... >= 200 DM / salary for at least 1 year",
          "... >= 200 DM / salary for at least 1 year",
          "0<= ... < 200 DM",
          "... >= 200 DM / salary for at least 1 year",
          "... >= 200 DM / salary for at least 1 year",
          "... >= 200 DM / salary for at least 1 year",
          "... >= 200 DM / salary for at least 1 year",
          "... >= 200 DM / salary for at least 1 year",
          "no checking account",
          "... >= 200 DM / salary for at least 1 year",
          "... >= 200 DM / salary for at least 1 year",
          "... >= 200 DM / salary for at least 1 year",
          "0<= ... < 200 DM",
          "... >= 200 DM / salary for at least 1 year",
          "... >= 200 DM / salary for at least 1 year",
          "... >= 200 DM / salary for at least 1 year",
          "... >= 200 DM / salary for at least 1 year",
          "... >= 200 DM / salary for at least 1 year",
          "... >= 200 DM / salary for at least 1 year",
          "... >= 200 DM / salary for at least 1 year",
          "no checking account",
          "no checking account",
          "no checking account",
          "... >= 200 DM / salary for at least 1 year",
          "... >= 200 DM / salary for at least 1 year",
          "... >= 200 DM / salary for at least 1 year",
          "no checking account",
          "... >= 200 DM / salary for at least 1 year",
          "... >= 200 DM / salary for at least 1 year",
          "... >= 200 DM / salary for at least 1 year",
          "... >= 200 DM / salary for at least 1 year",
          "... >= 200 DM / salary for at least 1 year",
          "0<= ... < 200 DM",
          "no checking account",
          "... >= 200 DM / salary for at least 1 year",
          "... >= 200 DM / salary for at least 1 year",
          "... >= 200 DM / salary for at least 1 year",
          "... >= 200 DM / salary for at least 1 year",
          "... >= 200 DM / salary for at least 1 year",
          "... >= 200 DM / salary for at least 1 year",
          "no checking account",
          "... >= 200 DM / salary for at least 1 year",
          "0<= ... < 200 DM",
          "... >= 200 DM / salary for at least 1 year",
          "... >= 200 DM / salary for at least 1 year",
          "no checking account",
          "... >= 200 DM / salary for at least 1 year",
          "... >= 200 DM / salary for at least 1 year",
          "... >= 200 DM / salary for at least 1 year",
          "... >= 200 DM / salary for at least 1 year",
          "0<= ... < 200 DM",
          "... < 0 DM",
          "no checking account",
          "no checking account",
          "no checking account",
          "... >= 200 DM / salary for at least 1 year",
          "... < 0 DM",
          "no checking account",
          "... >= 200 DM / salary for at least 1 year",
          "no checking account",
          "... < 0 DM",
          "... < 0 DM",
          "... >= 200 DM / salary for at least 1 year",
          "no checking account",
          "no checking account",
          "... >= 200 DM / salary for at least 1 year",
          "... < 0 DM",
          "... >= 200 DM / salary for at least 1 year",
          "... < 0 DM",
          "... >= 200 DM / salary for at least 1 year",
          "0<= ... < 200 DM",
          "no checking account",
          "... >= 200 DM / salary for at least 1 year",
          "0<= ... < 200 DM",
          "0<= ... < 200 DM",
          "... >= 200 DM / salary for at least 1 year",
          "... >= 200 DM / salary for at least 1 year",
          "... < 0 DM",
          "... < 0 DM",
          "... >= 200 DM / salary for at least 1 year",
          "... >= 200 DM / salary for at least 1 year",
          "... < 0 DM",
          "... < 0 DM",
          "... < 0 DM",
          "no checking account",
          "... >= 200 DM / salary for at least 1 year",
          "... >= 200 DM / salary for at least 1 year",
          "... < 0 DM",
          "... >= 200 DM / salary for at least 1 year",
          "... < 0 DM",
          "... < 0 DM",
          "... >= 200 DM / salary for at least 1 year",
          "... >= 200 DM / salary for at least 1 year",
          "... >= 200 DM / salary for at least 1 year",
          "... >= 200 DM / salary for at least 1 year",
          "... >= 200 DM / salary for at least 1 year",
          "... >= 200 DM / salary for at least 1 year",
          "... >= 200 DM / salary for at least 1 year",
          "... >= 200 DM / salary for at least 1 year",
          "... >= 200 DM / salary for at least 1 year",
          "... >= 200 DM / salary for at least 1 year",
          "no checking account",
          "... >= 200 DM / salary for at least 1 year",
          "... < 0 DM",
          "... < 0 DM",
          "... >= 200 DM / salary for at least 1 year",
          "... >= 200 DM / salary for at least 1 year",
          "... >= 200 DM / salary for at least 1 year",
          "... < 0 DM",
          "no checking account",
          "... < 0 DM",
          "... >= 200 DM / salary for at least 1 year",
          "... < 0 DM",
          "... < 0 DM",
          "... >= 200 DM / salary for at least 1 year",
          "... >= 200 DM / salary for at least 1 year",
          "... >= 200 DM / salary for at least 1 year",
          "... >= 200 DM / salary for at least 1 year",
          "no checking account",
          "... < 0 DM",
          "... >= 200 DM / salary for at least 1 year",
          "... >= 200 DM / salary for at least 1 year",
          "no checking account",
          "... >= 200 DM / salary for at least 1 year",
          "... >= 200 DM / salary for at least 1 year",
          "... >= 200 DM / salary for at least 1 year",
          "... >= 200 DM / salary for at least 1 year",
          "... >= 200 DM / salary for at least 1 year",
          "... >= 200 DM / salary for at least 1 year",
          "... < 0 DM",
          "no checking account",
          "... < 0 DM",
          "... < 0 DM",
          "no checking account",
          "... < 0 DM",
          "... < 0 DM",
          "... < 0 DM",
          "... < 0 DM",
          "... >= 200 DM / salary for at least 1 year",
          "... < 0 DM",
          "... < 0 DM",
          "... >= 200 DM / salary for at least 1 year",
          "... < 0 DM",
          "0<= ... < 200 DM",
          "... < 0 DM",
          "... >= 200 DM / salary for at least 1 year",
          "... < 0 DM",
          "... >= 200 DM / salary for at least 1 year",
          "... >= 200 DM / salary for at least 1 year",
          "... >= 200 DM / salary for at least 1 year",
          "... >= 200 DM / salary for at least 1 year",
          "... >= 200 DM / salary for at least 1 year",
          "0<= ... < 200 DM",
          "... >= 200 DM / salary for at least 1 year",
          "... >= 200 DM / salary for at least 1 year",
          "... >= 200 DM / salary for at least 1 year",
          "... >= 200 DM / salary for at least 1 year",
          "... < 0 DM",
          "... >= 200 DM / salary for at least 1 year",
          "... < 0 DM",
          "... >= 200 DM / salary for at least 1 year",
          "... >= 200 DM / salary for at least 1 year",
          "... >= 200 DM / salary for at least 1 year",
          "... >= 200 DM / salary for at least 1 year",
          "... >= 200 DM / salary for at least 1 year",
          "... < 0 DM",
          "... >= 200 DM / salary for at least 1 year",
          "... >= 200 DM / salary for at least 1 year",
          "... >= 200 DM / salary for at least 1 year",
          "... >= 200 DM / salary for at least 1 year",
          "no checking account",
          "... >= 200 DM / salary for at least 1 year",
          "no checking account",
          "... >= 200 DM / salary for at least 1 year",
          "... >= 200 DM / salary for at least 1 year",
          "... >= 200 DM / salary for at least 1 year",
          "... >= 200 DM / salary for at least 1 year",
          "no checking account",
          "... >= 200 DM / salary for at least 1 year",
          "... >= 200 DM / salary for at least 1 year",
          "... >= 200 DM / salary for at least 1 year",
          "... >= 200 DM / salary for at least 1 year",
          "... >= 200 DM / salary for at least 1 year",
          "... >= 200 DM / salary for at least 1 year",
          "... >= 200 DM / salary for at least 1 year",
          "... >= 200 DM / salary for at least 1 year",
          "... >= 200 DM / salary for at least 1 year",
          "no checking account",
          "... >= 200 DM / salary for at least 1 year",
          "... >= 200 DM / salary for at least 1 year",
          "... < 0 DM",
          "... < 0 DM",
          "... >= 200 DM / salary for at least 1 year",
          "... < 0 DM",
          "... < 0 DM",
          "... >= 200 DM / salary for at least 1 year",
          "... >= 200 DM / salary for at least 1 year",
          "... < 0 DM",
          "... >= 200 DM / salary for at least 1 year",
          "no checking account",
          "... < 0 DM",
          "... >= 200 DM / salary for at least 1 year",
          "... >= 200 DM / salary for at least 1 year",
          "... >= 200 DM / salary for at least 1 year",
          "... >= 200 DM / salary for at least 1 year",
          "0<= ... < 200 DM",
          "no checking account",
          "no checking account",
          "... < 0 DM",
          "... >= 200 DM / salary for at least 1 year",
          "... >= 200 DM / salary for at least 1 year",
          "... >= 200 DM / salary for at least 1 year",
          "... < 0 DM",
          "... < 0 DM",
          "... < 0 DM",
          "... >= 200 DM / salary for at least 1 year",
          "... < 0 DM",
          "... < 0 DM",
          "0<= ... < 200 DM",
          "... < 0 DM",
          "... >= 200 DM / salary for at least 1 year",
          "... < 0 DM",
          "... >= 200 DM / salary for at least 1 year",
          "... >= 200 DM / salary for at least 1 year",
          "... >= 200 DM / salary for at least 1 year",
          "... < 0 DM",
          "... >= 200 DM / salary for at least 1 year",
          "... < 0 DM",
          "0<= ... < 200 DM",
          "... >= 200 DM / salary for at least 1 year",
          "... < 0 DM",
          "... >= 200 DM / salary for at least 1 year",
          "... >= 200 DM / salary for at least 1 year",
          "0<= ... < 200 DM",
          "... >= 200 DM / salary for at least 1 year",
          "... < 0 DM",
          "... < 0 DM",
          "... >= 200 DM / salary for at least 1 year",
          "... >= 200 DM / salary for at least 1 year",
          "... >= 200 DM / salary for at least 1 year",
          "0<= ... < 200 DM",
          "... >= 200 DM / salary for at least 1 year",
          "... < 0 DM",
          "... < 0 DM",
          "... < 0 DM",
          "... < 0 DM",
          "no checking account",
          "no checking account",
          "no checking account",
          "no checking account",
          "... < 0 DM",
          "no checking account",
          "no checking account",
          "no checking account",
          "no checking account",
          "no checking account",
          "no checking account",
          "no checking account",
          "... >= 200 DM / salary for at least 1 year",
          "no checking account",
          "no checking account",
          "no checking account",
          "... < 0 DM",
          "no checking account",
          "no checking account",
          "... < 0 DM",
          "no checking account",
          "no checking account",
          "no checking account",
          "no checking account",
          "no checking account",
          "no checking account",
          "no checking account",
          "... < 0 DM",
          "... >= 200 DM / salary for at least 1 year",
          "... >= 200 DM / salary for at least 1 year",
          "no checking account",
          "no checking account",
          "no checking account",
          "no checking account",
          "... >= 200 DM / salary for at least 1 year",
          "... >= 200 DM / salary for at least 1 year",
          "... >= 200 DM / salary for at least 1 year",
          "no checking account",
          "no checking account",
          "no checking account",
          "no checking account",
          "no checking account",
          "no checking account",
          "no checking account",
          "no checking account",
          "no checking account",
          "no checking account",
          "no checking account",
          "0<= ... < 200 DM",
          "no checking account",
          "... >= 200 DM / salary for at least 1 year",
          "no checking account",
          "... >= 200 DM / salary for at least 1 year",
          "... >= 200 DM / salary for at least 1 year",
          "... < 0 DM",
          "... < 0 DM",
          "... < 0 DM",
          "... < 0 DM",
          "... < 0 DM",
          "... >= 200 DM / salary for at least 1 year",
          "... < 0 DM",
          "... < 0 DM",
          "... < 0 DM",
          "... < 0 DM",
          "... < 0 DM",
          "... < 0 DM",
          "... < 0 DM",
          "... < 0 DM",
          "... < 0 DM",
          "no checking account",
          "... < 0 DM",
          "... < 0 DM",
          "... < 0 DM",
          "... < 0 DM",
          "... < 0 DM",
          "... < 0 DM",
          "... < 0 DM",
          "... < 0 DM",
          "... < 0 DM",
          "... < 0 DM",
          "0<= ... < 200 DM",
          "no checking account",
          "... < 0 DM",
          "... < 0 DM",
          "... < 0 DM",
          "... < 0 DM",
          "... < 0 DM",
          "... < 0 DM",
          "... < 0 DM",
          "no checking account",
          "... >= 200 DM / salary for at least 1 year",
          "... < 0 DM",
          "... < 0 DM",
          "0<= ... < 200 DM",
          "... >= 200 DM / salary for at least 1 year",
          "no checking account",
          "... < 0 DM",
          "... >= 200 DM / salary for at least 1 year",
          "... >= 200 DM / salary for at least 1 year",
          "... >= 200 DM / salary for at least 1 year",
          "0<= ... < 200 DM",
          "... >= 200 DM / salary for at least 1 year",
          "... < 0 DM",
          "no checking account",
          "... < 0 DM",
          "no checking account",
          "no checking account",
          "no checking account",
          "... >= 200 DM / salary for at least 1 year",
          "0<= ... < 200 DM",
          "... < 0 DM",
          "... >= 200 DM / salary for at least 1 year",
          "... >= 200 DM / salary for at least 1 year",
          "no checking account",
          "... >= 200 DM / salary for at least 1 year",
          "... >= 200 DM / salary for at least 1 year",
          "... >= 200 DM / salary for at least 1 year",
          "... >= 200 DM / salary for at least 1 year",
          "no checking account",
          "0<= ... < 200 DM",
          "... >= 200 DM / salary for at least 1 year",
          "... >= 200 DM / salary for at least 1 year",
          "no checking account",
          "... < 0 DM",
          "... >= 200 DM / salary for at least 1 year",
          "... >= 200 DM / salary for at least 1 year",
          "... >= 200 DM / salary for at least 1 year",
          "... < 0 DM",
          "... < 0 DM",
          "... >= 200 DM / salary for at least 1 year",
          "... >= 200 DM / salary for at least 1 year",
          "no checking account",
          "no checking account",
          "... >= 200 DM / salary for at least 1 year",
          "... < 0 DM",
          "... >= 200 DM / salary for at least 1 year",
          "... < 0 DM",
          "... < 0 DM",
          "... >= 200 DM / salary for at least 1 year",
          "... >= 200 DM / salary for at least 1 year",
          "... >= 200 DM / salary for at least 1 year",
          "... >= 200 DM / salary for at least 1 year",
          "... >= 200 DM / salary for at least 1 year",
          "... < 0 DM",
          "... >= 200 DM / salary for at least 1 year",
          "... < 0 DM",
          "0<= ... < 200 DM",
          "... < 0 DM"
         ],
         "xaxis": "x",
         "y": [
          1,
          1,
          1,
          1,
          1,
          1,
          1,
          1,
          1,
          1,
          1,
          1,
          1,
          1,
          1,
          1,
          1,
          1,
          1,
          1,
          1,
          1,
          1,
          1,
          1,
          1,
          1,
          1,
          1,
          1,
          1,
          1,
          1,
          1,
          1,
          1,
          1,
          1,
          1,
          1,
          1,
          1,
          1,
          1,
          1,
          1,
          1,
          1,
          1,
          1,
          1,
          1,
          1,
          1,
          1,
          1,
          1,
          1,
          1,
          1,
          1,
          1,
          1,
          1,
          1,
          1,
          1,
          1,
          1,
          1,
          1,
          1,
          1,
          1,
          1,
          1,
          1,
          1,
          1,
          1,
          1,
          1,
          1,
          1,
          1,
          1,
          1,
          1,
          1,
          1,
          1,
          1,
          1,
          1,
          1,
          1,
          1,
          1,
          1,
          1,
          1,
          1,
          1,
          1,
          1,
          1,
          1,
          1,
          1,
          1,
          1,
          1,
          1,
          1,
          1,
          1,
          1,
          1,
          1,
          1,
          1,
          1,
          1,
          1,
          1,
          1,
          1,
          1,
          1,
          1,
          1,
          1,
          1,
          1,
          1,
          1,
          1,
          1,
          1,
          1,
          1,
          1,
          1,
          1,
          1,
          1,
          1,
          1,
          1,
          1,
          1,
          1,
          1,
          1,
          1,
          1,
          1,
          1,
          1,
          1,
          1,
          1,
          1,
          1,
          1,
          1,
          1,
          1,
          1,
          1,
          1,
          1,
          1,
          1,
          1,
          1,
          1,
          1,
          1,
          1,
          1,
          1,
          1,
          1,
          1,
          1,
          1,
          1,
          1,
          1,
          1,
          1,
          1,
          1,
          1,
          1,
          1,
          1,
          1,
          1,
          1,
          1,
          1,
          1,
          1,
          1,
          1,
          1,
          1,
          1,
          1,
          1,
          1,
          1,
          1,
          1,
          1,
          1,
          1,
          1,
          1,
          1,
          1,
          1,
          1,
          1,
          1,
          1,
          1,
          1,
          1,
          1,
          1,
          1,
          1,
          1,
          1,
          1,
          1,
          1,
          1,
          1,
          1,
          1,
          1,
          1,
          1,
          1,
          1,
          1,
          1,
          1,
          1,
          1,
          1,
          1,
          1,
          1,
          1,
          1,
          1,
          1,
          1,
          1,
          1,
          1,
          1,
          1,
          1,
          1,
          1,
          1,
          1,
          1,
          1,
          1,
          1,
          1,
          1,
          1,
          1,
          1,
          1,
          1,
          1,
          1,
          1,
          1,
          1,
          1,
          1,
          1,
          1,
          1,
          1,
          1,
          1,
          1,
          1,
          1,
          1,
          1,
          1,
          1,
          1,
          1,
          1,
          1,
          1,
          1,
          1,
          1,
          1,
          1,
          1,
          1,
          1,
          1,
          1,
          1,
          1,
          1,
          1,
          1,
          1,
          1,
          1,
          1,
          1,
          1,
          1,
          1,
          1,
          1,
          1,
          1,
          1,
          1,
          1,
          1,
          1,
          1,
          1,
          1,
          1,
          1,
          1,
          1,
          1,
          1,
          1,
          1,
          1,
          1,
          1,
          1,
          1,
          1,
          1,
          1,
          1,
          1,
          1,
          1,
          1,
          1,
          1,
          1,
          1,
          1,
          1,
          1,
          1,
          1,
          1,
          1,
          1,
          1,
          1,
          1,
          1,
          1,
          1,
          1,
          1,
          1,
          1,
          1,
          1,
          1,
          1,
          1,
          1,
          1,
          1,
          1,
          1,
          1,
          1,
          1,
          1,
          1,
          1,
          1,
          1,
          1,
          1,
          1,
          1,
          1,
          1,
          1,
          1,
          1,
          1,
          1,
          1,
          1,
          1,
          1,
          1,
          1,
          1,
          1,
          1,
          1,
          1,
          1,
          1,
          1,
          1,
          1,
          1,
          1,
          1,
          1,
          1,
          1,
          1,
          1,
          1,
          1,
          1,
          1,
          1,
          1,
          1,
          1,
          1,
          1,
          1,
          1,
          1,
          1,
          1,
          1,
          1,
          1,
          1,
          1,
          1,
          1,
          1,
          1,
          1,
          1,
          1,
          1,
          1,
          1,
          1,
          1,
          1,
          1,
          1,
          1,
          1,
          1,
          1,
          1,
          1,
          1,
          1,
          1,
          1,
          1,
          1,
          1,
          1,
          1,
          1,
          1,
          1,
          1,
          1,
          1,
          1,
          1,
          1,
          1,
          1,
          1,
          1,
          1,
          1,
          1,
          1,
          1,
          1,
          1,
          1,
          1,
          1,
          1,
          1,
          1,
          1,
          1,
          1,
          1,
          1,
          1,
          1,
          1,
          1,
          1,
          1,
          1,
          1,
          1,
          1,
          1,
          1,
          1,
          1,
          1,
          1,
          1,
          1,
          1,
          1,
          1,
          1,
          1,
          1,
          1,
          1,
          1,
          1,
          1,
          1,
          1,
          1,
          1,
          1,
          1,
          1,
          1,
          1,
          1,
          1,
          1,
          1,
          1,
          1,
          1,
          1,
          1,
          1,
          1,
          1,
          1,
          1,
          1,
          1,
          1,
          1,
          1,
          1,
          1,
          1,
          1,
          1,
          1,
          1,
          1,
          1,
          1,
          1,
          1,
          1,
          1,
          1,
          1,
          1,
          1,
          1,
          1,
          1,
          1,
          1,
          1,
          1,
          1,
          1,
          1,
          1,
          1,
          1,
          1,
          1,
          1,
          1,
          1,
          1,
          1,
          1,
          1,
          1,
          1,
          1,
          1,
          1,
          1,
          1,
          1,
          1,
          1,
          1,
          1,
          1,
          1,
          1,
          1,
          1,
          1,
          1,
          1,
          1,
          1,
          1,
          1,
          1,
          1,
          1,
          1,
          1,
          1,
          1,
          1,
          1,
          1,
          1,
          1,
          1,
          1,
          1,
          1,
          1,
          1,
          1,
          1,
          1,
          1,
          1,
          1,
          1,
          1,
          1,
          1,
          1,
          1,
          1,
          1,
          1,
          1,
          1,
          1,
          1,
          1,
          1,
          1,
          1,
          1,
          1,
          1,
          1,
          1,
          1,
          1,
          1,
          1,
          1,
          1,
          1,
          1,
          1,
          1,
          1,
          1
         ],
         "yaxis": "y"
        },
        {
         "alignmentgroup": "True",
         "hovertemplate": "Credit Compliance=Bad<br>Account Status=%{x}<br>Instances=%{y}<extra></extra>",
         "legendgroup": "Bad",
         "marker": {
          "color": "#EF553B",
          "pattern": {
           "shape": ""
          }
         },
         "name": "Bad",
         "offsetgroup": "Bad",
         "orientation": "v",
         "showlegend": true,
         "textposition": "auto",
         "type": "bar",
         "x": [
          "... < 0 DM",
          "no checking account",
          "... >= 200 DM / salary for at least 1 year",
          "... < 0 DM",
          "no checking account",
          "... < 0 DM",
          "no checking account",
          "... < 0 DM",
          "0<= ... < 200 DM",
          "no checking account",
          "no checking account",
          "... < 0 DM",
          "... < 0 DM",
          "... >= 200 DM / salary for at least 1 year",
          "... < 0 DM",
          "no checking account",
          "... >= 200 DM / salary for at least 1 year",
          "... >= 200 DM / salary for at least 1 year",
          "... >= 200 DM / salary for at least 1 year",
          "... >= 200 DM / salary for at least 1 year",
          "... >= 200 DM / salary for at least 1 year",
          "... < 0 DM",
          "... < 0 DM",
          "... < 0 DM",
          "no checking account",
          "no checking account",
          "no checking account",
          "no checking account",
          "no checking account",
          "no checking account",
          "... >= 200 DM / salary for at least 1 year",
          "no checking account",
          "no checking account",
          "no checking account",
          "no checking account",
          "no checking account",
          "no checking account",
          "no checking account",
          "... < 0 DM",
          "no checking account",
          "no checking account",
          "no checking account",
          "... < 0 DM",
          "no checking account",
          "no checking account",
          "no checking account",
          "... >= 200 DM / salary for at least 1 year",
          "... < 0 DM",
          "... < 0 DM",
          "... < 0 DM",
          "no checking account",
          "no checking account",
          "... < 0 DM",
          "... < 0 DM",
          "... < 0 DM",
          "no checking account",
          "no checking account",
          "no checking account",
          "... < 0 DM",
          "... < 0 DM",
          "... < 0 DM",
          "no checking account",
          "... >= 200 DM / salary for at least 1 year",
          "... < 0 DM",
          "... >= 200 DM / salary for at least 1 year",
          "... >= 200 DM / salary for at least 1 year",
          "... < 0 DM",
          "... >= 200 DM / salary for at least 1 year",
          "... < 0 DM",
          "no checking account",
          "no checking account",
          "no checking account",
          "no checking account",
          "no checking account",
          "no checking account",
          "no checking account",
          "... < 0 DM",
          "no checking account",
          "... < 0 DM",
          "... >= 200 DM / salary for at least 1 year",
          "... < 0 DM",
          "no checking account",
          "... < 0 DM",
          "... < 0 DM",
          "no checking account",
          "... >= 200 DM / salary for at least 1 year",
          "... < 0 DM",
          "... < 0 DM",
          "... < 0 DM",
          "... < 0 DM",
          "... < 0 DM",
          "0<= ... < 200 DM",
          "no checking account",
          "no checking account",
          "0<= ... < 200 DM",
          "... < 0 DM",
          "0<= ... < 200 DM",
          "0<= ... < 200 DM",
          "no checking account",
          "0<= ... < 200 DM",
          "no checking account",
          "no checking account",
          "no checking account",
          "... < 0 DM",
          "no checking account",
          "no checking account",
          "... < 0 DM",
          "no checking account",
          "no checking account",
          "no checking account",
          "... < 0 DM",
          "no checking account",
          "... >= 200 DM / salary for at least 1 year",
          "no checking account",
          "... < 0 DM",
          "... >= 200 DM / salary for at least 1 year",
          "0<= ... < 200 DM",
          "no checking account",
          "... < 0 DM",
          "... >= 200 DM / salary for at least 1 year",
          "... < 0 DM",
          "no checking account",
          "no checking account",
          "no checking account",
          "no checking account",
          "... < 0 DM",
          "... < 0 DM",
          "no checking account",
          "... < 0 DM",
          "... < 0 DM",
          "... < 0 DM",
          "... >= 200 DM / salary for at least 1 year",
          "... >= 200 DM / salary for at least 1 year",
          "0<= ... < 200 DM",
          "... >= 200 DM / salary for at least 1 year",
          "... < 0 DM",
          "... >= 200 DM / salary for at least 1 year",
          "... < 0 DM",
          "... >= 200 DM / salary for at least 1 year",
          "... >= 200 DM / salary for at least 1 year",
          "no checking account",
          "... < 0 DM",
          "... >= 200 DM / salary for at least 1 year",
          "... < 0 DM",
          "... < 0 DM",
          "... < 0 DM",
          "... < 0 DM",
          "... < 0 DM",
          "... < 0 DM",
          "... < 0 DM",
          "... < 0 DM",
          "no checking account",
          "... < 0 DM",
          "0<= ... < 200 DM",
          "... >= 200 DM / salary for at least 1 year",
          "no checking account",
          "no checking account",
          "no checking account",
          "no checking account",
          "no checking account",
          "... >= 200 DM / salary for at least 1 year",
          "no checking account",
          "... < 0 DM",
          "... >= 200 DM / salary for at least 1 year",
          "no checking account",
          "0<= ... < 200 DM",
          "... < 0 DM",
          "... < 0 DM",
          "... < 0 DM",
          "... < 0 DM",
          "no checking account",
          "... >= 200 DM / salary for at least 1 year",
          "... >= 200 DM / salary for at least 1 year",
          "... >= 200 DM / salary for at least 1 year",
          "... < 0 DM",
          "... < 0 DM",
          "... < 0 DM",
          "no checking account",
          "no checking account",
          "no checking account",
          "no checking account",
          "0<= ... < 200 DM",
          "no checking account",
          "... < 0 DM",
          "... < 0 DM",
          "... < 0 DM",
          "no checking account",
          "no checking account",
          "no checking account",
          "... < 0 DM",
          "... < 0 DM",
          "no checking account",
          "... < 0 DM",
          "no checking account",
          "... < 0 DM",
          "... < 0 DM",
          "... >= 200 DM / salary for at least 1 year",
          "... >= 200 DM / salary for at least 1 year",
          "... < 0 DM",
          "... >= 200 DM / salary for at least 1 year",
          "no checking account",
          "no checking account",
          "... < 0 DM",
          "no checking account",
          "no checking account",
          "no checking account",
          "no checking account",
          "no checking account",
          "no checking account",
          "no checking account",
          "no checking account",
          "no checking account",
          "no checking account",
          "no checking account",
          "no checking account",
          "no checking account",
          "no checking account",
          "... < 0 DM",
          "no checking account",
          "no checking account",
          "no checking account",
          "no checking account",
          "no checking account",
          "no checking account",
          "no checking account",
          "no checking account",
          "no checking account",
          "no checking account",
          "no checking account",
          "... < 0 DM",
          "... < 0 DM",
          "no checking account",
          "... < 0 DM",
          "no checking account",
          "no checking account",
          "no checking account",
          "... < 0 DM",
          "... < 0 DM",
          "... < 0 DM",
          "... < 0 DM",
          "... >= 200 DM / salary for at least 1 year",
          "... < 0 DM",
          "... >= 200 DM / salary for at least 1 year",
          "... < 0 DM",
          "no checking account",
          "... < 0 DM",
          "... >= 200 DM / salary for at least 1 year",
          "... >= 200 DM / salary for at least 1 year",
          "no checking account",
          "... >= 200 DM / salary for at least 1 year",
          "... < 0 DM",
          "0<= ... < 200 DM",
          "... < 0 DM",
          "... >= 200 DM / salary for at least 1 year",
          "0<= ... < 200 DM",
          "no checking account",
          "... < 0 DM",
          "... < 0 DM",
          "... < 0 DM",
          "... < 0 DM",
          "... >= 200 DM / salary for at least 1 year",
          "... < 0 DM",
          "... < 0 DM",
          "no checking account",
          "... < 0 DM",
          "... < 0 DM",
          "... >= 200 DM / salary for at least 1 year",
          "no checking account",
          "no checking account",
          "no checking account",
          "... >= 200 DM / salary for at least 1 year",
          "... < 0 DM",
          "0<= ... < 200 DM",
          "no checking account",
          "no checking account",
          "no checking account",
          "... < 0 DM",
          "no checking account",
          "... < 0 DM",
          "no checking account",
          "... < 0 DM",
          "... >= 200 DM / salary for at least 1 year",
          "... < 0 DM",
          "no checking account",
          "no checking account",
          "... >= 200 DM / salary for at least 1 year",
          "no checking account",
          "no checking account",
          "no checking account",
          "... < 0 DM",
          "no checking account",
          "... < 0 DM",
          "no checking account",
          "no checking account",
          "no checking account",
          "no checking account",
          "no checking account",
          "... >= 200 DM / salary for at least 1 year",
          "... < 0 DM",
          "no checking account"
         ],
         "xaxis": "x",
         "y": [
          1,
          1,
          1,
          1,
          1,
          1,
          1,
          1,
          1,
          1,
          1,
          1,
          1,
          1,
          1,
          1,
          1,
          1,
          1,
          1,
          1,
          1,
          1,
          1,
          1,
          1,
          1,
          1,
          1,
          1,
          1,
          1,
          1,
          1,
          1,
          1,
          1,
          1,
          1,
          1,
          1,
          1,
          1,
          1,
          1,
          1,
          1,
          1,
          1,
          1,
          1,
          1,
          1,
          1,
          1,
          1,
          1,
          1,
          1,
          1,
          1,
          1,
          1,
          1,
          1,
          1,
          1,
          1,
          1,
          1,
          1,
          1,
          1,
          1,
          1,
          1,
          1,
          1,
          1,
          1,
          1,
          1,
          1,
          1,
          1,
          1,
          1,
          1,
          1,
          1,
          1,
          1,
          1,
          1,
          1,
          1,
          1,
          1,
          1,
          1,
          1,
          1,
          1,
          1,
          1,
          1,
          1,
          1,
          1,
          1,
          1,
          1,
          1,
          1,
          1,
          1,
          1,
          1,
          1,
          1,
          1,
          1,
          1,
          1,
          1,
          1,
          1,
          1,
          1,
          1,
          1,
          1,
          1,
          1,
          1,
          1,
          1,
          1,
          1,
          1,
          1,
          1,
          1,
          1,
          1,
          1,
          1,
          1,
          1,
          1,
          1,
          1,
          1,
          1,
          1,
          1,
          1,
          1,
          1,
          1,
          1,
          1,
          1,
          1,
          1,
          1,
          1,
          1,
          1,
          1,
          1,
          1,
          1,
          1,
          1,
          1,
          1,
          1,
          1,
          1,
          1,
          1,
          1,
          1,
          1,
          1,
          1,
          1,
          1,
          1,
          1,
          1,
          1,
          1,
          1,
          1,
          1,
          1,
          1,
          1,
          1,
          1,
          1,
          1,
          1,
          1,
          1,
          1,
          1,
          1,
          1,
          1,
          1,
          1,
          1,
          1,
          1,
          1,
          1,
          1,
          1,
          1,
          1,
          1,
          1,
          1,
          1,
          1,
          1,
          1,
          1,
          1,
          1,
          1,
          1,
          1,
          1,
          1,
          1,
          1,
          1,
          1,
          1,
          1,
          1,
          1,
          1,
          1,
          1,
          1,
          1,
          1,
          1,
          1,
          1,
          1,
          1,
          1,
          1,
          1,
          1,
          1,
          1,
          1,
          1,
          1,
          1,
          1,
          1,
          1,
          1,
          1,
          1,
          1,
          1,
          1,
          1,
          1,
          1,
          1,
          1,
          1,
          1,
          1,
          1,
          1,
          1,
          1,
          1,
          1,
          1,
          1,
          1,
          1,
          1,
          1,
          1,
          1,
          1,
          1
         ],
         "yaxis": "y"
        }
       ],
       "layout": {
        "barmode": "group",
        "legend": {
         "title": {
          "text": "Credit Compliance"
         },
         "tracegroupgap": 0
        },
        "template": {
         "data": {
          "bar": [
           {
            "error_x": {
             "color": "#2a3f5f"
            },
            "error_y": {
             "color": "#2a3f5f"
            },
            "marker": {
             "line": {
              "color": "#E5ECF6",
              "width": 0.5
             },
             "pattern": {
              "fillmode": "overlay",
              "size": 10,
              "solidity": 0.2
             }
            },
            "type": "bar"
           }
          ],
          "barpolar": [
           {
            "marker": {
             "line": {
              "color": "#E5ECF6",
              "width": 0.5
             },
             "pattern": {
              "fillmode": "overlay",
              "size": 10,
              "solidity": 0.2
             }
            },
            "type": "barpolar"
           }
          ],
          "carpet": [
           {
            "aaxis": {
             "endlinecolor": "#2a3f5f",
             "gridcolor": "white",
             "linecolor": "white",
             "minorgridcolor": "white",
             "startlinecolor": "#2a3f5f"
            },
            "baxis": {
             "endlinecolor": "#2a3f5f",
             "gridcolor": "white",
             "linecolor": "white",
             "minorgridcolor": "white",
             "startlinecolor": "#2a3f5f"
            },
            "type": "carpet"
           }
          ],
          "choropleth": [
           {
            "colorbar": {
             "outlinewidth": 0,
             "ticks": ""
            },
            "type": "choropleth"
           }
          ],
          "contour": [
           {
            "colorbar": {
             "outlinewidth": 0,
             "ticks": ""
            },
            "colorscale": [
             [
              0,
              "#0d0887"
             ],
             [
              0.1111111111111111,
              "#46039f"
             ],
             [
              0.2222222222222222,
              "#7201a8"
             ],
             [
              0.3333333333333333,
              "#9c179e"
             ],
             [
              0.4444444444444444,
              "#bd3786"
             ],
             [
              0.5555555555555556,
              "#d8576b"
             ],
             [
              0.6666666666666666,
              "#ed7953"
             ],
             [
              0.7777777777777778,
              "#fb9f3a"
             ],
             [
              0.8888888888888888,
              "#fdca26"
             ],
             [
              1,
              "#f0f921"
             ]
            ],
            "type": "contour"
           }
          ],
          "contourcarpet": [
           {
            "colorbar": {
             "outlinewidth": 0,
             "ticks": ""
            },
            "type": "contourcarpet"
           }
          ],
          "heatmap": [
           {
            "colorbar": {
             "outlinewidth": 0,
             "ticks": ""
            },
            "colorscale": [
             [
              0,
              "#0d0887"
             ],
             [
              0.1111111111111111,
              "#46039f"
             ],
             [
              0.2222222222222222,
              "#7201a8"
             ],
             [
              0.3333333333333333,
              "#9c179e"
             ],
             [
              0.4444444444444444,
              "#bd3786"
             ],
             [
              0.5555555555555556,
              "#d8576b"
             ],
             [
              0.6666666666666666,
              "#ed7953"
             ],
             [
              0.7777777777777778,
              "#fb9f3a"
             ],
             [
              0.8888888888888888,
              "#fdca26"
             ],
             [
              1,
              "#f0f921"
             ]
            ],
            "type": "heatmap"
           }
          ],
          "heatmapgl": [
           {
            "colorbar": {
             "outlinewidth": 0,
             "ticks": ""
            },
            "colorscale": [
             [
              0,
              "#0d0887"
             ],
             [
              0.1111111111111111,
              "#46039f"
             ],
             [
              0.2222222222222222,
              "#7201a8"
             ],
             [
              0.3333333333333333,
              "#9c179e"
             ],
             [
              0.4444444444444444,
              "#bd3786"
             ],
             [
              0.5555555555555556,
              "#d8576b"
             ],
             [
              0.6666666666666666,
              "#ed7953"
             ],
             [
              0.7777777777777778,
              "#fb9f3a"
             ],
             [
              0.8888888888888888,
              "#fdca26"
             ],
             [
              1,
              "#f0f921"
             ]
            ],
            "type": "heatmapgl"
           }
          ],
          "histogram": [
           {
            "marker": {
             "pattern": {
              "fillmode": "overlay",
              "size": 10,
              "solidity": 0.2
             }
            },
            "type": "histogram"
           }
          ],
          "histogram2d": [
           {
            "colorbar": {
             "outlinewidth": 0,
             "ticks": ""
            },
            "colorscale": [
             [
              0,
              "#0d0887"
             ],
             [
              0.1111111111111111,
              "#46039f"
             ],
             [
              0.2222222222222222,
              "#7201a8"
             ],
             [
              0.3333333333333333,
              "#9c179e"
             ],
             [
              0.4444444444444444,
              "#bd3786"
             ],
             [
              0.5555555555555556,
              "#d8576b"
             ],
             [
              0.6666666666666666,
              "#ed7953"
             ],
             [
              0.7777777777777778,
              "#fb9f3a"
             ],
             [
              0.8888888888888888,
              "#fdca26"
             ],
             [
              1,
              "#f0f921"
             ]
            ],
            "type": "histogram2d"
           }
          ],
          "histogram2dcontour": [
           {
            "colorbar": {
             "outlinewidth": 0,
             "ticks": ""
            },
            "colorscale": [
             [
              0,
              "#0d0887"
             ],
             [
              0.1111111111111111,
              "#46039f"
             ],
             [
              0.2222222222222222,
              "#7201a8"
             ],
             [
              0.3333333333333333,
              "#9c179e"
             ],
             [
              0.4444444444444444,
              "#bd3786"
             ],
             [
              0.5555555555555556,
              "#d8576b"
             ],
             [
              0.6666666666666666,
              "#ed7953"
             ],
             [
              0.7777777777777778,
              "#fb9f3a"
             ],
             [
              0.8888888888888888,
              "#fdca26"
             ],
             [
              1,
              "#f0f921"
             ]
            ],
            "type": "histogram2dcontour"
           }
          ],
          "mesh3d": [
           {
            "colorbar": {
             "outlinewidth": 0,
             "ticks": ""
            },
            "type": "mesh3d"
           }
          ],
          "parcoords": [
           {
            "line": {
             "colorbar": {
              "outlinewidth": 0,
              "ticks": ""
             }
            },
            "type": "parcoords"
           }
          ],
          "pie": [
           {
            "automargin": true,
            "type": "pie"
           }
          ],
          "scatter": [
           {
            "fillpattern": {
             "fillmode": "overlay",
             "size": 10,
             "solidity": 0.2
            },
            "type": "scatter"
           }
          ],
          "scatter3d": [
           {
            "line": {
             "colorbar": {
              "outlinewidth": 0,
              "ticks": ""
             }
            },
            "marker": {
             "colorbar": {
              "outlinewidth": 0,
              "ticks": ""
             }
            },
            "type": "scatter3d"
           }
          ],
          "scattercarpet": [
           {
            "marker": {
             "colorbar": {
              "outlinewidth": 0,
              "ticks": ""
             }
            },
            "type": "scattercarpet"
           }
          ],
          "scattergeo": [
           {
            "marker": {
             "colorbar": {
              "outlinewidth": 0,
              "ticks": ""
             }
            },
            "type": "scattergeo"
           }
          ],
          "scattergl": [
           {
            "marker": {
             "colorbar": {
              "outlinewidth": 0,
              "ticks": ""
             }
            },
            "type": "scattergl"
           }
          ],
          "scattermapbox": [
           {
            "marker": {
             "colorbar": {
              "outlinewidth": 0,
              "ticks": ""
             }
            },
            "type": "scattermapbox"
           }
          ],
          "scatterpolar": [
           {
            "marker": {
             "colorbar": {
              "outlinewidth": 0,
              "ticks": ""
             }
            },
            "type": "scatterpolar"
           }
          ],
          "scatterpolargl": [
           {
            "marker": {
             "colorbar": {
              "outlinewidth": 0,
              "ticks": ""
             }
            },
            "type": "scatterpolargl"
           }
          ],
          "scatterternary": [
           {
            "marker": {
             "colorbar": {
              "outlinewidth": 0,
              "ticks": ""
             }
            },
            "type": "scatterternary"
           }
          ],
          "surface": [
           {
            "colorbar": {
             "outlinewidth": 0,
             "ticks": ""
            },
            "colorscale": [
             [
              0,
              "#0d0887"
             ],
             [
              0.1111111111111111,
              "#46039f"
             ],
             [
              0.2222222222222222,
              "#7201a8"
             ],
             [
              0.3333333333333333,
              "#9c179e"
             ],
             [
              0.4444444444444444,
              "#bd3786"
             ],
             [
              0.5555555555555556,
              "#d8576b"
             ],
             [
              0.6666666666666666,
              "#ed7953"
             ],
             [
              0.7777777777777778,
              "#fb9f3a"
             ],
             [
              0.8888888888888888,
              "#fdca26"
             ],
             [
              1,
              "#f0f921"
             ]
            ],
            "type": "surface"
           }
          ],
          "table": [
           {
            "cells": {
             "fill": {
              "color": "#EBF0F8"
             },
             "line": {
              "color": "white"
             }
            },
            "header": {
             "fill": {
              "color": "#C8D4E3"
             },
             "line": {
              "color": "white"
             }
            },
            "type": "table"
           }
          ]
         },
         "layout": {
          "annotationdefaults": {
           "arrowcolor": "#2a3f5f",
           "arrowhead": 0,
           "arrowwidth": 1
          },
          "autotypenumbers": "strict",
          "coloraxis": {
           "colorbar": {
            "outlinewidth": 0,
            "ticks": ""
           }
          },
          "colorscale": {
           "diverging": [
            [
             0,
             "#8e0152"
            ],
            [
             0.1,
             "#c51b7d"
            ],
            [
             0.2,
             "#de77ae"
            ],
            [
             0.3,
             "#f1b6da"
            ],
            [
             0.4,
             "#fde0ef"
            ],
            [
             0.5,
             "#f7f7f7"
            ],
            [
             0.6,
             "#e6f5d0"
            ],
            [
             0.7,
             "#b8e186"
            ],
            [
             0.8,
             "#7fbc41"
            ],
            [
             0.9,
             "#4d9221"
            ],
            [
             1,
             "#276419"
            ]
           ],
           "sequential": [
            [
             0,
             "#0d0887"
            ],
            [
             0.1111111111111111,
             "#46039f"
            ],
            [
             0.2222222222222222,
             "#7201a8"
            ],
            [
             0.3333333333333333,
             "#9c179e"
            ],
            [
             0.4444444444444444,
             "#bd3786"
            ],
            [
             0.5555555555555556,
             "#d8576b"
            ],
            [
             0.6666666666666666,
             "#ed7953"
            ],
            [
             0.7777777777777778,
             "#fb9f3a"
            ],
            [
             0.8888888888888888,
             "#fdca26"
            ],
            [
             1,
             "#f0f921"
            ]
           ],
           "sequentialminus": [
            [
             0,
             "#0d0887"
            ],
            [
             0.1111111111111111,
             "#46039f"
            ],
            [
             0.2222222222222222,
             "#7201a8"
            ],
            [
             0.3333333333333333,
             "#9c179e"
            ],
            [
             0.4444444444444444,
             "#bd3786"
            ],
            [
             0.5555555555555556,
             "#d8576b"
            ],
            [
             0.6666666666666666,
             "#ed7953"
            ],
            [
             0.7777777777777778,
             "#fb9f3a"
            ],
            [
             0.8888888888888888,
             "#fdca26"
            ],
            [
             1,
             "#f0f921"
            ]
           ]
          },
          "colorway": [
           "#636efa",
           "#EF553B",
           "#00cc96",
           "#ab63fa",
           "#FFA15A",
           "#19d3f3",
           "#FF6692",
           "#B6E880",
           "#FF97FF",
           "#FECB52"
          ],
          "font": {
           "color": "#2a3f5f"
          },
          "geo": {
           "bgcolor": "white",
           "lakecolor": "white",
           "landcolor": "#E5ECF6",
           "showlakes": true,
           "showland": true,
           "subunitcolor": "white"
          },
          "hoverlabel": {
           "align": "left"
          },
          "hovermode": "closest",
          "mapbox": {
           "style": "light"
          },
          "paper_bgcolor": "white",
          "plot_bgcolor": "#E5ECF6",
          "polar": {
           "angularaxis": {
            "gridcolor": "white",
            "linecolor": "white",
            "ticks": ""
           },
           "bgcolor": "#E5ECF6",
           "radialaxis": {
            "gridcolor": "white",
            "linecolor": "white",
            "ticks": ""
           }
          },
          "scene": {
           "xaxis": {
            "backgroundcolor": "#E5ECF6",
            "gridcolor": "white",
            "gridwidth": 2,
            "linecolor": "white",
            "showbackground": true,
            "ticks": "",
            "zerolinecolor": "white"
           },
           "yaxis": {
            "backgroundcolor": "#E5ECF6",
            "gridcolor": "white",
            "gridwidth": 2,
            "linecolor": "white",
            "showbackground": true,
            "ticks": "",
            "zerolinecolor": "white"
           },
           "zaxis": {
            "backgroundcolor": "#E5ECF6",
            "gridcolor": "white",
            "gridwidth": 2,
            "linecolor": "white",
            "showbackground": true,
            "ticks": "",
            "zerolinecolor": "white"
           }
          },
          "shapedefaults": {
           "line": {
            "color": "#2a3f5f"
           }
          },
          "ternary": {
           "aaxis": {
            "gridcolor": "white",
            "linecolor": "white",
            "ticks": ""
           },
           "baxis": {
            "gridcolor": "white",
            "linecolor": "white",
            "ticks": ""
           },
           "bgcolor": "#E5ECF6",
           "caxis": {
            "gridcolor": "white",
            "linecolor": "white",
            "ticks": ""
           }
          },
          "title": {
           "x": 0.05
          },
          "xaxis": {
           "automargin": true,
           "gridcolor": "white",
           "linecolor": "white",
           "ticks": "",
           "title": {
            "standoff": 15
           },
           "zerolinecolor": "white",
           "zerolinewidth": 2
          },
          "yaxis": {
           "automargin": true,
           "gridcolor": "white",
           "linecolor": "white",
           "ticks": "",
           "title": {
            "standoff": 15
           },
           "zerolinecolor": "white",
           "zerolinewidth": 2
          }
         }
        },
        "title": {
         "text": "Distribution of Credit Compliance vs. Account Status"
        },
        "xaxis": {
         "anchor": "y",
         "domain": [
          0,
          1
         ],
         "title": {
          "text": "Account Status"
         }
        },
        "yaxis": {
         "anchor": "x",
         "domain": [
          0,
          1
         ],
         "title": {
          "text": "Instances"
         }
        }
       }
      }
     },
     "metadata": {},
     "output_type": "display_data"
    }
   ],
   "source": [
    "px.bar(df_viz, x='Account Status', title='Distribution of Credit Compliance vs. Account Status', color='Credit Compliance', barmode='group', labels={'count': 'Instances'})"
   ]
  },
  {
   "cell_type": "markdown",
   "metadata": {},
   "source": [
    "Of the customers that complied with their credit obligations most have the account status '... >= 200 DM / salary for at least 1 year'. While most of the customers who did not comply with their credit obligation either have no account or no money in it. Interestingly those of '0<= ... < 200 DM' have to lowest default rate compared to the other groups."
   ]
  },
  {
   "cell_type": "code",
   "execution_count": 11,
   "metadata": {},
   "outputs": [
    {
     "data": {
      "application/vnd.plotly.v1+json": {
       "config": {
        "plotlyServerURL": "https://plot.ly"
       },
       "data": [
        {
         "alignmentgroup": "True",
         "bingroup": "x",
         "hovertemplate": "Credit Amount=%{x}<br>count=%{y}<extra></extra>",
         "legendgroup": "",
         "marker": {
          "color": "#636efa",
          "pattern": {
           "shape": ""
          }
         },
         "name": "",
         "offsetgroup": "",
         "orientation": "v",
         "showlegend": false,
         "type": "histogram",
         "x": [
          1049,
          2799,
          841,
          2122,
          2171,
          2241,
          3398,
          1361,
          1098,
          3758,
          3905,
          6187,
          1957,
          7582,
          1936,
          2647,
          3939,
          3213,
          2337,
          7228,
          3676,
          3124,
          2384,
          1424,
          4716,
          4771,
          652,
          1154,
          3556,
          4796,
          3017,
          3535,
          6614,
          1376,
          1721,
          860,
          1495,
          1934,
          3378,
          3868,
          996,
          1755,
          1028,
          2825,
          1239,
          1216,
          1258,
          1864,
          1474,
          1382,
          640,
          3919,
          1224,
          2331,
          6313,
          385,
          1655,
          1053,
          3160,
          3079,
          1163,
          2679,
          3578,
          10875,
          1344,
          1237,
          3077,
          2284,
          1567,
          2032,
          2745,
          1867,
          2299,
          929,
          3399,
          2030,
          3275,
          1940,
          1602,
          1979,
          2022,
          3342,
          5866,
          2360,
          1520,
          3651,
          2346,
          4454,
          666,
          1965,
          1995,
          2991,
          4221,
          1364,
          6361,
          4526,
          3573,
          4455,
          2136,
          5954,
          3777,
          806,
          4712,
          7432,
          1851,
          1393,
          1412,
          1473,
          1533,
          2012,
          3959,
          428,
          2366,
          763,
          3976,
          6260,
          1919,
          2603,
          936,
          3062,
          4795,
          5842,
          2063,
          1459,
          1213,
          5103,
          874,
          2978,
          1820,
          2872,
          1925,
          2515,
          2116,
          1453,
          1364,
          1543,
          1318,
          2325,
          932,
          3148,
          3835,
          3832,
          5084,
          2406,
          2394,
          2476,
          2964,
          1262,
          1542,
          1743,
          409,
          2171,
          8858,
          3512,
          1158,
          2684,
          1498,
          5954,
          6416,
          3617,
          1291,
          1275,
          3972,
          3343,
          392,
          2134,
          5771,
          4526,
          2788,
          1382,
          5848,
          1228,
          1297,
          1552,
          1963,
          3235,
          4139,
          1804,
          1950,
          12749,
          1236,
          1055,
          8072,
          2831,
          1449,
          5742,
          2390,
          3430,
          2273,
          2923,
          1901,
          3711,
          8487,
          2255,
          1262,
          7253,
          6761,
          1817,
          2141,
          3609,
          2333,
          7824,
          1445,
          7721,
          3763,
          4439,
          1107,
          1444,
          12169,
          2753,
          1494,
          2828,
          2483,
          1299,
          1549,
          3949,
          2901,
          709,
          10722,
          1287,
          1940,
          3656,
          4679,
          8613,
          2659,
          1516,
          4380,
          802,
          1572,
          3566,
          1278,
          426,
          8588,
          3857,
          685,
          1603,
          2241,
          2384,
          601,
          2569,
          1316,
          10366,
          1568,
          629,
          1750,
          3488,
          1800,
          4151,
          2631,
          5248,
          2899,
          6204,
          804,
          3595,
          5711,
          2687,
          3643,
          2146,
          2315,
          3448,
          2708,
          1393,
          1275,
          1313,
          1493,
          2675,
          2118,
          909,
          1258,
          1569,
          1236,
          7678,
          660,
          2835,
          2670,
          3447,
          3568,
          3652,
          3660,
          1126,
          683,
          2251,
          4675,
          2353,
          3357,
          672,
          338,
          2697,
          2507,
          1478,
          3565,
          2221,
          1898,
          1449,
          960,
          8133,
          2301,
          1743,
          983,
          2320,
          339,
          5152,
          3749,
          3074,
          745,
          1469,
          1374,
          783,
          2606,
          9436,
          930,
          2751,
          250,
          1201,
          662,
          1300,
          1559,
          3016,
          1360,
          1204,
          1597,
          2073,
          2142,
          2132,
          1546,
          1287,
          1418,
          1343,
          2662,
          6070,
          1927,
          2404,
          1554,
          1283,
          717,
          1747,
          1288,
          1038,
          2848,
          1413,
          3077,
          3632,
          3229,
          3577,
          682,
          1924,
          727,
          781,
          2121,
          701,
          2069,
          1525,
          7629,
          3499,
          1346,
          10477,
          2924,
          1231,
          1961,
          5045,
          1255,
          1858,
          1221,
          1388,
          2279,
          2759,
          1258,
          1410,
          1403,
          3021,
          6568,
          2578,
          7758,
          343,
          1591,
          3416,
          1108,
          5965,
          1514,
          6742,
          3650,
          3599,
          13756,
          276,
          4041,
          458,
          918,
          7393,
          1225,
          2812,
          3029,
          1480,
          1047,
          1471,
          5511,
          1206,
          6403,
          707,
          1503,
          6078,
          2528,
          1037,
          1352,
          3181,
          4594,
          5381,
          4657,
          1391,
          1913,
          7166,
          1409,
          2978,
          976,
          2375,
          522,
          2743,
          1154,
          5804,
          1169,
          1478,
          776,
          1322,
          1175,
          2133,
          1829,
          717,
          11760,
          1501,
          1200,
          3195,
          4530,
          1555,
          2326,
          1887,
          1264,
          846,
          1532,
          935,
          2442,
          3590,
          2288,
          5117,
          14179,
          1386,
          618,
          1574,
          700,
          886,
          4686,
          790,
          766,
          2212,
          7308,
          5743,
          3973,
          7418,
          2629,
          1941,
          2333,
          2445,
          6468,
          7374,
          3812,
          4006,
          7472,
          1424,
          2028,
          5324,
          2323,
          1393,
          1984,
          999,
          7409,
          2186,
          4473,
          937,
          3422,
          3105,
          2748,
          3872,
          5190,
          3001,
          3863,
          5801,
          1592,
          1185,
          3780,
          3612,
          1076,
          3527,
          2051,
          3331,
          3104,
          2611,
          1409,
          1311,
          2108,
          4042,
          926,
          1680,
          1249,
          2463,
          1595,
          2058,
          7814,
          1740,
          1240,
          6842,
          5150,
          1203,
          2080,
          1538,
          3878,
          3832,
          3186,
          2896,
          6967,
          1819,
          5943,
          7127,
          3349,
          10974,
          518,
          1126,
          1860,
          9566,
          701,
          2930,
          1505,
          2238,
          1503,
          2197,
          1881,
          1880,
          2389,
          1967,
          3380,
          1455,
          730,
          3244,
          1670,
          3979,
          1922,
          1295,
          1544,
          907,
          1715,
          1347,
          1007,
          1402,
          2002,
          2096,
          1101,
          894,
          1577,
          2764,
          8358,
          1474,
          5433,
          1410,
          3485,
          3850,
          7408,
          1377,
          4272,
          1553,
          9857,
          362,
          1935,
          10222,
          1330,
          9055,
          7966,
          3496,
          6948,
          12204,
          3446,
          684,
          4281,
          7174,
          1546,
          2359,
          3621,
          741,
          7865,
          2910,
          5302,
          3620,
          3509,
          3017,
          1657,
          1164,
          6229,
          1193,
          4583,
          5371,
          708,
          571,
          2522,
          5179,
          8229,
          2028,
          1374,
          1289,
          2712,
          975,
          1050,
          609,
          4788,
          3069,
          836,
          2577,
          1620,
          1845,
          6579,
          1893,
          10623,
          2249,
          3108,
          958,
          9277,
          6314,
          1526,
          3590,
          6615,
          1872,
          2859,
          1582,
          1238,
          2578,
          1433,
          7882,
          4169,
          3959,
          3249,
          3149,
          2246,
          1797,
          4272,
          2957,
          2348,
          6289,
          6419,
          6143,
          1597,
          15857,
          2223,
          7238,
          2503,
          2622,
          4351,
          368,
          754,
          2424,
          6681,
          2427,
          1216,
          753,
          2576,
          590,
          1414,
          1103,
          585,
          1068,
          713,
          1092,
          2329,
          882,
          866,
          2415,
          2101,
          1301,
          1113,
          760,
          625,
          1323,
          1138,
          1795,
          2728,
          484,
          1048,
          1155,
          7057,
          1537,
          2214,
          1585,
          1521,
          3990,
          3049,
          1282,
          10144,
          1168,
          454,
          3594,
          1768,
          15653,
          2247,
          1413,
          4576,
          1231,
          8335,
          5800,
          8471,
          3622,
          1169,
          1262,
          3617,
          2181,
          7685,
          6110,
          3757,
          3394,
          6304,
          1244,
          3518,
          2613,
          7476,
          4591,
          1924,
          5595,
          6224,
          1905,
          2993,
          8947,
          4020,
          2779,
          2782,
          1884,
          11054,
          9157,
          9283,
          6527,
          3368,
          2511,
          5493,
          1338,
          1082,
          1149,
          1308,
          6148,
          1736,
          3059,
          2996,
          7596,
          4811,
          1766,
          2760,
          5507,
          1199,
          2892,
          2862,
          654,
          1136,
          4113,
          14555,
          950,
          1199,
          1082,
          2150,
          2820,
          3060,
          2600,
          5003,
          6288,
          2538,
          1478,
          4933,
          1530,
          1437,
          1275,
          1823,
          1422,
          1217,
          9271,
          2145,
          1842,
          4297,
          3384,
          1245,
          4623,
          8386,
          1024,
          14318,
          433,
          2149,
          2397,
          931,
          1512,
          4241,
          4736,
          1778,
          2327,
          6872,
          795,
          1908,
          1953,
          2864,
          2319,
          915,
          947,
          1381,
          1285,
          1371,
          1042,
          900,
          1207,
          2278,
          6836,
          3345,
          1198,
          15672,
          7297,
          1943,
          3190,
          5129,
          1808,
          1240,
          759,
          1237,
          1980,
          10961,
          6887,
          1938,
          1835,
          1659,
          1209,
          3844,
          4843,
          639,
          5951,
          3804,
          4463,
          7980,
          4210,
          4611,
          11560,
          4165,
          4057,
          6458,
          1386,
          1977,
          1928,
          1123,
          11328,
          11938,
          2520,
          1919,
          14782,
          2671,
          12612,
          3031,
          626,
          1935,
          1344,
          1533,
          3931,
          3349,
          2302,
          3965,
          727,
          3914,
          4308,
          1534,
          2775,
          5998,
          1271,
          1295,
          9398,
          951,
          1355,
          3051,
          7855,
          433,
          9572,
          1837,
          4249,
          5234,
          6758,
          1366,
          1358,
          2473,
          1337,
          7763,
          1264,
          2631,
          6560,
          3123,
          8065,
          2439,
          9034,
          14027,
          9629,
          1484,
          1131,
          2064,
          12976,
          2580,
          2570,
          3915,
          1309,
          4817,
          2579,
          2225,
          4153,
          3114,
          2124,
          1553,
          2406,
          1333,
          7119,
          4870,
          691,
          4370,
          2746,
          4110,
          2462,
          1282,
          2969,
          4605,
          6331,
          3552,
          697,
          1442,
          5293,
          3414,
          2039,
          3161,
          902,
          10297,
          14421,
          1056,
          1274,
          1223,
          1372,
          2625,
          2235,
          959,
          884,
          1246,
          8086,
          10127,
          888,
          719,
          12389,
          709,
          6850,
          2210,
          7485,
          1442,
          797,
          4746,
          939,
          1188,
          11590,
          609,
          1190,
          2767,
          3441,
          4280,
          3092,
          6761,
          1331,
          15945,
          3234,
          802,
          9960,
          8648,
          1345,
          1845,
          1647,
          4844,
          8318,
          2100,
          11816,
          448,
          11998,
          18424,
          14896,
          2762,
          3386,
          2039,
          2169,
          5096,
          1882,
          6999,
          2292,
          8978,
          674,
          976,
          2718,
          750,
          12579,
          7511,
          3966,
          6199,
          1987,
          2303,
          12680,
          6468,
          6350
         ],
         "xaxis": "x",
         "yaxis": "y"
        }
       ],
       "layout": {
        "barmode": "relative",
        "legend": {
         "tracegroupgap": 0
        },
        "template": {
         "data": {
          "bar": [
           {
            "error_x": {
             "color": "#2a3f5f"
            },
            "error_y": {
             "color": "#2a3f5f"
            },
            "marker": {
             "line": {
              "color": "#E5ECF6",
              "width": 0.5
             },
             "pattern": {
              "fillmode": "overlay",
              "size": 10,
              "solidity": 0.2
             }
            },
            "type": "bar"
           }
          ],
          "barpolar": [
           {
            "marker": {
             "line": {
              "color": "#E5ECF6",
              "width": 0.5
             },
             "pattern": {
              "fillmode": "overlay",
              "size": 10,
              "solidity": 0.2
             }
            },
            "type": "barpolar"
           }
          ],
          "carpet": [
           {
            "aaxis": {
             "endlinecolor": "#2a3f5f",
             "gridcolor": "white",
             "linecolor": "white",
             "minorgridcolor": "white",
             "startlinecolor": "#2a3f5f"
            },
            "baxis": {
             "endlinecolor": "#2a3f5f",
             "gridcolor": "white",
             "linecolor": "white",
             "minorgridcolor": "white",
             "startlinecolor": "#2a3f5f"
            },
            "type": "carpet"
           }
          ],
          "choropleth": [
           {
            "colorbar": {
             "outlinewidth": 0,
             "ticks": ""
            },
            "type": "choropleth"
           }
          ],
          "contour": [
           {
            "colorbar": {
             "outlinewidth": 0,
             "ticks": ""
            },
            "colorscale": [
             [
              0,
              "#0d0887"
             ],
             [
              0.1111111111111111,
              "#46039f"
             ],
             [
              0.2222222222222222,
              "#7201a8"
             ],
             [
              0.3333333333333333,
              "#9c179e"
             ],
             [
              0.4444444444444444,
              "#bd3786"
             ],
             [
              0.5555555555555556,
              "#d8576b"
             ],
             [
              0.6666666666666666,
              "#ed7953"
             ],
             [
              0.7777777777777778,
              "#fb9f3a"
             ],
             [
              0.8888888888888888,
              "#fdca26"
             ],
             [
              1,
              "#f0f921"
             ]
            ],
            "type": "contour"
           }
          ],
          "contourcarpet": [
           {
            "colorbar": {
             "outlinewidth": 0,
             "ticks": ""
            },
            "type": "contourcarpet"
           }
          ],
          "heatmap": [
           {
            "colorbar": {
             "outlinewidth": 0,
             "ticks": ""
            },
            "colorscale": [
             [
              0,
              "#0d0887"
             ],
             [
              0.1111111111111111,
              "#46039f"
             ],
             [
              0.2222222222222222,
              "#7201a8"
             ],
             [
              0.3333333333333333,
              "#9c179e"
             ],
             [
              0.4444444444444444,
              "#bd3786"
             ],
             [
              0.5555555555555556,
              "#d8576b"
             ],
             [
              0.6666666666666666,
              "#ed7953"
             ],
             [
              0.7777777777777778,
              "#fb9f3a"
             ],
             [
              0.8888888888888888,
              "#fdca26"
             ],
             [
              1,
              "#f0f921"
             ]
            ],
            "type": "heatmap"
           }
          ],
          "heatmapgl": [
           {
            "colorbar": {
             "outlinewidth": 0,
             "ticks": ""
            },
            "colorscale": [
             [
              0,
              "#0d0887"
             ],
             [
              0.1111111111111111,
              "#46039f"
             ],
             [
              0.2222222222222222,
              "#7201a8"
             ],
             [
              0.3333333333333333,
              "#9c179e"
             ],
             [
              0.4444444444444444,
              "#bd3786"
             ],
             [
              0.5555555555555556,
              "#d8576b"
             ],
             [
              0.6666666666666666,
              "#ed7953"
             ],
             [
              0.7777777777777778,
              "#fb9f3a"
             ],
             [
              0.8888888888888888,
              "#fdca26"
             ],
             [
              1,
              "#f0f921"
             ]
            ],
            "type": "heatmapgl"
           }
          ],
          "histogram": [
           {
            "marker": {
             "pattern": {
              "fillmode": "overlay",
              "size": 10,
              "solidity": 0.2
             }
            },
            "type": "histogram"
           }
          ],
          "histogram2d": [
           {
            "colorbar": {
             "outlinewidth": 0,
             "ticks": ""
            },
            "colorscale": [
             [
              0,
              "#0d0887"
             ],
             [
              0.1111111111111111,
              "#46039f"
             ],
             [
              0.2222222222222222,
              "#7201a8"
             ],
             [
              0.3333333333333333,
              "#9c179e"
             ],
             [
              0.4444444444444444,
              "#bd3786"
             ],
             [
              0.5555555555555556,
              "#d8576b"
             ],
             [
              0.6666666666666666,
              "#ed7953"
             ],
             [
              0.7777777777777778,
              "#fb9f3a"
             ],
             [
              0.8888888888888888,
              "#fdca26"
             ],
             [
              1,
              "#f0f921"
             ]
            ],
            "type": "histogram2d"
           }
          ],
          "histogram2dcontour": [
           {
            "colorbar": {
             "outlinewidth": 0,
             "ticks": ""
            },
            "colorscale": [
             [
              0,
              "#0d0887"
             ],
             [
              0.1111111111111111,
              "#46039f"
             ],
             [
              0.2222222222222222,
              "#7201a8"
             ],
             [
              0.3333333333333333,
              "#9c179e"
             ],
             [
              0.4444444444444444,
              "#bd3786"
             ],
             [
              0.5555555555555556,
              "#d8576b"
             ],
             [
              0.6666666666666666,
              "#ed7953"
             ],
             [
              0.7777777777777778,
              "#fb9f3a"
             ],
             [
              0.8888888888888888,
              "#fdca26"
             ],
             [
              1,
              "#f0f921"
             ]
            ],
            "type": "histogram2dcontour"
           }
          ],
          "mesh3d": [
           {
            "colorbar": {
             "outlinewidth": 0,
             "ticks": ""
            },
            "type": "mesh3d"
           }
          ],
          "parcoords": [
           {
            "line": {
             "colorbar": {
              "outlinewidth": 0,
              "ticks": ""
             }
            },
            "type": "parcoords"
           }
          ],
          "pie": [
           {
            "automargin": true,
            "type": "pie"
           }
          ],
          "scatter": [
           {
            "fillpattern": {
             "fillmode": "overlay",
             "size": 10,
             "solidity": 0.2
            },
            "type": "scatter"
           }
          ],
          "scatter3d": [
           {
            "line": {
             "colorbar": {
              "outlinewidth": 0,
              "ticks": ""
             }
            },
            "marker": {
             "colorbar": {
              "outlinewidth": 0,
              "ticks": ""
             }
            },
            "type": "scatter3d"
           }
          ],
          "scattercarpet": [
           {
            "marker": {
             "colorbar": {
              "outlinewidth": 0,
              "ticks": ""
             }
            },
            "type": "scattercarpet"
           }
          ],
          "scattergeo": [
           {
            "marker": {
             "colorbar": {
              "outlinewidth": 0,
              "ticks": ""
             }
            },
            "type": "scattergeo"
           }
          ],
          "scattergl": [
           {
            "marker": {
             "colorbar": {
              "outlinewidth": 0,
              "ticks": ""
             }
            },
            "type": "scattergl"
           }
          ],
          "scattermapbox": [
           {
            "marker": {
             "colorbar": {
              "outlinewidth": 0,
              "ticks": ""
             }
            },
            "type": "scattermapbox"
           }
          ],
          "scatterpolar": [
           {
            "marker": {
             "colorbar": {
              "outlinewidth": 0,
              "ticks": ""
             }
            },
            "type": "scatterpolar"
           }
          ],
          "scatterpolargl": [
           {
            "marker": {
             "colorbar": {
              "outlinewidth": 0,
              "ticks": ""
             }
            },
            "type": "scatterpolargl"
           }
          ],
          "scatterternary": [
           {
            "marker": {
             "colorbar": {
              "outlinewidth": 0,
              "ticks": ""
             }
            },
            "type": "scatterternary"
           }
          ],
          "surface": [
           {
            "colorbar": {
             "outlinewidth": 0,
             "ticks": ""
            },
            "colorscale": [
             [
              0,
              "#0d0887"
             ],
             [
              0.1111111111111111,
              "#46039f"
             ],
             [
              0.2222222222222222,
              "#7201a8"
             ],
             [
              0.3333333333333333,
              "#9c179e"
             ],
             [
              0.4444444444444444,
              "#bd3786"
             ],
             [
              0.5555555555555556,
              "#d8576b"
             ],
             [
              0.6666666666666666,
              "#ed7953"
             ],
             [
              0.7777777777777778,
              "#fb9f3a"
             ],
             [
              0.8888888888888888,
              "#fdca26"
             ],
             [
              1,
              "#f0f921"
             ]
            ],
            "type": "surface"
           }
          ],
          "table": [
           {
            "cells": {
             "fill": {
              "color": "#EBF0F8"
             },
             "line": {
              "color": "white"
             }
            },
            "header": {
             "fill": {
              "color": "#C8D4E3"
             },
             "line": {
              "color": "white"
             }
            },
            "type": "table"
           }
          ]
         },
         "layout": {
          "annotationdefaults": {
           "arrowcolor": "#2a3f5f",
           "arrowhead": 0,
           "arrowwidth": 1
          },
          "autotypenumbers": "strict",
          "coloraxis": {
           "colorbar": {
            "outlinewidth": 0,
            "ticks": ""
           }
          },
          "colorscale": {
           "diverging": [
            [
             0,
             "#8e0152"
            ],
            [
             0.1,
             "#c51b7d"
            ],
            [
             0.2,
             "#de77ae"
            ],
            [
             0.3,
             "#f1b6da"
            ],
            [
             0.4,
             "#fde0ef"
            ],
            [
             0.5,
             "#f7f7f7"
            ],
            [
             0.6,
             "#e6f5d0"
            ],
            [
             0.7,
             "#b8e186"
            ],
            [
             0.8,
             "#7fbc41"
            ],
            [
             0.9,
             "#4d9221"
            ],
            [
             1,
             "#276419"
            ]
           ],
           "sequential": [
            [
             0,
             "#0d0887"
            ],
            [
             0.1111111111111111,
             "#46039f"
            ],
            [
             0.2222222222222222,
             "#7201a8"
            ],
            [
             0.3333333333333333,
             "#9c179e"
            ],
            [
             0.4444444444444444,
             "#bd3786"
            ],
            [
             0.5555555555555556,
             "#d8576b"
            ],
            [
             0.6666666666666666,
             "#ed7953"
            ],
            [
             0.7777777777777778,
             "#fb9f3a"
            ],
            [
             0.8888888888888888,
             "#fdca26"
            ],
            [
             1,
             "#f0f921"
            ]
           ],
           "sequentialminus": [
            [
             0,
             "#0d0887"
            ],
            [
             0.1111111111111111,
             "#46039f"
            ],
            [
             0.2222222222222222,
             "#7201a8"
            ],
            [
             0.3333333333333333,
             "#9c179e"
            ],
            [
             0.4444444444444444,
             "#bd3786"
            ],
            [
             0.5555555555555556,
             "#d8576b"
            ],
            [
             0.6666666666666666,
             "#ed7953"
            ],
            [
             0.7777777777777778,
             "#fb9f3a"
            ],
            [
             0.8888888888888888,
             "#fdca26"
            ],
            [
             1,
             "#f0f921"
            ]
           ]
          },
          "colorway": [
           "#636efa",
           "#EF553B",
           "#00cc96",
           "#ab63fa",
           "#FFA15A",
           "#19d3f3",
           "#FF6692",
           "#B6E880",
           "#FF97FF",
           "#FECB52"
          ],
          "font": {
           "color": "#2a3f5f"
          },
          "geo": {
           "bgcolor": "white",
           "lakecolor": "white",
           "landcolor": "#E5ECF6",
           "showlakes": true,
           "showland": true,
           "subunitcolor": "white"
          },
          "hoverlabel": {
           "align": "left"
          },
          "hovermode": "closest",
          "mapbox": {
           "style": "light"
          },
          "paper_bgcolor": "white",
          "plot_bgcolor": "#E5ECF6",
          "polar": {
           "angularaxis": {
            "gridcolor": "white",
            "linecolor": "white",
            "ticks": ""
           },
           "bgcolor": "#E5ECF6",
           "radialaxis": {
            "gridcolor": "white",
            "linecolor": "white",
            "ticks": ""
           }
          },
          "scene": {
           "xaxis": {
            "backgroundcolor": "#E5ECF6",
            "gridcolor": "white",
            "gridwidth": 2,
            "linecolor": "white",
            "showbackground": true,
            "ticks": "",
            "zerolinecolor": "white"
           },
           "yaxis": {
            "backgroundcolor": "#E5ECF6",
            "gridcolor": "white",
            "gridwidth": 2,
            "linecolor": "white",
            "showbackground": true,
            "ticks": "",
            "zerolinecolor": "white"
           },
           "zaxis": {
            "backgroundcolor": "#E5ECF6",
            "gridcolor": "white",
            "gridwidth": 2,
            "linecolor": "white",
            "showbackground": true,
            "ticks": "",
            "zerolinecolor": "white"
           }
          },
          "shapedefaults": {
           "line": {
            "color": "#2a3f5f"
           }
          },
          "ternary": {
           "aaxis": {
            "gridcolor": "white",
            "linecolor": "white",
            "ticks": ""
           },
           "baxis": {
            "gridcolor": "white",
            "linecolor": "white",
            "ticks": ""
           },
           "bgcolor": "#E5ECF6",
           "caxis": {
            "gridcolor": "white",
            "linecolor": "white",
            "ticks": ""
           }
          },
          "title": {
           "x": 0.05
          },
          "xaxis": {
           "automargin": true,
           "gridcolor": "white",
           "linecolor": "white",
           "ticks": "",
           "title": {
            "standoff": 15
           },
           "zerolinecolor": "white",
           "zerolinewidth": 2
          },
          "yaxis": {
           "automargin": true,
           "gridcolor": "white",
           "linecolor": "white",
           "ticks": "",
           "title": {
            "standoff": 15
           },
           "zerolinecolor": "white",
           "zerolinewidth": 2
          }
         }
        },
        "title": {
         "text": "Distribution of Credit Amount"
        },
        "xaxis": {
         "anchor": "y",
         "domain": [
          0,
          1
         ],
         "title": {
          "text": "Credit Amount"
         }
        },
        "yaxis": {
         "anchor": "x",
         "domain": [
          0,
          1
         ],
         "title": {
          "text": "count"
         }
        }
       }
      }
     },
     "metadata": {},
     "output_type": "display_data"
    }
   ],
   "source": [
    "px.histogram(df_viz, x='Credit Amount', title='Distribution of Credit Amount')"
   ]
  },
  {
   "cell_type": "markdown",
   "metadata": {},
   "source": [
    "The histogramm of the credit ammount is skewed right and shows the majority of contracts is in the range of 500 to 4000."
   ]
  },
  {
   "cell_type": "code",
   "execution_count": 12,
   "metadata": {},
   "outputs": [
    {
     "data": {
      "application/vnd.plotly.v1+json": {
       "config": {
        "plotlyServerURL": "https://plot.ly"
       },
       "data": [
        {
         "alignmentgroup": "True",
         "hovertemplate": "Credit Compliance=%{x}<br>Credit Amount=%{y}<extra></extra>",
         "legendgroup": "",
         "marker": {
          "color": "#636efa"
         },
         "name": "",
         "notched": false,
         "offsetgroup": "",
         "orientation": "v",
         "showlegend": false,
         "type": "box",
         "x": [
          "Good",
          "Good",
          "Good",
          "Good",
          "Good",
          "Good",
          "Good",
          "Good",
          "Good",
          "Good",
          "Good",
          "Good",
          "Good",
          "Good",
          "Good",
          "Good",
          "Good",
          "Good",
          "Good",
          "Good",
          "Good",
          "Good",
          "Bad",
          "Good",
          "Good",
          "Good",
          "Good",
          "Good",
          "Good",
          "Good",
          "Good",
          "Good",
          "Good",
          "Good",
          "Good",
          "Good",
          "Good",
          "Good",
          "Good",
          "Good",
          "Good",
          "Good",
          "Good",
          "Good",
          "Good",
          "Bad",
          "Good",
          "Bad",
          "Good",
          "Good",
          "Good",
          "Good",
          "Good",
          "Good",
          "Good",
          "Good",
          "Good",
          "Good",
          "Good",
          "Good",
          "Good",
          "Good",
          "Good",
          "Good",
          "Good",
          "Good",
          "Good",
          "Good",
          "Good",
          "Good",
          "Good",
          "Good",
          "Good",
          "Good",
          "Good",
          "Good",
          "Good",
          "Good",
          "Good",
          "Good",
          "Good",
          "Good",
          "Good",
          "Good",
          "Good",
          "Good",
          "Good",
          "Good",
          "Good",
          "Good",
          "Good",
          "Good",
          "Good",
          "Good",
          "Good",
          "Good",
          "Good",
          "Bad",
          "Good",
          "Good",
          "Good",
          "Good",
          "Good",
          "Good",
          "Good",
          "Good",
          "Good",
          "Good",
          "Good",
          "Good",
          "Bad",
          "Good",
          "Good",
          "Good",
          "Good",
          "Good",
          "Good",
          "Good",
          "Good",
          "Good",
          "Good",
          "Good",
          "Good",
          "Good",
          "Good",
          "Good",
          "Good",
          "Good",
          "Good",
          "Good",
          "Good",
          "Good",
          "Good",
          "Good",
          "Good",
          "Good",
          "Good",
          "Good",
          "Good",
          "Good",
          "Good",
          "Good",
          "Good",
          "Good",
          "Good",
          "Good",
          "Good",
          "Good",
          "Good",
          "Good",
          "Good",
          "Good",
          "Good",
          "Good",
          "Good",
          "Good",
          "Good",
          "Good",
          "Bad",
          "Good",
          "Good",
          "Good",
          "Good",
          "Good",
          "Good",
          "Good",
          "Good",
          "Good",
          "Good",
          "Good",
          "Good",
          "Bad",
          "Good",
          "Good",
          "Good",
          "Good",
          "Good",
          "Good",
          "Good",
          "Good",
          "Good",
          "Good",
          "Good",
          "Good",
          "Good",
          "Good",
          "Good",
          "Good",
          "Good",
          "Good",
          "Good",
          "Good",
          "Good",
          "Good",
          "Good",
          "Good",
          "Good",
          "Good",
          "Good",
          "Good",
          "Good",
          "Good",
          "Good",
          "Good",
          "Good",
          "Good",
          "Good",
          "Good",
          "Good",
          "Good",
          "Good",
          "Good",
          "Good",
          "Good",
          "Good",
          "Good",
          "Good",
          "Good",
          "Good",
          "Good",
          "Good",
          "Good",
          "Good",
          "Good",
          "Good",
          "Good",
          "Good",
          "Good",
          "Good",
          "Good",
          "Good",
          "Good",
          "Good",
          "Good",
          "Bad",
          "Good",
          "Good",
          "Good",
          "Good",
          "Good",
          "Good",
          "Good",
          "Good",
          "Good",
          "Good",
          "Good",
          "Good",
          "Good",
          "Good",
          "Good",
          "Good",
          "Good",
          "Good",
          "Good",
          "Good",
          "Good",
          "Good",
          "Good",
          "Good",
          "Good",
          "Good",
          "Good",
          "Good",
          "Good",
          "Good",
          "Good",
          "Good",
          "Good",
          "Good",
          "Good",
          "Good",
          "Good",
          "Good",
          "Good",
          "Good",
          "Good",
          "Good",
          "Good",
          "Good",
          "Good",
          "Good",
          "Good",
          "Good",
          "Good",
          "Good",
          "Good",
          "Good",
          "Good",
          "Good",
          "Good",
          "Good",
          "Good",
          "Good",
          "Good",
          "Good",
          "Good",
          "Good",
          "Good",
          "Good",
          "Good",
          "Good",
          "Good",
          "Good",
          "Good",
          "Bad",
          "Good",
          "Good",
          "Good",
          "Good",
          "Good",
          "Good",
          "Good",
          "Good",
          "Good",
          "Good",
          "Good",
          "Good",
          "Good",
          "Good",
          "Good",
          "Good",
          "Good",
          "Good",
          "Good",
          "Good",
          "Good",
          "Good",
          "Good",
          "Good",
          "Good",
          "Good",
          "Good",
          "Good",
          "Good",
          "Good",
          "Good",
          "Good",
          "Good",
          "Good",
          "Good",
          "Good",
          "Good",
          "Good",
          "Good",
          "Good",
          "Good",
          "Good",
          "Good",
          "Good",
          "Good",
          "Good",
          "Good",
          "Good",
          "Bad",
          "Good",
          "Good",
          "Good",
          "Good",
          "Good",
          "Good",
          "Good",
          "Good",
          "Good",
          "Good",
          "Good",
          "Good",
          "Good",
          "Good",
          "Good",
          "Good",
          "Good",
          "Good",
          "Good",
          "Good",
          "Good",
          "Good",
          "Bad",
          "Good",
          "Good",
          "Good",
          "Good",
          "Good",
          "Good",
          "Good",
          "Good",
          "Good",
          "Bad",
          "Good",
          "Good",
          "Good",
          "Good",
          "Good",
          "Good",
          "Good",
          "Good",
          "Good",
          "Good",
          "Good",
          "Good",
          "Good",
          "Good",
          "Good",
          "Good",
          "Good",
          "Good",
          "Good",
          "Good",
          "Good",
          "Good",
          "Good",
          "Good",
          "Good",
          "Good",
          "Good",
          "Good",
          "Good",
          "Good",
          "Good",
          "Good",
          "Good",
          "Good",
          "Good",
          "Good",
          "Good",
          "Good",
          "Good",
          "Good",
          "Bad",
          "Good",
          "Good",
          "Good",
          "Bad",
          "Good",
          "Good",
          "Good",
          "Good",
          "Good",
          "Good",
          "Good",
          "Good",
          "Good",
          "Good",
          "Good",
          "Good",
          "Good",
          "Good",
          "Good",
          "Good",
          "Good",
          "Good",
          "Bad",
          "Good",
          "Good",
          "Good",
          "Good",
          "Good",
          "Good",
          "Good",
          "Good",
          "Good",
          "Good",
          "Good",
          "Good",
          "Bad",
          "Good",
          "Good",
          "Good",
          "Good",
          "Good",
          "Good",
          "Good",
          "Good",
          "Good",
          "Good",
          "Good",
          "Good",
          "Good",
          "Good",
          "Good",
          "Good",
          "Good",
          "Good",
          "Good",
          "Good",
          "Good",
          "Good",
          "Good",
          "Good",
          "Good",
          "Good",
          "Good",
          "Good",
          "Good",
          "Good",
          "Good",
          "Good",
          "Good",
          "Good",
          "Good",
          "Good",
          "Good",
          "Good",
          "Good",
          "Good",
          "Good",
          "Good",
          "Good",
          "Good",
          "Good",
          "Good",
          "Good",
          "Good",
          "Good",
          "Good",
          "Good",
          "Good",
          "Good",
          "Bad",
          "Bad",
          "Bad",
          "Bad",
          "Bad",
          "Good",
          "Good",
          "Good",
          "Good",
          "Good",
          "Good",
          "Good",
          "Good",
          "Good",
          "Good",
          "Good",
          "Good",
          "Good",
          "Good",
          "Good",
          "Good",
          "Good",
          "Good",
          "Bad",
          "Good",
          "Bad",
          "Good",
          "Good",
          "Good",
          "Good",
          "Good",
          "Good",
          "Good",
          "Good",
          "Good",
          "Good",
          "Good",
          "Good",
          "Good",
          "Good",
          "Good",
          "Good",
          "Good",
          "Good",
          "Good",
          "Bad",
          "Good",
          "Good",
          "Good",
          "Good",
          "Good",
          "Good",
          "Good",
          "Good",
          "Good",
          "Good",
          "Good",
          "Good",
          "Good",
          "Bad",
          "Bad",
          "Bad",
          "Bad",
          "Bad",
          "Bad",
          "Bad",
          "Bad",
          "Bad",
          "Good",
          "Good",
          "Good",
          "Good",
          "Good",
          "Good",
          "Good",
          "Bad",
          "Bad",
          "Good",
          "Good",
          "Good",
          "Good",
          "Good",
          "Bad",
          "Bad",
          "Good",
          "Good",
          "Good",
          "Bad",
          "Good",
          "Good",
          "Good",
          "Good",
          "Good",
          "Bad",
          "Good",
          "Good",
          "Good",
          "Good",
          "Good",
          "Good",
          "Good",
          "Bad",
          "Good",
          "Good",
          "Good",
          "Good",
          "Good",
          "Good",
          "Good",
          "Good",
          "Good",
          "Good",
          "Good",
          "Good",
          "Good",
          "Good",
          "Good",
          "Good",
          "Good",
          "Bad",
          "Good",
          "Good",
          "Good",
          "Good",
          "Good",
          "Good",
          "Bad",
          "Good",
          "Good",
          "Good",
          "Good",
          "Good",
          "Good",
          "Good",
          "Good",
          "Good",
          "Good",
          "Good",
          "Good",
          "Bad",
          "Good",
          "Good",
          "Good",
          "Good",
          "Good",
          "Good",
          "Good",
          "Good",
          "Good",
          "Good",
          "Good",
          "Good",
          "Good",
          "Good",
          "Good",
          "Good",
          "Good",
          "Good",
          "Good",
          "Good",
          "Good",
          "Good",
          "Good",
          "Good",
          "Good",
          "Good",
          "Good",
          "Good",
          "Good",
          "Good",
          "Good",
          "Good",
          "Bad",
          "Good",
          "Good",
          "Good",
          "Good",
          "Good",
          "Good",
          "Good",
          "Good",
          "Good",
          "Good",
          "Bad",
          "Good",
          "Good",
          "Good",
          "Good",
          "Good",
          "Good",
          "Good",
          "Bad",
          "Good",
          "Good",
          "Good",
          "Good",
          "Good",
          "Good",
          "Good",
          "Good",
          "Bad",
          "Bad",
          "Bad",
          "Bad",
          "Good",
          "Good",
          "Good",
          "Good",
          "Good",
          "Good",
          "Good",
          "Good",
          "Good",
          "Good",
          "Good",
          "Good",
          "Good",
          "Good",
          "Good",
          "Good",
          "Good",
          "Good",
          "Good",
          "Good",
          "Good",
          "Bad",
          "Good",
          "Good",
          "Good",
          "Good",
          "Good",
          "Good",
          "Good",
          "Good",
          "Bad",
          "Bad",
          "Bad",
          "Bad",
          "Bad",
          "Bad",
          "Bad",
          "Bad",
          "Bad",
          "Bad",
          "Bad",
          "Bad",
          "Bad",
          "Bad",
          "Bad",
          "Bad",
          "Bad",
          "Bad",
          "Bad",
          "Bad",
          "Bad",
          "Bad",
          "Bad",
          "Bad",
          "Bad",
          "Bad",
          "Bad",
          "Bad",
          "Bad",
          "Bad",
          "Bad",
          "Bad",
          "Bad",
          "Bad",
          "Bad",
          "Bad",
          "Bad",
          "Bad",
          "Bad",
          "Bad",
          "Bad",
          "Bad",
          "Bad",
          "Bad",
          "Bad",
          "Bad",
          "Bad",
          "Bad",
          "Bad",
          "Bad",
          "Bad",
          "Bad",
          "Bad",
          "Bad",
          "Bad",
          "Bad",
          "Bad",
          "Bad",
          "Bad",
          "Bad",
          "Bad",
          "Bad",
          "Bad",
          "Bad",
          "Bad",
          "Bad",
          "Bad",
          "Bad",
          "Bad",
          "Bad",
          "Bad",
          "Bad",
          "Bad",
          "Bad",
          "Bad",
          "Bad",
          "Bad",
          "Bad",
          "Bad",
          "Bad",
          "Bad",
          "Bad",
          "Bad",
          "Bad",
          "Bad",
          "Bad",
          "Bad",
          "Bad",
          "Bad",
          "Bad",
          "Bad",
          "Bad",
          "Bad",
          "Bad",
          "Bad",
          "Bad",
          "Bad",
          "Bad",
          "Bad",
          "Bad",
          "Bad",
          "Bad",
          "Bad",
          "Bad",
          "Bad",
          "Bad",
          "Bad",
          "Bad",
          "Bad",
          "Bad",
          "Bad",
          "Bad",
          "Bad",
          "Bad",
          "Bad",
          "Bad",
          "Bad",
          "Bad",
          "Bad",
          "Bad",
          "Bad",
          "Bad",
          "Bad",
          "Bad",
          "Bad",
          "Bad",
          "Bad",
          "Bad",
          "Bad",
          "Bad",
          "Bad",
          "Bad",
          "Bad",
          "Bad",
          "Bad",
          "Bad",
          "Bad",
          "Bad",
          "Bad",
          "Bad",
          "Bad",
          "Bad",
          "Bad",
          "Bad",
          "Bad",
          "Bad",
          "Bad",
          "Bad",
          "Bad",
          "Bad",
          "Bad",
          "Bad",
          "Bad",
          "Bad",
          "Bad",
          "Bad",
          "Bad",
          "Bad",
          "Bad",
          "Bad",
          "Bad",
          "Bad",
          "Bad",
          "Bad",
          "Bad",
          "Bad",
          "Bad",
          "Bad",
          "Bad",
          "Bad",
          "Bad",
          "Bad",
          "Bad",
          "Bad",
          "Bad",
          "Bad",
          "Bad",
          "Bad",
          "Bad",
          "Bad",
          "Bad",
          "Bad",
          "Bad",
          "Bad",
          "Bad",
          "Bad",
          "Bad",
          "Bad",
          "Bad",
          "Bad",
          "Bad",
          "Bad",
          "Bad",
          "Bad",
          "Bad",
          "Bad",
          "Bad",
          "Bad",
          "Bad",
          "Bad",
          "Bad",
          "Bad",
          "Bad",
          "Bad",
          "Bad",
          "Bad",
          "Bad",
          "Bad",
          "Bad",
          "Bad",
          "Bad",
          "Bad",
          "Bad",
          "Bad",
          "Bad",
          "Bad",
          "Bad",
          "Bad",
          "Bad",
          "Bad",
          "Bad",
          "Bad",
          "Bad",
          "Bad",
          "Bad",
          "Bad",
          "Bad",
          "Bad",
          "Bad",
          "Bad",
          "Bad",
          "Bad",
          "Bad",
          "Bad",
          "Bad",
          "Bad",
          "Bad",
          "Bad",
          "Bad",
          "Bad",
          "Bad",
          "Bad",
          "Bad",
          "Bad",
          "Bad",
          "Bad",
          "Bad",
          "Bad",
          "Bad"
         ],
         "x0": " ",
         "xaxis": "x",
         "y": [
          1049,
          2799,
          841,
          2122,
          2171,
          2241,
          3398,
          1361,
          1098,
          3758,
          3905,
          6187,
          1957,
          7582,
          1936,
          2647,
          3939,
          3213,
          2337,
          7228,
          3676,
          3124,
          2384,
          1424,
          4716,
          4771,
          652,
          1154,
          3556,
          4796,
          3017,
          3535,
          6614,
          1376,
          1721,
          860,
          1495,
          1934,
          3378,
          3868,
          996,
          1755,
          1028,
          2825,
          1239,
          1216,
          1258,
          1864,
          1474,
          1382,
          640,
          3919,
          1224,
          2331,
          6313,
          385,
          1655,
          1053,
          3160,
          3079,
          1163,
          2679,
          3578,
          10875,
          1344,
          1237,
          3077,
          2284,
          1567,
          2032,
          2745,
          1867,
          2299,
          929,
          3399,
          2030,
          3275,
          1940,
          1602,
          1979,
          2022,
          3342,
          5866,
          2360,
          1520,
          3651,
          2346,
          4454,
          666,
          1965,
          1995,
          2991,
          4221,
          1364,
          6361,
          4526,
          3573,
          4455,
          2136,
          5954,
          3777,
          806,
          4712,
          7432,
          1851,
          1393,
          1412,
          1473,
          1533,
          2012,
          3959,
          428,
          2366,
          763,
          3976,
          6260,
          1919,
          2603,
          936,
          3062,
          4795,
          5842,
          2063,
          1459,
          1213,
          5103,
          874,
          2978,
          1820,
          2872,
          1925,
          2515,
          2116,
          1453,
          1364,
          1543,
          1318,
          2325,
          932,
          3148,
          3835,
          3832,
          5084,
          2406,
          2394,
          2476,
          2964,
          1262,
          1542,
          1743,
          409,
          2171,
          8858,
          3512,
          1158,
          2684,
          1498,
          5954,
          6416,
          3617,
          1291,
          1275,
          3972,
          3343,
          392,
          2134,
          5771,
          4526,
          2788,
          1382,
          5848,
          1228,
          1297,
          1552,
          1963,
          3235,
          4139,
          1804,
          1950,
          12749,
          1236,
          1055,
          8072,
          2831,
          1449,
          5742,
          2390,
          3430,
          2273,
          2923,
          1901,
          3711,
          8487,
          2255,
          1262,
          7253,
          6761,
          1817,
          2141,
          3609,
          2333,
          7824,
          1445,
          7721,
          3763,
          4439,
          1107,
          1444,
          12169,
          2753,
          1494,
          2828,
          2483,
          1299,
          1549,
          3949,
          2901,
          709,
          10722,
          1287,
          1940,
          3656,
          4679,
          8613,
          2659,
          1516,
          4380,
          802,
          1572,
          3566,
          1278,
          426,
          8588,
          3857,
          685,
          1603,
          2241,
          2384,
          601,
          2569,
          1316,
          10366,
          1568,
          629,
          1750,
          3488,
          1800,
          4151,
          2631,
          5248,
          2899,
          6204,
          804,
          3595,
          5711,
          2687,
          3643,
          2146,
          2315,
          3448,
          2708,
          1393,
          1275,
          1313,
          1493,
          2675,
          2118,
          909,
          1258,
          1569,
          1236,
          7678,
          660,
          2835,
          2670,
          3447,
          3568,
          3652,
          3660,
          1126,
          683,
          2251,
          4675,
          2353,
          3357,
          672,
          338,
          2697,
          2507,
          1478,
          3565,
          2221,
          1898,
          1449,
          960,
          8133,
          2301,
          1743,
          983,
          2320,
          339,
          5152,
          3749,
          3074,
          745,
          1469,
          1374,
          783,
          2606,
          9436,
          930,
          2751,
          250,
          1201,
          662,
          1300,
          1559,
          3016,
          1360,
          1204,
          1597,
          2073,
          2142,
          2132,
          1546,
          1287,
          1418,
          1343,
          2662,
          6070,
          1927,
          2404,
          1554,
          1283,
          717,
          1747,
          1288,
          1038,
          2848,
          1413,
          3077,
          3632,
          3229,
          3577,
          682,
          1924,
          727,
          781,
          2121,
          701,
          2069,
          1525,
          7629,
          3499,
          1346,
          10477,
          2924,
          1231,
          1961,
          5045,
          1255,
          1858,
          1221,
          1388,
          2279,
          2759,
          1258,
          1410,
          1403,
          3021,
          6568,
          2578,
          7758,
          343,
          1591,
          3416,
          1108,
          5965,
          1514,
          6742,
          3650,
          3599,
          13756,
          276,
          4041,
          458,
          918,
          7393,
          1225,
          2812,
          3029,
          1480,
          1047,
          1471,
          5511,
          1206,
          6403,
          707,
          1503,
          6078,
          2528,
          1037,
          1352,
          3181,
          4594,
          5381,
          4657,
          1391,
          1913,
          7166,
          1409,
          2978,
          976,
          2375,
          522,
          2743,
          1154,
          5804,
          1169,
          1478,
          776,
          1322,
          1175,
          2133,
          1829,
          717,
          11760,
          1501,
          1200,
          3195,
          4530,
          1555,
          2326,
          1887,
          1264,
          846,
          1532,
          935,
          2442,
          3590,
          2288,
          5117,
          14179,
          1386,
          618,
          1574,
          700,
          886,
          4686,
          790,
          766,
          2212,
          7308,
          5743,
          3973,
          7418,
          2629,
          1941,
          2333,
          2445,
          6468,
          7374,
          3812,
          4006,
          7472,
          1424,
          2028,
          5324,
          2323,
          1393,
          1984,
          999,
          7409,
          2186,
          4473,
          937,
          3422,
          3105,
          2748,
          3872,
          5190,
          3001,
          3863,
          5801,
          1592,
          1185,
          3780,
          3612,
          1076,
          3527,
          2051,
          3331,
          3104,
          2611,
          1409,
          1311,
          2108,
          4042,
          926,
          1680,
          1249,
          2463,
          1595,
          2058,
          7814,
          1740,
          1240,
          6842,
          5150,
          1203,
          2080,
          1538,
          3878,
          3832,
          3186,
          2896,
          6967,
          1819,
          5943,
          7127,
          3349,
          10974,
          518,
          1126,
          1860,
          9566,
          701,
          2930,
          1505,
          2238,
          1503,
          2197,
          1881,
          1880,
          2389,
          1967,
          3380,
          1455,
          730,
          3244,
          1670,
          3979,
          1922,
          1295,
          1544,
          907,
          1715,
          1347,
          1007,
          1402,
          2002,
          2096,
          1101,
          894,
          1577,
          2764,
          8358,
          1474,
          5433,
          1410,
          3485,
          3850,
          7408,
          1377,
          4272,
          1553,
          9857,
          362,
          1935,
          10222,
          1330,
          9055,
          7966,
          3496,
          6948,
          12204,
          3446,
          684,
          4281,
          7174,
          1546,
          2359,
          3621,
          741,
          7865,
          2910,
          5302,
          3620,
          3509,
          3017,
          1657,
          1164,
          6229,
          1193,
          4583,
          5371,
          708,
          571,
          2522,
          5179,
          8229,
          2028,
          1374,
          1289,
          2712,
          975,
          1050,
          609,
          4788,
          3069,
          836,
          2577,
          1620,
          1845,
          6579,
          1893,
          10623,
          2249,
          3108,
          958,
          9277,
          6314,
          1526,
          3590,
          6615,
          1872,
          2859,
          1582,
          1238,
          2578,
          1433,
          7882,
          4169,
          3959,
          3249,
          3149,
          2246,
          1797,
          4272,
          2957,
          2348,
          6289,
          6419,
          6143,
          1597,
          15857,
          2223,
          7238,
          2503,
          2622,
          4351,
          368,
          754,
          2424,
          6681,
          2427,
          1216,
          753,
          2576,
          590,
          1414,
          1103,
          585,
          1068,
          713,
          1092,
          2329,
          882,
          866,
          2415,
          2101,
          1301,
          1113,
          760,
          625,
          1323,
          1138,
          1795,
          2728,
          484,
          1048,
          1155,
          7057,
          1537,
          2214,
          1585,
          1521,
          3990,
          3049,
          1282,
          10144,
          1168,
          454,
          3594,
          1768,
          15653,
          2247,
          1413,
          4576,
          1231,
          8335,
          5800,
          8471,
          3622,
          1169,
          1262,
          3617,
          2181,
          7685,
          6110,
          3757,
          3394,
          6304,
          1244,
          3518,
          2613,
          7476,
          4591,
          1924,
          5595,
          6224,
          1905,
          2993,
          8947,
          4020,
          2779,
          2782,
          1884,
          11054,
          9157,
          9283,
          6527,
          3368,
          2511,
          5493,
          1338,
          1082,
          1149,
          1308,
          6148,
          1736,
          3059,
          2996,
          7596,
          4811,
          1766,
          2760,
          5507,
          1199,
          2892,
          2862,
          654,
          1136,
          4113,
          14555,
          950,
          1199,
          1082,
          2150,
          2820,
          3060,
          2600,
          5003,
          6288,
          2538,
          1478,
          4933,
          1530,
          1437,
          1275,
          1823,
          1422,
          1217,
          9271,
          2145,
          1842,
          4297,
          3384,
          1245,
          4623,
          8386,
          1024,
          14318,
          433,
          2149,
          2397,
          931,
          1512,
          4241,
          4736,
          1778,
          2327,
          6872,
          795,
          1908,
          1953,
          2864,
          2319,
          915,
          947,
          1381,
          1285,
          1371,
          1042,
          900,
          1207,
          2278,
          6836,
          3345,
          1198,
          15672,
          7297,
          1943,
          3190,
          5129,
          1808,
          1240,
          759,
          1237,
          1980,
          10961,
          6887,
          1938,
          1835,
          1659,
          1209,
          3844,
          4843,
          639,
          5951,
          3804,
          4463,
          7980,
          4210,
          4611,
          11560,
          4165,
          4057,
          6458,
          1386,
          1977,
          1928,
          1123,
          11328,
          11938,
          2520,
          1919,
          14782,
          2671,
          12612,
          3031,
          626,
          1935,
          1344,
          1533,
          3931,
          3349,
          2302,
          3965,
          727,
          3914,
          4308,
          1534,
          2775,
          5998,
          1271,
          1295,
          9398,
          951,
          1355,
          3051,
          7855,
          433,
          9572,
          1837,
          4249,
          5234,
          6758,
          1366,
          1358,
          2473,
          1337,
          7763,
          1264,
          2631,
          6560,
          3123,
          8065,
          2439,
          9034,
          14027,
          9629,
          1484,
          1131,
          2064,
          12976,
          2580,
          2570,
          3915,
          1309,
          4817,
          2579,
          2225,
          4153,
          3114,
          2124,
          1553,
          2406,
          1333,
          7119,
          4870,
          691,
          4370,
          2746,
          4110,
          2462,
          1282,
          2969,
          4605,
          6331,
          3552,
          697,
          1442,
          5293,
          3414,
          2039,
          3161,
          902,
          10297,
          14421,
          1056,
          1274,
          1223,
          1372,
          2625,
          2235,
          959,
          884,
          1246,
          8086,
          10127,
          888,
          719,
          12389,
          709,
          6850,
          2210,
          7485,
          1442,
          797,
          4746,
          939,
          1188,
          11590,
          609,
          1190,
          2767,
          3441,
          4280,
          3092,
          6761,
          1331,
          15945,
          3234,
          802,
          9960,
          8648,
          1345,
          1845,
          1647,
          4844,
          8318,
          2100,
          11816,
          448,
          11998,
          18424,
          14896,
          2762,
          3386,
          2039,
          2169,
          5096,
          1882,
          6999,
          2292,
          8978,
          674,
          976,
          2718,
          750,
          12579,
          7511,
          3966,
          6199,
          1987,
          2303,
          12680,
          6468,
          6350
         ],
         "y0": " ",
         "yaxis": "y"
        }
       ],
       "layout": {
        "boxmode": "group",
        "legend": {
         "tracegroupgap": 0
        },
        "template": {
         "data": {
          "bar": [
           {
            "error_x": {
             "color": "#2a3f5f"
            },
            "error_y": {
             "color": "#2a3f5f"
            },
            "marker": {
             "line": {
              "color": "#E5ECF6",
              "width": 0.5
             },
             "pattern": {
              "fillmode": "overlay",
              "size": 10,
              "solidity": 0.2
             }
            },
            "type": "bar"
           }
          ],
          "barpolar": [
           {
            "marker": {
             "line": {
              "color": "#E5ECF6",
              "width": 0.5
             },
             "pattern": {
              "fillmode": "overlay",
              "size": 10,
              "solidity": 0.2
             }
            },
            "type": "barpolar"
           }
          ],
          "carpet": [
           {
            "aaxis": {
             "endlinecolor": "#2a3f5f",
             "gridcolor": "white",
             "linecolor": "white",
             "minorgridcolor": "white",
             "startlinecolor": "#2a3f5f"
            },
            "baxis": {
             "endlinecolor": "#2a3f5f",
             "gridcolor": "white",
             "linecolor": "white",
             "minorgridcolor": "white",
             "startlinecolor": "#2a3f5f"
            },
            "type": "carpet"
           }
          ],
          "choropleth": [
           {
            "colorbar": {
             "outlinewidth": 0,
             "ticks": ""
            },
            "type": "choropleth"
           }
          ],
          "contour": [
           {
            "colorbar": {
             "outlinewidth": 0,
             "ticks": ""
            },
            "colorscale": [
             [
              0,
              "#0d0887"
             ],
             [
              0.1111111111111111,
              "#46039f"
             ],
             [
              0.2222222222222222,
              "#7201a8"
             ],
             [
              0.3333333333333333,
              "#9c179e"
             ],
             [
              0.4444444444444444,
              "#bd3786"
             ],
             [
              0.5555555555555556,
              "#d8576b"
             ],
             [
              0.6666666666666666,
              "#ed7953"
             ],
             [
              0.7777777777777778,
              "#fb9f3a"
             ],
             [
              0.8888888888888888,
              "#fdca26"
             ],
             [
              1,
              "#f0f921"
             ]
            ],
            "type": "contour"
           }
          ],
          "contourcarpet": [
           {
            "colorbar": {
             "outlinewidth": 0,
             "ticks": ""
            },
            "type": "contourcarpet"
           }
          ],
          "heatmap": [
           {
            "colorbar": {
             "outlinewidth": 0,
             "ticks": ""
            },
            "colorscale": [
             [
              0,
              "#0d0887"
             ],
             [
              0.1111111111111111,
              "#46039f"
             ],
             [
              0.2222222222222222,
              "#7201a8"
             ],
             [
              0.3333333333333333,
              "#9c179e"
             ],
             [
              0.4444444444444444,
              "#bd3786"
             ],
             [
              0.5555555555555556,
              "#d8576b"
             ],
             [
              0.6666666666666666,
              "#ed7953"
             ],
             [
              0.7777777777777778,
              "#fb9f3a"
             ],
             [
              0.8888888888888888,
              "#fdca26"
             ],
             [
              1,
              "#f0f921"
             ]
            ],
            "type": "heatmap"
           }
          ],
          "heatmapgl": [
           {
            "colorbar": {
             "outlinewidth": 0,
             "ticks": ""
            },
            "colorscale": [
             [
              0,
              "#0d0887"
             ],
             [
              0.1111111111111111,
              "#46039f"
             ],
             [
              0.2222222222222222,
              "#7201a8"
             ],
             [
              0.3333333333333333,
              "#9c179e"
             ],
             [
              0.4444444444444444,
              "#bd3786"
             ],
             [
              0.5555555555555556,
              "#d8576b"
             ],
             [
              0.6666666666666666,
              "#ed7953"
             ],
             [
              0.7777777777777778,
              "#fb9f3a"
             ],
             [
              0.8888888888888888,
              "#fdca26"
             ],
             [
              1,
              "#f0f921"
             ]
            ],
            "type": "heatmapgl"
           }
          ],
          "histogram": [
           {
            "marker": {
             "pattern": {
              "fillmode": "overlay",
              "size": 10,
              "solidity": 0.2
             }
            },
            "type": "histogram"
           }
          ],
          "histogram2d": [
           {
            "colorbar": {
             "outlinewidth": 0,
             "ticks": ""
            },
            "colorscale": [
             [
              0,
              "#0d0887"
             ],
             [
              0.1111111111111111,
              "#46039f"
             ],
             [
              0.2222222222222222,
              "#7201a8"
             ],
             [
              0.3333333333333333,
              "#9c179e"
             ],
             [
              0.4444444444444444,
              "#bd3786"
             ],
             [
              0.5555555555555556,
              "#d8576b"
             ],
             [
              0.6666666666666666,
              "#ed7953"
             ],
             [
              0.7777777777777778,
              "#fb9f3a"
             ],
             [
              0.8888888888888888,
              "#fdca26"
             ],
             [
              1,
              "#f0f921"
             ]
            ],
            "type": "histogram2d"
           }
          ],
          "histogram2dcontour": [
           {
            "colorbar": {
             "outlinewidth": 0,
             "ticks": ""
            },
            "colorscale": [
             [
              0,
              "#0d0887"
             ],
             [
              0.1111111111111111,
              "#46039f"
             ],
             [
              0.2222222222222222,
              "#7201a8"
             ],
             [
              0.3333333333333333,
              "#9c179e"
             ],
             [
              0.4444444444444444,
              "#bd3786"
             ],
             [
              0.5555555555555556,
              "#d8576b"
             ],
             [
              0.6666666666666666,
              "#ed7953"
             ],
             [
              0.7777777777777778,
              "#fb9f3a"
             ],
             [
              0.8888888888888888,
              "#fdca26"
             ],
             [
              1,
              "#f0f921"
             ]
            ],
            "type": "histogram2dcontour"
           }
          ],
          "mesh3d": [
           {
            "colorbar": {
             "outlinewidth": 0,
             "ticks": ""
            },
            "type": "mesh3d"
           }
          ],
          "parcoords": [
           {
            "line": {
             "colorbar": {
              "outlinewidth": 0,
              "ticks": ""
             }
            },
            "type": "parcoords"
           }
          ],
          "pie": [
           {
            "automargin": true,
            "type": "pie"
           }
          ],
          "scatter": [
           {
            "fillpattern": {
             "fillmode": "overlay",
             "size": 10,
             "solidity": 0.2
            },
            "type": "scatter"
           }
          ],
          "scatter3d": [
           {
            "line": {
             "colorbar": {
              "outlinewidth": 0,
              "ticks": ""
             }
            },
            "marker": {
             "colorbar": {
              "outlinewidth": 0,
              "ticks": ""
             }
            },
            "type": "scatter3d"
           }
          ],
          "scattercarpet": [
           {
            "marker": {
             "colorbar": {
              "outlinewidth": 0,
              "ticks": ""
             }
            },
            "type": "scattercarpet"
           }
          ],
          "scattergeo": [
           {
            "marker": {
             "colorbar": {
              "outlinewidth": 0,
              "ticks": ""
             }
            },
            "type": "scattergeo"
           }
          ],
          "scattergl": [
           {
            "marker": {
             "colorbar": {
              "outlinewidth": 0,
              "ticks": ""
             }
            },
            "type": "scattergl"
           }
          ],
          "scattermapbox": [
           {
            "marker": {
             "colorbar": {
              "outlinewidth": 0,
              "ticks": ""
             }
            },
            "type": "scattermapbox"
           }
          ],
          "scatterpolar": [
           {
            "marker": {
             "colorbar": {
              "outlinewidth": 0,
              "ticks": ""
             }
            },
            "type": "scatterpolar"
           }
          ],
          "scatterpolargl": [
           {
            "marker": {
             "colorbar": {
              "outlinewidth": 0,
              "ticks": ""
             }
            },
            "type": "scatterpolargl"
           }
          ],
          "scatterternary": [
           {
            "marker": {
             "colorbar": {
              "outlinewidth": 0,
              "ticks": ""
             }
            },
            "type": "scatterternary"
           }
          ],
          "surface": [
           {
            "colorbar": {
             "outlinewidth": 0,
             "ticks": ""
            },
            "colorscale": [
             [
              0,
              "#0d0887"
             ],
             [
              0.1111111111111111,
              "#46039f"
             ],
             [
              0.2222222222222222,
              "#7201a8"
             ],
             [
              0.3333333333333333,
              "#9c179e"
             ],
             [
              0.4444444444444444,
              "#bd3786"
             ],
             [
              0.5555555555555556,
              "#d8576b"
             ],
             [
              0.6666666666666666,
              "#ed7953"
             ],
             [
              0.7777777777777778,
              "#fb9f3a"
             ],
             [
              0.8888888888888888,
              "#fdca26"
             ],
             [
              1,
              "#f0f921"
             ]
            ],
            "type": "surface"
           }
          ],
          "table": [
           {
            "cells": {
             "fill": {
              "color": "#EBF0F8"
             },
             "line": {
              "color": "white"
             }
            },
            "header": {
             "fill": {
              "color": "#C8D4E3"
             },
             "line": {
              "color": "white"
             }
            },
            "type": "table"
           }
          ]
         },
         "layout": {
          "annotationdefaults": {
           "arrowcolor": "#2a3f5f",
           "arrowhead": 0,
           "arrowwidth": 1
          },
          "autotypenumbers": "strict",
          "coloraxis": {
           "colorbar": {
            "outlinewidth": 0,
            "ticks": ""
           }
          },
          "colorscale": {
           "diverging": [
            [
             0,
             "#8e0152"
            ],
            [
             0.1,
             "#c51b7d"
            ],
            [
             0.2,
             "#de77ae"
            ],
            [
             0.3,
             "#f1b6da"
            ],
            [
             0.4,
             "#fde0ef"
            ],
            [
             0.5,
             "#f7f7f7"
            ],
            [
             0.6,
             "#e6f5d0"
            ],
            [
             0.7,
             "#b8e186"
            ],
            [
             0.8,
             "#7fbc41"
            ],
            [
             0.9,
             "#4d9221"
            ],
            [
             1,
             "#276419"
            ]
           ],
           "sequential": [
            [
             0,
             "#0d0887"
            ],
            [
             0.1111111111111111,
             "#46039f"
            ],
            [
             0.2222222222222222,
             "#7201a8"
            ],
            [
             0.3333333333333333,
             "#9c179e"
            ],
            [
             0.4444444444444444,
             "#bd3786"
            ],
            [
             0.5555555555555556,
             "#d8576b"
            ],
            [
             0.6666666666666666,
             "#ed7953"
            ],
            [
             0.7777777777777778,
             "#fb9f3a"
            ],
            [
             0.8888888888888888,
             "#fdca26"
            ],
            [
             1,
             "#f0f921"
            ]
           ],
           "sequentialminus": [
            [
             0,
             "#0d0887"
            ],
            [
             0.1111111111111111,
             "#46039f"
            ],
            [
             0.2222222222222222,
             "#7201a8"
            ],
            [
             0.3333333333333333,
             "#9c179e"
            ],
            [
             0.4444444444444444,
             "#bd3786"
            ],
            [
             0.5555555555555556,
             "#d8576b"
            ],
            [
             0.6666666666666666,
             "#ed7953"
            ],
            [
             0.7777777777777778,
             "#fb9f3a"
            ],
            [
             0.8888888888888888,
             "#fdca26"
            ],
            [
             1,
             "#f0f921"
            ]
           ]
          },
          "colorway": [
           "#636efa",
           "#EF553B",
           "#00cc96",
           "#ab63fa",
           "#FFA15A",
           "#19d3f3",
           "#FF6692",
           "#B6E880",
           "#FF97FF",
           "#FECB52"
          ],
          "font": {
           "color": "#2a3f5f"
          },
          "geo": {
           "bgcolor": "white",
           "lakecolor": "white",
           "landcolor": "#E5ECF6",
           "showlakes": true,
           "showland": true,
           "subunitcolor": "white"
          },
          "hoverlabel": {
           "align": "left"
          },
          "hovermode": "closest",
          "mapbox": {
           "style": "light"
          },
          "paper_bgcolor": "white",
          "plot_bgcolor": "#E5ECF6",
          "polar": {
           "angularaxis": {
            "gridcolor": "white",
            "linecolor": "white",
            "ticks": ""
           },
           "bgcolor": "#E5ECF6",
           "radialaxis": {
            "gridcolor": "white",
            "linecolor": "white",
            "ticks": ""
           }
          },
          "scene": {
           "xaxis": {
            "backgroundcolor": "#E5ECF6",
            "gridcolor": "white",
            "gridwidth": 2,
            "linecolor": "white",
            "showbackground": true,
            "ticks": "",
            "zerolinecolor": "white"
           },
           "yaxis": {
            "backgroundcolor": "#E5ECF6",
            "gridcolor": "white",
            "gridwidth": 2,
            "linecolor": "white",
            "showbackground": true,
            "ticks": "",
            "zerolinecolor": "white"
           },
           "zaxis": {
            "backgroundcolor": "#E5ECF6",
            "gridcolor": "white",
            "gridwidth": 2,
            "linecolor": "white",
            "showbackground": true,
            "ticks": "",
            "zerolinecolor": "white"
           }
          },
          "shapedefaults": {
           "line": {
            "color": "#2a3f5f"
           }
          },
          "ternary": {
           "aaxis": {
            "gridcolor": "white",
            "linecolor": "white",
            "ticks": ""
           },
           "baxis": {
            "gridcolor": "white",
            "linecolor": "white",
            "ticks": ""
           },
           "bgcolor": "#E5ECF6",
           "caxis": {
            "gridcolor": "white",
            "linecolor": "white",
            "ticks": ""
           }
          },
          "title": {
           "x": 0.05
          },
          "xaxis": {
           "automargin": true,
           "gridcolor": "white",
           "linecolor": "white",
           "ticks": "",
           "title": {
            "standoff": 15
           },
           "zerolinecolor": "white",
           "zerolinewidth": 2
          },
          "yaxis": {
           "automargin": true,
           "gridcolor": "white",
           "linecolor": "white",
           "ticks": "",
           "title": {
            "standoff": 15
           },
           "zerolinecolor": "white",
           "zerolinewidth": 2
          }
         }
        },
        "title": {
         "text": "Distribution of Credit Compliance vs. Credit Amount"
        },
        "xaxis": {
         "anchor": "y",
         "domain": [
          0,
          1
         ],
         "title": {
          "text": "Credit Compliance"
         }
        },
        "yaxis": {
         "anchor": "x",
         "domain": [
          0,
          1
         ],
         "title": {
          "text": "Credit Amount"
         }
        }
       }
      }
     },
     "metadata": {},
     "output_type": "display_data"
    }
   ],
   "source": [
    "px.box(df_viz, x='Credit Compliance', y='Credit Amount', title='Distribution of Credit Compliance vs. Credit Amount')"
   ]
  },
  {
   "cell_type": "markdown",
   "metadata": {},
   "source": [
    "Comparing the distribution of both classes of credit completation against total amount of the credit contract. We find:\n",
    "- the mean for bad credit contracts is just slightly above that of the good credit contracts \n",
    "- also the maximum value of bad credit contracts is much higher than good credit contracts\n",
    "- again it appears that customers with larger contracts have a higher chance of defaulting on their credit"
   ]
  },
  {
   "cell_type": "code",
   "execution_count": 13,
   "metadata": {},
   "outputs": [
    {
     "data": {
      "application/vnd.plotly.v1+json": {
       "config": {
        "plotlyServerURL": "https://plot.ly"
       },
       "data": [
        {
         "alignmentgroup": "True",
         "hovertemplate": "Credit Compliance=%{x}<br>Age=%{y}<extra></extra>",
         "legendgroup": "",
         "marker": {
          "color": "#636efa"
         },
         "name": "",
         "notched": false,
         "offsetgroup": "",
         "orientation": "v",
         "showlegend": false,
         "type": "box",
         "x": [
          "Good",
          "Good",
          "Good",
          "Good",
          "Good",
          "Good",
          "Good",
          "Good",
          "Good",
          "Good",
          "Good",
          "Good",
          "Good",
          "Good",
          "Good",
          "Good",
          "Good",
          "Good",
          "Good",
          "Good",
          "Good",
          "Good",
          "Bad",
          "Good",
          "Good",
          "Good",
          "Good",
          "Good",
          "Good",
          "Good",
          "Good",
          "Good",
          "Good",
          "Good",
          "Good",
          "Good",
          "Good",
          "Good",
          "Good",
          "Good",
          "Good",
          "Good",
          "Good",
          "Good",
          "Good",
          "Bad",
          "Good",
          "Bad",
          "Good",
          "Good",
          "Good",
          "Good",
          "Good",
          "Good",
          "Good",
          "Good",
          "Good",
          "Good",
          "Good",
          "Good",
          "Good",
          "Good",
          "Good",
          "Good",
          "Good",
          "Good",
          "Good",
          "Good",
          "Good",
          "Good",
          "Good",
          "Good",
          "Good",
          "Good",
          "Good",
          "Good",
          "Good",
          "Good",
          "Good",
          "Good",
          "Good",
          "Good",
          "Good",
          "Good",
          "Good",
          "Good",
          "Good",
          "Good",
          "Good",
          "Good",
          "Good",
          "Good",
          "Good",
          "Good",
          "Good",
          "Good",
          "Good",
          "Bad",
          "Good",
          "Good",
          "Good",
          "Good",
          "Good",
          "Good",
          "Good",
          "Good",
          "Good",
          "Good",
          "Good",
          "Good",
          "Bad",
          "Good",
          "Good",
          "Good",
          "Good",
          "Good",
          "Good",
          "Good",
          "Good",
          "Good",
          "Good",
          "Good",
          "Good",
          "Good",
          "Good",
          "Good",
          "Good",
          "Good",
          "Good",
          "Good",
          "Good",
          "Good",
          "Good",
          "Good",
          "Good",
          "Good",
          "Good",
          "Good",
          "Good",
          "Good",
          "Good",
          "Good",
          "Good",
          "Good",
          "Good",
          "Good",
          "Good",
          "Good",
          "Good",
          "Good",
          "Good",
          "Good",
          "Good",
          "Good",
          "Good",
          "Good",
          "Good",
          "Good",
          "Bad",
          "Good",
          "Good",
          "Good",
          "Good",
          "Good",
          "Good",
          "Good",
          "Good",
          "Good",
          "Good",
          "Good",
          "Good",
          "Bad",
          "Good",
          "Good",
          "Good",
          "Good",
          "Good",
          "Good",
          "Good",
          "Good",
          "Good",
          "Good",
          "Good",
          "Good",
          "Good",
          "Good",
          "Good",
          "Good",
          "Good",
          "Good",
          "Good",
          "Good",
          "Good",
          "Good",
          "Good",
          "Good",
          "Good",
          "Good",
          "Good",
          "Good",
          "Good",
          "Good",
          "Good",
          "Good",
          "Good",
          "Good",
          "Good",
          "Good",
          "Good",
          "Good",
          "Good",
          "Good",
          "Good",
          "Good",
          "Good",
          "Good",
          "Good",
          "Good",
          "Good",
          "Good",
          "Good",
          "Good",
          "Good",
          "Good",
          "Good",
          "Good",
          "Good",
          "Good",
          "Good",
          "Good",
          "Good",
          "Good",
          "Good",
          "Good",
          "Bad",
          "Good",
          "Good",
          "Good",
          "Good",
          "Good",
          "Good",
          "Good",
          "Good",
          "Good",
          "Good",
          "Good",
          "Good",
          "Good",
          "Good",
          "Good",
          "Good",
          "Good",
          "Good",
          "Good",
          "Good",
          "Good",
          "Good",
          "Good",
          "Good",
          "Good",
          "Good",
          "Good",
          "Good",
          "Good",
          "Good",
          "Good",
          "Good",
          "Good",
          "Good",
          "Good",
          "Good",
          "Good",
          "Good",
          "Good",
          "Good",
          "Good",
          "Good",
          "Good",
          "Good",
          "Good",
          "Good",
          "Good",
          "Good",
          "Good",
          "Good",
          "Good",
          "Good",
          "Good",
          "Good",
          "Good",
          "Good",
          "Good",
          "Good",
          "Good",
          "Good",
          "Good",
          "Good",
          "Good",
          "Good",
          "Good",
          "Good",
          "Good",
          "Good",
          "Good",
          "Bad",
          "Good",
          "Good",
          "Good",
          "Good",
          "Good",
          "Good",
          "Good",
          "Good",
          "Good",
          "Good",
          "Good",
          "Good",
          "Good",
          "Good",
          "Good",
          "Good",
          "Good",
          "Good",
          "Good",
          "Good",
          "Good",
          "Good",
          "Good",
          "Good",
          "Good",
          "Good",
          "Good",
          "Good",
          "Good",
          "Good",
          "Good",
          "Good",
          "Good",
          "Good",
          "Good",
          "Good",
          "Good",
          "Good",
          "Good",
          "Good",
          "Good",
          "Good",
          "Good",
          "Good",
          "Good",
          "Good",
          "Good",
          "Good",
          "Bad",
          "Good",
          "Good",
          "Good",
          "Good",
          "Good",
          "Good",
          "Good",
          "Good",
          "Good",
          "Good",
          "Good",
          "Good",
          "Good",
          "Good",
          "Good",
          "Good",
          "Good",
          "Good",
          "Good",
          "Good",
          "Good",
          "Good",
          "Bad",
          "Good",
          "Good",
          "Good",
          "Good",
          "Good",
          "Good",
          "Good",
          "Good",
          "Good",
          "Bad",
          "Good",
          "Good",
          "Good",
          "Good",
          "Good",
          "Good",
          "Good",
          "Good",
          "Good",
          "Good",
          "Good",
          "Good",
          "Good",
          "Good",
          "Good",
          "Good",
          "Good",
          "Good",
          "Good",
          "Good",
          "Good",
          "Good",
          "Good",
          "Good",
          "Good",
          "Good",
          "Good",
          "Good",
          "Good",
          "Good",
          "Good",
          "Good",
          "Good",
          "Good",
          "Good",
          "Good",
          "Good",
          "Good",
          "Good",
          "Good",
          "Bad",
          "Good",
          "Good",
          "Good",
          "Bad",
          "Good",
          "Good",
          "Good",
          "Good",
          "Good",
          "Good",
          "Good",
          "Good",
          "Good",
          "Good",
          "Good",
          "Good",
          "Good",
          "Good",
          "Good",
          "Good",
          "Good",
          "Good",
          "Bad",
          "Good",
          "Good",
          "Good",
          "Good",
          "Good",
          "Good",
          "Good",
          "Good",
          "Good",
          "Good",
          "Good",
          "Good",
          "Bad",
          "Good",
          "Good",
          "Good",
          "Good",
          "Good",
          "Good",
          "Good",
          "Good",
          "Good",
          "Good",
          "Good",
          "Good",
          "Good",
          "Good",
          "Good",
          "Good",
          "Good",
          "Good",
          "Good",
          "Good",
          "Good",
          "Good",
          "Good",
          "Good",
          "Good",
          "Good",
          "Good",
          "Good",
          "Good",
          "Good",
          "Good",
          "Good",
          "Good",
          "Good",
          "Good",
          "Good",
          "Good",
          "Good",
          "Good",
          "Good",
          "Good",
          "Good",
          "Good",
          "Good",
          "Good",
          "Good",
          "Good",
          "Good",
          "Good",
          "Good",
          "Good",
          "Good",
          "Good",
          "Bad",
          "Bad",
          "Bad",
          "Bad",
          "Bad",
          "Good",
          "Good",
          "Good",
          "Good",
          "Good",
          "Good",
          "Good",
          "Good",
          "Good",
          "Good",
          "Good",
          "Good",
          "Good",
          "Good",
          "Good",
          "Good",
          "Good",
          "Good",
          "Bad",
          "Good",
          "Bad",
          "Good",
          "Good",
          "Good",
          "Good",
          "Good",
          "Good",
          "Good",
          "Good",
          "Good",
          "Good",
          "Good",
          "Good",
          "Good",
          "Good",
          "Good",
          "Good",
          "Good",
          "Good",
          "Good",
          "Bad",
          "Good",
          "Good",
          "Good",
          "Good",
          "Good",
          "Good",
          "Good",
          "Good",
          "Good",
          "Good",
          "Good",
          "Good",
          "Good",
          "Bad",
          "Bad",
          "Bad",
          "Bad",
          "Bad",
          "Bad",
          "Bad",
          "Bad",
          "Bad",
          "Good",
          "Good",
          "Good",
          "Good",
          "Good",
          "Good",
          "Good",
          "Bad",
          "Bad",
          "Good",
          "Good",
          "Good",
          "Good",
          "Good",
          "Bad",
          "Bad",
          "Good",
          "Good",
          "Good",
          "Bad",
          "Good",
          "Good",
          "Good",
          "Good",
          "Good",
          "Bad",
          "Good",
          "Good",
          "Good",
          "Good",
          "Good",
          "Good",
          "Good",
          "Bad",
          "Good",
          "Good",
          "Good",
          "Good",
          "Good",
          "Good",
          "Good",
          "Good",
          "Good",
          "Good",
          "Good",
          "Good",
          "Good",
          "Good",
          "Good",
          "Good",
          "Good",
          "Bad",
          "Good",
          "Good",
          "Good",
          "Good",
          "Good",
          "Good",
          "Bad",
          "Good",
          "Good",
          "Good",
          "Good",
          "Good",
          "Good",
          "Good",
          "Good",
          "Good",
          "Good",
          "Good",
          "Good",
          "Bad",
          "Good",
          "Good",
          "Good",
          "Good",
          "Good",
          "Good",
          "Good",
          "Good",
          "Good",
          "Good",
          "Good",
          "Good",
          "Good",
          "Good",
          "Good",
          "Good",
          "Good",
          "Good",
          "Good",
          "Good",
          "Good",
          "Good",
          "Good",
          "Good",
          "Good",
          "Good",
          "Good",
          "Good",
          "Good",
          "Good",
          "Good",
          "Good",
          "Bad",
          "Good",
          "Good",
          "Good",
          "Good",
          "Good",
          "Good",
          "Good",
          "Good",
          "Good",
          "Good",
          "Bad",
          "Good",
          "Good",
          "Good",
          "Good",
          "Good",
          "Good",
          "Good",
          "Bad",
          "Good",
          "Good",
          "Good",
          "Good",
          "Good",
          "Good",
          "Good",
          "Good",
          "Bad",
          "Bad",
          "Bad",
          "Bad",
          "Good",
          "Good",
          "Good",
          "Good",
          "Good",
          "Good",
          "Good",
          "Good",
          "Good",
          "Good",
          "Good",
          "Good",
          "Good",
          "Good",
          "Good",
          "Good",
          "Good",
          "Good",
          "Good",
          "Good",
          "Good",
          "Bad",
          "Good",
          "Good",
          "Good",
          "Good",
          "Good",
          "Good",
          "Good",
          "Good",
          "Bad",
          "Bad",
          "Bad",
          "Bad",
          "Bad",
          "Bad",
          "Bad",
          "Bad",
          "Bad",
          "Bad",
          "Bad",
          "Bad",
          "Bad",
          "Bad",
          "Bad",
          "Bad",
          "Bad",
          "Bad",
          "Bad",
          "Bad",
          "Bad",
          "Bad",
          "Bad",
          "Bad",
          "Bad",
          "Bad",
          "Bad",
          "Bad",
          "Bad",
          "Bad",
          "Bad",
          "Bad",
          "Bad",
          "Bad",
          "Bad",
          "Bad",
          "Bad",
          "Bad",
          "Bad",
          "Bad",
          "Bad",
          "Bad",
          "Bad",
          "Bad",
          "Bad",
          "Bad",
          "Bad",
          "Bad",
          "Bad",
          "Bad",
          "Bad",
          "Bad",
          "Bad",
          "Bad",
          "Bad",
          "Bad",
          "Bad",
          "Bad",
          "Bad",
          "Bad",
          "Bad",
          "Bad",
          "Bad",
          "Bad",
          "Bad",
          "Bad",
          "Bad",
          "Bad",
          "Bad",
          "Bad",
          "Bad",
          "Bad",
          "Bad",
          "Bad",
          "Bad",
          "Bad",
          "Bad",
          "Bad",
          "Bad",
          "Bad",
          "Bad",
          "Bad",
          "Bad",
          "Bad",
          "Bad",
          "Bad",
          "Bad",
          "Bad",
          "Bad",
          "Bad",
          "Bad",
          "Bad",
          "Bad",
          "Bad",
          "Bad",
          "Bad",
          "Bad",
          "Bad",
          "Bad",
          "Bad",
          "Bad",
          "Bad",
          "Bad",
          "Bad",
          "Bad",
          "Bad",
          "Bad",
          "Bad",
          "Bad",
          "Bad",
          "Bad",
          "Bad",
          "Bad",
          "Bad",
          "Bad",
          "Bad",
          "Bad",
          "Bad",
          "Bad",
          "Bad",
          "Bad",
          "Bad",
          "Bad",
          "Bad",
          "Bad",
          "Bad",
          "Bad",
          "Bad",
          "Bad",
          "Bad",
          "Bad",
          "Bad",
          "Bad",
          "Bad",
          "Bad",
          "Bad",
          "Bad",
          "Bad",
          "Bad",
          "Bad",
          "Bad",
          "Bad",
          "Bad",
          "Bad",
          "Bad",
          "Bad",
          "Bad",
          "Bad",
          "Bad",
          "Bad",
          "Bad",
          "Bad",
          "Bad",
          "Bad",
          "Bad",
          "Bad",
          "Bad",
          "Bad",
          "Bad",
          "Bad",
          "Bad",
          "Bad",
          "Bad",
          "Bad",
          "Bad",
          "Bad",
          "Bad",
          "Bad",
          "Bad",
          "Bad",
          "Bad",
          "Bad",
          "Bad",
          "Bad",
          "Bad",
          "Bad",
          "Bad",
          "Bad",
          "Bad",
          "Bad",
          "Bad",
          "Bad",
          "Bad",
          "Bad",
          "Bad",
          "Bad",
          "Bad",
          "Bad",
          "Bad",
          "Bad",
          "Bad",
          "Bad",
          "Bad",
          "Bad",
          "Bad",
          "Bad",
          "Bad",
          "Bad",
          "Bad",
          "Bad",
          "Bad",
          "Bad",
          "Bad",
          "Bad",
          "Bad",
          "Bad",
          "Bad",
          "Bad",
          "Bad",
          "Bad",
          "Bad",
          "Bad",
          "Bad",
          "Bad",
          "Bad",
          "Bad",
          "Bad",
          "Bad",
          "Bad",
          "Bad",
          "Bad",
          "Bad",
          "Bad",
          "Bad",
          "Bad",
          "Bad",
          "Bad",
          "Bad",
          "Bad",
          "Bad",
          "Bad",
          "Bad",
          "Bad",
          "Bad",
          "Bad",
          "Bad",
          "Bad",
          "Bad",
          "Bad",
          "Bad",
          "Bad",
          "Bad",
          "Bad",
          "Bad",
          "Bad",
          "Bad",
          "Bad",
          "Bad",
          "Bad"
         ],
         "x0": " ",
         "xaxis": "x",
         "y": [
          21,
          36,
          23,
          39,
          38,
          48,
          39,
          40,
          65,
          23,
          36,
          24,
          31,
          31,
          23,
          44,
          40,
          25,
          36,
          39,
          37,
          49,
          33,
          26,
          44,
          51,
          24,
          37,
          29,
          56,
          47,
          37,
          34,
          28,
          36,
          39,
          38,
          26,
          31,
          41,
          23,
          58,
          36,
          34,
          61,
          23,
          25,
          30,
          33,
          26,
          49,
          23,
          30,
          49,
          41,
          58,
          63,
          27,
          41,
          36,
          44,
          29,
          47,
          45,
          43,
          27,
          52,
          28,
          22,
          60,
          32,
          58,
          39,
          31,
          37,
          24,
          36,
          60,
          30,
          35,
          37,
          51,
          30,
          36,
          63,
          31,
          35,
          34,
          39,
          42,
          27,
          25,
          28,
          59,
          41,
          32,
          23,
          30,
          25,
          41,
          40,
          22,
          34,
          54,
          33,
          31,
          29,
          39,
          38,
          61,
          29,
          49,
          36,
          26,
          35,
          28,
          35,
          28,
          52,
          32,
          30,
          35,
          30,
          43,
          47,
          47,
          24,
          32,
          30,
          36,
          26,
          43,
          41,
          26,
          64,
          33,
          54,
          32,
          39,
          31,
          45,
          64,
          42,
          31,
          25,
          46,
          49,
          49,
          36,
          48,
          42,
          29,
          35,
          38,
          26,
          35,
          23,
          38,
          59,
          28,
          35,
          36,
          25,
          28,
          23,
          48,
          25,
          74,
          24,
          28,
          24,
          24,
          23,
          32,
          31,
          36,
          27,
          44,
          34,
          37,
          23,
          30,
          25,
          33,
          27,
          31,
          50,
          31,
          32,
          28,
          29,
          27,
          24,
          54,
          25,
          35,
          45,
          28,
          35,
          27,
          30,
          40,
          49,
          30,
          24,
          33,
          20,
          23,
          36,
          35,
          29,
          22,
          22,
          74,
          35,
          37,
          31,
          27,
          35,
          45,
          36,
          49,
          35,
          27,
          28,
          43,
          35,
          27,
          36,
          30,
          36,
          39,
          45,
          40,
          25,
          55,
          50,
          64,
          23,
          24,
          47,
          42,
          24,
          32,
          45,
          23,
          24,
          35,
          25,
          26,
          43,
          44,
          38,
          28,
          38,
          26,
          27,
          23,
          52,
          74,
          27,
          35,
          23,
          20,
          34,
          40,
          37,
          36,
          22,
          34,
          50,
          40,
          23,
          53,
          35,
          35,
          54,
          27,
          28,
          49,
          29,
          46,
          20,
          47,
          29,
          54,
          52,
          32,
          51,
          33,
          37,
          20,
          34,
          31,
          30,
          30,
          22,
          34,
          19,
          34,
          45,
          25,
          26,
          33,
          28,
          41,
          36,
          26,
          28,
          39,
          65,
          38,
          41,
          26,
          41,
          45,
          40,
          24,
          31,
          35,
          40,
          28,
          28,
          27,
          31,
          37,
          35,
          46,
          32,
          33,
          33,
          26,
          24,
          25,
          54,
          24,
          48,
          49,
          32,
          55,
          40,
          22,
          38,
          26,
          51,
          38,
          46,
          63,
          30,
          32,
          26,
          34,
          46,
          29,
          42,
          42,
          63,
          32,
          23,
          59,
          61,
          22,
          27,
          26,
          37,
          34,
          57,
          31,
          28,
          24,
          21,
          34,
          29,
          27,
          34,
          27,
          28,
          30,
          22,
          36,
          22,
          26,
          63,
          22,
          36,
          24,
          30,
          43,
          37,
          26,
          33,
          66,
          50,
          35,
          25,
          25,
          33,
          30,
          41,
          32,
          32,
          39,
          23,
          26,
          32,
          40,
          30,
          27,
          36,
          29,
          64,
          32,
          35,
          44,
          42,
          29,
          57,
          27,
          29,
          44,
          28,
          40,
          68,
          52,
          46,
          52,
          32,
          34,
          23,
          33,
          26,
          55,
          27,
          28,
          57,
          36,
          31,
          24,
          43,
          40,
          23,
          26,
          30,
          40,
          56,
          50,
          36,
          21,
          32,
          66,
          66,
          39,
          70,
          24,
          22,
          27,
          29,
          35,
          29,
          26,
          60,
          40,
          23,
          45,
          24,
          55,
          30,
          35,
          24,
          47,
          47,
          25,
          37,
          33,
          31,
          27,
          47,
          25,
          57,
          67,
          48,
          40,
          32,
          49,
          35,
          27,
          35,
          37,
          26,
          45,
          33,
          42,
          31,
          46,
          54,
          26,
          29,
          43,
          38,
          35,
          28,
          27,
          51,
          33,
          38,
          30,
          38,
          46,
          33,
          43,
          24,
          56,
          37,
          22,
          20,
          29,
          36,
          37,
          44,
          23,
          28,
          26,
          29,
          21,
          34,
          31,
          40,
          27,
          32,
          25,
          42,
          43,
          44,
          32,
          27,
          20,
          37,
          42,
          46,
          33,
          22,
          41,
          37,
          27,
          42,
          26,
          26,
          27,
          22,
          37,
          30,
          49,
          27,
          40,
          20,
          26,
          30,
          33,
          26,
          35,
          44,
          27,
          24,
          47,
          26,
          23,
          31,
          52,
          43,
          37,
          26,
          35,
          30,
          34,
          35,
          48,
          42,
          40,
          23,
          30,
          24,
          33,
          31,
          22,
          53,
          34,
          36,
          37,
          25,
          34,
          27,
          51,
          23,
          29,
          32,
          28,
          38,
          65,
          39,
          29,
          26,
          30,
          75,
          21,
          41,
          25,
          35,
          37,
          26,
          30,
          23,
          42,
          30,
          46,
          29,
          29,
          38,
          30,
          31,
          47,
          48,
          27,
          66,
          29,
          75,
          36,
          38,
          46,
          36,
          55,
          25,
          45,
          28,
          30,
          39,
          22,
          60,
          28,
          24,
          63,
          46,
          33,
          44,
          58,
          54,
          43,
          52,
          32,
          41,
          34,
          48,
          38,
          38,
          53,
          38,
          42,
          38,
          64,
          35,
          26,
          33,
          29,
          20,
          28,
          47,
          49,
          45,
          23,
          25,
          34,
          23,
          32,
          26,
          44,
          26,
          28,
          25,
          48,
          35,
          28,
          23,
          40,
          36,
          50,
          24,
          40,
          31,
          29,
          45,
          32,
          21,
          27,
          22,
          46,
          24,
          21,
          36,
          28,
          27,
          57,
          47,
          34,
          23,
          57,
          67,
          36,
          20,
          36,
          37,
          31,
          62,
          65,
          36,
          41,
          26,
          27,
          50,
          54,
          27,
          24,
          50,
          40,
          28,
          31,
          27,
          21,
          31,
          39,
          30,
          27,
          55,
          34,
          23,
          23,
          42,
          62,
          37,
          46,
          38,
          31,
          31,
          61,
          20,
          63,
          24,
          21,
          36,
          44,
          67,
          51,
          30,
          28,
          32,
          28,
          23,
          33,
          60,
          48,
          24,
          27,
          28,
          65,
          29,
          42,
          47,
          22,
          25,
          32,
          29,
          24,
          30,
          27,
          47,
          24,
          24,
          34,
          40,
          44,
          33,
          40,
          49,
          48,
          57,
          24,
          29,
          35,
          32,
          61,
          36,
          25,
          26,
          25,
          55,
          53,
          66,
          61,
          34,
          33,
          29,
          38,
          35,
          32,
          25,
          33,
          23,
          24,
          28,
          63,
          39,
          35,
          23,
          36,
          23,
          24,
          74,
          22,
          48,
          26,
          24,
          19,
          27,
          29,
          32,
          25,
          29,
          47,
          34,
          43,
          30,
          22,
          42,
          26,
          27,
          26,
          32,
          23,
          36,
          43,
          39,
          26,
          40,
          31,
          29,
          29,
          39,
          23,
          30,
          60,
          50,
          47,
          21,
          24,
          31,
          37,
          43,
          46,
          30,
          31,
          34,
          33,
          38,
          24,
          23,
          31,
          27,
          39,
          25,
          28,
          27,
          25,
          54,
          25,
          22,
          28,
          34,
          28,
          28,
          31,
          22,
          40,
          25,
          34,
          42,
          25,
          28,
          24,
          27,
          25,
          35,
          29,
          27,
          24,
          25,
          33,
          34,
          38,
          41,
          21,
          36,
          27,
          31,
          33,
          57,
          42,
          26,
          24,
          44,
          23,
          43,
          53,
          53,
          35,
          26,
          31,
          23,
          22,
          20,
          25,
          24,
          46,
          27,
          46,
          23,
          50,
          26,
          20,
          31,
          21,
          39,
          25,
          30,
          37,
          46,
          36,
          43,
          33,
          29,
          36,
          23,
          42,
          44,
          41,
          41,
          37,
          57,
          34,
          25,
          53,
          32,
          33,
          24,
          28,
          39,
          24,
          26,
          55,
          61,
          21,
          26,
          22,
          68,
          22,
          58,
          23,
          37,
          26,
          27,
          26,
          23,
          40,
          33,
          42,
          37,
          29,
          23,
          34,
          32,
          68,
          25,
          35,
          22,
          28,
          30,
          25,
          34,
          42,
          45,
          20,
          23,
          20,
          27,
          44,
          51,
          33,
          28,
          21,
          45,
          30,
          52,
          31
         ],
         "y0": " ",
         "yaxis": "y"
        }
       ],
       "layout": {
        "boxmode": "group",
        "legend": {
         "tracegroupgap": 0
        },
        "template": {
         "data": {
          "bar": [
           {
            "error_x": {
             "color": "#2a3f5f"
            },
            "error_y": {
             "color": "#2a3f5f"
            },
            "marker": {
             "line": {
              "color": "#E5ECF6",
              "width": 0.5
             },
             "pattern": {
              "fillmode": "overlay",
              "size": 10,
              "solidity": 0.2
             }
            },
            "type": "bar"
           }
          ],
          "barpolar": [
           {
            "marker": {
             "line": {
              "color": "#E5ECF6",
              "width": 0.5
             },
             "pattern": {
              "fillmode": "overlay",
              "size": 10,
              "solidity": 0.2
             }
            },
            "type": "barpolar"
           }
          ],
          "carpet": [
           {
            "aaxis": {
             "endlinecolor": "#2a3f5f",
             "gridcolor": "white",
             "linecolor": "white",
             "minorgridcolor": "white",
             "startlinecolor": "#2a3f5f"
            },
            "baxis": {
             "endlinecolor": "#2a3f5f",
             "gridcolor": "white",
             "linecolor": "white",
             "minorgridcolor": "white",
             "startlinecolor": "#2a3f5f"
            },
            "type": "carpet"
           }
          ],
          "choropleth": [
           {
            "colorbar": {
             "outlinewidth": 0,
             "ticks": ""
            },
            "type": "choropleth"
           }
          ],
          "contour": [
           {
            "colorbar": {
             "outlinewidth": 0,
             "ticks": ""
            },
            "colorscale": [
             [
              0,
              "#0d0887"
             ],
             [
              0.1111111111111111,
              "#46039f"
             ],
             [
              0.2222222222222222,
              "#7201a8"
             ],
             [
              0.3333333333333333,
              "#9c179e"
             ],
             [
              0.4444444444444444,
              "#bd3786"
             ],
             [
              0.5555555555555556,
              "#d8576b"
             ],
             [
              0.6666666666666666,
              "#ed7953"
             ],
             [
              0.7777777777777778,
              "#fb9f3a"
             ],
             [
              0.8888888888888888,
              "#fdca26"
             ],
             [
              1,
              "#f0f921"
             ]
            ],
            "type": "contour"
           }
          ],
          "contourcarpet": [
           {
            "colorbar": {
             "outlinewidth": 0,
             "ticks": ""
            },
            "type": "contourcarpet"
           }
          ],
          "heatmap": [
           {
            "colorbar": {
             "outlinewidth": 0,
             "ticks": ""
            },
            "colorscale": [
             [
              0,
              "#0d0887"
             ],
             [
              0.1111111111111111,
              "#46039f"
             ],
             [
              0.2222222222222222,
              "#7201a8"
             ],
             [
              0.3333333333333333,
              "#9c179e"
             ],
             [
              0.4444444444444444,
              "#bd3786"
             ],
             [
              0.5555555555555556,
              "#d8576b"
             ],
             [
              0.6666666666666666,
              "#ed7953"
             ],
             [
              0.7777777777777778,
              "#fb9f3a"
             ],
             [
              0.8888888888888888,
              "#fdca26"
             ],
             [
              1,
              "#f0f921"
             ]
            ],
            "type": "heatmap"
           }
          ],
          "heatmapgl": [
           {
            "colorbar": {
             "outlinewidth": 0,
             "ticks": ""
            },
            "colorscale": [
             [
              0,
              "#0d0887"
             ],
             [
              0.1111111111111111,
              "#46039f"
             ],
             [
              0.2222222222222222,
              "#7201a8"
             ],
             [
              0.3333333333333333,
              "#9c179e"
             ],
             [
              0.4444444444444444,
              "#bd3786"
             ],
             [
              0.5555555555555556,
              "#d8576b"
             ],
             [
              0.6666666666666666,
              "#ed7953"
             ],
             [
              0.7777777777777778,
              "#fb9f3a"
             ],
             [
              0.8888888888888888,
              "#fdca26"
             ],
             [
              1,
              "#f0f921"
             ]
            ],
            "type": "heatmapgl"
           }
          ],
          "histogram": [
           {
            "marker": {
             "pattern": {
              "fillmode": "overlay",
              "size": 10,
              "solidity": 0.2
             }
            },
            "type": "histogram"
           }
          ],
          "histogram2d": [
           {
            "colorbar": {
             "outlinewidth": 0,
             "ticks": ""
            },
            "colorscale": [
             [
              0,
              "#0d0887"
             ],
             [
              0.1111111111111111,
              "#46039f"
             ],
             [
              0.2222222222222222,
              "#7201a8"
             ],
             [
              0.3333333333333333,
              "#9c179e"
             ],
             [
              0.4444444444444444,
              "#bd3786"
             ],
             [
              0.5555555555555556,
              "#d8576b"
             ],
             [
              0.6666666666666666,
              "#ed7953"
             ],
             [
              0.7777777777777778,
              "#fb9f3a"
             ],
             [
              0.8888888888888888,
              "#fdca26"
             ],
             [
              1,
              "#f0f921"
             ]
            ],
            "type": "histogram2d"
           }
          ],
          "histogram2dcontour": [
           {
            "colorbar": {
             "outlinewidth": 0,
             "ticks": ""
            },
            "colorscale": [
             [
              0,
              "#0d0887"
             ],
             [
              0.1111111111111111,
              "#46039f"
             ],
             [
              0.2222222222222222,
              "#7201a8"
             ],
             [
              0.3333333333333333,
              "#9c179e"
             ],
             [
              0.4444444444444444,
              "#bd3786"
             ],
             [
              0.5555555555555556,
              "#d8576b"
             ],
             [
              0.6666666666666666,
              "#ed7953"
             ],
             [
              0.7777777777777778,
              "#fb9f3a"
             ],
             [
              0.8888888888888888,
              "#fdca26"
             ],
             [
              1,
              "#f0f921"
             ]
            ],
            "type": "histogram2dcontour"
           }
          ],
          "mesh3d": [
           {
            "colorbar": {
             "outlinewidth": 0,
             "ticks": ""
            },
            "type": "mesh3d"
           }
          ],
          "parcoords": [
           {
            "line": {
             "colorbar": {
              "outlinewidth": 0,
              "ticks": ""
             }
            },
            "type": "parcoords"
           }
          ],
          "pie": [
           {
            "automargin": true,
            "type": "pie"
           }
          ],
          "scatter": [
           {
            "fillpattern": {
             "fillmode": "overlay",
             "size": 10,
             "solidity": 0.2
            },
            "type": "scatter"
           }
          ],
          "scatter3d": [
           {
            "line": {
             "colorbar": {
              "outlinewidth": 0,
              "ticks": ""
             }
            },
            "marker": {
             "colorbar": {
              "outlinewidth": 0,
              "ticks": ""
             }
            },
            "type": "scatter3d"
           }
          ],
          "scattercarpet": [
           {
            "marker": {
             "colorbar": {
              "outlinewidth": 0,
              "ticks": ""
             }
            },
            "type": "scattercarpet"
           }
          ],
          "scattergeo": [
           {
            "marker": {
             "colorbar": {
              "outlinewidth": 0,
              "ticks": ""
             }
            },
            "type": "scattergeo"
           }
          ],
          "scattergl": [
           {
            "marker": {
             "colorbar": {
              "outlinewidth": 0,
              "ticks": ""
             }
            },
            "type": "scattergl"
           }
          ],
          "scattermapbox": [
           {
            "marker": {
             "colorbar": {
              "outlinewidth": 0,
              "ticks": ""
             }
            },
            "type": "scattermapbox"
           }
          ],
          "scatterpolar": [
           {
            "marker": {
             "colorbar": {
              "outlinewidth": 0,
              "ticks": ""
             }
            },
            "type": "scatterpolar"
           }
          ],
          "scatterpolargl": [
           {
            "marker": {
             "colorbar": {
              "outlinewidth": 0,
              "ticks": ""
             }
            },
            "type": "scatterpolargl"
           }
          ],
          "scatterternary": [
           {
            "marker": {
             "colorbar": {
              "outlinewidth": 0,
              "ticks": ""
             }
            },
            "type": "scatterternary"
           }
          ],
          "surface": [
           {
            "colorbar": {
             "outlinewidth": 0,
             "ticks": ""
            },
            "colorscale": [
             [
              0,
              "#0d0887"
             ],
             [
              0.1111111111111111,
              "#46039f"
             ],
             [
              0.2222222222222222,
              "#7201a8"
             ],
             [
              0.3333333333333333,
              "#9c179e"
             ],
             [
              0.4444444444444444,
              "#bd3786"
             ],
             [
              0.5555555555555556,
              "#d8576b"
             ],
             [
              0.6666666666666666,
              "#ed7953"
             ],
             [
              0.7777777777777778,
              "#fb9f3a"
             ],
             [
              0.8888888888888888,
              "#fdca26"
             ],
             [
              1,
              "#f0f921"
             ]
            ],
            "type": "surface"
           }
          ],
          "table": [
           {
            "cells": {
             "fill": {
              "color": "#EBF0F8"
             },
             "line": {
              "color": "white"
             }
            },
            "header": {
             "fill": {
              "color": "#C8D4E3"
             },
             "line": {
              "color": "white"
             }
            },
            "type": "table"
           }
          ]
         },
         "layout": {
          "annotationdefaults": {
           "arrowcolor": "#2a3f5f",
           "arrowhead": 0,
           "arrowwidth": 1
          },
          "autotypenumbers": "strict",
          "coloraxis": {
           "colorbar": {
            "outlinewidth": 0,
            "ticks": ""
           }
          },
          "colorscale": {
           "diverging": [
            [
             0,
             "#8e0152"
            ],
            [
             0.1,
             "#c51b7d"
            ],
            [
             0.2,
             "#de77ae"
            ],
            [
             0.3,
             "#f1b6da"
            ],
            [
             0.4,
             "#fde0ef"
            ],
            [
             0.5,
             "#f7f7f7"
            ],
            [
             0.6,
             "#e6f5d0"
            ],
            [
             0.7,
             "#b8e186"
            ],
            [
             0.8,
             "#7fbc41"
            ],
            [
             0.9,
             "#4d9221"
            ],
            [
             1,
             "#276419"
            ]
           ],
           "sequential": [
            [
             0,
             "#0d0887"
            ],
            [
             0.1111111111111111,
             "#46039f"
            ],
            [
             0.2222222222222222,
             "#7201a8"
            ],
            [
             0.3333333333333333,
             "#9c179e"
            ],
            [
             0.4444444444444444,
             "#bd3786"
            ],
            [
             0.5555555555555556,
             "#d8576b"
            ],
            [
             0.6666666666666666,
             "#ed7953"
            ],
            [
             0.7777777777777778,
             "#fb9f3a"
            ],
            [
             0.8888888888888888,
             "#fdca26"
            ],
            [
             1,
             "#f0f921"
            ]
           ],
           "sequentialminus": [
            [
             0,
             "#0d0887"
            ],
            [
             0.1111111111111111,
             "#46039f"
            ],
            [
             0.2222222222222222,
             "#7201a8"
            ],
            [
             0.3333333333333333,
             "#9c179e"
            ],
            [
             0.4444444444444444,
             "#bd3786"
            ],
            [
             0.5555555555555556,
             "#d8576b"
            ],
            [
             0.6666666666666666,
             "#ed7953"
            ],
            [
             0.7777777777777778,
             "#fb9f3a"
            ],
            [
             0.8888888888888888,
             "#fdca26"
            ],
            [
             1,
             "#f0f921"
            ]
           ]
          },
          "colorway": [
           "#636efa",
           "#EF553B",
           "#00cc96",
           "#ab63fa",
           "#FFA15A",
           "#19d3f3",
           "#FF6692",
           "#B6E880",
           "#FF97FF",
           "#FECB52"
          ],
          "font": {
           "color": "#2a3f5f"
          },
          "geo": {
           "bgcolor": "white",
           "lakecolor": "white",
           "landcolor": "#E5ECF6",
           "showlakes": true,
           "showland": true,
           "subunitcolor": "white"
          },
          "hoverlabel": {
           "align": "left"
          },
          "hovermode": "closest",
          "mapbox": {
           "style": "light"
          },
          "paper_bgcolor": "white",
          "plot_bgcolor": "#E5ECF6",
          "polar": {
           "angularaxis": {
            "gridcolor": "white",
            "linecolor": "white",
            "ticks": ""
           },
           "bgcolor": "#E5ECF6",
           "radialaxis": {
            "gridcolor": "white",
            "linecolor": "white",
            "ticks": ""
           }
          },
          "scene": {
           "xaxis": {
            "backgroundcolor": "#E5ECF6",
            "gridcolor": "white",
            "gridwidth": 2,
            "linecolor": "white",
            "showbackground": true,
            "ticks": "",
            "zerolinecolor": "white"
           },
           "yaxis": {
            "backgroundcolor": "#E5ECF6",
            "gridcolor": "white",
            "gridwidth": 2,
            "linecolor": "white",
            "showbackground": true,
            "ticks": "",
            "zerolinecolor": "white"
           },
           "zaxis": {
            "backgroundcolor": "#E5ECF6",
            "gridcolor": "white",
            "gridwidth": 2,
            "linecolor": "white",
            "showbackground": true,
            "ticks": "",
            "zerolinecolor": "white"
           }
          },
          "shapedefaults": {
           "line": {
            "color": "#2a3f5f"
           }
          },
          "ternary": {
           "aaxis": {
            "gridcolor": "white",
            "linecolor": "white",
            "ticks": ""
           },
           "baxis": {
            "gridcolor": "white",
            "linecolor": "white",
            "ticks": ""
           },
           "bgcolor": "#E5ECF6",
           "caxis": {
            "gridcolor": "white",
            "linecolor": "white",
            "ticks": ""
           }
          },
          "title": {
           "x": 0.05
          },
          "xaxis": {
           "automargin": true,
           "gridcolor": "white",
           "linecolor": "white",
           "ticks": "",
           "title": {
            "standoff": 15
           },
           "zerolinecolor": "white",
           "zerolinewidth": 2
          },
          "yaxis": {
           "automargin": true,
           "gridcolor": "white",
           "linecolor": "white",
           "ticks": "",
           "title": {
            "standoff": 15
           },
           "zerolinecolor": "white",
           "zerolinewidth": 2
          }
         }
        },
        "title": {
         "text": "Distribution of Credit Compliance vs. Age of debtor"
        },
        "xaxis": {
         "anchor": "y",
         "domain": [
          0,
          1
         ],
         "title": {
          "text": "Credit Compliance"
         }
        },
        "yaxis": {
         "anchor": "x",
         "domain": [
          0,
          1
         ],
         "title": {
          "text": "Age"
         }
        }
       }
      }
     },
     "metadata": {},
     "output_type": "display_data"
    }
   ],
   "source": [
    "px.box(df_viz, x='Credit Compliance', y='Age', title='Distribution of Credit Compliance vs. Age of debtor')"
   ]
  },
  {
   "cell_type": "markdown",
   "metadata": {},
   "source": [
    "Comparing good and bad credit completation against the age of the customer yields no signifcant difference.\n",
    "- it appears the age doesn't have an influence on whether a customer pays his credit back in full"
   ]
  },
  {
   "cell_type": "markdown",
   "metadata": {},
   "source": [
    "### Calculating Class Imbalance Ratio"
   ]
  },
  {
   "cell_type": "markdown",
   "metadata": {},
   "source": [
    "At first we are going to split the two classes into seperate tables and calculate the imbalance ratio."
   ]
  },
  {
   "cell_type": "code",
   "execution_count": 14,
   "metadata": {},
   "outputs": [],
   "source": [
    "# selecting those that complied with their credit obligation\n",
    "credit_good = credit_data[credit_data['kredit'] == 1]\n",
    "\n",
    "# selecting those that defaulted on their credit obligation\n",
    "credit_bad = credit_data[credit_data['kredit'] == 0]"
   ]
  },
  {
   "cell_type": "code",
   "execution_count": 15,
   "metadata": {},
   "outputs": [
    {
     "name": "stdout",
     "output_type": "stream",
     "text": [
      "42.86%\n",
      "2.3333333333333335 : 1.0\n",
      "1.0 : 0.429\n"
     ]
    }
   ],
   "source": [
    "# calculating the imbalance ratio\n",
    "imbalance_ratio = credit_bad.shape[0] / credit_good.shape[0]\n",
    "\n",
    "# printing the imbalance ratio in percentage\n",
    "print(f'{round((imbalance_ratio*100),2)}%')\n",
    "\n",
    "# printing the imbalance ratio as fraction\n",
    "print(f'{(credit_good.shape[0]/300)} : {round((credit_bad.shape[0]/300),3)}')\n",
    "\n",
    "# printing the imbalance ratio as fraction\n",
    "print(f'{(credit_good.shape[0]/700)} : {round((credit_bad.shape[0]/700),3)}')"
   ]
  },
  {
   "cell_type": "code",
   "execution_count": 16,
   "metadata": {},
   "outputs": [
    {
     "data": {
      "application/vnd.plotly.v1+json": {
       "config": {
        "plotlyServerURL": "https://plot.ly"
       },
       "data": [
        {
         "domain": {
          "x": [
           0,
           1
          ],
          "y": [
           0,
           1
          ]
         },
         "hovertemplate": "Credit Compliance=%{label}<extra></extra>",
         "labels": [
          "Good",
          "Good",
          "Good",
          "Good",
          "Good",
          "Good",
          "Good",
          "Good",
          "Good",
          "Good",
          "Good",
          "Good",
          "Good",
          "Good",
          "Good",
          "Good",
          "Good",
          "Good",
          "Good",
          "Good",
          "Good",
          "Good",
          "Bad",
          "Good",
          "Good",
          "Good",
          "Good",
          "Good",
          "Good",
          "Good",
          "Good",
          "Good",
          "Good",
          "Good",
          "Good",
          "Good",
          "Good",
          "Good",
          "Good",
          "Good",
          "Good",
          "Good",
          "Good",
          "Good",
          "Good",
          "Bad",
          "Good",
          "Bad",
          "Good",
          "Good",
          "Good",
          "Good",
          "Good",
          "Good",
          "Good",
          "Good",
          "Good",
          "Good",
          "Good",
          "Good",
          "Good",
          "Good",
          "Good",
          "Good",
          "Good",
          "Good",
          "Good",
          "Good",
          "Good",
          "Good",
          "Good",
          "Good",
          "Good",
          "Good",
          "Good",
          "Good",
          "Good",
          "Good",
          "Good",
          "Good",
          "Good",
          "Good",
          "Good",
          "Good",
          "Good",
          "Good",
          "Good",
          "Good",
          "Good",
          "Good",
          "Good",
          "Good",
          "Good",
          "Good",
          "Good",
          "Good",
          "Good",
          "Bad",
          "Good",
          "Good",
          "Good",
          "Good",
          "Good",
          "Good",
          "Good",
          "Good",
          "Good",
          "Good",
          "Good",
          "Good",
          "Bad",
          "Good",
          "Good",
          "Good",
          "Good",
          "Good",
          "Good",
          "Good",
          "Good",
          "Good",
          "Good",
          "Good",
          "Good",
          "Good",
          "Good",
          "Good",
          "Good",
          "Good",
          "Good",
          "Good",
          "Good",
          "Good",
          "Good",
          "Good",
          "Good",
          "Good",
          "Good",
          "Good",
          "Good",
          "Good",
          "Good",
          "Good",
          "Good",
          "Good",
          "Good",
          "Good",
          "Good",
          "Good",
          "Good",
          "Good",
          "Good",
          "Good",
          "Good",
          "Good",
          "Good",
          "Good",
          "Good",
          "Good",
          "Bad",
          "Good",
          "Good",
          "Good",
          "Good",
          "Good",
          "Good",
          "Good",
          "Good",
          "Good",
          "Good",
          "Good",
          "Good",
          "Bad",
          "Good",
          "Good",
          "Good",
          "Good",
          "Good",
          "Good",
          "Good",
          "Good",
          "Good",
          "Good",
          "Good",
          "Good",
          "Good",
          "Good",
          "Good",
          "Good",
          "Good",
          "Good",
          "Good",
          "Good",
          "Good",
          "Good",
          "Good",
          "Good",
          "Good",
          "Good",
          "Good",
          "Good",
          "Good",
          "Good",
          "Good",
          "Good",
          "Good",
          "Good",
          "Good",
          "Good",
          "Good",
          "Good",
          "Good",
          "Good",
          "Good",
          "Good",
          "Good",
          "Good",
          "Good",
          "Good",
          "Good",
          "Good",
          "Good",
          "Good",
          "Good",
          "Good",
          "Good",
          "Good",
          "Good",
          "Good",
          "Good",
          "Good",
          "Good",
          "Good",
          "Good",
          "Good",
          "Bad",
          "Good",
          "Good",
          "Good",
          "Good",
          "Good",
          "Good",
          "Good",
          "Good",
          "Good",
          "Good",
          "Good",
          "Good",
          "Good",
          "Good",
          "Good",
          "Good",
          "Good",
          "Good",
          "Good",
          "Good",
          "Good",
          "Good",
          "Good",
          "Good",
          "Good",
          "Good",
          "Good",
          "Good",
          "Good",
          "Good",
          "Good",
          "Good",
          "Good",
          "Good",
          "Good",
          "Good",
          "Good",
          "Good",
          "Good",
          "Good",
          "Good",
          "Good",
          "Good",
          "Good",
          "Good",
          "Good",
          "Good",
          "Good",
          "Good",
          "Good",
          "Good",
          "Good",
          "Good",
          "Good",
          "Good",
          "Good",
          "Good",
          "Good",
          "Good",
          "Good",
          "Good",
          "Good",
          "Good",
          "Good",
          "Good",
          "Good",
          "Good",
          "Good",
          "Good",
          "Bad",
          "Good",
          "Good",
          "Good",
          "Good",
          "Good",
          "Good",
          "Good",
          "Good",
          "Good",
          "Good",
          "Good",
          "Good",
          "Good",
          "Good",
          "Good",
          "Good",
          "Good",
          "Good",
          "Good",
          "Good",
          "Good",
          "Good",
          "Good",
          "Good",
          "Good",
          "Good",
          "Good",
          "Good",
          "Good",
          "Good",
          "Good",
          "Good",
          "Good",
          "Good",
          "Good",
          "Good",
          "Good",
          "Good",
          "Good",
          "Good",
          "Good",
          "Good",
          "Good",
          "Good",
          "Good",
          "Good",
          "Good",
          "Good",
          "Bad",
          "Good",
          "Good",
          "Good",
          "Good",
          "Good",
          "Good",
          "Good",
          "Good",
          "Good",
          "Good",
          "Good",
          "Good",
          "Good",
          "Good",
          "Good",
          "Good",
          "Good",
          "Good",
          "Good",
          "Good",
          "Good",
          "Good",
          "Bad",
          "Good",
          "Good",
          "Good",
          "Good",
          "Good",
          "Good",
          "Good",
          "Good",
          "Good",
          "Bad",
          "Good",
          "Good",
          "Good",
          "Good",
          "Good",
          "Good",
          "Good",
          "Good",
          "Good",
          "Good",
          "Good",
          "Good",
          "Good",
          "Good",
          "Good",
          "Good",
          "Good",
          "Good",
          "Good",
          "Good",
          "Good",
          "Good",
          "Good",
          "Good",
          "Good",
          "Good",
          "Good",
          "Good",
          "Good",
          "Good",
          "Good",
          "Good",
          "Good",
          "Good",
          "Good",
          "Good",
          "Good",
          "Good",
          "Good",
          "Good",
          "Bad",
          "Good",
          "Good",
          "Good",
          "Bad",
          "Good",
          "Good",
          "Good",
          "Good",
          "Good",
          "Good",
          "Good",
          "Good",
          "Good",
          "Good",
          "Good",
          "Good",
          "Good",
          "Good",
          "Good",
          "Good",
          "Good",
          "Good",
          "Bad",
          "Good",
          "Good",
          "Good",
          "Good",
          "Good",
          "Good",
          "Good",
          "Good",
          "Good",
          "Good",
          "Good",
          "Good",
          "Bad",
          "Good",
          "Good",
          "Good",
          "Good",
          "Good",
          "Good",
          "Good",
          "Good",
          "Good",
          "Good",
          "Good",
          "Good",
          "Good",
          "Good",
          "Good",
          "Good",
          "Good",
          "Good",
          "Good",
          "Good",
          "Good",
          "Good",
          "Good",
          "Good",
          "Good",
          "Good",
          "Good",
          "Good",
          "Good",
          "Good",
          "Good",
          "Good",
          "Good",
          "Good",
          "Good",
          "Good",
          "Good",
          "Good",
          "Good",
          "Good",
          "Good",
          "Good",
          "Good",
          "Good",
          "Good",
          "Good",
          "Good",
          "Good",
          "Good",
          "Good",
          "Good",
          "Good",
          "Good",
          "Bad",
          "Bad",
          "Bad",
          "Bad",
          "Bad",
          "Good",
          "Good",
          "Good",
          "Good",
          "Good",
          "Good",
          "Good",
          "Good",
          "Good",
          "Good",
          "Good",
          "Good",
          "Good",
          "Good",
          "Good",
          "Good",
          "Good",
          "Good",
          "Bad",
          "Good",
          "Bad",
          "Good",
          "Good",
          "Good",
          "Good",
          "Good",
          "Good",
          "Good",
          "Good",
          "Good",
          "Good",
          "Good",
          "Good",
          "Good",
          "Good",
          "Good",
          "Good",
          "Good",
          "Good",
          "Good",
          "Bad",
          "Good",
          "Good",
          "Good",
          "Good",
          "Good",
          "Good",
          "Good",
          "Good",
          "Good",
          "Good",
          "Good",
          "Good",
          "Good",
          "Bad",
          "Bad",
          "Bad",
          "Bad",
          "Bad",
          "Bad",
          "Bad",
          "Bad",
          "Bad",
          "Good",
          "Good",
          "Good",
          "Good",
          "Good",
          "Good",
          "Good",
          "Bad",
          "Bad",
          "Good",
          "Good",
          "Good",
          "Good",
          "Good",
          "Bad",
          "Bad",
          "Good",
          "Good",
          "Good",
          "Bad",
          "Good",
          "Good",
          "Good",
          "Good",
          "Good",
          "Bad",
          "Good",
          "Good",
          "Good",
          "Good",
          "Good",
          "Good",
          "Good",
          "Bad",
          "Good",
          "Good",
          "Good",
          "Good",
          "Good",
          "Good",
          "Good",
          "Good",
          "Good",
          "Good",
          "Good",
          "Good",
          "Good",
          "Good",
          "Good",
          "Good",
          "Good",
          "Bad",
          "Good",
          "Good",
          "Good",
          "Good",
          "Good",
          "Good",
          "Bad",
          "Good",
          "Good",
          "Good",
          "Good",
          "Good",
          "Good",
          "Good",
          "Good",
          "Good",
          "Good",
          "Good",
          "Good",
          "Bad",
          "Good",
          "Good",
          "Good",
          "Good",
          "Good",
          "Good",
          "Good",
          "Good",
          "Good",
          "Good",
          "Good",
          "Good",
          "Good",
          "Good",
          "Good",
          "Good",
          "Good",
          "Good",
          "Good",
          "Good",
          "Good",
          "Good",
          "Good",
          "Good",
          "Good",
          "Good",
          "Good",
          "Good",
          "Good",
          "Good",
          "Good",
          "Good",
          "Bad",
          "Good",
          "Good",
          "Good",
          "Good",
          "Good",
          "Good",
          "Good",
          "Good",
          "Good",
          "Good",
          "Bad",
          "Good",
          "Good",
          "Good",
          "Good",
          "Good",
          "Good",
          "Good",
          "Bad",
          "Good",
          "Good",
          "Good",
          "Good",
          "Good",
          "Good",
          "Good",
          "Good",
          "Bad",
          "Bad",
          "Bad",
          "Bad",
          "Good",
          "Good",
          "Good",
          "Good",
          "Good",
          "Good",
          "Good",
          "Good",
          "Good",
          "Good",
          "Good",
          "Good",
          "Good",
          "Good",
          "Good",
          "Good",
          "Good",
          "Good",
          "Good",
          "Good",
          "Good",
          "Bad",
          "Good",
          "Good",
          "Good",
          "Good",
          "Good",
          "Good",
          "Good",
          "Good",
          "Bad",
          "Bad",
          "Bad",
          "Bad",
          "Bad",
          "Bad",
          "Bad",
          "Bad",
          "Bad",
          "Bad",
          "Bad",
          "Bad",
          "Bad",
          "Bad",
          "Bad",
          "Bad",
          "Bad",
          "Bad",
          "Bad",
          "Bad",
          "Bad",
          "Bad",
          "Bad",
          "Bad",
          "Bad",
          "Bad",
          "Bad",
          "Bad",
          "Bad",
          "Bad",
          "Bad",
          "Bad",
          "Bad",
          "Bad",
          "Bad",
          "Bad",
          "Bad",
          "Bad",
          "Bad",
          "Bad",
          "Bad",
          "Bad",
          "Bad",
          "Bad",
          "Bad",
          "Bad",
          "Bad",
          "Bad",
          "Bad",
          "Bad",
          "Bad",
          "Bad",
          "Bad",
          "Bad",
          "Bad",
          "Bad",
          "Bad",
          "Bad",
          "Bad",
          "Bad",
          "Bad",
          "Bad",
          "Bad",
          "Bad",
          "Bad",
          "Bad",
          "Bad",
          "Bad",
          "Bad",
          "Bad",
          "Bad",
          "Bad",
          "Bad",
          "Bad",
          "Bad",
          "Bad",
          "Bad",
          "Bad",
          "Bad",
          "Bad",
          "Bad",
          "Bad",
          "Bad",
          "Bad",
          "Bad",
          "Bad",
          "Bad",
          "Bad",
          "Bad",
          "Bad",
          "Bad",
          "Bad",
          "Bad",
          "Bad",
          "Bad",
          "Bad",
          "Bad",
          "Bad",
          "Bad",
          "Bad",
          "Bad",
          "Bad",
          "Bad",
          "Bad",
          "Bad",
          "Bad",
          "Bad",
          "Bad",
          "Bad",
          "Bad",
          "Bad",
          "Bad",
          "Bad",
          "Bad",
          "Bad",
          "Bad",
          "Bad",
          "Bad",
          "Bad",
          "Bad",
          "Bad",
          "Bad",
          "Bad",
          "Bad",
          "Bad",
          "Bad",
          "Bad",
          "Bad",
          "Bad",
          "Bad",
          "Bad",
          "Bad",
          "Bad",
          "Bad",
          "Bad",
          "Bad",
          "Bad",
          "Bad",
          "Bad",
          "Bad",
          "Bad",
          "Bad",
          "Bad",
          "Bad",
          "Bad",
          "Bad",
          "Bad",
          "Bad",
          "Bad",
          "Bad",
          "Bad",
          "Bad",
          "Bad",
          "Bad",
          "Bad",
          "Bad",
          "Bad",
          "Bad",
          "Bad",
          "Bad",
          "Bad",
          "Bad",
          "Bad",
          "Bad",
          "Bad",
          "Bad",
          "Bad",
          "Bad",
          "Bad",
          "Bad",
          "Bad",
          "Bad",
          "Bad",
          "Bad",
          "Bad",
          "Bad",
          "Bad",
          "Bad",
          "Bad",
          "Bad",
          "Bad",
          "Bad",
          "Bad",
          "Bad",
          "Bad",
          "Bad",
          "Bad",
          "Bad",
          "Bad",
          "Bad",
          "Bad",
          "Bad",
          "Bad",
          "Bad",
          "Bad",
          "Bad",
          "Bad",
          "Bad",
          "Bad",
          "Bad",
          "Bad",
          "Bad",
          "Bad",
          "Bad",
          "Bad",
          "Bad",
          "Bad",
          "Bad",
          "Bad",
          "Bad",
          "Bad",
          "Bad",
          "Bad",
          "Bad",
          "Bad",
          "Bad",
          "Bad",
          "Bad",
          "Bad",
          "Bad",
          "Bad",
          "Bad",
          "Bad",
          "Bad",
          "Bad",
          "Bad",
          "Bad",
          "Bad",
          "Bad",
          "Bad",
          "Bad",
          "Bad",
          "Bad",
          "Bad",
          "Bad",
          "Bad",
          "Bad",
          "Bad",
          "Bad",
          "Bad",
          "Bad",
          "Bad",
          "Bad",
          "Bad",
          "Bad",
          "Bad",
          "Bad",
          "Bad",
          "Bad"
         ],
         "legendgroup": "",
         "name": "",
         "showlegend": true,
         "type": "pie"
        }
       ],
       "layout": {
        "legend": {
         "tracegroupgap": 0
        },
        "template": {
         "data": {
          "bar": [
           {
            "error_x": {
             "color": "#2a3f5f"
            },
            "error_y": {
             "color": "#2a3f5f"
            },
            "marker": {
             "line": {
              "color": "#E5ECF6",
              "width": 0.5
             },
             "pattern": {
              "fillmode": "overlay",
              "size": 10,
              "solidity": 0.2
             }
            },
            "type": "bar"
           }
          ],
          "barpolar": [
           {
            "marker": {
             "line": {
              "color": "#E5ECF6",
              "width": 0.5
             },
             "pattern": {
              "fillmode": "overlay",
              "size": 10,
              "solidity": 0.2
             }
            },
            "type": "barpolar"
           }
          ],
          "carpet": [
           {
            "aaxis": {
             "endlinecolor": "#2a3f5f",
             "gridcolor": "white",
             "linecolor": "white",
             "minorgridcolor": "white",
             "startlinecolor": "#2a3f5f"
            },
            "baxis": {
             "endlinecolor": "#2a3f5f",
             "gridcolor": "white",
             "linecolor": "white",
             "minorgridcolor": "white",
             "startlinecolor": "#2a3f5f"
            },
            "type": "carpet"
           }
          ],
          "choropleth": [
           {
            "colorbar": {
             "outlinewidth": 0,
             "ticks": ""
            },
            "type": "choropleth"
           }
          ],
          "contour": [
           {
            "colorbar": {
             "outlinewidth": 0,
             "ticks": ""
            },
            "colorscale": [
             [
              0,
              "#0d0887"
             ],
             [
              0.1111111111111111,
              "#46039f"
             ],
             [
              0.2222222222222222,
              "#7201a8"
             ],
             [
              0.3333333333333333,
              "#9c179e"
             ],
             [
              0.4444444444444444,
              "#bd3786"
             ],
             [
              0.5555555555555556,
              "#d8576b"
             ],
             [
              0.6666666666666666,
              "#ed7953"
             ],
             [
              0.7777777777777778,
              "#fb9f3a"
             ],
             [
              0.8888888888888888,
              "#fdca26"
             ],
             [
              1,
              "#f0f921"
             ]
            ],
            "type": "contour"
           }
          ],
          "contourcarpet": [
           {
            "colorbar": {
             "outlinewidth": 0,
             "ticks": ""
            },
            "type": "contourcarpet"
           }
          ],
          "heatmap": [
           {
            "colorbar": {
             "outlinewidth": 0,
             "ticks": ""
            },
            "colorscale": [
             [
              0,
              "#0d0887"
             ],
             [
              0.1111111111111111,
              "#46039f"
             ],
             [
              0.2222222222222222,
              "#7201a8"
             ],
             [
              0.3333333333333333,
              "#9c179e"
             ],
             [
              0.4444444444444444,
              "#bd3786"
             ],
             [
              0.5555555555555556,
              "#d8576b"
             ],
             [
              0.6666666666666666,
              "#ed7953"
             ],
             [
              0.7777777777777778,
              "#fb9f3a"
             ],
             [
              0.8888888888888888,
              "#fdca26"
             ],
             [
              1,
              "#f0f921"
             ]
            ],
            "type": "heatmap"
           }
          ],
          "heatmapgl": [
           {
            "colorbar": {
             "outlinewidth": 0,
             "ticks": ""
            },
            "colorscale": [
             [
              0,
              "#0d0887"
             ],
             [
              0.1111111111111111,
              "#46039f"
             ],
             [
              0.2222222222222222,
              "#7201a8"
             ],
             [
              0.3333333333333333,
              "#9c179e"
             ],
             [
              0.4444444444444444,
              "#bd3786"
             ],
             [
              0.5555555555555556,
              "#d8576b"
             ],
             [
              0.6666666666666666,
              "#ed7953"
             ],
             [
              0.7777777777777778,
              "#fb9f3a"
             ],
             [
              0.8888888888888888,
              "#fdca26"
             ],
             [
              1,
              "#f0f921"
             ]
            ],
            "type": "heatmapgl"
           }
          ],
          "histogram": [
           {
            "marker": {
             "pattern": {
              "fillmode": "overlay",
              "size": 10,
              "solidity": 0.2
             }
            },
            "type": "histogram"
           }
          ],
          "histogram2d": [
           {
            "colorbar": {
             "outlinewidth": 0,
             "ticks": ""
            },
            "colorscale": [
             [
              0,
              "#0d0887"
             ],
             [
              0.1111111111111111,
              "#46039f"
             ],
             [
              0.2222222222222222,
              "#7201a8"
             ],
             [
              0.3333333333333333,
              "#9c179e"
             ],
             [
              0.4444444444444444,
              "#bd3786"
             ],
             [
              0.5555555555555556,
              "#d8576b"
             ],
             [
              0.6666666666666666,
              "#ed7953"
             ],
             [
              0.7777777777777778,
              "#fb9f3a"
             ],
             [
              0.8888888888888888,
              "#fdca26"
             ],
             [
              1,
              "#f0f921"
             ]
            ],
            "type": "histogram2d"
           }
          ],
          "histogram2dcontour": [
           {
            "colorbar": {
             "outlinewidth": 0,
             "ticks": ""
            },
            "colorscale": [
             [
              0,
              "#0d0887"
             ],
             [
              0.1111111111111111,
              "#46039f"
             ],
             [
              0.2222222222222222,
              "#7201a8"
             ],
             [
              0.3333333333333333,
              "#9c179e"
             ],
             [
              0.4444444444444444,
              "#bd3786"
             ],
             [
              0.5555555555555556,
              "#d8576b"
             ],
             [
              0.6666666666666666,
              "#ed7953"
             ],
             [
              0.7777777777777778,
              "#fb9f3a"
             ],
             [
              0.8888888888888888,
              "#fdca26"
             ],
             [
              1,
              "#f0f921"
             ]
            ],
            "type": "histogram2dcontour"
           }
          ],
          "mesh3d": [
           {
            "colorbar": {
             "outlinewidth": 0,
             "ticks": ""
            },
            "type": "mesh3d"
           }
          ],
          "parcoords": [
           {
            "line": {
             "colorbar": {
              "outlinewidth": 0,
              "ticks": ""
             }
            },
            "type": "parcoords"
           }
          ],
          "pie": [
           {
            "automargin": true,
            "type": "pie"
           }
          ],
          "scatter": [
           {
            "fillpattern": {
             "fillmode": "overlay",
             "size": 10,
             "solidity": 0.2
            },
            "type": "scatter"
           }
          ],
          "scatter3d": [
           {
            "line": {
             "colorbar": {
              "outlinewidth": 0,
              "ticks": ""
             }
            },
            "marker": {
             "colorbar": {
              "outlinewidth": 0,
              "ticks": ""
             }
            },
            "type": "scatter3d"
           }
          ],
          "scattercarpet": [
           {
            "marker": {
             "colorbar": {
              "outlinewidth": 0,
              "ticks": ""
             }
            },
            "type": "scattercarpet"
           }
          ],
          "scattergeo": [
           {
            "marker": {
             "colorbar": {
              "outlinewidth": 0,
              "ticks": ""
             }
            },
            "type": "scattergeo"
           }
          ],
          "scattergl": [
           {
            "marker": {
             "colorbar": {
              "outlinewidth": 0,
              "ticks": ""
             }
            },
            "type": "scattergl"
           }
          ],
          "scattermapbox": [
           {
            "marker": {
             "colorbar": {
              "outlinewidth": 0,
              "ticks": ""
             }
            },
            "type": "scattermapbox"
           }
          ],
          "scatterpolar": [
           {
            "marker": {
             "colorbar": {
              "outlinewidth": 0,
              "ticks": ""
             }
            },
            "type": "scatterpolar"
           }
          ],
          "scatterpolargl": [
           {
            "marker": {
             "colorbar": {
              "outlinewidth": 0,
              "ticks": ""
             }
            },
            "type": "scatterpolargl"
           }
          ],
          "scatterternary": [
           {
            "marker": {
             "colorbar": {
              "outlinewidth": 0,
              "ticks": ""
             }
            },
            "type": "scatterternary"
           }
          ],
          "surface": [
           {
            "colorbar": {
             "outlinewidth": 0,
             "ticks": ""
            },
            "colorscale": [
             [
              0,
              "#0d0887"
             ],
             [
              0.1111111111111111,
              "#46039f"
             ],
             [
              0.2222222222222222,
              "#7201a8"
             ],
             [
              0.3333333333333333,
              "#9c179e"
             ],
             [
              0.4444444444444444,
              "#bd3786"
             ],
             [
              0.5555555555555556,
              "#d8576b"
             ],
             [
              0.6666666666666666,
              "#ed7953"
             ],
             [
              0.7777777777777778,
              "#fb9f3a"
             ],
             [
              0.8888888888888888,
              "#fdca26"
             ],
             [
              1,
              "#f0f921"
             ]
            ],
            "type": "surface"
           }
          ],
          "table": [
           {
            "cells": {
             "fill": {
              "color": "#EBF0F8"
             },
             "line": {
              "color": "white"
             }
            },
            "header": {
             "fill": {
              "color": "#C8D4E3"
             },
             "line": {
              "color": "white"
             }
            },
            "type": "table"
           }
          ]
         },
         "layout": {
          "annotationdefaults": {
           "arrowcolor": "#2a3f5f",
           "arrowhead": 0,
           "arrowwidth": 1
          },
          "autotypenumbers": "strict",
          "coloraxis": {
           "colorbar": {
            "outlinewidth": 0,
            "ticks": ""
           }
          },
          "colorscale": {
           "diverging": [
            [
             0,
             "#8e0152"
            ],
            [
             0.1,
             "#c51b7d"
            ],
            [
             0.2,
             "#de77ae"
            ],
            [
             0.3,
             "#f1b6da"
            ],
            [
             0.4,
             "#fde0ef"
            ],
            [
             0.5,
             "#f7f7f7"
            ],
            [
             0.6,
             "#e6f5d0"
            ],
            [
             0.7,
             "#b8e186"
            ],
            [
             0.8,
             "#7fbc41"
            ],
            [
             0.9,
             "#4d9221"
            ],
            [
             1,
             "#276419"
            ]
           ],
           "sequential": [
            [
             0,
             "#0d0887"
            ],
            [
             0.1111111111111111,
             "#46039f"
            ],
            [
             0.2222222222222222,
             "#7201a8"
            ],
            [
             0.3333333333333333,
             "#9c179e"
            ],
            [
             0.4444444444444444,
             "#bd3786"
            ],
            [
             0.5555555555555556,
             "#d8576b"
            ],
            [
             0.6666666666666666,
             "#ed7953"
            ],
            [
             0.7777777777777778,
             "#fb9f3a"
            ],
            [
             0.8888888888888888,
             "#fdca26"
            ],
            [
             1,
             "#f0f921"
            ]
           ],
           "sequentialminus": [
            [
             0,
             "#0d0887"
            ],
            [
             0.1111111111111111,
             "#46039f"
            ],
            [
             0.2222222222222222,
             "#7201a8"
            ],
            [
             0.3333333333333333,
             "#9c179e"
            ],
            [
             0.4444444444444444,
             "#bd3786"
            ],
            [
             0.5555555555555556,
             "#d8576b"
            ],
            [
             0.6666666666666666,
             "#ed7953"
            ],
            [
             0.7777777777777778,
             "#fb9f3a"
            ],
            [
             0.8888888888888888,
             "#fdca26"
            ],
            [
             1,
             "#f0f921"
            ]
           ]
          },
          "colorway": [
           "#636efa",
           "#EF553B",
           "#00cc96",
           "#ab63fa",
           "#FFA15A",
           "#19d3f3",
           "#FF6692",
           "#B6E880",
           "#FF97FF",
           "#FECB52"
          ],
          "font": {
           "color": "#2a3f5f"
          },
          "geo": {
           "bgcolor": "white",
           "lakecolor": "white",
           "landcolor": "#E5ECF6",
           "showlakes": true,
           "showland": true,
           "subunitcolor": "white"
          },
          "hoverlabel": {
           "align": "left"
          },
          "hovermode": "closest",
          "mapbox": {
           "style": "light"
          },
          "paper_bgcolor": "white",
          "plot_bgcolor": "#E5ECF6",
          "polar": {
           "angularaxis": {
            "gridcolor": "white",
            "linecolor": "white",
            "ticks": ""
           },
           "bgcolor": "#E5ECF6",
           "radialaxis": {
            "gridcolor": "white",
            "linecolor": "white",
            "ticks": ""
           }
          },
          "scene": {
           "xaxis": {
            "backgroundcolor": "#E5ECF6",
            "gridcolor": "white",
            "gridwidth": 2,
            "linecolor": "white",
            "showbackground": true,
            "ticks": "",
            "zerolinecolor": "white"
           },
           "yaxis": {
            "backgroundcolor": "#E5ECF6",
            "gridcolor": "white",
            "gridwidth": 2,
            "linecolor": "white",
            "showbackground": true,
            "ticks": "",
            "zerolinecolor": "white"
           },
           "zaxis": {
            "backgroundcolor": "#E5ECF6",
            "gridcolor": "white",
            "gridwidth": 2,
            "linecolor": "white",
            "showbackground": true,
            "ticks": "",
            "zerolinecolor": "white"
           }
          },
          "shapedefaults": {
           "line": {
            "color": "#2a3f5f"
           }
          },
          "ternary": {
           "aaxis": {
            "gridcolor": "white",
            "linecolor": "white",
            "ticks": ""
           },
           "baxis": {
            "gridcolor": "white",
            "linecolor": "white",
            "ticks": ""
           },
           "bgcolor": "#E5ECF6",
           "caxis": {
            "gridcolor": "white",
            "linecolor": "white",
            "ticks": ""
           }
          },
          "title": {
           "x": 0.05
          },
          "xaxis": {
           "automargin": true,
           "gridcolor": "white",
           "linecolor": "white",
           "ticks": "",
           "title": {
            "standoff": 15
           },
           "zerolinecolor": "white",
           "zerolinewidth": 2
          },
          "yaxis": {
           "automargin": true,
           "gridcolor": "white",
           "linecolor": "white",
           "ticks": "",
           "title": {
            "standoff": 15
           },
           "zerolinecolor": "white",
           "zerolinewidth": 2
          }
         }
        },
        "title": {
         "text": "Credit Compliance"
        },
        "width": 600
       }
      }
     },
     "metadata": {},
     "output_type": "display_data"
    }
   ],
   "source": [
    "px.pie(df_viz, names='Credit Compliance', title='Credit Compliance', width=600)"
   ]
  },
  {
   "cell_type": "markdown",
   "metadata": {},
   "source": [
    "The classes in the dataset have a split of 70:30, while the imbalance ratio is 42.86% percent. \n",
    "\n",
    "This means that for every customer the complies with their credit obligation there are 0.43 customers that do not comply.\n",
    "\n",
    "In other words, for every two customer that pay back their loan there will be on customer that defaults on their loan."
   ]
  },
  {
   "attachments": {},
   "cell_type": "markdown",
   "id": "f5fb730d-40de-410f-ad30-5ff3efb06a19",
   "metadata": {
    "jupyter": {
     "source_hidden": true
    },
    "tags": []
   },
   "source": [
    "# Experiment Preparation\n",
    "## Data Preparation for Machine Learning"
   ]
  },
  {
   "cell_type": "code",
   "execution_count": 17,
   "metadata": {},
   "outputs": [],
   "source": [
    "# seperating and storing class labels from original data\n",
    "target = credit_data[['kredit']]\n",
    "\n",
    "# preparing target data for machine learning\n",
    "target = target.to_numpy()\n",
    "target = target.reshape(-1)\n",
    "\n",
    "# separating and storing features from original data\n",
    "data = credit_data.drop(['kredit'], axis=1)\n",
    "\n",
    "# preparing feature data for machine learning\n",
    "data = data.to_numpy()"
   ]
  },
  {
   "cell_type": "markdown",
   "metadata": {},
   "source": [
    "## Split into Test and Training Data"
   ]
  },
  {
   "cell_type": "code",
   "execution_count": 18,
   "id": "717c6602-f84d-4c56-b6a7-5f31f1da5744",
   "metadata": {
    "jupyter": {
     "source_hidden": true
    },
    "tags": []
   },
   "outputs": [],
   "source": [
    "# splitting all data into a train_full and a test set\n",
    "X_train_full, X_test, y_train_full, y_test = train_test_split(data, target, test_size=0.4, shuffle=True, random_state=1)"
   ]
  },
  {
   "cell_type": "code",
   "execution_count": 19,
   "id": "a31109ce-0dd5-49a3-8e02-a9a683837178",
   "metadata": {
    "jupyter": {
     "source_hidden": true
    },
    "tags": []
   },
   "outputs": [],
   "source": [
    "# splitting train_full data set into a training and validation data\n",
    "X_train, X_val, y_train, y_val = train_test_split(X_train_full, y_train_full, test_size=0.3, shuffle=True, random_state=1)"
   ]
  },
  {
   "cell_type": "code",
   "execution_count": 20,
   "id": "5d72eb4e-5915-4866-830b-ca12b3159bf9",
   "metadata": {
    "jupyter": {
     "source_hidden": true
    },
    "tags": []
   },
   "outputs": [
    {
     "name": "stdout",
     "output_type": "stream",
     "text": [
      "(420, 20)\n",
      "(180, 20)\n",
      "(400, 20)\n",
      "(420,)\n",
      "(180,)\n",
      "(400,)\n"
     ]
    }
   ],
   "source": [
    "# printing dimensions for each data set\n",
    "for i in (X_train, X_val, X_test, y_train, y_val, y_test):\n",
    "    print(i.shape)"
   ]
  },
  {
   "attachments": {},
   "cell_type": "markdown",
   "id": "22c405a1-d241-42b1-a48f-d7b5e73f90b5",
   "metadata": {
    "jupyter": {
     "source_hidden": true
    },
    "tags": []
   },
   "source": [
    "## Scale the data"
   ]
  },
  {
   "cell_type": "code",
   "execution_count": 21,
   "id": "9ba9f96b-6a19-4db2-8930-fd4b0377179c",
   "metadata": {
    "jupyter": {
     "source_hidden": true
    },
    "tags": []
   },
   "outputs": [],
   "source": [
    "# assinging scaler\n",
    "x_scaler = MinMaxScaler()\n",
    "y_scaler = MinMaxScaler()"
   ]
  },
  {
   "cell_type": "code",
   "execution_count": 22,
   "id": "d4862f11-6e40-486d-a5d0-2327cab2c28a",
   "metadata": {
    "jupyter": {
     "source_hidden": true
    },
    "tags": []
   },
   "outputs": [],
   "source": [
    "# fitting scaler on training features\n",
    "x_scaler.fit(X_train_full)\n",
    "\n",
    "# scaling training features\n",
    "X_train_sc = x_scaler.transform(X_train)\n",
    "X_val_sc = x_scaler.transform(X_val)\n",
    "X_test_sc = x_scaler.transform(X_test)"
   ]
  },
  {
   "cell_type": "code",
   "execution_count": 23,
   "metadata": {},
   "outputs": [],
   "source": [
    "# reshaping training data for y_scaler\n",
    "y_train_full = y_train_full.reshape(-1, 1)\n",
    "y_train = y_train.reshape(-1, 1)\n",
    "y_val = y_val.reshape(-1, 1)\n",
    "y_test = y_test.reshape(-1, 1)\n",
    "\n",
    "# fitting scaler on training targets\n",
    "y_scaler.fit(y_train_full)\n",
    "\n",
    "# scaling training targets\n",
    "y_train_sc = y_scaler.transform(y_train)\n",
    "y_val_sc = y_scaler.transform(y_val)\n",
    "y_test_sc = y_scaler.transform(y_test)"
   ]
  },
  {
   "attachments": {},
   "cell_type": "markdown",
   "id": "537cf16e-d8d4-4d70-a5c9-f92b77a7fcd2",
   "metadata": {
    "jupyter": {
     "source_hidden": true
    },
    "tags": []
   },
   "source": [
    "## Create Tensors for PyTorch"
   ]
  },
  {
   "cell_type": "code",
   "execution_count": 24,
   "id": "77a99f1a-f005-4499-84cd-0eb697aa0cc7",
   "metadata": {
    "jupyter": {
     "source_hidden": true
    },
    "tags": []
   },
   "outputs": [],
   "source": [
    "# creating tensors of features\n",
    "X_train_tensor = torch.Tensor(X_train_sc)\n",
    "X_val_tensor = torch.Tensor(X_val_sc)\n",
    "X_test_tensor = torch.Tensor(X_test_sc)\n",
    "\n",
    "# creating tensors of targets\n",
    "y_train_tensor = torch.Tensor(y_train_sc)\n",
    "y_val_tensor = torch.Tensor(y_val_sc)\n",
    "y_test_tensor = torch.Tensor(y_test_sc)"
   ]
  },
  {
   "attachments": {},
   "cell_type": "markdown",
   "metadata": {
    "jupyter": {
     "source_hidden": true
    },
    "tags": []
   },
   "source": [
    "# A Binary Classifier\n",
    "## Define an Artificial Neural Network Architecture"
   ]
  },
  {
   "cell_type": "code",
   "execution_count": 25,
   "metadata": {},
   "outputs": [],
   "source": [
    "class FlexibleMultiLayerPerceptron(nn.Module):\n",
    "    def __init__(self, architecture, input_size):\n",
    "        super(FlexibleMultiLayerPerceptron, self).__init__()\n",
    "        \n",
    "        self.architecture = architecture\n",
    "\n",
    "        in_sizes = [out_size for out_size, activation_fn in architecture]\n",
    "        in_sizes = [input_size] + in_sizes[:-1]\n",
    "\n",
    "        self.layers = nn.ModuleList()\n",
    "        self.activation_fns = []\n",
    "        for i, (in_size, (out_size, activation_fn)) in enumerate(zip(in_sizes, architecture)):\n",
    "            layer = nn.Linear(in_size, out_size)\n",
    "            self.layers.append(layer)\n",
    "            self.activation_fns.append(activation_fn)\n",
    "\n",
    "    def forward(self, x):\n",
    "        out = x\n",
    "        for layer, activation_fn in zip(self.layers, self.activation_fns):\n",
    "            out = activation_fn(layer(out))\n",
    "        return out\n",
    "\n",
    "    def short_name(self):\n",
    "        res = ''\n",
    "        for outsize, activation_func in self.architecture:\n",
    "            if isinstance(activation_func, nn.ReLU):\n",
    "                res += 'R'\n",
    "            elif isinstance(activation_func, nn.Sigmoid):\n",
    "                res += 'S'\n",
    "            elif isinstance(activation_func, nn.Tanh):\n",
    "                res += 'T'\n",
    "            else:\n",
    "                raise NotImplementedError()\n",
    "            res += str(outsize)\n",
    "            res += ', '\n",
    "        return res[:-2]"
   ]
  },
  {
   "cell_type": "code",
   "execution_count": 26,
   "id": "388a3a60-2c1b-40ac-82cd-1ea84ae0d651",
   "metadata": {
    "jupyter": {
     "source_hidden": true
    },
    "tags": []
   },
   "outputs": [],
   "source": [
    "# uses the model to predict for the values in the test set\n",
    "# returns the prediction\n",
    "def predict(model, X):\n",
    "    model.eval()\n",
    "    with torch.no_grad():\n",
    "        return model(X)         # calls FlexibleMultiLayerPerceptron.forward(X)\n",
    "\n",
    "# counts the number of trainable parameters of the model\n",
    "def count_params(model):\n",
    "    num_params=sum([p.numel() for p in model.parameters() if p.requires_grad])\n",
    "    return num_params"
   ]
  },
  {
   "attachments": {},
   "cell_type": "markdown",
   "metadata": {},
   "source": [
    "## Naming scheme for NN architecture\n",
    "\n",
    "In the following experiments we are going to describe the structure of each layer of neural network architecture by letters and numbers. The numbers describe the input size while the letters describe the kind of activation function used: \n",
    "- R: ReLU\n",
    "- T: Tanh\n",
    "- S: Sigmoid"
   ]
  },
  {
   "attachments": {},
   "cell_type": "markdown",
   "id": "61f90fa0-198f-4449-b1c1-c36dcbfc619c",
   "metadata": {
    "jupyter": {
     "source_hidden": true
    },
    "tags": []
   },
   "source": [
    "# Train the model"
   ]
  },
  {
   "cell_type": "code",
   "execution_count": 27,
   "metadata": {},
   "outputs": [],
   "source": [
    "# set weights for target\n",
    "weights = torch.FloatTensor([\n",
    "    len(target)/sum(target==0),\n",
    "    len(target)/sum(target==1)\n",
    "    ])\n",
    "\n",
    "# assigning training citerion\n",
    "criterion_train = nn.BCELoss(weight=weights[y_train])\n",
    "\n",
    "# assigning validation citerion\n",
    "criterion_val = nn.BCELoss(weight=weights[y_val])"
   ]
  },
  {
   "cell_type": "code",
   "execution_count": 28,
   "metadata": {},
   "outputs": [],
   "source": [
    "def evaluate_architecture(\n",
    "        architecture,\n",
    "        learning_rate=0.01,\n",
    "        weight_decay=0,         # L2 regularization\n",
    "        epochs=300,\n",
    "        tune_hyperparams=False\n",
    "        ):\n",
    "    \"\"\"\n",
    "    Evaluates a the performance of a given neural network architecture.\n",
    "\n",
    "    Args:\n",
    "        architecture: the architecture of the model to be trained.\n",
    "        learning_rate: the learning rate to use for training the model. Has a default value of 0.01.\n",
    "        weight_decay: a coefficient for L2 regularization of the model weights. Has a default value of 0.\n",
    "        epochs: defines the number of learning epochs\n",
    "\n",
    "    Returns:\n",
    "        Short name of architecture\n",
    "        Number of learned parameters\n",
    "        Number of best epoch\n",
    "        Best balanced validation accuracy\n",
    "        Best valiation loss\n",
    "    \"\"\"\n",
    "    torch.manual_seed(1)\n",
    "    model = FlexibleMultiLayerPerceptron(architecture, 20)\n",
    "    optimizer = torch.optim.Adam(model.parameters(), lr=learning_rate, weight_decay=weight_decay)\n",
    "    \n",
    "    writer = SummaryWriter()\n",
    "\n",
    "    best_bacc_val=float(0)\n",
    "    best_loss_val=float('inf')\n",
    "    best_model_state=copy.deepcopy(model.state_dict())\n",
    "    best_epoch=0\n",
    "\n",
    "    for epoch in range(epochs):\n",
    "        model.train()\n",
    "\n",
    "        optimizer.zero_grad()\n",
    "\n",
    "        y_train_pred = model(X_train_tensor)\n",
    "\n",
    "        loss_train = criterion_train(y_train_pred, y_train_tensor)\n",
    "        loss_train.backward()\n",
    "        optimizer.step()\n",
    "        \n",
    "        model.eval()                # turns off gradient tracking temporarily\n",
    "        with torch.no_grad():\n",
    "            y_val_pred = model(X_val_tensor)\n",
    "            loss_val = criterion_val(y_val_pred, y_val_tensor)\n",
    "            \n",
    "            if not tune_hyperparams:\n",
    "                writer.add_scalars(f'arch_{model.short_name()}/loss', {'train': loss_train.item(), 'val': loss_val.item()}, epoch)\n",
    "\n",
    "            bacc_train = balanced_accuracy_score(y_train_tensor, np.round(y_scaler.inverse_transform(y_train_pred)))\n",
    "            bacc_val = balanced_accuracy_score(y_val_tensor, np.round(y_scaler.inverse_transform(y_val_pred)))\n",
    "            \n",
    "            if not tune_hyperparams:\n",
    "                writer.add_scalars(f'arch_{model.short_name()}/accuracy', {'train': bacc_train, 'val': bacc_val}, epoch)\n",
    "                writer.flush()\n",
    "\n",
    "            if bacc_val > best_bacc_val:\n",
    "                best_bacc_val = bacc_val\n",
    "                best_loss_val = loss_val.item()\n",
    "                best_model_state = copy.deepcopy(model.state_dict())\n",
    "                best_epoch = epoch\n",
    "\n",
    "    writer.close()\n",
    "\n",
    "    with torch.no_grad():\n",
    "        model.load_state_dict(best_model_state)\n",
    "\n",
    "    if tune_hyperparams:\n",
    "        tune.report(balanced_accuracy=best_bacc_val)\n",
    "\n",
    "    architecture = f'{model.short_name()}'\n",
    "    n_params = f'{count_params(model)}'\n",
    "\n",
    "    if not tune_hyperparams:\n",
    "        print(f'Architecture: {architecture}')\n",
    "        print(f'Learned Parameters: {n_params}')\n",
    "        print(f'Best epoch: {best_epoch}')\n",
    "        print(f'Best val. loss: {np.round(best_loss_val, 4)}')\n",
    "        print(f'Best bal. val. acc.: {best_bacc_val.round(4)}')\n",
    "\n",
    "    return architecture, n_params, best_epoch, best_loss_val, best_bacc_val, model"
   ]
  },
  {
   "cell_type": "code",
   "execution_count": 29,
   "metadata": {},
   "outputs": [],
   "source": [
    "def add_result(results, architecture, n_params, best_epoch, best_loss_val, best_bacc_val, model):\n",
    "    \"\"\"\n",
    "    Takes a list of results and adds the attributes returned by the evaluate_architecure function.\n",
    "\n",
    "    Args:\n",
    "        results (_type_): list containing results of evaluate architecture\n",
    "        architecture (_type_): short name of the used architecture\n",
    "        n_params (_type_): number of learned parameters\n",
    "        best_epoch (_type_): number of the best epoch\n",
    "        best_bacc_val (_type_): best balanced validation accuracy\n",
    "        best_loss_val (_type_): best valiation loss\n",
    "    \"\"\"\n",
    "    row = {\n",
    "        'architecture': architecture,\n",
    "        'n_params': n_params,\n",
    "        'best epoch': best_epoch,\n",
    "        'bal val acc': np.round(best_bacc_val, 4),\n",
    "        'best val loss': np.round(best_loss_val, 4)}\n",
    "    \n",
    "    results.append(row)\n",
    "\n",
    "# instantiating an empty list to store results of classification runs\n",
    "results = []"
   ]
  },
  {
   "attachments": {},
   "cell_type": "markdown",
   "metadata": {},
   "source": [
    "# Comparison of different architectures\n",
    "## Trivial Baseline\n",
    "To create a trivial baseline for comparison we are going to apply a single-width one layer neural network using Sigmoid as the activation function. This performs a basic logistic regression"
   ]
  },
  {
   "cell_type": "code",
   "execution_count": 30,
   "metadata": {},
   "outputs": [
    {
     "name": "stdout",
     "output_type": "stream",
     "text": [
      "Architecture: S1\n",
      "Learned Parameters: 21\n",
      "Best epoch: 126\n",
      "Best val. loss: 1.0838\n",
      "Best bal. val. acc.: 0.7426\n"
     ]
    }
   ],
   "source": [
    "res = evaluate_architecture((\n",
    "    (1, nn.Sigmoid()),),\n",
    "    epochs=600)\n",
    "\n",
    "# appending results to list\n",
    "add_result(results, *res)"
   ]
  },
  {
   "attachments": {},
   "cell_type": "markdown",
   "metadata": {},
   "source": [
    "A single layer network with single input using the sigmoid activation function reaches a balanced accuarcy of 74%"
   ]
  },
  {
   "attachments": {},
   "cell_type": "markdown",
   "metadata": {},
   "source": [
    "# Architecture Optimization\n",
    "## Testing increasing width"
   ]
  },
  {
   "attachments": {},
   "cell_type": "markdown",
   "metadata": {},
   "source": [
    "We are going to add a layer with eight inputs using the ReLU activation function, before collapsing the structure to a single layer using the sigmoid activation function."
   ]
  },
  {
   "cell_type": "code",
   "execution_count": 31,
   "metadata": {},
   "outputs": [
    {
     "name": "stdout",
     "output_type": "stream",
     "text": [
      "Architecture: R8, S1\n",
      "Learned Parameters: 177\n",
      "Best epoch: 104\n",
      "Best val. loss: 1.0221\n",
      "Best bal. val. acc.: 0.7661\n",
      "\n",
      "Change: 0.0235\n"
     ]
    }
   ],
   "source": [
    "res =  evaluate_architecture((\n",
    "    (8, nn.ReLU()),\n",
    "    (1, nn.Sigmoid()),),\n",
    "    epochs=600)\n",
    "\n",
    "# appending results to list\n",
    "add_result(results, *res)\n",
    "\n",
    "# last result - best result so far\n",
    "print(f'\\nChange: {np.round(res[4]-0.7426, 4)}')"
   ]
  },
  {
   "attachments": {},
   "cell_type": "markdown",
   "metadata": {},
   "source": [
    "With an additional layer we are able to increase balanced accuarcy by 0.0235.\n",
    "\n",
    "We shall test if doubling the width of the first layer increases balanced accuracy further."
   ]
  },
  {
   "cell_type": "code",
   "execution_count": 32,
   "metadata": {},
   "outputs": [
    {
     "name": "stdout",
     "output_type": "stream",
     "text": [
      "Architecture: R16, S1\n",
      "Learned Parameters: 353\n",
      "Best epoch: 123\n",
      "Best val. loss: 1.061\n",
      "Best bal. val. acc.: 0.772\n",
      "\n",
      "Change: 0.0059\n"
     ]
    }
   ],
   "source": [
    "res = evaluate_architecture((\n",
    "    (16, nn.ReLU()),\n",
    "    (1, nn.Sigmoid()),),\n",
    "    epochs=600)\n",
    "\n",
    "# appending results to list\n",
    "add_result(results, *res)\n",
    "\n",
    "# last result - best result so far\n",
    "print(f'\\nChange: {np.round(res[4]-0.7661, 4)}')"
   ]
  },
  {
   "attachments": {},
   "cell_type": "markdown",
   "metadata": {},
   "source": [
    "Doubling the width of the first improves balanced accuracy by 0.0059 while doubling the number of learnable parameters from 177 to 353.\n",
    "\n",
    "By again doubling the width of the first layer to an inout size of 32, we investigate if the previous trend of diminishing returns continues."
   ]
  },
  {
   "cell_type": "code",
   "execution_count": 33,
   "metadata": {},
   "outputs": [
    {
     "name": "stdout",
     "output_type": "stream",
     "text": [
      "Architecture: R32, S1\n",
      "Learned Parameters: 705\n",
      "Best epoch: 46\n",
      "Best val. loss: 1.0563\n",
      "Best bal. val. acc.: 0.7738\n",
      "\n",
      "Change: 0.0018\n"
     ]
    }
   ],
   "source": [
    "res = evaluate_architecture((\n",
    "    (32, nn.ReLU()),\n",
    "    (1, nn.Sigmoid()),),\n",
    "    epochs=600)\n",
    "\n",
    "# appending results to list\n",
    "add_result(results, *res)\n",
    "\n",
    "# last result - best result so far\n",
    "print(f'\\nChange: {np.round(res[4]-0.772, 4)}')"
   ]
  },
  {
   "attachments": {},
   "cell_type": "markdown",
   "metadata": {},
   "source": [
    "A further doubling of the input layer to 32 decreases balanced accuarcy by 0.0018.\n",
    "\n",
    "We are going to continue doubling the width of the input layer, making it 64."
   ]
  },
  {
   "cell_type": "code",
   "execution_count": 34,
   "metadata": {},
   "outputs": [
    {
     "name": "stdout",
     "output_type": "stream",
     "text": [
      "Architecture: R64, S1\n",
      "Learned Parameters: 1409\n",
      "Best epoch: 4\n",
      "Best val. loss: 1.2112\n",
      "Best bal. val. acc.: 0.7658\n",
      "\n",
      "Change: -0.008\n"
     ]
    }
   ],
   "source": [
    "res = evaluate_architecture((\n",
    "    (64, nn.ReLU()),\n",
    "    (1, nn.Sigmoid()),),\n",
    "    epochs=600)\n",
    "\n",
    "# appending results to list\n",
    "add_result(results, *res)\n",
    "\n",
    "# last result - best result so far\n",
    "print(f'\\nChange: {np.round(res[4]-0.7738, 4)}')"
   ]
  },
  {
   "attachments": {},
   "cell_type": "markdown",
   "metadata": {},
   "source": [
    "Compared to best result so far (input size = 32), using an input size of 64 we decrease accuracy by 0.008.\n",
    "\n",
    "Finally we are going to test an input layer with a width of 128.\n",
    "\n",
    "Though with every doubling of the width of the input layer we also double the number of learnable parameters, thereby increasing runtimes and cost."
   ]
  },
  {
   "cell_type": "code",
   "execution_count": 35,
   "metadata": {},
   "outputs": [
    {
     "name": "stdout",
     "output_type": "stream",
     "text": [
      "Architecture: R128, S1\n",
      "Learned Parameters: 2817\n",
      "Best epoch: 25\n",
      "Best val. loss: 1.0442\n",
      "Best bal. val. acc.: 0.7661\n",
      "\n",
      "Change: -0.0077\n"
     ]
    }
   ],
   "source": [
    "res = evaluate_architecture((\n",
    "    (128, nn.ReLU()),\n",
    "    (1, nn.Sigmoid()),),\n",
    "    epochs=600)\n",
    "\n",
    "# appending results to list\n",
    "add_result(results, *res)\n",
    "\n",
    "# last result - best result so far\n",
    "print(f'\\nChange: {np.round(res[4]-0.7738, 4)}')"
   ]
  },
  {
   "attachments": {},
   "cell_type": "markdown",
   "metadata": {},
   "source": [
    "Even an input layer of 128 yields a balanced accuracy 0.0077 worse than an input layer of size 32.\n",
    "\n",
    "The best configuration so far is: R32, S1\n",
    "\n",
    "Given these finding we are going to explore the impacts of increasing network depth. For this we are going to keep a similar number of learnable parameters by implementing two layers with input sizes of 16 instead of a single with input size 32.\n",
    "\n",
    "The best balanced accuracy on the validation set so far is: 77.38 %"
   ]
  },
  {
   "attachments": {},
   "cell_type": "markdown",
   "metadata": {},
   "source": [
    "## Testing increasing depth"
   ]
  },
  {
   "cell_type": "code",
   "execution_count": 36,
   "metadata": {},
   "outputs": [
    {
     "name": "stdout",
     "output_type": "stream",
     "text": [
      "Architecture: R16, R16, S1\n",
      "Learned Parameters: 625\n",
      "Best epoch: 42\n",
      "Best val. loss: 1.0656\n",
      "Best bal. val. acc.: 0.7756\n",
      "\n",
      "Change: 0.0018\n"
     ]
    }
   ],
   "source": [
    "res = evaluate_architecture((\n",
    "    (16, nn.ReLU()),\n",
    "    (16, nn.ReLU()),\n",
    "    (1, nn.Sigmoid()),),\n",
    "    epochs=600)\n",
    "\n",
    "# appending results to list\n",
    "add_result(results, *res)\n",
    "\n",
    "# last result - best result so far\n",
    "print(f'\\nChange: {np.round(res[4]-0.7738, 4)}')"
   ]
  },
  {
   "attachments": {},
   "cell_type": "markdown",
   "metadata": {},
   "source": [
    "Increasing network depth by on layer yielded an improvement in accuracy of 0.0018.\n",
    "\n",
    "This make the best results so far: 77.56%\n",
    "\n",
    "In the next step we are a doubling the width of the first two layers."
   ]
  },
  {
   "cell_type": "code",
   "execution_count": 37,
   "metadata": {},
   "outputs": [
    {
     "name": "stdout",
     "output_type": "stream",
     "text": [
      "Architecture: R32, R32, S1\n",
      "Learned Parameters: 1761\n",
      "Best epoch: 46\n",
      "Best val. loss: 1.0333\n",
      "Best bal. val. acc.: 0.7738\n",
      "\n",
      "Change: -0.0018\n"
     ]
    }
   ],
   "source": [
    "res = evaluate_architecture((\n",
    "    (32, nn.ReLU()),\n",
    "    (32, nn.ReLU()),\n",
    "    (1, nn.Sigmoid()),),\n",
    "    epochs=600)\n",
    "\n",
    "# appending results to list\n",
    "add_result(results, *res)\n",
    "\n",
    "# last result - best result so far\n",
    "print(f'\\nChange: {np.round(res[4]-0.7756, 4)}')"
   ]
  },
  {
   "attachments": {},
   "cell_type": "markdown",
   "metadata": {},
   "source": [
    "Doubling the width of the first two layers from 16 two 32 actually decreased accuarcy by 0.0018.\n",
    "\n",
    "Nonetheless we are going to see what happens if we double the input size again."
   ]
  },
  {
   "cell_type": "code",
   "execution_count": 38,
   "metadata": {},
   "outputs": [
    {
     "name": "stdout",
     "output_type": "stream",
     "text": [
      "Architecture: R64, R64, S1\n",
      "Learned Parameters: 5569\n",
      "Best epoch: 21\n",
      "Best val. loss: 1.0633\n",
      "Best bal. val. acc.: 0.7681\n",
      "\n",
      "Change: -0.0075\n"
     ]
    }
   ],
   "source": [
    "res = evaluate_architecture((\n",
    "    (64, nn.ReLU()),\n",
    "    (64, nn.ReLU()),\n",
    "    (1, nn.Sigmoid()),),\n",
    "    epochs=600)\n",
    "\n",
    "# appending results to list\n",
    "add_result(results, *res)\n",
    "\n",
    "# last result - best result so far\n",
    "print(f'\\nChange: {np.round(res[4]-0.7756, 4)}')"
   ]
  },
  {
   "attachments": {},
   "cell_type": "markdown",
   "metadata": {},
   "source": [
    "Compared to the best result so far, which came from two layers of 16 using two layers of 64 decreases accuarcy by 0.0075.\n",
    "\n",
    "In the next step we are going test two layers with an input size 128."
   ]
  },
  {
   "cell_type": "code",
   "execution_count": 39,
   "metadata": {},
   "outputs": [
    {
     "name": "stdout",
     "output_type": "stream",
     "text": [
      "Architecture: R128, R128, S1\n",
      "Learned Parameters: 19329\n",
      "Best epoch: 17\n",
      "Best val. loss: 1.0437\n",
      "Best bal. val. acc.: 0.7544\n",
      "\n",
      "Change: -0.0212\n"
     ]
    }
   ],
   "source": [
    "res = evaluate_architecture((\n",
    "    (128, nn.ReLU()),\n",
    "    (128, nn.ReLU()),\n",
    "    (1, nn.Sigmoid()),),\n",
    "    epochs=600)\n",
    "\n",
    "# appending results to list\n",
    "add_result(results, *res)\n",
    "\n",
    "# last result - best result so far\n",
    "print(f'\\nChange: {np.round(res[4]-0.7756, 4)}')"
   ]
  },
  {
   "attachments": {},
   "cell_type": "markdown",
   "metadata": {},
   "source": [
    "Compared to the best result so far, which came from two layers of 16 using two layers of 128 decreases accuarcy by 0.0212.\n",
    "\n",
    "Since the decrease of the accuracy is getting larger, we won't explore widening the three layered structure any further, so we will investigate if adding fourth layer to the network has a positive effect on the balanced accuracy."
   ]
  },
  {
   "attachments": {},
   "cell_type": "markdown",
   "metadata": {},
   "source": [
    "## Even more depth"
   ]
  },
  {
   "attachments": {},
   "cell_type": "markdown",
   "metadata": {},
   "source": [
    "So far, the best results were achieved using two layers of 16 and one-width output layer.\n",
    "\n",
    "We are going to test the effect of a third layer of 16."
   ]
  },
  {
   "cell_type": "code",
   "execution_count": 40,
   "metadata": {},
   "outputs": [
    {
     "name": "stdout",
     "output_type": "stream",
     "text": [
      "Architecture: R16, R16, R16, S1\n",
      "Learned Parameters: 897\n",
      "Best epoch: 18\n",
      "Best val. loss: 1.0951\n",
      "Best bal. val. acc.: 0.7777\n",
      "\n",
      "Change: 0.0021\n"
     ]
    }
   ],
   "source": [
    "res = evaluate_architecture((\n",
    "    (16, nn.ReLU()),\n",
    "    (16, nn.ReLU()),\n",
    "    (16, nn.ReLU()),\n",
    "    (1, nn.Sigmoid()),),\n",
    "    epochs=600)\n",
    "\n",
    "# appending results to list\n",
    "add_result(results, *res)\n",
    "\n",
    "# last result - best result so far\n",
    "print(f'\\nChange: {np.round(res[4]-0.7756, 4)}')"
   ]
  },
  {
   "attachments": {},
   "cell_type": "markdown",
   "metadata": {},
   "source": [
    "The new third layer of input size 16 increased balanced accuarcy by 0.0021.\n",
    "\n",
    "Best architecture so far is: R16, R16, R16, S1\n",
    "\n",
    "This yields a balanced accuracy on validation set of: 77.77%\n",
    "\n",
    "Next, we are going to double the width of the layers from 16 to 32."
   ]
  },
  {
   "cell_type": "code",
   "execution_count": 41,
   "metadata": {},
   "outputs": [
    {
     "name": "stdout",
     "output_type": "stream",
     "text": [
      "Architecture: R32, R32, R32, S1\n",
      "Learned Parameters: 2817\n",
      "Best epoch: 27\n",
      "Best val. loss: 1.081\n",
      "Best bal. val. acc.: 0.7658\n",
      "\n",
      "Change: -0.0119\n"
     ]
    }
   ],
   "source": [
    "res = evaluate_architecture((\n",
    "    (32, nn.ReLU()),\n",
    "    (32, nn.ReLU()),\n",
    "    (32, nn.ReLU()),\n",
    "    (1, nn.Sigmoid()),),\n",
    "    epochs=600)\n",
    "\n",
    "# appending results to list\n",
    "add_result(results, *res)\n",
    "\n",
    "# last result - best result so far\n",
    "print(f'\\nChange: {np.round(res[4]-0.7777, 4)}')"
   ]
  },
  {
   "attachments": {},
   "cell_type": "markdown",
   "metadata": {},
   "source": [
    "Going from three layers of 16 to three layers of 32 decreased accuaracy by 0.0119.\n",
    "\n",
    "The network architecture of R16, R16, R16, S1 yielded a balanced accuracy of 77.77% with 897 learnable parameters, which beats the performances of the architectures with three layers in total.\n",
    "\n",
    "In the next step we going increase the input from 32 to 64."
   ]
  },
  {
   "cell_type": "code",
   "execution_count": 42,
   "metadata": {},
   "outputs": [
    {
     "name": "stdout",
     "output_type": "stream",
     "text": [
      "Architecture: R64, R64, R64, S1\n",
      "Learned Parameters: 9729\n",
      "Best epoch: 25\n",
      "Best val. loss: 1.0834\n",
      "Best bal. val. acc.: 0.7604\n",
      "\n",
      "Change: -0.0173\n"
     ]
    }
   ],
   "source": [
    "res = evaluate_architecture((\n",
    "    (64, nn.ReLU()),\n",
    "    (64, nn.ReLU()),\n",
    "    (64, nn.ReLU()),\n",
    "    (1, nn.Sigmoid()),),\n",
    "    epochs=600)\n",
    "\n",
    "# appending results to list\n",
    "add_result(results, *res)\n",
    "\n",
    "# last result - best result so far\n",
    "print(f'\\nChange: {np.round(res[4]-0.7777, 4)}')"
   ]
  },
  {
   "attachments": {},
   "cell_type": "markdown",
   "metadata": {},
   "source": [
    "Doubling the input sizes of the first three layers decreased accuracy by -0.0173.\n",
    "\n",
    "The architecture R32, R32, R32, S1 produced a better result than R64, R64, R64. S2, therefore we are going to test an intermediate step, where we are going to implement three layers with an inut size of 42."
   ]
  },
  {
   "cell_type": "code",
   "execution_count": 43,
   "metadata": {},
   "outputs": [
    {
     "name": "stdout",
     "output_type": "stream",
     "text": [
      "Architecture: R42, R42, R42, S1\n",
      "Learned Parameters: 4537\n",
      "Best epoch: 10\n",
      "Best val. loss: 1.0615\n",
      "Best bal. val. acc.: 0.7836\n",
      "\n",
      "Change: 0.0059\n"
     ]
    }
   ],
   "source": [
    "res = evaluate_architecture((\n",
    "    (42, nn.ReLU()),\n",
    "    (42, nn.ReLU()),\n",
    "    (42, nn.ReLU()),\n",
    "    (1, nn.Sigmoid()),),\n",
    "    epochs=600)\n",
    "\n",
    "# appending results to list\n",
    "add_result(results, *res)\n",
    "\n",
    "# last result - best result so far\n",
    "print(f'\\nChange: {np.round(res[4]-0.7777, 4)}')"
   ]
  },
  {
   "attachments": {},
   "cell_type": "markdown",
   "metadata": {},
   "source": [
    "The decrease of the input size from 64 to 42 increased the balanced accuracy by 0.0059 to 78,36%.\n",
    "\n",
    "Since the an input size of 42 yielded the best results so far, in the next trial we are going to continue with changing the activation functions for all but the first layer from ReLU to Sigmoid."
   ]
  },
  {
   "attachments": {},
   "cell_type": "markdown",
   "metadata": {},
   "source": [
    "## Optimizing activation functions"
   ]
  },
  {
   "cell_type": "code",
   "execution_count": 44,
   "metadata": {},
   "outputs": [
    {
     "name": "stdout",
     "output_type": "stream",
     "text": [
      "Architecture: R42, S42, S42, S1\n",
      "Learned Parameters: 4537\n",
      "Best epoch: 37\n",
      "Best val. loss: 1.0745\n",
      "Best bal. val. acc.: 0.756\n",
      "\n",
      "Change: -0.0276\n"
     ]
    }
   ],
   "source": [
    "res = evaluate_architecture((\n",
    "    (42, nn.ReLU()),\n",
    "    (42, nn.Sigmoid()),\n",
    "    (42, nn.Sigmoid()),\n",
    "    (1, nn.Sigmoid()),),\n",
    "    epochs=600)\n",
    "\n",
    "# appending results to list\n",
    "add_result(results, *res)\n",
    "\n",
    "# last result - best result so far\n",
    "print(f'\\nChange: {np.round(res[4]-0.7836, 4)}')"
   ]
  },
  {
   "attachments": {},
   "cell_type": "markdown",
   "metadata": {},
   "source": [
    "Changing the activation functions as described did not impove the accuarcy.\n",
    "\n",
    "Next, we are going to try an architecture of two layers with input size 42 using ReLU as activation function, on layer of 42 using Tanh as activation function and single-width output layer using Sigmoid as activation function."
   ]
  },
  {
   "cell_type": "code",
   "execution_count": 45,
   "metadata": {},
   "outputs": [
    {
     "name": "stdout",
     "output_type": "stream",
     "text": [
      "Architecture: R42, R42, T42, S1\n",
      "Learned Parameters: 4537\n",
      "Best epoch: 3\n",
      "Best val. loss: 1.2431\n",
      "Best bal. val. acc.: 0.8012\n",
      "\n",
      "Change: 0.0176\n"
     ]
    }
   ],
   "source": [
    "res = evaluate_architecture((\n",
    "    (42, nn.ReLU()),\n",
    "    (42, nn.ReLU()),\n",
    "    (42, nn.Tanh()),\n",
    "    (1, nn.Sigmoid()),),\n",
    "    epochs=600)\n",
    "\n",
    "# appending results to list\n",
    "add_result(results, *res)\n",
    "\n",
    "# last result - best result so far\n",
    "print(f'\\nChange: {np.round(res[4]-0.7836, 4)}')"
   ]
  },
  {
   "attachments": {},
   "cell_type": "markdown",
   "metadata": {},
   "source": [
    "The architecture of R42, R42, T42, S1 yields a balanced accuracy of 80.12% which is 1,76% better than the previous best architecture.\n",
    "\n",
    "Changing the activation function of third layer worked in our favour, so we are going to test if doing so for the second layer does so as well."
   ]
  },
  {
   "cell_type": "code",
   "execution_count": 46,
   "metadata": {},
   "outputs": [
    {
     "name": "stdout",
     "output_type": "stream",
     "text": [
      "Architecture: R42, T42, T42, S1\n",
      "Learned Parameters: 4537\n",
      "Best epoch: 13\n",
      "Best val. loss: 1.0614\n",
      "Best bal. val. acc.: 0.7818\n",
      "\n",
      "Change: -0.0194\n"
     ]
    }
   ],
   "source": [
    "res = evaluate_architecture((\n",
    "        (42, nn.ReLU()),\n",
    "        (42, nn.Tanh()),\n",
    "        (42, nn.Tanh()),\n",
    "        (1, nn.Sigmoid()),),\n",
    "        epochs=600,\n",
    "        learning_rate=0.01,\n",
    "        weight_decay=0,\n",
    "        tune_hyperparams=False)\n",
    "        \n",
    "# appending results to list\n",
    "add_result(results, *res)\n",
    "\n",
    "# last result - best result so far\n",
    "print(f'\\nChange: {np.round(res[4]-0.8012, 4)}')"
   ]
  },
  {
   "attachments": {},
   "cell_type": "markdown",
   "metadata": {},
   "source": [
    "Changing the activation of the second layer did not improve accuracy any further. Finally we will test a different combination of ReLU and Tanh activation functions in the first three layers."
   ]
  },
  {
   "cell_type": "code",
   "execution_count": 47,
   "metadata": {},
   "outputs": [
    {
     "name": "stdout",
     "output_type": "stream",
     "text": [
      "Architecture: T42, R42, T42, S1\n",
      "Learned Parameters: 4537\n",
      "Best epoch: 12\n",
      "Best val. loss: 1.0438\n",
      "Best bal. val. acc.: 0.7816\n",
      "\n",
      "Change: -0.0196\n"
     ]
    }
   ],
   "source": [
    "res = evaluate_architecture((\n",
    "        (42, nn.Tanh()),\n",
    "        (42, nn.ReLU()),\n",
    "        (42, nn.Tanh()),\n",
    "        (1, nn.Sigmoid()),),\n",
    "        epochs=600,\n",
    "        learning_rate=0.01,\n",
    "        weight_decay=0,\n",
    "        tune_hyperparams=False)\n",
    "        \n",
    "# appending results to list\n",
    "add_result(results, *res)\n",
    "\n",
    "# last result - best result so far\n",
    "print(f'\\nChange: {np.round(res[4]-0.8012, 4)}')"
   ]
  },
  {
   "attachments": {},
   "cell_type": "markdown",
   "metadata": {},
   "source": [
    "The best performance was achivied by the architecture R42, R42, T42, S1.\n",
    "\n",
    "To make the comparison of all test results easier, we will represented these in a tabular format."
   ]
  },
  {
   "cell_type": "code",
   "execution_count": 48,
   "metadata": {},
   "outputs": [
    {
     "data": {
      "text/html": [
       "<div>\n",
       "<style scoped>\n",
       "    .dataframe tbody tr th:only-of-type {\n",
       "        vertical-align: middle;\n",
       "    }\n",
       "\n",
       "    .dataframe tbody tr th {\n",
       "        vertical-align: top;\n",
       "    }\n",
       "\n",
       "    .dataframe thead th {\n",
       "        text-align: right;\n",
       "    }\n",
       "</style>\n",
       "<table border=\"1\" class=\"dataframe\">\n",
       "  <thead>\n",
       "    <tr style=\"text-align: right;\">\n",
       "      <th></th>\n",
       "      <th>architecture</th>\n",
       "      <th>n_params</th>\n",
       "      <th>best epoch</th>\n",
       "      <th>bal val acc</th>\n",
       "    </tr>\n",
       "  </thead>\n",
       "  <tbody>\n",
       "    <tr>\n",
       "      <th>15</th>\n",
       "      <td>R42, R42, T42, S1</td>\n",
       "      <td>4537</td>\n",
       "      <td>3</td>\n",
       "      <td>0.8012</td>\n",
       "    </tr>\n",
       "    <tr>\n",
       "      <th>13</th>\n",
       "      <td>R42, R42, R42, S1</td>\n",
       "      <td>4537</td>\n",
       "      <td>10</td>\n",
       "      <td>0.7836</td>\n",
       "    </tr>\n",
       "    <tr>\n",
       "      <th>16</th>\n",
       "      <td>R42, T42, T42, S1</td>\n",
       "      <td>4537</td>\n",
       "      <td>13</td>\n",
       "      <td>0.7818</td>\n",
       "    </tr>\n",
       "    <tr>\n",
       "      <th>17</th>\n",
       "      <td>T42, R42, T42, S1</td>\n",
       "      <td>4537</td>\n",
       "      <td>12</td>\n",
       "      <td>0.7816</td>\n",
       "    </tr>\n",
       "    <tr>\n",
       "      <th>10</th>\n",
       "      <td>R16, R16, R16, S1</td>\n",
       "      <td>897</td>\n",
       "      <td>18</td>\n",
       "      <td>0.7777</td>\n",
       "    </tr>\n",
       "    <tr>\n",
       "      <th>6</th>\n",
       "      <td>R16, R16, S1</td>\n",
       "      <td>625</td>\n",
       "      <td>42</td>\n",
       "      <td>0.7756</td>\n",
       "    </tr>\n",
       "    <tr>\n",
       "      <th>3</th>\n",
       "      <td>R32, S1</td>\n",
       "      <td>705</td>\n",
       "      <td>46</td>\n",
       "      <td>0.7738</td>\n",
       "    </tr>\n",
       "    <tr>\n",
       "      <th>7</th>\n",
       "      <td>R32, R32, S1</td>\n",
       "      <td>1761</td>\n",
       "      <td>46</td>\n",
       "      <td>0.7738</td>\n",
       "    </tr>\n",
       "    <tr>\n",
       "      <th>2</th>\n",
       "      <td>R16, S1</td>\n",
       "      <td>353</td>\n",
       "      <td>123</td>\n",
       "      <td>0.7720</td>\n",
       "    </tr>\n",
       "    <tr>\n",
       "      <th>8</th>\n",
       "      <td>R64, R64, S1</td>\n",
       "      <td>5569</td>\n",
       "      <td>21</td>\n",
       "      <td>0.7681</td>\n",
       "    </tr>\n",
       "    <tr>\n",
       "      <th>5</th>\n",
       "      <td>R128, S1</td>\n",
       "      <td>2817</td>\n",
       "      <td>25</td>\n",
       "      <td>0.7661</td>\n",
       "    </tr>\n",
       "    <tr>\n",
       "      <th>1</th>\n",
       "      <td>R8, S1</td>\n",
       "      <td>177</td>\n",
       "      <td>104</td>\n",
       "      <td>0.7661</td>\n",
       "    </tr>\n",
       "    <tr>\n",
       "      <th>4</th>\n",
       "      <td>R64, S1</td>\n",
       "      <td>1409</td>\n",
       "      <td>4</td>\n",
       "      <td>0.7658</td>\n",
       "    </tr>\n",
       "    <tr>\n",
       "      <th>11</th>\n",
       "      <td>R32, R32, R32, S1</td>\n",
       "      <td>2817</td>\n",
       "      <td>27</td>\n",
       "      <td>0.7658</td>\n",
       "    </tr>\n",
       "    <tr>\n",
       "      <th>12</th>\n",
       "      <td>R64, R64, R64, S1</td>\n",
       "      <td>9729</td>\n",
       "      <td>25</td>\n",
       "      <td>0.7604</td>\n",
       "    </tr>\n",
       "    <tr>\n",
       "      <th>14</th>\n",
       "      <td>R42, S42, S42, S1</td>\n",
       "      <td>4537</td>\n",
       "      <td>37</td>\n",
       "      <td>0.7560</td>\n",
       "    </tr>\n",
       "    <tr>\n",
       "      <th>9</th>\n",
       "      <td>R128, R128, S1</td>\n",
       "      <td>19329</td>\n",
       "      <td>17</td>\n",
       "      <td>0.7544</td>\n",
       "    </tr>\n",
       "    <tr>\n",
       "      <th>0</th>\n",
       "      <td>S1</td>\n",
       "      <td>21</td>\n",
       "      <td>126</td>\n",
       "      <td>0.7426</td>\n",
       "    </tr>\n",
       "  </tbody>\n",
       "</table>\n",
       "</div>"
      ],
      "text/plain": [
       "         architecture n_params  best epoch  bal val acc\n",
       "15  R42, R42, T42, S1     4537           3       0.8012\n",
       "13  R42, R42, R42, S1     4537          10       0.7836\n",
       "16  R42, T42, T42, S1     4537          13       0.7818\n",
       "17  T42, R42, T42, S1     4537          12       0.7816\n",
       "10  R16, R16, R16, S1      897          18       0.7777\n",
       "6        R16, R16, S1      625          42       0.7756\n",
       "3             R32, S1      705          46       0.7738\n",
       "7        R32, R32, S1     1761          46       0.7738\n",
       "2             R16, S1      353         123       0.7720\n",
       "8        R64, R64, S1     5569          21       0.7681\n",
       "5            R128, S1     2817          25       0.7661\n",
       "1              R8, S1      177         104       0.7661\n",
       "4             R64, S1     1409           4       0.7658\n",
       "11  R32, R32, R32, S1     2817          27       0.7658\n",
       "12  R64, R64, R64, S1     9729          25       0.7604\n",
       "14  R42, S42, S42, S1     4537          37       0.7560\n",
       "9      R128, R128, S1    19329          17       0.7544\n",
       "0                  S1       21         126       0.7426"
      ]
     },
     "execution_count": 48,
     "metadata": {},
     "output_type": "execute_result"
    }
   ],
   "source": [
    "# converting list of results into a dataframe\n",
    "results = pd.DataFrame(results)\n",
    "\n",
    "# displaying and sorting data frame descending by balanced accuary\n",
    "results.sort_values(by='bal val acc', ascending=False).iloc[:,:-1]"
   ]
  },
  {
   "attachments": {},
   "cell_type": "markdown",
   "metadata": {},
   "source": [
    "Based on the tests we performed the architecture R42, R42, T42, S1 yielded the highest balanced accuracy on the validation set of: 80.12%\n",
    "\n",
    "Though this architecure also results in the highest loss value of 1.2431 and the best epoch of 3 in that runs is rather low."
   ]
  },
  {
   "attachments": {},
   "cell_type": "markdown",
   "metadata": {},
   "source": [
    "## Hyperparameter Tuning"
   ]
  },
  {
   "attachments": {},
   "cell_type": "markdown",
   "metadata": {},
   "source": [
    "The next objective is to find the best combination of hyperparameters (learning rate and weight decay) for the architecture of R42, R42, T42, S1. \n",
    "\n",
    "The module 'tune' in the library 'ray' provides a convenient implementation to tune hyperparameters of pytorch models."
   ]
  },
  {
   "cell_type": "code",
   "execution_count": 49,
   "metadata": {},
   "outputs": [],
   "source": [
    "# inspired by: https://stackoverflow.com/questions/44260217/hyperparameter-optimization-for-pytorch-model\n",
    "def tune_architecture(config):\n",
    "    evaluate_architecture((\n",
    "        (42, nn.ReLU()),\n",
    "        (42, nn.ReLU()),\n",
    "        (42, nn.Tanh()),\n",
    "        (1, nn.Sigmoid()),),\n",
    "        epochs=600,\n",
    "        learning_rate=config['lr'],\n",
    "        weight_decay=config['wd'],\n",
    "        tune_hyperparams=True)"
   ]
  },
  {
   "cell_type": "code",
   "execution_count": 50,
   "metadata": {},
   "outputs": [
    {
     "name": "stderr",
     "output_type": "stream",
     "text": [
      "2023-01-06 17:22:10,953\tINFO worker.py:1538 -- Started a local Ray instance.\n"
     ]
    },
    {
     "data": {
      "text/html": [
       "<div class=\"tuneStatus\">\n",
       "  <div style=\"display: flex;flex-direction: row\">\n",
       "    <div style=\"display: flex;flex-direction: column;\">\n",
       "      <h3>Tune Status</h3>\n",
       "      <table>\n",
       "<tbody>\n",
       "<tr><td>Current time:</td><td>2023-01-06 17:22:19</td></tr>\n",
       "<tr><td>Running for: </td><td>00:00:07.87        </td></tr>\n",
       "<tr><td>Memory:      </td><td>10.8/16.0 GiB      </td></tr>\n",
       "</tbody>\n",
       "</table>\n",
       "    </div>\n",
       "    <div class=\"vDivider\"></div>\n",
       "    <div class=\"systemInfo\">\n",
       "      <h3>System Info</h3>\n",
       "      Using FIFO scheduling algorithm.<br>Resources requested: 0/8 CPUs, 0/0 GPUs, 0.0/6.54 GiB heap, 0.0/2.0 GiB objects\n",
       "    </div>\n",
       "    \n",
       "  </div>\n",
       "  <div class=\"hDivider\"></div>\n",
       "  <div class=\"trialStatus\">\n",
       "    <h3>Trial Status</h3>\n",
       "    <table>\n",
       "<thead>\n",
       "<tr><th>Trial name                   </th><th>status    </th><th>loc            </th><th style=\"text-align: right;\">    lr</th><th style=\"text-align: right;\">    wd</th><th style=\"text-align: right;\">  iter</th><th style=\"text-align: right;\">  total time (s)</th><th style=\"text-align: right;\">  balanced_accuracy</th></tr>\n",
       "</thead>\n",
       "<tbody>\n",
       "<tr><td>tune_architecture_46175_00000</td><td>TERMINATED</td><td>127.0.0.1:19564</td><td style=\"text-align: right;\">0.01  </td><td style=\"text-align: right;\">0     </td><td style=\"text-align: right;\">     1</td><td style=\"text-align: right;\">        1.87254 </td><td style=\"text-align: right;\">           0.801186</td></tr>\n",
       "<tr><td>tune_architecture_46175_00001</td><td>TERMINATED</td><td>127.0.0.1:19570</td><td style=\"text-align: right;\">0.001 </td><td style=\"text-align: right;\">0     </td><td style=\"text-align: right;\">     1</td><td style=\"text-align: right;\">        1.59909 </td><td style=\"text-align: right;\">           0.78363 </td></tr>\n",
       "<tr><td>tune_architecture_46175_00002</td><td>TERMINATED</td><td>127.0.0.1:19571</td><td style=\"text-align: right;\">0.0003</td><td style=\"text-align: right;\">0     </td><td style=\"text-align: right;\">     1</td><td style=\"text-align: right;\">        1.67637 </td><td style=\"text-align: right;\">           0.78363 </td></tr>\n",
       "<tr><td>tune_architecture_46175_00003</td><td>TERMINATED</td><td>127.0.0.1:19572</td><td style=\"text-align: right;\">0.01  </td><td style=\"text-align: right;\">1e-06 </td><td style=\"text-align: right;\">     1</td><td style=\"text-align: right;\">        1.7441  </td><td style=\"text-align: right;\">           0.801186</td></tr>\n",
       "<tr><td>tune_architecture_46175_00004</td><td>TERMINATED</td><td>127.0.0.1:19573</td><td style=\"text-align: right;\">0.001 </td><td style=\"text-align: right;\">1e-06 </td><td style=\"text-align: right;\">     1</td><td style=\"text-align: right;\">        1.86451 </td><td style=\"text-align: right;\">           0.789558</td></tr>\n",
       "<tr><td>tune_architecture_46175_00005</td><td>TERMINATED</td><td>127.0.0.1:19574</td><td style=\"text-align: right;\">0.0003</td><td style=\"text-align: right;\">1e-06 </td><td style=\"text-align: right;\">     1</td><td style=\"text-align: right;\">        1.47281 </td><td style=\"text-align: right;\">           0.78363 </td></tr>\n",
       "<tr><td>tune_architecture_46175_00006</td><td>TERMINATED</td><td>127.0.0.1:19575</td><td style=\"text-align: right;\">0.01  </td><td style=\"text-align: right;\">1e-05 </td><td style=\"text-align: right;\">     1</td><td style=\"text-align: right;\">        1.63311 </td><td style=\"text-align: right;\">           0.801186</td></tr>\n",
       "<tr><td>tune_architecture_46175_00007</td><td>TERMINATED</td><td>127.0.0.1:19576</td><td style=\"text-align: right;\">0.001 </td><td style=\"text-align: right;\">1e-05 </td><td style=\"text-align: right;\">     1</td><td style=\"text-align: right;\">        1.42924 </td><td style=\"text-align: right;\">           0.779754</td></tr>\n",
       "<tr><td>tune_architecture_46175_00008</td><td>TERMINATED</td><td>127.0.0.1:19564</td><td style=\"text-align: right;\">0.0003</td><td style=\"text-align: right;\">1e-05 </td><td style=\"text-align: right;\">     1</td><td style=\"text-align: right;\">        2.24902 </td><td style=\"text-align: right;\">           0.78363 </td></tr>\n",
       "<tr><td>tune_architecture_46175_00009</td><td>TERMINATED</td><td>127.0.0.1:19564</td><td style=\"text-align: right;\">0.01  </td><td style=\"text-align: right;\">0.0001</td><td style=\"text-align: right;\">     1</td><td style=\"text-align: right;\">        1.19207 </td><td style=\"text-align: right;\">           0.801186</td></tr>\n",
       "<tr><td>tune_architecture_46175_00010</td><td>TERMINATED</td><td>127.0.0.1:19574</td><td style=\"text-align: right;\">0.001 </td><td style=\"text-align: right;\">0.0001</td><td style=\"text-align: right;\">     1</td><td style=\"text-align: right;\">        0.872146</td><td style=\"text-align: right;\">           0.779754</td></tr>\n",
       "<tr><td>tune_architecture_46175_00011</td><td>TERMINATED</td><td>127.0.0.1:19570</td><td style=\"text-align: right;\">0.0003</td><td style=\"text-align: right;\">0.0001</td><td style=\"text-align: right;\">     1</td><td style=\"text-align: right;\">        0.911331</td><td style=\"text-align: right;\">           0.785682</td></tr>\n",
       "</tbody>\n",
       "</table>\n",
       "  </div>\n",
       "</div>\n",
       "<style>\n",
       ".tuneStatus {\n",
       "  color: var(--jp-ui-font-color1);\n",
       "}\n",
       ".tuneStatus .systemInfo {\n",
       "  display: flex;\n",
       "  flex-direction: column;\n",
       "}\n",
       ".tuneStatus td {\n",
       "  white-space: nowrap;\n",
       "}\n",
       ".tuneStatus .trialStatus {\n",
       "  display: flex;\n",
       "  flex-direction: column;\n",
       "}\n",
       ".tuneStatus h3 {\n",
       "  font-weight: bold;\n",
       "}\n",
       ".tuneStatus .hDivider {\n",
       "  border-bottom-width: var(--jp-border-width);\n",
       "  border-bottom-color: var(--jp-border-color0);\n",
       "  border-bottom-style: solid;\n",
       "}\n",
       ".tuneStatus .vDivider {\n",
       "  border-left-width: var(--jp-border-width);\n",
       "  border-left-color: var(--jp-border-color0);\n",
       "  border-left-style: solid;\n",
       "  margin: 0.5em 1em 0.5em 1em;\n",
       "}\n",
       "</style>\n"
      ],
      "text/plain": [
       "<IPython.core.display.HTML object>"
      ]
     },
     "metadata": {},
     "output_type": "display_data"
    },
    {
     "data": {
      "text/html": [
       "<div class=\"trialProgress\">\n",
       "  <h3>Trial Progress</h3>\n",
       "  <table>\n",
       "<thead>\n",
       "<tr><th>Trial name                   </th><th style=\"text-align: right;\">  balanced_accuracy</th><th>date               </th><th>done  </th><th>episodes_total  </th><th>experiment_id                   </th><th>experiment_tag        </th><th>hostname                   </th><th style=\"text-align: right;\">  iterations_since_restore</th><th>node_ip  </th><th style=\"text-align: right;\">  pid</th><th style=\"text-align: right;\">  time_since_restore</th><th style=\"text-align: right;\">  time_this_iter_s</th><th style=\"text-align: right;\">  time_total_s</th><th style=\"text-align: right;\">  timestamp</th><th style=\"text-align: right;\">  timesteps_since_restore</th><th>timesteps_total  </th><th style=\"text-align: right;\">  training_iteration</th><th style=\"text-align: right;\">   trial_id</th><th style=\"text-align: right;\">  warmup_time</th></tr>\n",
       "</thead>\n",
       "<tbody>\n",
       "<tr><td>tune_architecture_46175_00000</td><td style=\"text-align: right;\">           0.801186</td><td>2023-01-06_17-22-15</td><td>True  </td><td>                </td><td>4d139beb09e440f5b2fa29492d4874a2</td><td>0_lr=0.0100,wd=0      </td><td>MacBook-Air-von-Regis.local</td><td style=\"text-align: right;\">                         1</td><td>127.0.0.1</td><td style=\"text-align: right;\">19564</td><td style=\"text-align: right;\">            1.87254 </td><td style=\"text-align: right;\">          1.87254 </td><td style=\"text-align: right;\">      1.87254 </td><td style=\"text-align: right;\"> 1673022135</td><td style=\"text-align: right;\">                        0</td><td>                 </td><td style=\"text-align: right;\">                   1</td><td style=\"text-align: right;\">46175_00000</td><td style=\"text-align: right;\">   0.00191808</td></tr>\n",
       "<tr><td>tune_architecture_46175_00001</td><td style=\"text-align: right;\">           0.78363 </td><td>2023-01-06_17-22-18</td><td>True  </td><td>                </td><td>07e9370bf6ed4b539768f6bf467befdb</td><td>1_lr=0.0010,wd=0      </td><td>MacBook-Air-von-Regis.local</td><td style=\"text-align: right;\">                         1</td><td>127.0.0.1</td><td style=\"text-align: right;\">19570</td><td style=\"text-align: right;\">            1.59909 </td><td style=\"text-align: right;\">          1.59909 </td><td style=\"text-align: right;\">      1.59909 </td><td style=\"text-align: right;\"> 1673022138</td><td style=\"text-align: right;\">                        0</td><td>                 </td><td style=\"text-align: right;\">                   1</td><td style=\"text-align: right;\">46175_00001</td><td style=\"text-align: right;\">   0.00383496</td></tr>\n",
       "<tr><td>tune_architecture_46175_00002</td><td style=\"text-align: right;\">           0.78363 </td><td>2023-01-06_17-22-18</td><td>True  </td><td>                </td><td>b99fcdaa999c4d3b96a6c0cb5b3dc258</td><td>2_lr=0.0003,wd=0      </td><td>MacBook-Air-von-Regis.local</td><td style=\"text-align: right;\">                         1</td><td>127.0.0.1</td><td style=\"text-align: right;\">19571</td><td style=\"text-align: right;\">            1.67637 </td><td style=\"text-align: right;\">          1.67637 </td><td style=\"text-align: right;\">      1.67637 </td><td style=\"text-align: right;\"> 1673022138</td><td style=\"text-align: right;\">                        0</td><td>                 </td><td style=\"text-align: right;\">                   1</td><td style=\"text-align: right;\">46175_00002</td><td style=\"text-align: right;\">   0.0135534 </td></tr>\n",
       "<tr><td>tune_architecture_46175_00003</td><td style=\"text-align: right;\">           0.801186</td><td>2023-01-06_17-22-18</td><td>True  </td><td>                </td><td>7efd17b0f2a745f6bb5e17c4aa2abdaf</td><td>3_lr=0.0100,wd=0.0000 </td><td>MacBook-Air-von-Regis.local</td><td style=\"text-align: right;\">                         1</td><td>127.0.0.1</td><td style=\"text-align: right;\">19572</td><td style=\"text-align: right;\">            1.7441  </td><td style=\"text-align: right;\">          1.7441  </td><td style=\"text-align: right;\">      1.7441  </td><td style=\"text-align: right;\"> 1673022138</td><td style=\"text-align: right;\">                        0</td><td>                 </td><td style=\"text-align: right;\">                   1</td><td style=\"text-align: right;\">46175_00003</td><td style=\"text-align: right;\">   0.00360489</td></tr>\n",
       "<tr><td>tune_architecture_46175_00004</td><td style=\"text-align: right;\">           0.789558</td><td>2023-01-06_17-22-18</td><td>True  </td><td>                </td><td>8d40b96fc73644c4a249f0ff2cdb5e4e</td><td>4_lr=0.0010,wd=0.0000 </td><td>MacBook-Air-von-Regis.local</td><td style=\"text-align: right;\">                         1</td><td>127.0.0.1</td><td style=\"text-align: right;\">19573</td><td style=\"text-align: right;\">            1.86451 </td><td style=\"text-align: right;\">          1.86451 </td><td style=\"text-align: right;\">      1.86451 </td><td style=\"text-align: right;\"> 1673022138</td><td style=\"text-align: right;\">                        0</td><td>                 </td><td style=\"text-align: right;\">                   1</td><td style=\"text-align: right;\">46175_00004</td><td style=\"text-align: right;\">   0.00481796</td></tr>\n",
       "<tr><td>tune_architecture_46175_00005</td><td style=\"text-align: right;\">           0.78363 </td><td>2023-01-06_17-22-18</td><td>True  </td><td>                </td><td>c2440a4e54ca4235aba672b3c2bf8524</td><td>5_lr=0.0003,wd=0.0000 </td><td>MacBook-Air-von-Regis.local</td><td style=\"text-align: right;\">                         1</td><td>127.0.0.1</td><td style=\"text-align: right;\">19574</td><td style=\"text-align: right;\">            1.47281 </td><td style=\"text-align: right;\">          1.47281 </td><td style=\"text-align: right;\">      1.47281 </td><td style=\"text-align: right;\"> 1673022138</td><td style=\"text-align: right;\">                        0</td><td>                 </td><td style=\"text-align: right;\">                   1</td><td style=\"text-align: right;\">46175_00005</td><td style=\"text-align: right;\">   0.040993  </td></tr>\n",
       "<tr><td>tune_architecture_46175_00006</td><td style=\"text-align: right;\">           0.801186</td><td>2023-01-06_17-22-18</td><td>True  </td><td>                </td><td>cee1b1b0eb0c4efa91084d2d3921f613</td><td>6_lr=0.0100,wd=0.0000 </td><td>MacBook-Air-von-Regis.local</td><td style=\"text-align: right;\">                         1</td><td>127.0.0.1</td><td style=\"text-align: right;\">19575</td><td style=\"text-align: right;\">            1.63311 </td><td style=\"text-align: right;\">          1.63311 </td><td style=\"text-align: right;\">      1.63311 </td><td style=\"text-align: right;\"> 1673022138</td><td style=\"text-align: right;\">                        0</td><td>                 </td><td style=\"text-align: right;\">                   1</td><td style=\"text-align: right;\">46175_00006</td><td style=\"text-align: right;\">   0.036972  </td></tr>\n",
       "<tr><td>tune_architecture_46175_00007</td><td style=\"text-align: right;\">           0.779754</td><td>2023-01-06_17-22-18</td><td>True  </td><td>                </td><td>6ecc6d2d8f8a4232ba2ebee1d30ca75c</td><td>7_lr=0.0010,wd=0.0000 </td><td>MacBook-Air-von-Regis.local</td><td style=\"text-align: right;\">                         1</td><td>127.0.0.1</td><td style=\"text-align: right;\">19576</td><td style=\"text-align: right;\">            1.42924 </td><td style=\"text-align: right;\">          1.42924 </td><td style=\"text-align: right;\">      1.42924 </td><td style=\"text-align: right;\"> 1673022138</td><td style=\"text-align: right;\">                        0</td><td>                 </td><td style=\"text-align: right;\">                   1</td><td style=\"text-align: right;\">46175_00007</td><td style=\"text-align: right;\">   0.00346398</td></tr>\n",
       "<tr><td>tune_architecture_46175_00008</td><td style=\"text-align: right;\">           0.78363 </td><td>2023-01-06_17-22-17</td><td>True  </td><td>                </td><td>4d139beb09e440f5b2fa29492d4874a2</td><td>8_lr=0.0003,wd=0.0000 </td><td>MacBook-Air-von-Regis.local</td><td style=\"text-align: right;\">                         1</td><td>127.0.0.1</td><td style=\"text-align: right;\">19564</td><td style=\"text-align: right;\">            2.24902 </td><td style=\"text-align: right;\">          2.24902 </td><td style=\"text-align: right;\">      2.24902 </td><td style=\"text-align: right;\"> 1673022137</td><td style=\"text-align: right;\">                        0</td><td>                 </td><td style=\"text-align: right;\">                   1</td><td style=\"text-align: right;\">46175_00008</td><td style=\"text-align: right;\">   0.00191808</td></tr>\n",
       "<tr><td>tune_architecture_46175_00009</td><td style=\"text-align: right;\">           0.801186</td><td>2023-01-06_17-22-19</td><td>True  </td><td>                </td><td>4d139beb09e440f5b2fa29492d4874a2</td><td>9_lr=0.0100,wd=0.0001 </td><td>MacBook-Air-von-Regis.local</td><td style=\"text-align: right;\">                         1</td><td>127.0.0.1</td><td style=\"text-align: right;\">19564</td><td style=\"text-align: right;\">            1.19207 </td><td style=\"text-align: right;\">          1.19207 </td><td style=\"text-align: right;\">      1.19207 </td><td style=\"text-align: right;\"> 1673022139</td><td style=\"text-align: right;\">                        0</td><td>                 </td><td style=\"text-align: right;\">                   1</td><td style=\"text-align: right;\">46175_00009</td><td style=\"text-align: right;\">   0.00191808</td></tr>\n",
       "<tr><td>tune_architecture_46175_00010</td><td style=\"text-align: right;\">           0.779754</td><td>2023-01-06_17-22-19</td><td>True  </td><td>                </td><td>c2440a4e54ca4235aba672b3c2bf8524</td><td>10_lr=0.0010,wd=0.0001</td><td>MacBook-Air-von-Regis.local</td><td style=\"text-align: right;\">                         1</td><td>127.0.0.1</td><td style=\"text-align: right;\">19574</td><td style=\"text-align: right;\">            0.872146</td><td style=\"text-align: right;\">          0.872146</td><td style=\"text-align: right;\">      0.872146</td><td style=\"text-align: right;\"> 1673022139</td><td style=\"text-align: right;\">                        0</td><td>                 </td><td style=\"text-align: right;\">                   1</td><td style=\"text-align: right;\">46175_00010</td><td style=\"text-align: right;\">   0.040993  </td></tr>\n",
       "<tr><td>tune_architecture_46175_00011</td><td style=\"text-align: right;\">           0.785682</td><td>2023-01-06_17-22-19</td><td>True  </td><td>                </td><td>07e9370bf6ed4b539768f6bf467befdb</td><td>11_lr=0.0003,wd=0.0001</td><td>MacBook-Air-von-Regis.local</td><td style=\"text-align: right;\">                         1</td><td>127.0.0.1</td><td style=\"text-align: right;\">19570</td><td style=\"text-align: right;\">            0.911331</td><td style=\"text-align: right;\">          0.911331</td><td style=\"text-align: right;\">      0.911331</td><td style=\"text-align: right;\"> 1673022139</td><td style=\"text-align: right;\">                        0</td><td>                 </td><td style=\"text-align: right;\">                   1</td><td style=\"text-align: right;\">46175_00011</td><td style=\"text-align: right;\">   0.00383496</td></tr>\n",
       "</tbody>\n",
       "</table>\n",
       "</div>\n",
       "<style>\n",
       ".trialProgress {\n",
       "  display: flex;\n",
       "  flex-direction: column;\n",
       "  color: var(--jp-ui-font-color1);\n",
       "}\n",
       ".trialProgress h3 {\n",
       "  font-weight: bold;\n",
       "}\n",
       ".trialProgress td {\n",
       "  white-space: nowrap;\n",
       "}\n",
       "</style>\n"
      ],
      "text/plain": [
       "<IPython.core.display.HTML object>"
      ]
     },
     "metadata": {},
     "output_type": "display_data"
    },
    {
     "name": "stderr",
     "output_type": "stream",
     "text": [
      "2023-01-06 17:22:19,823\tINFO tune.py:762 -- Total run time: 8.18 seconds (7.86 seconds for the tuning loop).\n"
     ]
    }
   ],
   "source": [
    "analysis = tune.run(\n",
    "    tune_architecture, config={\n",
    "        # configuring learning rates for hyperparameter tuning\n",
    "        \"lr\": tune.grid_search([0.01, 0.001, 0.0003]),\n",
    "        # configuring weight decay for hyperparameter tuning\n",
    "        'wd': tune.grid_search([0, 1e-6, 1e-5, 1e-4])\n",
    "        })\n",
    "\n",
    "# display output looks best on light theme"
   ]
  },
  {
   "cell_type": "code",
   "execution_count": 51,
   "metadata": {},
   "outputs": [
    {
     "data": {
      "text/html": [
       "<div>\n",
       "<style scoped>\n",
       "    .dataframe tbody tr th:only-of-type {\n",
       "        vertical-align: middle;\n",
       "    }\n",
       "\n",
       "    .dataframe tbody tr th {\n",
       "        vertical-align: top;\n",
       "    }\n",
       "\n",
       "    .dataframe thead th {\n",
       "        text-align: right;\n",
       "    }\n",
       "</style>\n",
       "<table border=\"1\" class=\"dataframe\">\n",
       "  <thead>\n",
       "    <tr style=\"text-align: right;\">\n",
       "      <th></th>\n",
       "      <th>balanced_accuracy</th>\n",
       "      <th>config/lr</th>\n",
       "      <th>config/wd</th>\n",
       "    </tr>\n",
       "  </thead>\n",
       "  <tbody>\n",
       "    <tr>\n",
       "      <th>0</th>\n",
       "      <td>0.801186</td>\n",
       "      <td>0.0100</td>\n",
       "      <td>0.000000</td>\n",
       "    </tr>\n",
       "    <tr>\n",
       "      <th>3</th>\n",
       "      <td>0.801186</td>\n",
       "      <td>0.0100</td>\n",
       "      <td>0.000001</td>\n",
       "    </tr>\n",
       "    <tr>\n",
       "      <th>6</th>\n",
       "      <td>0.801186</td>\n",
       "      <td>0.0100</td>\n",
       "      <td>0.000010</td>\n",
       "    </tr>\n",
       "    <tr>\n",
       "      <th>9</th>\n",
       "      <td>0.801186</td>\n",
       "      <td>0.0100</td>\n",
       "      <td>0.000100</td>\n",
       "    </tr>\n",
       "    <tr>\n",
       "      <th>4</th>\n",
       "      <td>0.789558</td>\n",
       "      <td>0.0010</td>\n",
       "      <td>0.000001</td>\n",
       "    </tr>\n",
       "    <tr>\n",
       "      <th>11</th>\n",
       "      <td>0.785682</td>\n",
       "      <td>0.0003</td>\n",
       "      <td>0.000100</td>\n",
       "    </tr>\n",
       "    <tr>\n",
       "      <th>1</th>\n",
       "      <td>0.783630</td>\n",
       "      <td>0.0010</td>\n",
       "      <td>0.000000</td>\n",
       "    </tr>\n",
       "    <tr>\n",
       "      <th>2</th>\n",
       "      <td>0.783630</td>\n",
       "      <td>0.0003</td>\n",
       "      <td>0.000000</td>\n",
       "    </tr>\n",
       "    <tr>\n",
       "      <th>5</th>\n",
       "      <td>0.783630</td>\n",
       "      <td>0.0003</td>\n",
       "      <td>0.000001</td>\n",
       "    </tr>\n",
       "    <tr>\n",
       "      <th>8</th>\n",
       "      <td>0.783630</td>\n",
       "      <td>0.0003</td>\n",
       "      <td>0.000010</td>\n",
       "    </tr>\n",
       "  </tbody>\n",
       "</table>\n",
       "</div>"
      ],
      "text/plain": [
       "    balanced_accuracy  config/lr  config/wd\n",
       "0            0.801186     0.0100   0.000000\n",
       "3            0.801186     0.0100   0.000001\n",
       "6            0.801186     0.0100   0.000010\n",
       "9            0.801186     0.0100   0.000100\n",
       "4            0.789558     0.0010   0.000001\n",
       "11           0.785682     0.0003   0.000100\n",
       "1            0.783630     0.0010   0.000000\n",
       "2            0.783630     0.0003   0.000000\n",
       "5            0.783630     0.0003   0.000001\n",
       "8            0.783630     0.0003   0.000010"
      ]
     },
     "execution_count": 51,
     "metadata": {},
     "output_type": "execute_result"
    }
   ],
   "source": [
    "# turning analysis results into dataframe\n",
    "df = analysis.dataframe()\n",
    "df.sort_values(by='balanced_accuracy', ascending=False).head(10)[['balanced_accuracy', 'config/lr', 'config/wd']]"
   ]
  },
  {
   "attachments": {},
   "cell_type": "markdown",
   "metadata": {},
   "source": [
    "It appears as if any learning rate smaller than 0.01 leads to worse results, while the weight decay appears to have no impact on the results. For this reasson we are going to also test slightly larger learning rates of 0.05 and 0.02 while also increasing the weigh decays from 0, 1e-6, 1e-5 and 1e-4 to 0, 1e-4, 1e-3, 1e-2."
   ]
  },
  {
   "cell_type": "code",
   "execution_count": 52,
   "metadata": {},
   "outputs": [
    {
     "data": {
      "text/html": [
       "<div class=\"tuneStatus\">\n",
       "  <div style=\"display: flex;flex-direction: row\">\n",
       "    <div style=\"display: flex;flex-direction: column;\">\n",
       "      <h3>Tune Status</h3>\n",
       "      <table>\n",
       "<tbody>\n",
       "<tr><td>Current time:</td><td>2023-01-06 17:22:29</td></tr>\n",
       "<tr><td>Running for: </td><td>00:00:10.05        </td></tr>\n",
       "<tr><td>Memory:      </td><td>10.8/16.0 GiB      </td></tr>\n",
       "</tbody>\n",
       "</table>\n",
       "    </div>\n",
       "    <div class=\"vDivider\"></div>\n",
       "    <div class=\"systemInfo\">\n",
       "      <h3>System Info</h3>\n",
       "      Using FIFO scheduling algorithm.<br>Resources requested: 0/8 CPUs, 0/0 GPUs, 0.0/6.54 GiB heap, 0.0/2.0 GiB objects\n",
       "    </div>\n",
       "    \n",
       "  </div>\n",
       "  <div class=\"hDivider\"></div>\n",
       "  <div class=\"trialStatus\">\n",
       "    <h3>Trial Status</h3>\n",
       "    <table>\n",
       "<thead>\n",
       "<tr><th>Trial name                   </th><th>status    </th><th>loc            </th><th style=\"text-align: right;\">    lr</th><th style=\"text-align: right;\">    wd</th><th style=\"text-align: right;\">  iter</th><th style=\"text-align: right;\">  total time (s)</th><th style=\"text-align: right;\">  balanced_accuracy</th></tr>\n",
       "</thead>\n",
       "<tbody>\n",
       "<tr><td>tune_architecture_4b08d_00000</td><td>TERMINATED</td><td>127.0.0.1:19600</td><td style=\"text-align: right;\">0.05  </td><td style=\"text-align: right;\">0     </td><td style=\"text-align: right;\">     1</td><td style=\"text-align: right;\">        1.73798 </td><td style=\"text-align: right;\">           0.76197 </td></tr>\n",
       "<tr><td>tune_architecture_4b08d_00001</td><td>TERMINATED</td><td>127.0.0.1:19602</td><td style=\"text-align: right;\">0.02  </td><td style=\"text-align: right;\">0     </td><td style=\"text-align: right;\">     1</td><td style=\"text-align: right;\">        1.60192 </td><td style=\"text-align: right;\">           0.782034</td></tr>\n",
       "<tr><td>tune_architecture_4b08d_00002</td><td>TERMINATED</td><td>127.0.0.1:19603</td><td style=\"text-align: right;\">0.01  </td><td style=\"text-align: right;\">0     </td><td style=\"text-align: right;\">     1</td><td style=\"text-align: right;\">        1.60388 </td><td style=\"text-align: right;\">           0.801186</td></tr>\n",
       "<tr><td>tune_architecture_4b08d_00003</td><td>TERMINATED</td><td>127.0.0.1:19604</td><td style=\"text-align: right;\">0.001 </td><td style=\"text-align: right;\">0     </td><td style=\"text-align: right;\">     1</td><td style=\"text-align: right;\">        1.55023 </td><td style=\"text-align: right;\">           0.78363 </td></tr>\n",
       "<tr><td>tune_architecture_4b08d_00004</td><td>TERMINATED</td><td>127.0.0.1:19605</td><td style=\"text-align: right;\">0.0003</td><td style=\"text-align: right;\">0     </td><td style=\"text-align: right;\">     1</td><td style=\"text-align: right;\">        1.80358 </td><td style=\"text-align: right;\">           0.78363 </td></tr>\n",
       "<tr><td>tune_architecture_4b08d_00005</td><td>TERMINATED</td><td>127.0.0.1:19606</td><td style=\"text-align: right;\">0.05  </td><td style=\"text-align: right;\">0.0001</td><td style=\"text-align: right;\">     1</td><td style=\"text-align: right;\">        1.4064  </td><td style=\"text-align: right;\">           0.76425 </td></tr>\n",
       "<tr><td>tune_architecture_4b08d_00006</td><td>TERMINATED</td><td>127.0.0.1:19607</td><td style=\"text-align: right;\">0.02  </td><td style=\"text-align: right;\">0.0001</td><td style=\"text-align: right;\">     1</td><td style=\"text-align: right;\">        1.57228 </td><td style=\"text-align: right;\">           0.789786</td></tr>\n",
       "<tr><td>tune_architecture_4b08d_00007</td><td>TERMINATED</td><td>127.0.0.1:19608</td><td style=\"text-align: right;\">0.01  </td><td style=\"text-align: right;\">0.0001</td><td style=\"text-align: right;\">     1</td><td style=\"text-align: right;\">        1.41285 </td><td style=\"text-align: right;\">           0.801186</td></tr>\n",
       "<tr><td>tune_architecture_4b08d_00008</td><td>TERMINATED</td><td>127.0.0.1:19600</td><td style=\"text-align: right;\">0.001 </td><td style=\"text-align: right;\">0.0001</td><td style=\"text-align: right;\">     1</td><td style=\"text-align: right;\">        2.05467 </td><td style=\"text-align: right;\">           0.779754</td></tr>\n",
       "<tr><td>tune_architecture_4b08d_00009</td><td>TERMINATED</td><td>127.0.0.1:19600</td><td style=\"text-align: right;\">0.0003</td><td style=\"text-align: right;\">0.0001</td><td style=\"text-align: right;\">     1</td><td style=\"text-align: right;\">        1.41956 </td><td style=\"text-align: right;\">           0.785682</td></tr>\n",
       "<tr><td>tune_architecture_4b08d_00010</td><td>TERMINATED</td><td>127.0.0.1:19603</td><td style=\"text-align: right;\">0.05  </td><td style=\"text-align: right;\">0.001 </td><td style=\"text-align: right;\">     1</td><td style=\"text-align: right;\">        1.63412 </td><td style=\"text-align: right;\">           0.781806</td></tr>\n",
       "<tr><td>tune_architecture_4b08d_00011</td><td>TERMINATED</td><td>127.0.0.1:19604</td><td style=\"text-align: right;\">0.02  </td><td style=\"text-align: right;\">0.001 </td><td style=\"text-align: right;\">     1</td><td style=\"text-align: right;\">        1.81202 </td><td style=\"text-align: right;\">           0.76995 </td></tr>\n",
       "<tr><td>tune_architecture_4b08d_00012</td><td>TERMINATED</td><td>127.0.0.1:19608</td><td style=\"text-align: right;\">0.01  </td><td style=\"text-align: right;\">0.001 </td><td style=\"text-align: right;\">     1</td><td style=\"text-align: right;\">        1.71699 </td><td style=\"text-align: right;\">           0.797082</td></tr>\n",
       "<tr><td>tune_architecture_4b08d_00013</td><td>TERMINATED</td><td>127.0.0.1:19606</td><td style=\"text-align: right;\">0.001 </td><td style=\"text-align: right;\">0.001 </td><td style=\"text-align: right;\">     1</td><td style=\"text-align: right;\">        1.91437 </td><td style=\"text-align: right;\">           0.779754</td></tr>\n",
       "<tr><td>tune_architecture_4b08d_00014</td><td>TERMINATED</td><td>127.0.0.1:19602</td><td style=\"text-align: right;\">0.0003</td><td style=\"text-align: right;\">0.001 </td><td style=\"text-align: right;\">     1</td><td style=\"text-align: right;\">        1.71507 </td><td style=\"text-align: right;\">           0.785682</td></tr>\n",
       "<tr><td>tune_architecture_4b08d_00015</td><td>TERMINATED</td><td>127.0.0.1:19605</td><td style=\"text-align: right;\">0.05  </td><td style=\"text-align: right;\">0.01  </td><td style=\"text-align: right;\">     1</td><td style=\"text-align: right;\">        1.6367  </td><td style=\"text-align: right;\">           0.762426</td></tr>\n",
       "<tr><td>tune_architecture_4b08d_00016</td><td>TERMINATED</td><td>127.0.0.1:19607</td><td style=\"text-align: right;\">0.02  </td><td style=\"text-align: right;\">0.01  </td><td style=\"text-align: right;\">     1</td><td style=\"text-align: right;\">        1.60693 </td><td style=\"text-align: right;\">           0.791838</td></tr>\n",
       "<tr><td>tune_architecture_4b08d_00017</td><td>TERMINATED</td><td>127.0.0.1:19600</td><td style=\"text-align: right;\">0.01  </td><td style=\"text-align: right;\">0.01  </td><td style=\"text-align: right;\">     1</td><td style=\"text-align: right;\">        1.60125 </td><td style=\"text-align: right;\">           0.770178</td></tr>\n",
       "<tr><td>tune_architecture_4b08d_00018</td><td>TERMINATED</td><td>127.0.0.1:19603</td><td style=\"text-align: right;\">0.001 </td><td style=\"text-align: right;\">0.01  </td><td style=\"text-align: right;\">     1</td><td style=\"text-align: right;\">        1.02111 </td><td style=\"text-align: right;\">           0.777702</td></tr>\n",
       "<tr><td>tune_architecture_4b08d_00019</td><td>TERMINATED</td><td>127.0.0.1:19608</td><td style=\"text-align: right;\">0.0003</td><td style=\"text-align: right;\">0.01  </td><td style=\"text-align: right;\">     1</td><td style=\"text-align: right;\">        0.955155</td><td style=\"text-align: right;\">           0.779754</td></tr>\n",
       "</tbody>\n",
       "</table>\n",
       "  </div>\n",
       "</div>\n",
       "<style>\n",
       ".tuneStatus {\n",
       "  color: var(--jp-ui-font-color1);\n",
       "}\n",
       ".tuneStatus .systemInfo {\n",
       "  display: flex;\n",
       "  flex-direction: column;\n",
       "}\n",
       ".tuneStatus td {\n",
       "  white-space: nowrap;\n",
       "}\n",
       ".tuneStatus .trialStatus {\n",
       "  display: flex;\n",
       "  flex-direction: column;\n",
       "}\n",
       ".tuneStatus h3 {\n",
       "  font-weight: bold;\n",
       "}\n",
       ".tuneStatus .hDivider {\n",
       "  border-bottom-width: var(--jp-border-width);\n",
       "  border-bottom-color: var(--jp-border-color0);\n",
       "  border-bottom-style: solid;\n",
       "}\n",
       ".tuneStatus .vDivider {\n",
       "  border-left-width: var(--jp-border-width);\n",
       "  border-left-color: var(--jp-border-color0);\n",
       "  border-left-style: solid;\n",
       "  margin: 0.5em 1em 0.5em 1em;\n",
       "}\n",
       "</style>\n"
      ],
      "text/plain": [
       "<IPython.core.display.HTML object>"
      ]
     },
     "metadata": {},
     "output_type": "display_data"
    },
    {
     "data": {
      "text/html": [
       "<div class=\"trialProgress\">\n",
       "  <h3>Trial Progress</h3>\n",
       "  <table>\n",
       "<thead>\n",
       "<tr><th>Trial name                   </th><th style=\"text-align: right;\">  balanced_accuracy</th><th>date               </th><th>done  </th><th>episodes_total  </th><th>experiment_id                   </th><th>experiment_tag        </th><th>hostname                   </th><th style=\"text-align: right;\">  iterations_since_restore</th><th>node_ip  </th><th style=\"text-align: right;\">  pid</th><th style=\"text-align: right;\">  time_since_restore</th><th style=\"text-align: right;\">  time_this_iter_s</th><th style=\"text-align: right;\">  time_total_s</th><th style=\"text-align: right;\">  timestamp</th><th style=\"text-align: right;\">  timesteps_since_restore</th><th>timesteps_total  </th><th style=\"text-align: right;\">  training_iteration</th><th>trial_id   </th><th style=\"text-align: right;\">  warmup_time</th></tr>\n",
       "</thead>\n",
       "<tbody>\n",
       "<tr><td>tune_architecture_4b08d_00000</td><td style=\"text-align: right;\">           0.76197 </td><td>2023-01-06_17-22-24</td><td>True  </td><td>                </td><td>86b047a3996e477a880e2fc7ba4384a9</td><td>0_lr=0.0500,wd=0      </td><td>MacBook-Air-von-Regis.local</td><td style=\"text-align: right;\">                         1</td><td>127.0.0.1</td><td style=\"text-align: right;\">19600</td><td style=\"text-align: right;\">            1.73798 </td><td style=\"text-align: right;\">          1.73798 </td><td style=\"text-align: right;\">      1.73798 </td><td style=\"text-align: right;\"> 1673022144</td><td style=\"text-align: right;\">                        0</td><td>                 </td><td style=\"text-align: right;\">                   1</td><td>4b08d_00000</td><td style=\"text-align: right;\">   0.001755  </td></tr>\n",
       "<tr><td>tune_architecture_4b08d_00001</td><td style=\"text-align: right;\">           0.782034</td><td>2023-01-06_17-22-27</td><td>True  </td><td>                </td><td>9501e34d4f1c4a27828dc566b0e012fe</td><td>1_lr=0.0200,wd=0      </td><td>MacBook-Air-von-Regis.local</td><td style=\"text-align: right;\">                         1</td><td>127.0.0.1</td><td style=\"text-align: right;\">19602</td><td style=\"text-align: right;\">            1.60192 </td><td style=\"text-align: right;\">          1.60192 </td><td style=\"text-align: right;\">      1.60192 </td><td style=\"text-align: right;\"> 1673022147</td><td style=\"text-align: right;\">                        0</td><td>                 </td><td style=\"text-align: right;\">                   1</td><td>4b08d_00001</td><td style=\"text-align: right;\">   0.00997996</td></tr>\n",
       "<tr><td>tune_architecture_4b08d_00002</td><td style=\"text-align: right;\">           0.801186</td><td>2023-01-06_17-22-27</td><td>True  </td><td>                </td><td>fe56d5df355344558cacf8adb6ab2b88</td><td>2_lr=0.0100,wd=0      </td><td>MacBook-Air-von-Regis.local</td><td style=\"text-align: right;\">                         1</td><td>127.0.0.1</td><td style=\"text-align: right;\">19603</td><td style=\"text-align: right;\">            1.60388 </td><td style=\"text-align: right;\">          1.60388 </td><td style=\"text-align: right;\">      1.60388 </td><td style=\"text-align: right;\"> 1673022147</td><td style=\"text-align: right;\">                        0</td><td>                 </td><td style=\"text-align: right;\">                   1</td><td>4b08d_00002</td><td style=\"text-align: right;\">   0.00859308</td></tr>\n",
       "<tr><td>tune_architecture_4b08d_00003</td><td style=\"text-align: right;\">           0.78363 </td><td>2023-01-06_17-22-27</td><td>True  </td><td>                </td><td>4a5f05fbbe914b0b80562b379fa2a34f</td><td>3_lr=0.0010,wd=0      </td><td>MacBook-Air-von-Regis.local</td><td style=\"text-align: right;\">                         1</td><td>127.0.0.1</td><td style=\"text-align: right;\">19604</td><td style=\"text-align: right;\">            1.55023 </td><td style=\"text-align: right;\">          1.55023 </td><td style=\"text-align: right;\">      1.55023 </td><td style=\"text-align: right;\"> 1673022147</td><td style=\"text-align: right;\">                        0</td><td>                 </td><td style=\"text-align: right;\">                   1</td><td>4b08d_00003</td><td style=\"text-align: right;\">   0.00333595</td></tr>\n",
       "<tr><td>tune_architecture_4b08d_00004</td><td style=\"text-align: right;\">           0.78363 </td><td>2023-01-06_17-22-27</td><td>True  </td><td>                </td><td>f36f0e281591452d8fe126c38342012c</td><td>4_lr=0.0003,wd=0      </td><td>MacBook-Air-von-Regis.local</td><td style=\"text-align: right;\">                         1</td><td>127.0.0.1</td><td style=\"text-align: right;\">19605</td><td style=\"text-align: right;\">            1.80358 </td><td style=\"text-align: right;\">          1.80358 </td><td style=\"text-align: right;\">      1.80358 </td><td style=\"text-align: right;\"> 1673022147</td><td style=\"text-align: right;\">                        0</td><td>                 </td><td style=\"text-align: right;\">                   1</td><td>4b08d_00004</td><td style=\"text-align: right;\">   0.00540805</td></tr>\n",
       "<tr><td>tune_architecture_4b08d_00005</td><td style=\"text-align: right;\">           0.76425 </td><td>2023-01-06_17-22-27</td><td>True  </td><td>                </td><td>8ce2f10b4cba400b8cfeb44bf6da31f4</td><td>5_lr=0.0500,wd=0.0001 </td><td>MacBook-Air-von-Regis.local</td><td style=\"text-align: right;\">                         1</td><td>127.0.0.1</td><td style=\"text-align: right;\">19606</td><td style=\"text-align: right;\">            1.4064  </td><td style=\"text-align: right;\">          1.4064  </td><td style=\"text-align: right;\">      1.4064  </td><td style=\"text-align: right;\"> 1673022147</td><td style=\"text-align: right;\">                        0</td><td>                 </td><td style=\"text-align: right;\">                   1</td><td>4b08d_00005</td><td style=\"text-align: right;\">   0.00985599</td></tr>\n",
       "<tr><td>tune_architecture_4b08d_00006</td><td style=\"text-align: right;\">           0.789786</td><td>2023-01-06_17-22-27</td><td>True  </td><td>                </td><td>86cd5e8c233644dc9deb91eba4a36dc4</td><td>6_lr=0.0200,wd=0.0001 </td><td>MacBook-Air-von-Regis.local</td><td style=\"text-align: right;\">                         1</td><td>127.0.0.1</td><td style=\"text-align: right;\">19607</td><td style=\"text-align: right;\">            1.57228 </td><td style=\"text-align: right;\">          1.57228 </td><td style=\"text-align: right;\">      1.57228 </td><td style=\"text-align: right;\"> 1673022147</td><td style=\"text-align: right;\">                        0</td><td>                 </td><td style=\"text-align: right;\">                   1</td><td>4b08d_00006</td><td style=\"text-align: right;\">   0.00373197</td></tr>\n",
       "<tr><td>tune_architecture_4b08d_00007</td><td style=\"text-align: right;\">           0.801186</td><td>2023-01-06_17-22-27</td><td>True  </td><td>                </td><td>6e871a57bb5546a6b90945d263f7dd08</td><td>7_lr=0.0100,wd=0.0001 </td><td>MacBook-Air-von-Regis.local</td><td style=\"text-align: right;\">                         1</td><td>127.0.0.1</td><td style=\"text-align: right;\">19608</td><td style=\"text-align: right;\">            1.41285 </td><td style=\"text-align: right;\">          1.41285 </td><td style=\"text-align: right;\">      1.41285 </td><td style=\"text-align: right;\"> 1673022147</td><td style=\"text-align: right;\">                        0</td><td>                 </td><td style=\"text-align: right;\">                   1</td><td>4b08d_00007</td><td style=\"text-align: right;\">   0.0118558 </td></tr>\n",
       "<tr><td>tune_architecture_4b08d_00008</td><td style=\"text-align: right;\">           0.779754</td><td>2023-01-06_17-22-26</td><td>True  </td><td>                </td><td>86b047a3996e477a880e2fc7ba4384a9</td><td>8_lr=0.0010,wd=0.0001 </td><td>MacBook-Air-von-Regis.local</td><td style=\"text-align: right;\">                         1</td><td>127.0.0.1</td><td style=\"text-align: right;\">19600</td><td style=\"text-align: right;\">            2.05467 </td><td style=\"text-align: right;\">          2.05467 </td><td style=\"text-align: right;\">      2.05467 </td><td style=\"text-align: right;\"> 1673022146</td><td style=\"text-align: right;\">                        0</td><td>                 </td><td style=\"text-align: right;\">                   1</td><td>4b08d_00008</td><td style=\"text-align: right;\">   0.001755  </td></tr>\n",
       "<tr><td>tune_architecture_4b08d_00009</td><td style=\"text-align: right;\">           0.785682</td><td>2023-01-06_17-22-27</td><td>True  </td><td>                </td><td>86b047a3996e477a880e2fc7ba4384a9</td><td>9_lr=0.0003,wd=0.0001 </td><td>MacBook-Air-von-Regis.local</td><td style=\"text-align: right;\">                         1</td><td>127.0.0.1</td><td style=\"text-align: right;\">19600</td><td style=\"text-align: right;\">            1.41956 </td><td style=\"text-align: right;\">          1.41956 </td><td style=\"text-align: right;\">      1.41956 </td><td style=\"text-align: right;\"> 1673022147</td><td style=\"text-align: right;\">                        0</td><td>                 </td><td style=\"text-align: right;\">                   1</td><td>4b08d_00009</td><td style=\"text-align: right;\">   0.001755  </td></tr>\n",
       "<tr><td>tune_architecture_4b08d_00010</td><td style=\"text-align: right;\">           0.781806</td><td>2023-01-06_17-22-28</td><td>True  </td><td>                </td><td>fe56d5df355344558cacf8adb6ab2b88</td><td>10_lr=0.0500,wd=0.0010</td><td>MacBook-Air-von-Regis.local</td><td style=\"text-align: right;\">                         1</td><td>127.0.0.1</td><td style=\"text-align: right;\">19603</td><td style=\"text-align: right;\">            1.63412 </td><td style=\"text-align: right;\">          1.63412 </td><td style=\"text-align: right;\">      1.63412 </td><td style=\"text-align: right;\"> 1673022148</td><td style=\"text-align: right;\">                        0</td><td>                 </td><td style=\"text-align: right;\">                   1</td><td>4b08d_00010</td><td style=\"text-align: right;\">   0.00859308</td></tr>\n",
       "<tr><td>tune_architecture_4b08d_00011</td><td style=\"text-align: right;\">           0.76995 </td><td>2023-01-06_17-22-28</td><td>True  </td><td>                </td><td>4a5f05fbbe914b0b80562b379fa2a34f</td><td>11_lr=0.0200,wd=0.0010</td><td>MacBook-Air-von-Regis.local</td><td style=\"text-align: right;\">                         1</td><td>127.0.0.1</td><td style=\"text-align: right;\">19604</td><td style=\"text-align: right;\">            1.81202 </td><td style=\"text-align: right;\">          1.81202 </td><td style=\"text-align: right;\">      1.81202 </td><td style=\"text-align: right;\"> 1673022148</td><td style=\"text-align: right;\">                        0</td><td>                 </td><td style=\"text-align: right;\">                   1</td><td>4b08d_00011</td><td style=\"text-align: right;\">   0.00333595</td></tr>\n",
       "<tr><td>tune_architecture_4b08d_00012</td><td style=\"text-align: right;\">           0.797082</td><td>2023-01-06_17-22-28</td><td>True  </td><td>                </td><td>6e871a57bb5546a6b90945d263f7dd08</td><td>12_lr=0.0100,wd=0.0010</td><td>MacBook-Air-von-Regis.local</td><td style=\"text-align: right;\">                         1</td><td>127.0.0.1</td><td style=\"text-align: right;\">19608</td><td style=\"text-align: right;\">            1.71699 </td><td style=\"text-align: right;\">          1.71699 </td><td style=\"text-align: right;\">      1.71699 </td><td style=\"text-align: right;\"> 1673022148</td><td style=\"text-align: right;\">                        0</td><td>                 </td><td style=\"text-align: right;\">                   1</td><td>4b08d_00012</td><td style=\"text-align: right;\">   0.0118558 </td></tr>\n",
       "<tr><td>tune_architecture_4b08d_00013</td><td style=\"text-align: right;\">           0.779754</td><td>2023-01-06_17-22-29</td><td>True  </td><td>                </td><td>8ce2f10b4cba400b8cfeb44bf6da31f4</td><td>13_lr=0.0010,wd=0.0010</td><td>MacBook-Air-von-Regis.local</td><td style=\"text-align: right;\">                         1</td><td>127.0.0.1</td><td style=\"text-align: right;\">19606</td><td style=\"text-align: right;\">            1.91437 </td><td style=\"text-align: right;\">          1.91437 </td><td style=\"text-align: right;\">      1.91437 </td><td style=\"text-align: right;\"> 1673022149</td><td style=\"text-align: right;\">                        0</td><td>                 </td><td style=\"text-align: right;\">                   1</td><td>4b08d_00013</td><td style=\"text-align: right;\">   0.00985599</td></tr>\n",
       "<tr><td>tune_architecture_4b08d_00014</td><td style=\"text-align: right;\">           0.785682</td><td>2023-01-06_17-22-29</td><td>True  </td><td>                </td><td>9501e34d4f1c4a27828dc566b0e012fe</td><td>14_lr=0.0003,wd=0.0010</td><td>MacBook-Air-von-Regis.local</td><td style=\"text-align: right;\">                         1</td><td>127.0.0.1</td><td style=\"text-align: right;\">19602</td><td style=\"text-align: right;\">            1.71507 </td><td style=\"text-align: right;\">          1.71507 </td><td style=\"text-align: right;\">      1.71507 </td><td style=\"text-align: right;\"> 1673022149</td><td style=\"text-align: right;\">                        0</td><td>                 </td><td style=\"text-align: right;\">                   1</td><td>4b08d_00014</td><td style=\"text-align: right;\">   0.00997996</td></tr>\n",
       "<tr><td>tune_architecture_4b08d_00015</td><td style=\"text-align: right;\">           0.762426</td><td>2023-01-06_17-22-29</td><td>True  </td><td>                </td><td>f36f0e281591452d8fe126c38342012c</td><td>15_lr=0.0500,wd=0.0100</td><td>MacBook-Air-von-Regis.local</td><td style=\"text-align: right;\">                         1</td><td>127.0.0.1</td><td style=\"text-align: right;\">19605</td><td style=\"text-align: right;\">            1.6367  </td><td style=\"text-align: right;\">          1.6367  </td><td style=\"text-align: right;\">      1.6367  </td><td style=\"text-align: right;\"> 1673022149</td><td style=\"text-align: right;\">                        0</td><td>                 </td><td style=\"text-align: right;\">                   1</td><td>4b08d_00015</td><td style=\"text-align: right;\">   0.00540805</td></tr>\n",
       "<tr><td>tune_architecture_4b08d_00016</td><td style=\"text-align: right;\">           0.791838</td><td>2023-01-06_17-22-29</td><td>True  </td><td>                </td><td>86cd5e8c233644dc9deb91eba4a36dc4</td><td>16_lr=0.0200,wd=0.0100</td><td>MacBook-Air-von-Regis.local</td><td style=\"text-align: right;\">                         1</td><td>127.0.0.1</td><td style=\"text-align: right;\">19607</td><td style=\"text-align: right;\">            1.60693 </td><td style=\"text-align: right;\">          1.60693 </td><td style=\"text-align: right;\">      1.60693 </td><td style=\"text-align: right;\"> 1673022149</td><td style=\"text-align: right;\">                        0</td><td>                 </td><td style=\"text-align: right;\">                   1</td><td>4b08d_00016</td><td style=\"text-align: right;\">   0.00373197</td></tr>\n",
       "<tr><td>tune_architecture_4b08d_00017</td><td style=\"text-align: right;\">           0.770178</td><td>2023-01-06_17-22-29</td><td>True  </td><td>                </td><td>86b047a3996e477a880e2fc7ba4384a9</td><td>17_lr=0.0100,wd=0.0100</td><td>MacBook-Air-von-Regis.local</td><td style=\"text-align: right;\">                         1</td><td>127.0.0.1</td><td style=\"text-align: right;\">19600</td><td style=\"text-align: right;\">            1.60125 </td><td style=\"text-align: right;\">          1.60125 </td><td style=\"text-align: right;\">      1.60125 </td><td style=\"text-align: right;\"> 1673022149</td><td style=\"text-align: right;\">                        0</td><td>                 </td><td style=\"text-align: right;\">                   1</td><td>4b08d_00017</td><td style=\"text-align: right;\">   0.001755  </td></tr>\n",
       "<tr><td>tune_architecture_4b08d_00018</td><td style=\"text-align: right;\">           0.777702</td><td>2023-01-06_17-22-29</td><td>True  </td><td>                </td><td>fe56d5df355344558cacf8adb6ab2b88</td><td>18_lr=0.0010,wd=0.0100</td><td>MacBook-Air-von-Regis.local</td><td style=\"text-align: right;\">                         1</td><td>127.0.0.1</td><td style=\"text-align: right;\">19603</td><td style=\"text-align: right;\">            1.02111 </td><td style=\"text-align: right;\">          1.02111 </td><td style=\"text-align: right;\">      1.02111 </td><td style=\"text-align: right;\"> 1673022149</td><td style=\"text-align: right;\">                        0</td><td>                 </td><td style=\"text-align: right;\">                   1</td><td>4b08d_00018</td><td style=\"text-align: right;\">   0.00859308</td></tr>\n",
       "<tr><td>tune_architecture_4b08d_00019</td><td style=\"text-align: right;\">           0.779754</td><td>2023-01-06_17-22-29</td><td>True  </td><td>                </td><td>6e871a57bb5546a6b90945d263f7dd08</td><td>19_lr=0.0003,wd=0.0100</td><td>MacBook-Air-von-Regis.local</td><td style=\"text-align: right;\">                         1</td><td>127.0.0.1</td><td style=\"text-align: right;\">19608</td><td style=\"text-align: right;\">            0.955155</td><td style=\"text-align: right;\">          0.955155</td><td style=\"text-align: right;\">      0.955155</td><td style=\"text-align: right;\"> 1673022149</td><td style=\"text-align: right;\">                        0</td><td>                 </td><td style=\"text-align: right;\">                   1</td><td>4b08d_00019</td><td style=\"text-align: right;\">   0.0118558 </td></tr>\n",
       "</tbody>\n",
       "</table>\n",
       "</div>\n",
       "<style>\n",
       ".trialProgress {\n",
       "  display: flex;\n",
       "  flex-direction: column;\n",
       "  color: var(--jp-ui-font-color1);\n",
       "}\n",
       ".trialProgress h3 {\n",
       "  font-weight: bold;\n",
       "}\n",
       ".trialProgress td {\n",
       "  white-space: nowrap;\n",
       "}\n",
       "</style>\n"
      ],
      "text/plain": [
       "<IPython.core.display.HTML object>"
      ]
     },
     "metadata": {},
     "output_type": "display_data"
    },
    {
     "name": "stderr",
     "output_type": "stream",
     "text": [
      "2023-01-06 17:22:30,221\tINFO tune.py:762 -- Total run time: 10.28 seconds (10.03 seconds for the tuning loop).\n"
     ]
    }
   ],
   "source": [
    "analysis = tune.run(\n",
    "    tune_architecture, config={\n",
    "        \"lr\": tune.grid_search([0.05, 0.02, 0.01, 0.001, 0.0003]),\n",
    "        'wd': tune.grid_search([0, 1e-4, 1e-3, 1e-2])\n",
    "        })\n",
    "\n",
    "# display output looks best on light theme"
   ]
  },
  {
   "cell_type": "code",
   "execution_count": 53,
   "metadata": {},
   "outputs": [
    {
     "data": {
      "text/html": [
       "<div>\n",
       "<style scoped>\n",
       "    .dataframe tbody tr th:only-of-type {\n",
       "        vertical-align: middle;\n",
       "    }\n",
       "\n",
       "    .dataframe tbody tr th {\n",
       "        vertical-align: top;\n",
       "    }\n",
       "\n",
       "    .dataframe thead th {\n",
       "        text-align: right;\n",
       "    }\n",
       "</style>\n",
       "<table border=\"1\" class=\"dataframe\">\n",
       "  <thead>\n",
       "    <tr style=\"text-align: right;\">\n",
       "      <th></th>\n",
       "      <th>balanced_accuracy</th>\n",
       "      <th>config/lr</th>\n",
       "      <th>config/wd</th>\n",
       "    </tr>\n",
       "  </thead>\n",
       "  <tbody>\n",
       "    <tr>\n",
       "      <th>2</th>\n",
       "      <td>0.801186</td>\n",
       "      <td>0.01</td>\n",
       "      <td>0.0000</td>\n",
       "    </tr>\n",
       "    <tr>\n",
       "      <th>7</th>\n",
       "      <td>0.801186</td>\n",
       "      <td>0.01</td>\n",
       "      <td>0.0001</td>\n",
       "    </tr>\n",
       "    <tr>\n",
       "      <th>12</th>\n",
       "      <td>0.797082</td>\n",
       "      <td>0.01</td>\n",
       "      <td>0.0010</td>\n",
       "    </tr>\n",
       "    <tr>\n",
       "      <th>16</th>\n",
       "      <td>0.791838</td>\n",
       "      <td>0.02</td>\n",
       "      <td>0.0100</td>\n",
       "    </tr>\n",
       "    <tr>\n",
       "      <th>6</th>\n",
       "      <td>0.789786</td>\n",
       "      <td>0.02</td>\n",
       "      <td>0.0001</td>\n",
       "    </tr>\n",
       "  </tbody>\n",
       "</table>\n",
       "</div>"
      ],
      "text/plain": [
       "    balanced_accuracy  config/lr  config/wd\n",
       "2            0.801186       0.01     0.0000\n",
       "7            0.801186       0.01     0.0001\n",
       "12           0.797082       0.01     0.0010\n",
       "16           0.791838       0.02     0.0100\n",
       "6            0.789786       0.02     0.0001"
      ]
     },
     "execution_count": 53,
     "metadata": {},
     "output_type": "execute_result"
    }
   ],
   "source": [
    "# turning analysis results into dataframe\n",
    "df = analysis.dataframe()\n",
    "df.sort_values(by='balanced_accuracy', ascending=False).head(5)[['balanced_accuracy', 'config/lr', 'config/wd']]"
   ]
  },
  {
   "attachments": {},
   "cell_type": "markdown",
   "metadata": {},
   "source": [
    "Based on the results of the second tuning run we can conclude that best learning rate is 0.1 while the weigt decay needs to be less than 0.001.\n",
    "\n",
    "Given these findings we are going to use the architecture of R42, R42, T42, S1 with a learning rate of 0.1 and and weight decay of 0 to make predictions on the test set."
   ]
  },
  {
   "cell_type": "code",
   "execution_count": 54,
   "metadata": {},
   "outputs": [
    {
     "name": "stdout",
     "output_type": "stream",
     "text": [
      "Architecture: R42, R42, T42, S1\n",
      "Learned Parameters: 4537\n",
      "Best epoch: 3\n",
      "Best val. loss: 1.2431\n",
      "Best bal. val. acc.: 0.8012\n",
      "\n",
      "Balanced Test Accuracy: 69.96%\n"
     ]
    }
   ],
   "source": [
    "# running evaluation to get the best model\n",
    "architecture, n_params, best_epoch, best_bacc_val, best_loss_val, best_model = evaluate_architecture((\n",
    "        (42, nn.ReLU()),\n",
    "        (42, nn.ReLU()),\n",
    "        (42, nn.Tanh()),\n",
    "        (1, nn.Sigmoid()),),\n",
    "        epochs=600,\n",
    "        learning_rate=0.01,\n",
    "        weight_decay=0,\n",
    "        tune_hyperparams=False)\n",
    "\n",
    "# predicting test set with the best model\n",
    "y_test_pred = best_model(X_test_tensor)\n",
    "\n",
    "# calculating balanced accuracy score\n",
    "nn_bacc_test = balanced_accuracy_score(y_test_tensor.detach().numpy(), np.round(y_scaler.inverse_transform(y_test_pred.detach().numpy())))\n",
    "\n",
    "# printing balanced accuracy of test set on neural network\n",
    "print(\n",
    "    f'\\nBalanced Test Accuracy: {np.round(nn_bacc_test, 4)*100}%')"
   ]
  },
  {
   "attachments": {},
   "cell_type": "markdown",
   "metadata": {},
   "source": [
    "The neural network designed based on our testing and hyperparameter tuning is able to correctly predict 69.96% of cases in a previously unseen dataset correctly.\n",
    "\n",
    "To provide some context for this result, we are going to compare it our previous work, where we used machine learning models to make predictions."
   ]
  },
  {
   "attachments": {},
   "cell_type": "markdown",
   "id": "f9cefdfe-52a5-455c-9495-1099aac31f17",
   "metadata": {
    "jupyter": {
     "source_hidden": true
    },
    "tags": []
   },
   "source": [
    "## Comparison to ML Model (SVM Polynomial Kernel)"
   ]
  },
  {
   "attachments": {},
   "cell_type": "markdown",
   "metadata": {},
   "source": [
    "In our previous work order, we compared four different machine learning approaches to make predictions on this data set. Those were:\n",
    "- K Nearest Neighbors\n",
    "- Decision Tree\n",
    "- SVM classifier using a radial basis function kernel (rbf)\n",
    "- SVM classifier using a polynomial kernel function (poly)\n",
    "\n",
    "In these tests the Support Vectore Machine Classifier using a polynomial kernel function was able to achieve a balanced accuracy of 67.4%."
   ]
  },
  {
   "cell_type": "code",
   "execution_count": 55,
   "metadata": {},
   "outputs": [],
   "source": [
    "# configuring pipeline for scaler and estimator\n",
    "def get_pipe(estimator):\n",
    "    return Pipeline([\n",
    "        ('scaler', StandardScaler()),\n",
    "        ('estimator', estimator)])"
   ]
  },
  {
   "cell_type": "code",
   "execution_count": 56,
   "metadata": {},
   "outputs": [
    {
     "name": "stdout",
     "output_type": "stream",
     "text": [
      "Balanced Test Accuracy: 67.4%\n"
     ]
    }
   ],
   "source": [
    "# configuring splits\n",
    "NUM_INNER_REPEATS = 3\n",
    "NUM_INNER_SPLITS = 3\n",
    "\n",
    "# defining the classifier\n",
    "poly_svm = SVC(kernel='poly', random_state=1)\n",
    "\n",
    "# configuring hyperparameters to be tuned through nested cross validation\n",
    "grid = {'estimator__C': [0.1,1,10,100], 'estimator__degree': [1,2,3]}\n",
    "\n",
    "inner_cv = RepeatedStratifiedKFold(\n",
    "    n_splits=NUM_INNER_SPLITS, n_repeats=NUM_INNER_REPEATS, random_state=1)\n",
    "\n",
    "clf = GridSearchCV(\n",
    "    estimator = get_pipe(poly_svm),\n",
    "    param_grid = grid,\n",
    "    cv = inner_cv,\n",
    "    scoring = ('balanced_accuracy'),\n",
    "    refit = ('balanced_accuracy'),\n",
    "    n_jobs = -1)\n",
    "\n",
    "clf.fit(X_train_full, y_train_full.ravel())\n",
    "\n",
    "y_pred = clf.best_estimator_.predict(X_test)\n",
    "\n",
    "ml_bacc_test = balanced_accuracy_score(y_test, y_pred)\n",
    "\n",
    "print(\n",
    "    f'Balanced Test Accuracy: {np.round(ml_bacc_test, 3)*100}%')"
   ]
  },
  {
   "attachments": {},
   "cell_type": "markdown",
   "metadata": {},
   "source": [
    "## Improvement"
   ]
  },
  {
   "cell_type": "code",
   "execution_count": 57,
   "metadata": {},
   "outputs": [
    {
     "name": "stdout",
     "output_type": "stream",
     "text": [
      "Performance Improvement: 2.55%\n"
     ]
    }
   ],
   "source": [
    "# calculating overall improvement\n",
    "print(f'Performance Improvement: {np.round((nn_bacc_test-ml_bacc_test), 4)*100}%')"
   ]
  },
  {
   "attachments": {},
   "cell_type": "markdown",
   "metadata": {},
   "source": [
    "The best performing neural network architecture using tuned hyperparameters is able to beat the performance of the SVM classifier by 2.55%."
   ]
  },
  {
   "attachments": {},
   "cell_type": "markdown",
   "metadata": {},
   "source": [
    "# Conclusion\n",
    "\n",
    "While the approach of applying a neural network to the given data set in order to predict whether a customer will default on their loan or not, does provide a higher accuracy than the previously best performing based on an SVM classifier, the achieved gains in balanced accuracy remain marginal.\n",
    "\n",
    "There are a range of reasons to explain this. Eventhough the dataset has 20 features of varying types, like categorical, quantitative and ordinal a higher number of features would probably benefit the task. This could be achieved by either collecting more features as far as this is possible from an operational and legal perspective or by attempting to engineer the given features to provide new ones.\n",
    "\n",
    "Another aspect is the randomness and chance which could impact personal behaviour and descision making. In regards to given problem, a customer could look like the perfect creditor based on the information provided and then still ulimatley default on their credit simply because their life was distrubted by some unforeseen event, like having a severe accident which prevents them from working.\n",
    "\n",
    "The size of data set also plays a role, in this case we have 1.000 examples, which leaves a distribiution of:\n",
    "- 420 examples for training\n",
    "- 180 examples for validation\n",
    "- 400 examples for testing\n",
    "\n",
    "While this was enough to sufficiently train a neural network which performed better than the previous approach, it really isn't a lot considering the amount of training data involved in a larger realworld applications of neural networks. While augmentating the data to increase the number of examples might seem appealing this approach would robustness. We would essentially be inventing credit customers and all of the information which they would have to provide is impossible.\n",
    "\n",
    "This only leaves us the possibility of requesting a larger data set from our customer to be able to have more training data examples.\n",
    "\n",
    "Futhermore, we suggest on recording more information than so far from future credit customer. This could be access to a centralized credit history, showing customers obligations with other banks, lending institutions or retail stores. If a customer is married, we suggest to also collect the same information from their spouses or partners."
   ]
  },
  {
   "cell_type": "code",
   "execution_count": 58,
   "metadata": {},
   "outputs": [
    {
     "name": "stdout",
     "output_type": "stream",
     "text": [
      "Total runtime: 1.25 minutes\n"
     ]
    }
   ],
   "source": [
    "print(f'Total runtime: {np.round((time.time()-start_time )/ 60, 2)} minutes')"
   ]
  }
 ],
 "metadata": {
  "kernelspec": {
   "display_name": "deeplearning",
   "language": "python",
   "name": "python3"
  },
  "language_info": {
   "codemirror_mode": {
    "name": "ipython",
    "version": 3
   },
   "file_extension": ".py",
   "mimetype": "text/x-python",
   "name": "python",
   "nbconvert_exporter": "python",
   "pygments_lexer": "ipython3",
   "version": "3.9.15"
  },
  "orig_nbformat": 4,
  "vscode": {
   "interpreter": {
    "hash": "0a5523d6eb52b76436ce8f76c6081f66698068f764d262b96ea770af7bb9882e"
   }
  }
 },
 "nbformat": 4,
 "nbformat_minor": 2
}
